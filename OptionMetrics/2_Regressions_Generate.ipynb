{
 "cells": [
  {
   "cell_type": "code",
   "execution_count": 1,
   "metadata": {},
   "outputs": [],
   "source": [
    "import sys\n",
    "import os\n",
    "# Append the library path to PYTHONPATH, so library can be imported.\n",
    "sys.path.append(os.path.dirname(os.getcwd()))\n",
    "\n",
    "import shutil\n",
    "import datetime\n",
    "import numpy as np\n",
    "import pandas as pd\n",
    "\n",
    "from library import common as cm\n",
    "from library import regression_aux as raux"
   ]
  },
  {
   "cell_type": "code",
   "execution_count": 2,
   "metadata": {},
   "outputs": [],
   "source": [
    "%run setup.py\n",
    "%matplotlib inline\n",
    "%load_ext autoreload\n",
    "%autoreload 2\n",
    "\n",
    "np.random.seed(RANDOM_SEED)"
   ]
  },
  {
   "cell_type": "code",
   "execution_count": 3,
   "metadata": {
    "scrolled": true
   },
   "outputs": [
    {
     "output_type": "stream",
     "name": "stdout",
     "text": [
      "We remove samples when the next trade is not available. 163472 samples (4.52%) are removed. We have 95.48% of original data left, yielding a size of 3453492.\n",
      "We remove unreasonable implvol0. 3159 samples (0.09%) are removed. We have 95.39% of original data left, yielding a size of 3450333.\n",
      "We remove samples that have time to maturity less than 0 day. 0 samples (0.00%) are removed. We have 95.39% of original data left, yielding a size of 3450333.\n",
      "We remove in-the-money samples. 712998 samples (20.66%) are removed. We have 75.68% of original data left, yielding a size of 2737335.\n",
      "We shrink moneyness range. 104752 samples (3.83%) are removed. We have 72.78% of original data left, yielding a size of 2632583.\n"
     ]
    }
   ],
   "source": [
    "%run Load_Clean_aux.py\n",
    "max_period = max([int(s[6:]) for s in df.columns if 'period' in s])"
   ]
  },
  {
   "cell_type": "code",
   "execution_count": 4,
   "metadata": {},
   "outputs": [
    {
     "output_type": "stream",
     "name": "stdout",
     "text": [
      "The number of samples after loading is : 2632583\nResults are saved at:\nC:\\Users\\Weiguan\\Dropbox\\Research\\01_DeepHedging\\Data_OK\\OptionMetrics\\Result/FREQ=1D_HALFMONEY=otm_MINM=0.8_MAXM=1.5_MINTAU=0_Permute=False_VIX=True_MISSING=replace_missing_WINDOW=180D_KickTmrZeroVolume=False/Regression/\n"
     ]
    }
   ],
   "source": [
    "print(f'The number of samples after loading is : {df.shape[0]}')\n",
    "\n",
    "regr_dir = res_dir + 'Regression/'\n",
    "print(f'Results are saved at:\\n{regr_dir}')"
   ]
  },
  {
   "cell_type": "code",
   "execution_count": 5,
   "metadata": {},
   "outputs": [],
   "source": [
    "if os.path.exists(regr_dir):\n",
    "    shutil.rmtree(regr_dir)\n",
    "os.makedirs(regr_dir)\n",
    "shutil.copy('setup.py', regr_dir);"
   ]
  },
  {
   "cell_type": "markdown",
   "metadata": {},
   "source": [
    "### NO permute"
   ]
  },
  {
   "cell_type": "code",
   "execution_count": 6,
   "metadata": {},
   "outputs": [],
   "source": [
    "def save_tables(res, dirs):\n",
    "    if res is not None:\n",
    "        res['df_coef'].to_csv(f'{dirs}coef.csv')\n",
    "        res['df_fit_std'].to_csv(f'{dirs}std.csv')"
   ]
  },
  {
   "cell_type": "markdown",
   "metadata": {},
   "source": [
    "#### No hedge"
   ]
  },
  {
   "cell_type": "code",
   "execution_count": 7,
   "metadata": {},
   "outputs": [],
   "source": [
    "if not PERMUTE:\n",
    "    sub_regr_dir = f'{regr_dir}No_Hedge/'\n",
    "    os.makedirs(f'{sub_regr_dir}pnl/', exist_ok=True)\n",
    "    pnl_path = f'{sub_regr_dir}pnl/pnl.csv'\n",
    "    \n",
    "    zero = np.array([0.]*len(df))\n",
    "    zero = pd.Series(zero, index=df.index)\n",
    "\n",
    "    cm.store_pnl(df, zero, pnl_path)\n",
    "    save_tables(None, sub_regr_dir)"
   ]
  },
  {
   "cell_type": "markdown",
   "metadata": {},
   "source": [
    "#### Baseline: Black-Scholes "
   ]
  },
  {
   "cell_type": "code",
   "execution_count": 8,
   "metadata": {
    "tags": []
   },
   "outputs": [],
   "source": [
    "if not PERMUTE:\n",
    "    sub_regr_dir = f'{regr_dir}BS_Benchmark/'\n",
    "    os.makedirs(f'{sub_regr_dir}pnl/', exist_ok=True)\n",
    "    pnl_path = f'{sub_regr_dir}pnl/pnl.csv'\n",
    "    \n",
    "    cm.store_pnl(df, df['delta_bs'], pnl_path)\n",
    "    save_tables(None, sub_regr_dir)"
   ]
  },
  {
   "cell_type": "markdown",
   "metadata": {},
   "source": [
    "#### Delta-Vega-Vanna"
   ]
  },
  {
   "cell_type": "code",
   "execution_count": 9,
   "metadata": {},
   "outputs": [
    {
     "output_type": "stream",
     "name": "stdout",
     "text": [
      "VIX is used!\n"
     ]
    }
   ],
   "source": [
    "if not PERMUTE:\n",
    "    sub_regr_dir = f'{regr_dir}Delta_Vega_Vanna/'\n",
    "    kwargs = {\n",
    "        'vix': VIX,\n",
    "        'features': ['delta_bs', 'vega_n', 'vanna_n'],\n",
    "        'max_period': max_period,\n",
    "        'sub_res': f'{sub_regr_dir}pnl/',\n",
    "        'pnl_path': f'{sub_regr_dir}pnl/pnl.csv',\n",
    "        'df': df,\n",
    "        'delta_coeff_1': False\n",
    "    }\n",
    "\n",
    "    res = raux.run_store_lin(**kwargs)\n",
    "    save_tables(res, sub_regr_dir)"
   ]
  },
  {
   "cell_type": "markdown",
   "metadata": {},
   "source": [
    "### Permute"
   ]
  },
  {
   "source": [
    "#### No Hedge"
   ],
   "cell_type": "markdown",
   "metadata": {}
  },
  {
   "source": [
    "if PERMUTE:\n",
    "    df_permute = df.copy()\n",
    "    for i in range(NUM_PERMUTE):\n",
    "        df_permute = cm.rolling_permute(df_permute, random_seed=i + 100)\n",
    "        sub_res = f'{regr_dir}No_Hedge/pnl/'\n",
    "        os.makedirs(sub_res, exist_ok=True)\n",
    "        pnl_path = f'{sub_res}pnl{i}.csv'\n",
    "        zero = np.array([0.]*len(df_permute))\n",
    "        zero = pd.Series(zero, index=df_permute.index)\n",
    "        cm.store_pnl(df_permute, zero, pnl_path)\n",
    "    del df_permute"
   ],
   "cell_type": "code",
   "metadata": {},
   "execution_count": 10,
   "outputs": []
  },
  {
   "source": [
    "#### BS "
   ],
   "cell_type": "markdown",
   "metadata": {}
  },
  {
   "source": [
    "if PERMUTE:\n",
    "    df_permute = df.copy()\n",
    "    for i in range(NUM_PERMUTE):\n",
    "        df_permute = cm.rolling_permute(df_permute, random_seed=i + 100)\n",
    "        sub_res = f'{regr_dir}BS_Benchmark/pnl/'\n",
    "        os.makedirs(sub_res, exist_ok=True)\n",
    "        pnl_path = f'{sub_res}pnl{i}.csv'\n",
    "        cm.store_pnl(df_permute, df_permute['delta_bs'], pnl_path)\n",
    "    del df_permute"
   ],
   "cell_type": "code",
   "metadata": {},
   "execution_count": 11,
   "outputs": []
  },
  {
   "source": [
    "#### Delta-Vega-Vanna"
   ],
   "cell_type": "markdown",
   "metadata": {}
  },
  {
   "cell_type": "code",
   "execution_count": 12,
   "metadata": {},
   "outputs": [],
   "source": [
    "if PERMUTE:\n",
    "    df_permute = df.copy()\n",
    "    sub_regr_dir = f'{regr_dir}Delta_Vega_Vanna/'\n",
    "    for i in range(NUM_PERMUTE):\n",
    "        df_permute = cm.rolling_permute(df_permute, random_seed=i + 100)\n",
    "        kwargs = {'vix': VIX, \n",
    "              'features': ['delta_bs', 'vega_n', 'vanna_n'], \n",
    "              'max_period': max_period, \n",
    "              'sub_res': f'{sub_regr_dir}pnl/',\n",
    "              'pnl_path': f'{sub_regr_dir}pnl/pnl{i}.csv',\n",
    "              'df': df_permute,\n",
    "             'delta_coeff_1': False,\n",
    "                 'agg_side': False}\n",
    "        \n",
    "        res = raux.run_store_lin(**kwargs)"
   ]
  }
 ],
 "metadata": {
  "kernelspec": {
   "display_name": "Python 3",
   "language": "python",
   "name": "python3"
  },
  "language_info": {
   "codemirror_mode": {
    "name": "ipython",
    "version": 3
   },
   "file_extension": ".py",
   "mimetype": "text/x-python",
   "name": "python",
   "nbconvert_exporter": "python",
   "pygments_lexer": "ipython3",
   "version": "3.6.8-final"
  },
  "toc": {
   "base_numbering": 1,
   "nav_menu": {},
   "number_sections": true,
   "sideBar": true,
   "skip_h1_title": false,
   "title_cell": "Table of Contents",
   "title_sidebar": "Contents",
   "toc_cell": false,
   "toc_position": {},
   "toc_section_display": true,
   "toc_window_display": false
  }
 },
 "nbformat": 4,
 "nbformat_minor": 2
}