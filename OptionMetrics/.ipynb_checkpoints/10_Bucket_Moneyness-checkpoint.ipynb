{
 "cells": [
  {
   "cell_type": "code",
   "execution_count": null,
   "metadata": {},
   "outputs": [],
   "source": [
    "import sys\n",
    "import os\n",
    "# Append the library path to PYTHONPATH, so library can be imported.\n",
    "sys.path.append(os.path.dirname(os.getcwd()))\n",
    "\n",
    "import shutil\n",
    "import datetime\n",
    "import itertools\n",
    "import numpy as np\n",
    "import pandas as pd\n",
    "\n",
    "from library import common as cm\n",
    "from library import regression_aux as raux"
   ]
  },
  {
   "cell_type": "code",
   "execution_count": null,
   "metadata": {},
   "outputs": [],
   "source": [
    "%run setup.py\n",
    "%matplotlib inline\n",
    "%load_ext autoreload\n",
    "%autoreload 2\n",
    "\n",
    "np.random.seed(RANDOM_SEED)"
   ]
  },
  {
   "cell_type": "code",
   "execution_count": null,
   "metadata": {},
   "outputs": [],
   "source": [
    "%run Load_Clean_aux.py\n",
    "max_period = max([int(s[6:]) for s in df.columns if 'period' in s])"
   ]
  },
  {
   "cell_type": "code",
   "execution_count": null,
   "metadata": {},
   "outputs": [],
   "source": [
    "print(f'The number of samples after loading is : {df.shape[0]}')\n",
    "\n",
    "regr_dir = res_dir + 'Regr_Bucket/'\n",
    "print(f'Results are saved at:\\n{regr_dir}')"
   ]
  },
  {
   "cell_type": "code",
   "execution_count": null,
   "metadata": {},
   "outputs": [],
   "source": [
    "if os.path.exists(regr_dir):\n",
    "    shutil.rmtree(regr_dir)\n",
    "os.makedirs(regr_dir)\n",
    "shutil.copy('setup.py', regr_dir);"
   ]
  },
  {
   "cell_type": "code",
   "execution_count": null,
   "metadata": {},
   "outputs": [],
   "source": [
    "def save_tables(res, dirs):\n",
    "    if res is not None:\n",
    "        res['df_coef'].to_csv(f'{dirs}coef.csv')\n",
    "        res['df_fit_std'].to_csv(f'{dirs}std.csv')"
   ]
  },
  {
   "cell_type": "markdown",
   "metadata": {},
   "source": [
    "##### Zero Hedge"
   ]
  },
  {
   "cell_type": "code",
   "execution_count": null,
   "metadata": {},
   "outputs": [],
   "source": [
    "if not PERMUTE:\n",
    "    sub_regr_dir = f'{regr_dir}No_Hedge/'\n",
    "    os.makedirs(f'{sub_regr_dir}pnl/', exist_ok=True)\n",
    "    pnl_path = f'{sub_regr_dir}pnl/pnl.csv'\n",
    "    \n",
    "    zero = np.array([0.]*len(df))\n",
    "    zero = pd.Series(zero, index=df.index)\n",
    "\n",
    "    cm.store_pnl(df, zero, pnl_path)\n",
    "    save_tables(None, sub_regr_dir)"
   ]
  },
  {
   "cell_type": "markdown",
   "metadata": {},
   "source": [
    "##### BS-Delta"
   ]
  },
  {
   "cell_type": "code",
   "execution_count": null,
   "metadata": {},
   "outputs": [],
   "source": [
    "if not PERMUTE:\n",
    "    sub_regr_dir = f'{regr_dir}BS_Benchmark/'\n",
    "    os.makedirs(f'{sub_regr_dir}pnl/', exist_ok=True)\n",
    "    pnl_path = f'{sub_regr_dir}pnl/pnl.csv'\n",
    "    \n",
    "    cm.store_pnl(df, df['delta_bs'], pnl_path)\n",
    "    save_tables(None, sub_regr_dir)"
   ]
  },
  {
   "cell_type": "markdown",
   "metadata": {},
   "source": [
    "##### Fixed"
   ]
  },
  {
   "cell_type": "code",
   "execution_count": null,
   "metadata": {},
   "outputs": [],
   "source": [
    "if not PERMUTE:\n",
    "    sub_regr_dir = f'{regr_dir}Fixed_Constants/'\n",
    "    os.makedirs(f'{sub_regr_dir}pnl/', exist_ok=True)\n",
    "    pnl_path = f'{sub_regr_dir}pnl/pnl.csv'\n",
    "    \n",
    "    bl_c = df['cp_int'] == 0\n",
    "    delta = 0.9 * df['delta_bs']\n",
    "    delta[~bl_c] = 1.1 * df.loc[~bl_c, 'delta_bs']\n",
    "    \n",
    "    cm.store_pnl(df, delta, pnl_path)\n",
    "    save_tables(None, sub_regr_dir)"
   ]
  },
  {
   "cell_type": "code",
   "execution_count": null,
   "metadata": {},
   "outputs": [],
   "source": []
  },
  {
   "cell_type": "code",
   "execution_count": null,
   "metadata": {},
   "outputs": [],
   "source": [
    "\"\"\" \n",
    "The bucket will be like 0, 1, 0, 1. The first two are calls, and the last two are puts\n",
    "0 means less than median, and 1 means larger than median.\n",
    "\"\"\"\n",
    "bl_c = df['cp_int'] == 0\n",
    "call_median = df.loc[bl_c, 'M0'].median()\n",
    "put_median = df.loc[~bl_c, 'M0'].median()\n",
    "\n",
    "bl_call_median = df['M0'] > call_median\n",
    "df['bucket'] = 0\n",
    "df.loc[bl_c & bl_call_median, 'bucket'] = 1\n",
    "\n",
    "bl_put_median = df['M0'] > put_median\n",
    "df.loc[(~bl_c) & bl_put_median, 'bucket'] = 1"
   ]
  },
  {
   "cell_type": "markdown",
   "metadata": {},
   "source": [
    "##### Regressions"
   ]
  },
  {
   "cell_type": "code",
   "execution_count": null,
   "metadata": {},
   "outputs": [],
   "source": [
    "all_regressions = [('Delta_only', ['delta_bs'], False),\n",
    "    ('Delta_Vega', ['delta_bs', 'vega_n'], False),\n",
    "    ('Delta_Gamma', ['delta_bs', 'gamma_n'], False),\n",
    "    ('Delta_Vanna', ['delta_bs', 'vanna_n'], False),\n",
    "    ('Delta_Gamma_Vanna', ['delta_bs', 'gamma_n', 'vanna_n'], False),\n",
    "    ('Delta_Vega_Gamma', ['delta_bs', 'vega_n', 'gamma_n'], False),\n",
    "    ('Delta_Vega_Vanna', ['delta_bs', 'vega_n', 'vanna_n'], False),\n",
    "    ('Delta_Vega_Gamma_Va', ['delta_bs', 'vega_n', 'gamma_n', 'vanna_n'], False),\n",
    "    ('Vega_only', ['vega_n'], True),\n",
    "     ('Gamma_only', ['gamma_n'], True),\n",
    "     ('Vanna_only', ['vanna_n'], True),\n",
    "     ('Bias', ['bias'], True),\n",
    "     ('Hull_White', ['vega_s', 'delta_vega_s', 'delta2_vega_s'], True),\n",
    "    ('Hull_White_relaxed', ['delta_bs', 'vega_s', 'delta_vega_s', 'delta2_vega_s'], False)\n",
    "]"
   ]
  },
  {
   "cell_type": "code",
   "execution_count": null,
   "metadata": {},
   "outputs": [],
   "source": []
  },
  {
   "cell_type": "code",
   "execution_count": null,
   "metadata": {},
   "outputs": [],
   "source": [
    "if not PERMUTE:\n",
    "    df['bias'] = 1.\n",
    "    for a, features, delta_1 in all_regressions:\n",
    "        sub_regr_dir = f'{regr_dir}/{a}/'\n",
    "        kwargs = {'vix': VIX, \n",
    "              'features': features, \n",
    "              'max_period': max_period, \n",
    "              'sub_res': f'{sub_regr_dir}pnl/',\n",
    "              'pnl_path': f'{sub_regr_dir}pnl/pnl.csv',\n",
    "              'df': df,\n",
    "              'delta_coeff_1': delta_1,\n",
    "              'agg_side': False,\n",
    "              'leverage': False,\n",
    "                 'bucket': True}\n",
    "        res = raux.run_store_lin(**kwargs)\n",
    "        save_tables(res, dirs=sub_regr_dir)"
   ]
  },
  {
   "cell_type": "code",
   "execution_count": null,
   "metadata": {},
   "outputs": [],
   "source": []
  },
  {
   "cell_type": "code",
   "execution_count": null,
   "metadata": {},
   "outputs": [],
   "source": []
  },
  {
   "cell_type": "code",
   "execution_count": null,
   "metadata": {},
   "outputs": [],
   "source": [
    "# Cols are different data sets, rows are different experiments.\n",
    "cols = [\n",
    "    'FREQ=1D_HALFMONEY=otm_MINM=0.8_MAXM=1.5_MINTAU=0_Permute=False_VIX=False_MISSING=replace_missing_WINDOW=180D_KickTmrZeroVolume=False',\n",
    "    'FREQ=2D_HALFMONEY=otm_MINM=0.8_MAXM=1.5_MINTAU=0_Permute=False_VIX=False_MISSING=replace_missing_WINDOW=180D_KickTmrZeroVolume=False',\n",
    "       ]\n",
    "rows = ['Regr_Bucket/No_Hedge', 'Regr_Bucket/BS_Benchmark', 'Regr_Bucket/Fixed_Constants',\n",
    "        'Regr_Bucket/Delta_only', 'Regr_Bucket/Vega_only', 'Regr_Bucket/Gamma_only','Regr_Bucket/Vanna_only',  \n",
    "        'Regr_Bucket/Bias',\n",
    "        'Regr_Bucket/Delta_Gamma', 'Regr_Bucket/Delta_Vega',   'Regr_Bucket/Delta_Vanna',\n",
    "        'Regr_Bucket/Delta_Vega_Gamma', 'Regr_Bucket/Delta_Vega_Vanna', 'Regr_Bucket/Delta_Gamma_Vanna',   \n",
    "        'Regr_Bucket/Delta_Vega_Gamma_Va', \n",
    "        'Regr_Bucket/Hull_White', 'Regr_Bucket/Hull_White_relaxed',\n",
    "        #'Network/Normal_Feature', 'Network/Delta_Vega', 'Network/Delta_Vega_Vanna',\n",
    "       #'Network/Normal_Feature_CDF', 'Network/Spot_Strike', 'Network/Spot_Strike_2'\n",
    "       ]"
   ]
  },
  {
   "cell_type": "code",
   "execution_count": null,
   "metadata": {},
   "outputs": [],
   "source": [
    "df_dirs = pd.DataFrame(columns=cols, index=rows)\n",
    "for x, y in list(itertools.product(rows, cols)):\n",
    "    df_dirs.loc[x, y] = f'{DATA_DIR}Result/{y}/{x}/'"
   ]
  },
  {
   "cell_type": "code",
   "execution_count": null,
   "metadata": {},
   "outputs": [],
   "source": [
    "def run_save_tables(dirs, agg, measure, op_type):\n",
    "    inspector = cm.Inspector()\n",
    "    df_res = inspector.evalPnls(df_dirs, aggregating=aggregating, measure=measure, op_type=op_type)\n",
    "    if op_type == None:\n",
    "        file = f'{DATA_DIR}Result/bucket_call_and_put_{measure}.csv'\n",
    "    else:\n",
    "        file = f'{DATA_DIR}Result/bucket_{op_type}_{measure}.csv'\n",
    "    with open(file, 'w+') as f:\n",
    "        f.write(f'{datetime.datetime.now()}\\n{op_type}_{measure}\\n')\n",
    "    (df_res).to_csv(file, mode='a') \n",
    "    return df_res"
   ]
  },
  {
   "cell_type": "code",
   "execution_count": null,
   "metadata": {},
   "outputs": [],
   "source": [
    "aggregating = 'mean'\n",
    "measure = 'mse'"
   ]
  },
  {
   "cell_type": "code",
   "execution_count": null,
   "metadata": {
    "scrolled": false
   },
   "outputs": [],
   "source": [
    "run_save_tables(df_dirs, agg=aggregating, measure=measure, op_type=None)"
   ]
  },
  {
   "cell_type": "code",
   "execution_count": null,
   "metadata": {},
   "outputs": [],
   "source": []
  }
 ],
 "metadata": {
  "kernelspec": {
   "display_name": "Python 3",
   "language": "python",
   "name": "python3"
  },
  "language_info": {
   "codemirror_mode": {
    "name": "ipython",
    "version": 3
   },
   "file_extension": ".py",
   "mimetype": "text/x-python",
   "name": "python",
   "nbconvert_exporter": "python",
   "pygments_lexer": "ipython3",
   "version": "3.6.8"
  }
 },
 "nbformat": 4,
 "nbformat_minor": 2
}
