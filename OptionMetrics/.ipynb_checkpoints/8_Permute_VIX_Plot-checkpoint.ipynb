{
 "cells": [
  {
   "cell_type": "code",
   "execution_count": null,
   "metadata": {},
   "outputs": [],
   "source": [
    "import sys\n",
    "import os\n",
    "# Append the library path to PYTHONPATH, so library can be imported.\n",
    "sys.path.append(os.path.dirname(os.getcwd()))\n",
    "import datetime\n",
    "import itertools\n",
    "\n",
    "import numpy as np\n",
    "import pandas as pd\n",
    "import seaborn as sns\n",
    "import matplotlib.pyplot as plt\n",
    "\n",
    "from library import common as cm"
   ]
  },
  {
   "cell_type": "code",
   "execution_count": null,
   "metadata": {},
   "outputs": [],
   "source": [
    "%run setup.py\n",
    "%matplotlib inline\n",
    "%load_ext autoreload\n",
    "%autoreload 2\n",
    "\n",
    "sns.set(style='darkgrid')"
   ]
  },
  {
   "cell_type": "code",
   "execution_count": null,
   "metadata": {},
   "outputs": [],
   "source": [
    "cols = ['FREQ=1D_HALFMONEY=otm_MINM=0.8_MAXM=1.5_MINTAU=0_Permute=False_VIX=False_MISSING=replace_missing_WINDOW=180D_KickTmrZeroVolume=False',\n",
    "        'FREQ=1D_HALFMONEY=otm_MINM=0.8_MAXM=1.5_MINTAU=0_Permute=False_VIX=True_MISSING=replace_missing_WINDOW=180D_KickTmrZeroVolume=False',\n",
    "        'FREQ=1D_HALFMONEY=otm_MINM=0.8_MAXM=1.5_MINTAU=0_Permute=True_VIX=False_MISSING=replace_missing_WINDOW=180D_KickTmrZeroVolume=False',\n",
    "        'FREQ=1D_HALFMONEY=otm_MINM=0.8_MAXM=1.5_MINTAU=0_Permute=True_VIX=True_MISSING=replace_missing_WINDOW=180D_KickTmrZeroVolume=False']"
   ]
  },
  {
   "cell_type": "code",
   "execution_count": null,
   "metadata": {},
   "outputs": [],
   "source": [
    "rows = ['Regression/BS_Benchmark', \n",
    "        'Regression/Delta_Vega_Vanna', \n",
    "        'Network/Delta_Vega']"
   ]
  },
  {
   "cell_type": "code",
   "execution_count": null,
   "metadata": {},
   "outputs": [],
   "source": [
    "df_dirs = pd.DataFrame(columns=cols, index=rows)\n",
    "for x, y in list(itertools.product(rows, cols)):\n",
    "    df_dirs.loc[x, y] = f'{DATA_DIR}Result/{y}/{x}/'"
   ]
  },
  {
   "cell_type": "code",
   "execution_count": null,
   "metadata": {},
   "outputs": [],
   "source": [
    "kws = [('Regression/BS_Benchmark', 'Black-Scholes', 'o', -0.1, sns.color_palette()[0]),\n",
    "       ('Regression/Delta_Vega_Vanna', 'Delta-Vega-Vanna regression', 'x', -0.05, sns.color_palette()[1]),\n",
    "       ('Network/Delta_Vega',  r'ANN $(\\Delta_{\\rm BS};\\, \\mathcal{V}_{\\rm BS};\\, \\tau)$', '^', 0.1, sns.color_palette()[3])]"
   ]
  },
  {
   "cell_type": "code",
   "execution_count": null,
   "metadata": {},
   "outputs": [],
   "source": [
    "aggregating = 'mean'\n",
    "measure = 'mse'"
   ]
  },
  {
   "cell_type": "code",
   "execution_count": null,
   "metadata": {},
   "outputs": [],
   "source": [
    "inspector = cm.Inspector()\n",
    "df_res = inspector.evalPnls(df_dirs, aggregating=aggregating, measure=measure, op_type=None)"
   ]
  },
  {
   "cell_type": "code",
   "execution_count": null,
   "metadata": {},
   "outputs": [],
   "source": [
    "df_res"
   ]
  },
  {
   "cell_type": "code",
   "execution_count": null,
   "metadata": {},
   "outputs": [],
   "source": []
  },
  {
   "cell_type": "code",
   "execution_count": null,
   "metadata": {},
   "outputs": [],
   "source": []
  },
  {
   "cell_type": "code",
   "execution_count": null,
   "metadata": {},
   "outputs": [],
   "source": [
    "res_abs = df_res.xs('Absolute', level=1, axis=1)\n",
    "\n",
    "for col in kws:\n",
    "    plt.plot(np.arange(1, 5)+col[3], res_abs.loc[col[0]], marker=col[2], linewidth=0, label=col[1], c=col[4])\n",
    "plt.legend(frameon=False)\n",
    "plt.xticks(np.arange(1, 5), ('Baseline', 'VIX', 'Permute', 'Permute + VIX'))\n",
    "plt.ylabel('Mean squared hedging error')\n",
    "plt.title('Absolute value')"
   ]
  },
  {
   "cell_type": "code",
   "execution_count": null,
   "metadata": {},
   "outputs": [],
   "source": [
    "res_rela = df_res.xs('%Change', level=1, axis=1)\n",
    "for col in kws[1:]:\n",
    "    plt.plot(np.arange(1, 5)+col[3], res_rela.loc[col[0]], marker=col[2], linewidth=0, label=col[1], c=col[4])\n",
    "plt.legend(frameon=False)\n",
    "plt.xticks(np.arange(1, 5), ('Baseline', 'VIX', 'Permute', 'Permute + VIX'))\n",
    "plt.ylabel('Relative reduction to Black-Scholes Delta')\n",
    "plt.title('S&P 500 (1 day)')"
   ]
  },
  {
   "cell_type": "markdown",
   "metadata": {},
   "source": [
    "#### Baseline\n",
    "This section shows the the MSHE and its relative percentage change of the two statistical models compared to the BS-Delta in the 'baseline' experiment."
   ]
  },
  {
   "cell_type": "code",
   "execution_count": null,
   "metadata": {},
   "outputs": [],
   "source": [
    "dirs_dict = {'Regression/BS_Benchmark': f'{DATA_DIR}Result/{cols[0]}/Regression/BS_Benchmark/',\n",
    "             'Regression/Delta_Vega_Vanna': f'{DATA_DIR}Result/{cols[0]}/Regression/Delta_Vega_Vanna/',\n",
    "            'Network/Delta_Vega': f'{DATA_DIR}Result/{cols[0]}/Network/Delta_Vega/'}\n",
    "localins = cm.LocalInspector(dirs_dict)\n",
    "\n",
    "localins.load_real_pnl()\n",
    "baseline = localins.compare_period()[['Regression/BS_Benchmark','Regression/Delta_Vega_Vanna', 'Network/Delta_Vega']] \n",
    "bs_tmp = baseline['Regression/BS_Benchmark'].values[:, np.newaxis]\n",
    "# calculate the relative percentage change of the two models comapred to the BS-Delta"
   ]
  },
  {
   "cell_type": "code",
   "execution_count": null,
   "metadata": {},
   "outputs": [],
   "source": [
    "for x in kws[1:]:\n",
    "    plt.plot(range(1, 15), baseline[x[0]], linewidth=0, marker=x[2], label=x[1])\n",
    "plt.legend()\n",
    "plt.xlabel('Time window')\n",
    "plt.ylabel('Mean squared hedging error')"
   ]
  },
  {
   "cell_type": "code",
   "execution_count": null,
   "metadata": {},
   "outputs": [],
   "source": [
    "base_rela = (baseline[['Regression/Delta_Vega_Vanna', 'Network/Delta_Vega']] - bs_tmp) / bs_tmp\n",
    "for x in kws[1:]:\n",
    "    plt.plot(range(1, 15), base_rela[x[0]]*100, linewidth=0, marker=x[2], label=x[1])\n",
    "plt.legend()\n",
    "plt.xlabel('Time window')\n",
    "plt.ylabel('Percentage')"
   ]
  },
  {
   "cell_type": "markdown",
   "metadata": {},
   "source": [
    "#### 'VIX' experiment\n",
    "This section shows the the MSHE and its relative percentage change of the two statistical models compared to the BS-Delta in the 'VIX' experiment."
   ]
  },
  {
   "cell_type": "code",
   "execution_count": null,
   "metadata": {},
   "outputs": [],
   "source": [
    "dirs_dict = {'Regression/BS_Benchmark': f'{DATA_DIR}Result/{cols[1]}/Regression/BS_Benchmark/',\n",
    "             'Regression/Delta_Vega_Vanna': f'{DATA_DIR}Result/{cols[1]}/Regression/Delta_Vega_Vanna/',\n",
    "            'Network/Delta_Vega': f'{DATA_DIR}Result/{cols[1]}/Network/Delta_Vega/'}"
   ]
  },
  {
   "cell_type": "code",
   "execution_count": null,
   "metadata": {},
   "outputs": [],
   "source": [
    "localins = cm.LocalInspector(dirs_dict)\n",
    "localins.load_real_pnl()\n",
    "\n",
    "res = localins.compare_period()[['Regression/BS_Benchmark', 'Regression/Delta_Vega_Vanna', 'Network/Delta_Vega']]\n",
    "\n",
    "fig, axes = plt.subplots(ncols=2, figsize=(12, 4))\n",
    "for x in kws[1:]:\n",
    "    axes[0].plot(range(1, 15), res[x[0]], linewidth=0, marker=x[2], label=x[1])\n",
    "    \n",
    "axes[0].set_xlabel('Time window')\n",
    "axes[0].set_ylabel('Mean squared hedging error')\n",
    "\n",
    "\n",
    "bs_tmp = res['Regression/BS_Benchmark'].values[:, np.newaxis]\n",
    "tmp = (res[['Regression/Delta_Vega_Vanna', 'Network/Delta_Vega']] - bs_tmp) / bs_tmp\n",
    "for x in kws[1:]:\n",
    "    axes[1].plot(range(1, 15), tmp[x[0]]*100, linewidth=0, marker=x[2], label=x[1])\n",
    "axes[1].set_xlabel('Time window')\n",
    "axes[1].set_ylabel('Percentage improvement')"
   ]
  },
  {
   "cell_type": "markdown",
   "metadata": {},
   "source": [
    "#### 'Permute' experiment\n",
    "This section shows the the MSHE and its relative percentage change of the two statistical models compared to the BS-Delta in the 'Permutation' experiment."
   ]
  },
  {
   "cell_type": "code",
   "execution_count": null,
   "metadata": {},
   "outputs": [],
   "source": [
    "dirs_dict = {'Regression/BS_Benchmark': f'{DATA_DIR}Result/{cols[2]}/Regression/BS_Benchmark/',\n",
    "             'Regression/Delta_Vega_Vanna': f'{DATA_DIR}Result/{cols[2]}/Regression/Delta_Vega_Vanna/',\n",
    "            'Network/Delta_Vega': f'{DATA_DIR}Result/{cols[2]}/Network/Delta_Vega/'}"
   ]
  },
  {
   "cell_type": "code",
   "execution_count": null,
   "metadata": {},
   "outputs": [],
   "source": [
    "inspector = cm.Inspector()\n",
    "res = inspector.eval_single_exp(dirs_dict, measure=measure)"
   ]
  },
  {
   "cell_type": "code",
   "execution_count": null,
   "metadata": {},
   "outputs": [],
   "source": [
    "res"
   ]
  },
  {
   "cell_type": "code",
   "execution_count": null,
   "metadata": {},
   "outputs": [],
   "source": [
    "\"\"\" This figure plots the MSHE in 5 permutations \"\"\"\n",
    "for col in kws[1:]:\n",
    "    plt.plot(np.arange(1, NUM_PERMUTE+1)+col[3], res.loc[:, col[0]], marker=col[2], linewidth=0, label=col[1], c=col[4])\n",
    "plt.legend(frameon=False)\n",
    "plt.ylabel('Mean squared hedging error')\n",
    "plt.title('Absolute value')"
   ]
  },
  {
   "cell_type": "code",
   "execution_count": null,
   "metadata": {},
   "outputs": [],
   "source": [
    "\" This plots the percentage improvement of MSHE in 5 permutations\"\n",
    "for col in kws[1:]:\n",
    "    y = (res[col[0]] - res['Regression/BS_Benchmark']) / res['Regression/BS_Benchmark']\n",
    "    plt.plot(np.arange(1, NUM_PERMUTE+1)+col[3], y*100, marker=col[2], linewidth=0, label=col[1], color=col[4])\n",
    "plt.legend(frameon=True)\n",
    "plt.ylabel('Mean squared hedging error')\n",
    "plt.title('Relative')"
   ]
  },
  {
   "cell_type": "code",
   "execution_count": null,
   "metadata": {},
   "outputs": [],
   "source": [
    "\"\"\"\n",
    "This plots the change in the percentage improvement of the two statistical models \n",
    "compared to the BS-Delta, window by window in each of the 5 permutations.\n",
    "\"\"\"\n",
    "\n",
    "localins = cm.LocalInspector(dirs_dict)\n",
    "three_cols = ['Regression/BS_Benchmark', 'Regression/Delta_Vega_Vanna', 'Network/Delta_Vega']\n",
    "df_rela_diff = pd.DataFrame(np.zeros((14, 2)), \n",
    "                            index=range(0, 14), columns=three_cols[1:])\n",
    "\n",
    "df_abs = pd.DataFrame(np.zeros((14, 3)), index=range(0, 14), columns=three_cols)\n",
    "fig, axes = plt.subplots(ncols=1, nrows=NUM_PERMUTE, figsize=(6, 4*NUM_PERMUTE)) \n",
    "\n",
    "for i in range(NUM_PERMUTE):\n",
    "    localins.load_real_pnl(idx=i)\n",
    "    res = localins.compare_period()[three_cols]\n",
    "    bs_tmp = res['Regression/BS_Benchmark'].values[:, np.newaxis]\n",
    "    permute_rela = (res[three_cols[1:]] - bs_tmp) / bs_tmp\n",
    "    \n",
    "    df_rela_diff += permute_rela - base_rela\n",
    "    y = (permute_rela - base_rela)*100\n",
    "    for x in kws[1:]:\n",
    "        if (NUM_PERMUTE == 1):\n",
    "            axes.plot(np.arange(1, 15), y[x[0]], marker=x[2], linewidth=0, label=x[1], color=x[4])\n",
    "            axes.legend()\n",
    "        else:\n",
    "            axes[i].plot(np.arange(1, 15), y[x[0]], marker=x[2], linewidth=0, label=x[1], color=x[4])\n",
    "            axes[i].legend()\n",
    "    df_abs += res"
   ]
  },
  {
   "cell_type": "code",
   "execution_count": null,
   "metadata": {},
   "outputs": [],
   "source": [
    "\" The average of the 5 plots above. \"\n",
    "avg = df_rela_diff / NUM_PERMUTE\n",
    "for x in kws[1:]:\n",
    "    plt.plot(range(1, len(avg)+1), avg[x[0]]*100, marker=x[2], linewidth=0, label=x[1], c=x[4])\n",
    "plt.legend(frameon=False)\n",
    "plt.xlabel('Time window')\n",
    "plt.ylabel('Percentage improvement')\n",
    "plt.title('S&P 500')\n",
    "\n",
    "rela_diff_avg_pmt = avg"
   ]
  },
  {
   "cell_type": "code",
   "execution_count": null,
   "metadata": {},
   "outputs": [],
   "source": [
    "\" The absolute value of the average of the 5 permutations. \"\n",
    "avg = df_abs / NUM_PERMUTE\n",
    "for x in kws:\n",
    "    plt.plot(range(1, len(avg)+1), avg[x[0]], marker=x[2], linewidth=0, label=x[1], c=x[4])\n",
    "plt.legend(frameon=False)\n",
    "plt.xlabel('Time window')\n",
    "plt.ylabel('Mean squared hedging error')\n",
    "plt.title('S&P 500')"
   ]
  },
  {
   "cell_type": "markdown",
   "metadata": {},
   "source": [
    "#### 'Permute + VIX' experiment"
   ]
  },
  {
   "cell_type": "code",
   "execution_count": null,
   "metadata": {},
   "outputs": [],
   "source": [
    "dirs_dict = {'Regression/BS_Benchmark': f'{DATA_DIR}Result/{cols[3]}/Regression/BS_Benchmark/',\n",
    "             'Regression/Delta_Vega_Vanna': f'{DATA_DIR}Result/{cols[3]}/Regression/Delta_Vega_Vanna/',\n",
    "            'Network/Delta_Vega': f'{DATA_DIR}Result/{cols[3]}/Network/Delta_Vega/'}"
   ]
  },
  {
   "cell_type": "code",
   "execution_count": null,
   "metadata": {},
   "outputs": [],
   "source": [
    "inspector = cm.Inspector()\n",
    "res = inspector.eval_single_exp(dirs_dict, measure=measure)"
   ]
  },
  {
   "cell_type": "code",
   "execution_count": null,
   "metadata": {},
   "outputs": [],
   "source": [
    "res"
   ]
  },
  {
   "cell_type": "code",
   "execution_count": null,
   "metadata": {},
   "outputs": [],
   "source": [
    "for col in kws[1:]:\n",
    "    plt.plot(np.arange(1, NUM_PERMUTE+1)+col[3], res.loc[:, col[0]], marker=col[2], linewidth=0, label=col[1], c=col[4])\n",
    "#plt.legend(frameon=False)\n",
    "plt.ylabel('Mean squared hedging error')\n",
    "plt.title('Absolute value')"
   ]
  },
  {
   "cell_type": "code",
   "execution_count": null,
   "metadata": {},
   "outputs": [],
   "source": [
    "for col in kws[1:]:\n",
    "    y = (res[col[0]] - res['Regression/BS_Benchmark']) / res['Regression/BS_Benchmark']\n",
    "    plt.plot(np.arange(1, NUM_PERMUTE+1)+col[3], y*100, marker=col[2], linewidth=0, label=col[1], color=col[4])\n",
    "plt.legend(frameon=False)\n",
    "plt.ylabel('Percentage improvement')\n",
    "plt.title('Relative')"
   ]
  },
  {
   "cell_type": "code",
   "execution_count": null,
   "metadata": {},
   "outputs": [],
   "source": [
    "\"\"\"\n",
    "This plots the change in the percentage improvement of the two statistical models \n",
    "compared to the BS-Delta, window by window in each of the 5 permutations.\n",
    "\"\"\"\n",
    "localins = cm.LocalInspector(dirs_dict)\n",
    "\n",
    "df_rela_diff = pd.DataFrame(np.zeros((14, 2)), \n",
    "                            index=range(0, 14), columns=['Regression/Delta_Vega_Vanna', 'Network/Delta_Vega'])\n",
    "three_cols = ['Regression/BS_Benchmark', 'Regression/Delta_Vega_Vanna', 'Network/Delta_Vega']\n",
    "df_abs = pd.DataFrame(np.zeros((14, 3)), index=range(0, 14), columns=three_cols)\n",
    "fig, axes = plt.subplots(ncols=1, nrows=NUM_PERMUTE, figsize=(6, 4*NUM_PERMUTE))\n",
    "for i in range(NUM_PERMUTE):\n",
    "    localins.load_real_pnl(idx=i)\n",
    "    res = localins.compare_period()[three_cols]\n",
    "    bs_tmp = res['Regression/BS_Benchmark'].values[:, np.newaxis]\n",
    "    permute_rela = (res[['Regression/Delta_Vega_Vanna', 'Network/Delta_Vega']] - bs_tmp) / bs_tmp\n",
    "    \n",
    "    df_rela_diff += permute_rela - base_rela\n",
    "    y = (permute_rela - base_rela)*100\n",
    "    for x in kws[1:]:\n",
    "        if (NUM_PERMUTE == 1):\n",
    "            axes.plot(np.arange(1, 15), y[x[0]], marker=x[2], linewidth=0, label=x[1], color=x[4])\n",
    "            axes.legend()\n",
    "        else:\n",
    "            axes[i].plot(np.arange(1, 15), y[x[0]], marker=x[2], linewidth=0, label=x[1], color=x[4])\n",
    "            axes[i].legend()\n",
    "    df_abs += res"
   ]
  },
  {
   "cell_type": "code",
   "execution_count": null,
   "metadata": {},
   "outputs": [],
   "source": [
    "avg = df_rela_diff / NUM_PERMUTE\n",
    "for x in kws[1:]:\n",
    "    plt.plot(range(1, len(avg)+1), avg[x[0]]*100, marker=x[2], linewidth=0, label=x[1], c=x[4])\n",
    "plt.legend(frameon=False)\n",
    "plt.xlabel('Time window')\n",
    "plt.ylabel('Percentage improvement')\n",
    "plt.title('S&P 500')\n",
    "\n",
    "rela_diff_avg_pmt_vix = avg"
   ]
  },
  {
   "cell_type": "code",
   "execution_count": null,
   "metadata": {
    "scrolled": true
   },
   "outputs": [],
   "source": [
    "avg = df_abs / NUM_PERMUTE\n",
    "for x in kws[1:]:\n",
    "    plt.plot(range(1, len(avg)+1), avg[x[0]], marker=x[2], linewidth=0, label=x[1], c=x[4])\n",
    "plt.legend(frameon=False)\n",
    "plt.xlabel('Time window')\n",
    "plt.ylabel('Mean squared hedging error')\n",
    "plt.title('S&P 500')"
   ]
  },
  {
   "cell_type": "code",
   "execution_count": null,
   "metadata": {},
   "outputs": [],
   "source": [
    "\"\"\" \n",
    "Combined plot of the change in the percentage improvement of the two statistical hedging model \n",
    "in the Permute and Permute + VIX experiments.\n",
    "\"\"\"\n",
    "fig, ax = plt.subplots()\n",
    "\n",
    "kws_tmp = [('Regression/Delta_Vega_Vanna', 'DVV regr. (Permute)', 'x', -0.2),\n",
    " ('Network/Delta_Vega', 'ANN (Permute)', '^', -0.2)]\n",
    "\n",
    "for x in kws_tmp:\n",
    "    ax.plot(rela_diff_avg_pmt.index + 1 + x[3], rela_diff_avg_pmt[x[0]]*100, label=x[1], marker=x[2], linewidth=0)\n",
    "\n",
    "kws_tmp = [('Regression/Delta_Vega_Vanna', 'DVV regr. (Permute + VIX)', 'x', 0.2),\n",
    "         ('Network/Delta_Vega', 'ANN (Permute + VIX)', '^', 0.2)]  \n",
    "for x in kws_tmp:\n",
    "    ax.plot(rela_diff_avg_pmt_vix.index + 1 + x[3], rela_diff_avg_pmt_vix[x[0]]*100, label=x[1], marker=x[2], linewidth=0)\n",
    "plt.legend(frameon=False)\n",
    "plt.xlabel('Time window')\n",
    "plt.ylabel('Difference to baseline in relative reduction')\n",
    "plt.title(\"S&P 500 (1 day)\")"
   ]
  },
  {
   "cell_type": "code",
   "execution_count": null,
   "metadata": {},
   "outputs": [],
   "source": []
  },
  {
   "cell_type": "code",
   "execution_count": null,
   "metadata": {},
   "outputs": [],
   "source": []
  }
 ],
 "metadata": {
  "kernelspec": {
   "display_name": "Python 3",
   "language": "python",
   "name": "python3"
  },
  "language_info": {
   "codemirror_mode": {
    "name": "ipython",
    "version": 3
   },
   "file_extension": ".py",
   "mimetype": "text/x-python",
   "name": "python",
   "nbconvert_exporter": "python",
   "pygments_lexer": "ipython3",
   "version": "3.7.3"
  }
 },
 "nbformat": 4,
 "nbformat_minor": 2
}
