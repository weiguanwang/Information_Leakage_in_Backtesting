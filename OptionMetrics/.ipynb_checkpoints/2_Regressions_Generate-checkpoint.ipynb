{
 "cells": [
  {
   "cell_type": "code",
   "execution_count": null,
   "metadata": {},
   "outputs": [],
   "source": [
    "import sys\n",
    "import os\n",
    "# Append the library path to PYTHONPATH, so library can be imported.\n",
    "sys.path.append(os.path.dirname(os.getcwd()))\n",
    "\n",
    "import shutil\n",
    "import datetime\n",
    "import numpy as np\n",
    "import pandas as pd\n",
    "\n",
    "from library import common as cm\n",
    "from library import regression_aux as raux"
   ]
  },
  {
   "cell_type": "code",
   "execution_count": null,
   "metadata": {},
   "outputs": [],
   "source": [
    "%run setup.py\n",
    "%matplotlib inline\n",
    "%load_ext autoreload\n",
    "%autoreload 2\n",
    "\n",
    "np.random.seed(RANDOM_SEED)"
   ]
  },
  {
   "cell_type": "code",
   "execution_count": null,
   "metadata": {
    "scrolled": true
   },
   "outputs": [],
   "source": [
    "%run Load_Clean_aux.py\n",
    "max_period = max([int(s[6:]) for s in df.columns if 'period' in s])"
   ]
  },
  {
   "cell_type": "code",
   "execution_count": null,
   "metadata": {},
   "outputs": [],
   "source": [
    "print(f'The number of samples after loading is : {df.shape[0]}')\n",
    "\n",
    "regr_dir = res_dir + 'Regression/'\n",
    "print(f'Results are saved at:\\n{regr_dir}')"
   ]
  },
  {
   "cell_type": "code",
   "execution_count": null,
   "metadata": {},
   "outputs": [],
   "source": [
    "if os.path.exists(regr_dir):\n",
    "    shutil.rmtree(regr_dir)\n",
    "os.makedirs(regr_dir)\n",
    "shutil.copy('setup.py', regr_dir);"
   ]
  },
  {
   "cell_type": "markdown",
   "metadata": {},
   "source": [
    "### NO permute"
   ]
  },
  {
   "cell_type": "code",
   "execution_count": null,
   "metadata": {},
   "outputs": [],
   "source": [
    "def save_tables(res, dirs):\n",
    "    if res is not None:\n",
    "        res['df_coef'].to_csv(f'{dirs}coef.csv')\n",
    "        res['df_fit_std'].to_csv(f'{dirs}std.csv')"
   ]
  },
  {
   "cell_type": "markdown",
   "metadata": {},
   "source": [
    "#### No hedge"
   ]
  },
  {
   "cell_type": "code",
   "execution_count": null,
   "metadata": {},
   "outputs": [],
   "source": [
    "if not PERMUTE:\n",
    "    sub_regr_dir = f'{regr_dir}No_Hedge/'\n",
    "    os.makedirs(f'{sub_regr_dir}pnl/', exist_ok=True)\n",
    "    pnl_path = f'{sub_regr_dir}pnl/pnl.csv'\n",
    "    \n",
    "    zero = np.array([0.]*len(df))\n",
    "    zero = pd.Series(zero, index=df.index)\n",
    "\n",
    "    cm.store_pnl(df, zero, pnl_path)\n",
    "    save_tables(None, sub_regr_dir)"
   ]
  },
  {
   "cell_type": "markdown",
   "metadata": {},
   "source": [
    "#### Baseline: Black-Scholes "
   ]
  },
  {
   "cell_type": "code",
   "execution_count": null,
   "metadata": {},
   "outputs": [],
   "source": [
    "if not PERMUTE:\n",
    "    sub_regr_dir = f'{regr_dir}BS_Benchmark/'\n",
    "    os.makedirs(f'{sub_regr_dir}pnl/', exist_ok=True)\n",
    "    pnl_path = f'{sub_regr_dir}pnl/pnl.csv'\n",
    "    \n",
    "    cm.store_pnl(df, df['delta_bs'], pnl_path)\n",
    "    save_tables(None, sub_regr_dir)"
   ]
  },
  {
   "cell_type": "markdown",
   "metadata": {},
   "source": [
    "#### Using fixed constants 0.9, 1.1"
   ]
  },
  {
   "cell_type": "code",
   "execution_count": null,
   "metadata": {},
   "outputs": [],
   "source": [
    "if not PERMUTE:\n",
    "    sub_regr_dir = f'{regr_dir}Fixed_Constants/'\n",
    "    os.makedirs(f'{sub_regr_dir}pnl/', exist_ok=True)\n",
    "    pnl_path = f'{sub_regr_dir}pnl/pnl.csv'\n",
    "    \n",
    "    bl_c = df['cp_int'] == 0\n",
    "    delta = 0.9 * df['delta_bs']\n",
    "    delta[~bl_c] = 1.1 * df.loc[~bl_c, 'delta_bs']\n",
    "    \n",
    "    cm.store_pnl(df, delta, pnl_path)\n",
    "    save_tables(None, sub_regr_dir)"
   ]
  },
  {
   "cell_type": "markdown",
   "metadata": {},
   "source": [
    "#### Delta-only"
   ]
  },
  {
   "cell_type": "code",
   "execution_count": null,
   "metadata": {},
   "outputs": [],
   "source": [
    "if not PERMUTE:\n",
    "    sub_regr_dir = f'{regr_dir}Delta_only/'\n",
    "    kwargs = {'vix': VIX, \n",
    "          'features': ['delta_bs'], \n",
    "          'max_period': max_period, \n",
    "          'sub_res': f'{sub_regr_dir}pnl/',\n",
    "          'pnl_path': f'{sub_regr_dir}pnl/pnl.csv',\n",
    "          'df': df,\n",
    "          'delta_coeff_1': False,\n",
    "          'agg_side': False,\n",
    "          'leverage': True}\n",
    "\n",
    "    res = raux.run_store_lin(**kwargs)\n",
    "    save_tables(res, dirs=sub_regr_dir)\n",
    "    res['df_leve'].to_csv(f'{sub_regr_dir}leverage.csv')"
   ]
  },
  {
   "cell_type": "markdown",
   "metadata": {},
   "source": [
    "#### Delta-Vega"
   ]
  },
  {
   "cell_type": "code",
   "execution_count": null,
   "metadata": {},
   "outputs": [],
   "source": [
    "if not PERMUTE:\n",
    "    sub_regr_dir = f'{regr_dir}Delta_Vega/'\n",
    "    kwargs = {'vix': VIX, \n",
    "          'features': ['delta_bs', 'vega_n'], \n",
    "          'max_period': max_period, \n",
    "          'sub_res': f'{sub_regr_dir}pnl/',\n",
    "          'pnl_path': f'{sub_regr_dir}pnl/pnl.csv',\n",
    "          'df': df,\n",
    "          'delta_coeff_1': False,\n",
    "          'agg_side': False}\n",
    "\n",
    "    res = raux.run_store_lin(**kwargs)\n",
    "    save_tables(res, sub_regr_dir)"
   ]
  },
  {
   "cell_type": "markdown",
   "metadata": {},
   "source": [
    "#### Delta-Gamma"
   ]
  },
  {
   "cell_type": "code",
   "execution_count": null,
   "metadata": {},
   "outputs": [],
   "source": [
    "if not PERMUTE:\n",
    "    sub_regr_dir = f'{regr_dir}Delta_Gamma/'\n",
    "    kwargs = {'vix': VIX, \n",
    "          'features': ['delta_bs', 'gamma_n'], \n",
    "          'max_period': max_period, \n",
    "          'sub_res': f'{sub_regr_dir}pnl/',\n",
    "          'pnl_path': f'{sub_regr_dir}pnl/pnl.csv',\n",
    "          'df': df,\n",
    "          'delta_coeff_1': False,\n",
    "          'agg_side': False}\n",
    "\n",
    "    res = raux.run_store_lin(**kwargs)\n",
    "    save_tables(res, sub_regr_dir)"
   ]
  },
  {
   "cell_type": "markdown",
   "metadata": {},
   "source": [
    "#### Delta-Vanna"
   ]
  },
  {
   "cell_type": "code",
   "execution_count": null,
   "metadata": {},
   "outputs": [],
   "source": [
    "if not PERMUTE:\n",
    "    sub_regr_dir = f'{regr_dir}Delta_Vanna/'\n",
    "    kwargs = {\n",
    "        'vix': VIX,\n",
    "        'features': ['delta_bs', 'vanna_n'],\n",
    "        'max_period': max_period,\n",
    "        'sub_res': f'{sub_regr_dir}pnl/',\n",
    "        'pnl_path': f'{sub_regr_dir}pnl/pnl.csv',\n",
    "        'df': df,\n",
    "        'delta_coeff_1': False\n",
    "    }\n",
    "\n",
    "    res = raux.run_store_lin(**kwargs)\n",
    "    save_tables(res, sub_regr_dir)"
   ]
  },
  {
   "cell_type": "markdown",
   "metadata": {},
   "source": [
    "#### Delta-Gamma-Vanna"
   ]
  },
  {
   "cell_type": "code",
   "execution_count": null,
   "metadata": {},
   "outputs": [],
   "source": [
    "if not PERMUTE:\n",
    "    sub_regr_dir = f'{regr_dir}Delta_Gamma_Vanna/'\n",
    "    kwargs = {\n",
    "        'vix': VIX,\n",
    "        'features': ['delta_bs', 'gamma_n', 'vanna_n'],\n",
    "        'max_period': max_period,\n",
    "        'sub_res': f'{sub_regr_dir}pnl/',\n",
    "        'pnl_path': f'{sub_regr_dir}pnl/pnl.csv',\n",
    "        'df': df,\n",
    "        'delta_coeff_1': False\n",
    "    }\n",
    "\n",
    "    res = raux.run_store_lin(**kwargs)\n",
    "    save_tables(res, sub_regr_dir)"
   ]
  },
  {
   "cell_type": "markdown",
   "metadata": {},
   "source": [
    "#### Delta-Vega-Gamma"
   ]
  },
  {
   "cell_type": "code",
   "execution_count": null,
   "metadata": {},
   "outputs": [],
   "source": [
    "if not PERMUTE:\n",
    "    sub_regr_dir = f'{regr_dir}Delta_Vega_Gamma/'\n",
    "    kwargs = {\n",
    "        'vix': VIX,\n",
    "        'features': ['delta_bs', 'vega_n', 'gamma_n'],\n",
    "        'max_period': max_period,\n",
    "        'sub_res': f'{sub_regr_dir}pnl/',\n",
    "        'pnl_path': f'{sub_regr_dir}pnl/pnl.csv',\n",
    "        'df': df,\n",
    "        'delta_coeff_1': False\n",
    "    }\n",
    "\n",
    "    res = raux.run_store_lin(**kwargs)\n",
    "    save_tables(res, sub_regr_dir)"
   ]
  },
  {
   "cell_type": "markdown",
   "metadata": {},
   "source": [
    "#### Delta-Vega-Vanna"
   ]
  },
  {
   "cell_type": "code",
   "execution_count": null,
   "metadata": {},
   "outputs": [],
   "source": [
    "if not PERMUTE:\n",
    "    sub_regr_dir = f'{regr_dir}Delta_Vega_Vanna/'\n",
    "    kwargs = {\n",
    "        'vix': VIX,\n",
    "        'features': ['delta_bs', 'vega_n', 'vanna_n'],\n",
    "        'max_period': max_period,\n",
    "        'sub_res': f'{sub_regr_dir}pnl/',\n",
    "        'pnl_path': f'{sub_regr_dir}pnl/pnl.csv',\n",
    "        'df': df,\n",
    "        'delta_coeff_1': False\n",
    "    }\n",
    "\n",
    "    res = raux.run_store_lin(**kwargs)\n",
    "    save_tables(res, sub_regr_dir)"
   ]
  },
  {
   "cell_type": "markdown",
   "metadata": {},
   "source": [
    "#### Delta-Vega-Gamma-Vanna"
   ]
  },
  {
   "cell_type": "code",
   "execution_count": null,
   "metadata": {},
   "outputs": [],
   "source": [
    "if not PERMUTE:\n",
    "    sub_regr_dir = f'{regr_dir}Delta_Vega_Gamma_Va/'\n",
    "    kwargs = {\n",
    "        'vix': VIX,\n",
    "        'features': ['delta_bs', 'vega_n', 'gamma_n', 'vanna_n'],\n",
    "        'max_period': max_period,\n",
    "        'sub_res': f'{sub_regr_dir}pnl/',\n",
    "        'pnl_path': f'{sub_regr_dir}pnl/pnl.csv',\n",
    "        'df': df,\n",
    "        'delta_coeff_1': False\n",
    "    }\n",
    "\n",
    "    res = raux.run_store_lin(**kwargs)\n",
    "    save_tables(res, sub_regr_dir)"
   ]
  },
  {
   "cell_type": "markdown",
   "metadata": {},
   "source": [
    "#### Vega-only"
   ]
  },
  {
   "cell_type": "code",
   "execution_count": null,
   "metadata": {},
   "outputs": [],
   "source": [
    "if not PERMUTE:\n",
    "    sub_regr_dir = f'{regr_dir}Vega_only/'\n",
    "    kwargs = {'vix': VIX, \n",
    "          'features': ['vega_n'], \n",
    "          'max_period': max_period, \n",
    "          'sub_res': f'{sub_regr_dir}pnl/',\n",
    "          'pnl_path': f'{sub_regr_dir}pnl/pnl.csv',\n",
    "          'df': df,\n",
    "          'delta_coeff_1': True,\n",
    "          'agg_side': False}\n",
    "\n",
    "    res = raux.run_store_lin(**kwargs)\n",
    "    save_tables(res, sub_regr_dir)"
   ]
  },
  {
   "cell_type": "markdown",
   "metadata": {},
   "source": [
    "#### Vanna-only"
   ]
  },
  {
   "cell_type": "code",
   "execution_count": null,
   "metadata": {},
   "outputs": [],
   "source": [
    "if not PERMUTE:\n",
    "    sub_regr_dir = f'{regr_dir}Vanna_only/'\n",
    "    kwargs = {'vix': VIX, \n",
    "          'features': ['vanna_n'],   \n",
    "          'max_period': max_period, \n",
    "          'sub_res': f'{sub_regr_dir}pnl/',\n",
    "          'pnl_path': f'{sub_regr_dir}pnl/pnl.csv',\n",
    "          'df': df,\n",
    "          'delta_coeff_1': True,\n",
    "          'agg_side': False}\n",
    "\n",
    "    res = raux.run_store_lin(**kwargs)\n",
    "    save_tables(res, sub_regr_dir)"
   ]
  },
  {
   "cell_type": "markdown",
   "metadata": {},
   "source": [
    "#### Gamma-only"
   ]
  },
  {
   "cell_type": "code",
   "execution_count": null,
   "metadata": {},
   "outputs": [],
   "source": [
    "if not PERMUTE:\n",
    "    sub_regr_dir = f'{regr_dir}Gamma_only/'\n",
    "    kwargs = {'vix': VIX, \n",
    "          'features': ['gamma_n'], \n",
    "          'max_period': max_period, \n",
    "          'sub_res': f'{sub_regr_dir}pnl/',\n",
    "          'pnl_path': f'{sub_regr_dir}pnl/pnl.csv',\n",
    "          'df': df,\n",
    "          'delta_coeff_1': True,\n",
    "          'agg_side': False}\n",
    "\n",
    "    res = raux.run_store_lin(**kwargs)\n",
    "    save_tables(res, sub_regr_dir)"
   ]
  },
  {
   "cell_type": "markdown",
   "metadata": {},
   "source": [
    "#### Bias only"
   ]
  },
  {
   "cell_type": "code",
   "execution_count": null,
   "metadata": {},
   "outputs": [],
   "source": [
    "if not PERMUTE:\n",
    "    sub_regr_dir = f'{regr_dir}Bias/'\n",
    "    df['bias'] = 1.\n",
    "    kwargs = {'vix': VIX, \n",
    "          'features': ['bias'],   \n",
    "          'max_period': max_period, \n",
    "          'sub_res': f'{sub_regr_dir}pnl/',\n",
    "          'pnl_path': f'{sub_regr_dir}pnl/pnl.csv',\n",
    "          'df': df,\n",
    "          'delta_coeff_1': True,\n",
    "          'agg_side': False}\n",
    "\n",
    "    res = raux.run_store_lin(**kwargs)\n",
    "    save_tables(res, sub_regr_dir)"
   ]
  },
  {
   "cell_type": "markdown",
   "metadata": {},
   "source": [
    "#### Hull-White"
   ]
  },
  {
   "cell_type": "code",
   "execution_count": null,
   "metadata": {},
   "outputs": [],
   "source": [
    "if not PERMUTE:\n",
    "    sub_regr_dir = f'{regr_dir}Hull_White/'\n",
    "    kwargs = {'vix': VIX, \n",
    "          'features': ['vega_s', 'delta_vega_s', 'delta2_vega_s'], \n",
    "          'max_period': max_period, \n",
    "          'sub_res': f'{sub_regr_dir}pnl/',\n",
    "          'pnl_path': f'{sub_regr_dir}pnl/pnl.csv',\n",
    "          'df': df,\n",
    "          'delta_coeff_1': True,\n",
    "          'agg_side': False}\n",
    "\n",
    "    res = raux.run_store_lin(**kwargs)\n",
    "    save_tables(res, sub_regr_dir)"
   ]
  },
  {
   "cell_type": "code",
   "execution_count": null,
   "metadata": {},
   "outputs": [],
   "source": [
    "if not PERMUTE:\n",
    "    sub_regr_dir = f'{regr_dir}Hull_White_relaxed/'\n",
    "    kwargs = {'vix': VIX, \n",
    "          'features': ['delta_bs', 'vega_s', 'delta_vega_s', 'delta2_vega_s'], \n",
    "          'max_period': max_period, \n",
    "          'sub_res': f'{sub_regr_dir}pnl/',\n",
    "          'pnl_path': f'{sub_regr_dir}pnl/pnl.csv',\n",
    "          'df': df,\n",
    "          'delta_coeff_1': False,\n",
    "          'agg_side': False}\n",
    "\n",
    "    res = raux.run_store_lin(**kwargs)\n",
    "    save_tables(res, sub_regr_dir)"
   ]
  },
  {
   "cell_type": "markdown",
   "metadata": {},
   "source": [
    "### Permute"
   ]
  },
  {
   "cell_type": "markdown",
   "metadata": {},
   "source": [
    "#### No Hedge"
   ]
  },
  {
   "cell_type": "code",
   "execution_count": null,
   "metadata": {},
   "outputs": [],
   "source": [
    "if PERMUTE:\n",
    "    df_permute = df.copy()\n",
    "    for i in range(NUM_PERMUTE):\n",
    "        df_permute = cm.rolling_permute(df_permute, random_seed=i + 100)\n",
    "        sub_res = f'{regr_dir}No_Hedge/pnl/'\n",
    "        os.makedirs(sub_res, exist_ok=True)\n",
    "        pnl_path = f'{sub_res}pnl{i}.csv'\n",
    "        zero = np.array([0.]*len(df_permute))\n",
    "        zero = pd.Series(zero, index=df_permute.index)\n",
    "        cm.store_pnl(df_permute, zero, pnl_path)\n",
    "    del df_permute"
   ]
  },
  {
   "cell_type": "markdown",
   "metadata": {},
   "source": [
    "#### BS "
   ]
  },
  {
   "cell_type": "code",
   "execution_count": null,
   "metadata": {},
   "outputs": [],
   "source": [
    "if PERMUTE:\n",
    "    df_permute = df.copy()\n",
    "    for i in range(NUM_PERMUTE):\n",
    "        df_permute = cm.rolling_permute(df_permute, random_seed=i + 100)\n",
    "        sub_res = f'{regr_dir}BS_Benchmark/pnl/'\n",
    "        os.makedirs(sub_res, exist_ok=True)\n",
    "        pnl_path = f'{sub_res}pnl{i}.csv'\n",
    "        cm.store_pnl(df_permute, df_permute['delta_bs'], pnl_path)\n",
    "    del df_permute"
   ]
  },
  {
   "cell_type": "markdown",
   "metadata": {},
   "source": [
    "#### Delta-Vega-Vanna"
   ]
  },
  {
   "cell_type": "code",
   "execution_count": null,
   "metadata": {},
   "outputs": [],
   "source": [
    "if PERMUTE:\n",
    "    df_permute = df.copy()\n",
    "    sub_regr_dir = f'{regr_dir}Delta_Vega_Vanna/'\n",
    "    for i in range(NUM_PERMUTE):\n",
    "        df_permute = cm.rolling_permute(df_permute, random_seed=i + 100)\n",
    "        kwargs = {'vix': VIX, \n",
    "              'features': ['delta_bs', 'vega_n', 'vanna_n'], \n",
    "              'max_period': max_period, \n",
    "              'sub_res': f'{sub_regr_dir}pnl/',\n",
    "              'pnl_path': f'{sub_regr_dir}pnl/pnl{i}.csv',\n",
    "              'df': df_permute,\n",
    "             'delta_coeff_1': False,\n",
    "                 'agg_side': False}\n",
    "        \n",
    "        res = raux.run_store_lin(**kwargs)"
   ]
  },
  {
   "cell_type": "code",
   "execution_count": null,
   "metadata": {},
   "outputs": [],
   "source": []
  }
 ],
 "metadata": {
  "kernelspec": {
   "display_name": "Python 3",
   "language": "python",
   "name": "python3"
  },
  "language_info": {
   "codemirror_mode": {
    "name": "ipython",
    "version": 3
   },
   "file_extension": ".py",
   "mimetype": "text/x-python",
   "name": "python",
   "nbconvert_exporter": "python",
   "pygments_lexer": "ipython3",
   "version": "3.6.8"
  },
  "toc": {
   "base_numbering": 1,
   "nav_menu": {},
   "number_sections": true,
   "sideBar": true,
   "skip_h1_title": false,
   "title_cell": "Table of Contents",
   "title_sidebar": "Contents",
   "toc_cell": false,
   "toc_position": {},
   "toc_section_display": true,
   "toc_window_display": false
  }
 },
 "nbformat": 4,
 "nbformat_minor": 2
}
