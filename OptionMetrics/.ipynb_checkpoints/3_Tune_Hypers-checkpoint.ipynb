{
 "cells": [
  {
   "cell_type": "code",
   "execution_count": null,
   "metadata": {},
   "outputs": [],
   "source": [
    "import sys\n",
    "import os\n",
    "# Append the library path to PYTHONPATH, so library can be imported.\n",
    "sys.path.append(os.path.dirname(os.getcwd()))\n",
    "import datetime\n",
    "import shutil\n",
    "\n",
    "import numpy as np\n",
    "import pandas as pd\n",
    "\n",
    "from library import network as nw\n",
    "from library import common as cm"
   ]
  },
  {
   "cell_type": "code",
   "execution_count": null,
   "metadata": {},
   "outputs": [],
   "source": [
    "%run setup.py\n",
    "%load_ext autoreload\n",
    "%autoreload 2\n",
    "\n",
    "sns.set(style='darkgrid')\n",
    "np.random.seed(RANDOM_SEED)"
   ]
  },
  {
   "cell_type": "markdown",
   "metadata": {},
   "source": [
    "##### Step 0: Set save directory"
   ]
  },
  {
   "cell_type": "code",
   "execution_count": null,
   "metadata": {},
   "outputs": [],
   "source": [
    "%run Load_Clean_aux.py"
   ]
  },
  {
   "cell_type": "code",
   "execution_count": null,
   "metadata": {},
   "outputs": [],
   "source": [
    "if FEATURE_SET == 'normal_feature':\n",
    "    ori_fea = ['M0', 'tau0_implvol0']\n",
    "    sub_res = res_dir + 'Network/Normal_Feature/TuneHypers/'\n",
    "\n",
    "if FEATURE_SET == 'delta_vega':\n",
    "    ori_fea = ['delta_bs', '1_over_sqrt_tau', 'vega_n']\n",
    "    sub_res = res_dir + 'Network/Delta_Vega/TuneHypers/'\n",
    "    \n",
    "if VIX:\n",
    "    ori_fea += ['fake_vix']\n",
    "\n",
    "use_fea = [x + '_t' for x in ori_fea] + ['cp_int']\n",
    "os.makedirs(sub_res, exist_ok=True)\n",
    "shutil.copy('setup.py', sub_res)"
   ]
  },
  {
   "cell_type": "markdown",
   "metadata": {},
   "source": [
    "## Tune hyperparameters"
   ]
  },
  {
   "cell_type": "code",
   "execution_count": null,
   "metadata": {},
   "outputs": [],
   "source": [
    "hypers = {\n",
    "    'nodes_per_layer': (30, 30),\n",
    "    'reg_alpha': 1e-2,\n",
    "    'lr': 1e-4,\n",
    "    'epochs': 200,\n",
    "    'outact': 'linear'\n",
    "}"
   ]
  },
  {
   "cell_type": "markdown",
   "metadata": {},
   "source": [
    "##### Step 3: Setup hypers and target\n",
    "Here, we specify hyperparameters, which will be used for training at the next step."
   ]
  },
  {
   "cell_type": "code",
   "execution_count": null,
   "metadata": {},
   "outputs": [],
   "source": [
    "lab_tune = 'reg_alpha'\n",
    "value_set = [1e-3, 1e-4, 1e-5, 1e-6]\n",
    "num_run = NUM_REPEATS\n",
    "end_period = NUM_PERIOD_END"
   ]
  },
  {
   "cell_type": "markdown",
   "metadata": {},
   "source": [
    "##### Step 4: Run for each hyper value"
   ]
  },
  {
   "cell_type": "code",
   "execution_count": null,
   "metadata": {
    "scrolled": true
   },
   "outputs": [],
   "source": [
    "for value in value_set:\n",
    "    # For instance, we tune regularization alpha\n",
    "    hypers[lab_tune] = value\n",
    "    alpha_dir = sub_res + f'para={value:.0e}/'\n",
    "    \n",
    "    for k in range(num_run):\n",
    "        print('This is value={} in repeat {}'.format(value, k))\n",
    "        alpha_dir_dict = {\n",
    "            'ckp': alpha_dir + f'run{k}/ckp/',\n",
    "            'history': alpha_dir + f'/run{k}/history/',\n",
    "            'plot': alpha_dir + f'/run{k}/plot/'\n",
    "        }\n",
    "        for key, value in alpha_dir_dict.items():\n",
    "            os.makedirs(value, exist_ok=True)\n",
    "        \n",
    "        df_return = nw.rolling_net(\n",
    "            df.copy(),\n",
    "            ori_fea=ori_fea,\n",
    "            use_fea=use_fea,\n",
    "            end_period=end_period,\n",
    "            hypers=hypers,\n",
    "            sub_res_dir=alpha_dir_dict,\n",
    "            tune=True\n",
    "        )  \n",
    "        "
   ]
  },
  {
   "cell_type": "markdown",
   "metadata": {},
   "source": [
    "## Summarize tuning results\n",
    "This section can be run independent of the above one, if the directory paths are given properly."
   ]
  },
  {
   "cell_type": "code",
   "execution_count": null,
   "metadata": {},
   "outputs": [],
   "source": [
    "value_set = [1e-3, 1e-4, 1e-5, 1e-6]\n",
    "num_run = NUM_REPEATS"
   ]
  },
  {
   "cell_type": "code",
   "execution_count": null,
   "metadata": {},
   "outputs": [],
   "source": [
    "df_summary = pd.DataFrame(\n",
    "    index=range(num_run), \n",
    "    columns=[f'para={v:.0e}' for v in value_set])"
   ]
  },
  {
   "cell_type": "code",
   "execution_count": null,
   "metadata": {
    "scrolled": true
   },
   "outputs": [],
   "source": [
    "for value in value_set:\n",
    "    for run in range(num_run):\n",
    "        for i in range(end_period + 1):\n",
    "            tmp = []\n",
    "            df_history = pd.read_csv(f'{sub_res}para={value:.0e}/run{run}/history/history{i}.csv', index_col=0)\n",
    "            tmp.append(df_history['val_mean_squared_error'].min())\n",
    "        \n",
    "        df_summary.loc[run, f'para={value:.0e}'] = sum(tmp) / len(tmp)\n",
    "df_summary = df_summary.astype('float32')"
   ]
  },
  {
   "cell_type": "code",
   "execution_count": null,
   "metadata": {},
   "outputs": [],
   "source": [
    "df_summary.describe()"
   ]
  },
  {
   "cell_type": "code",
   "execution_count": null,
   "metadata": {},
   "outputs": [],
   "source": [
    "df_summary.describe().to_csv(f'{sub_res}summary_metrics.csv')"
   ]
  },
  {
   "cell_type": "code",
   "execution_count": null,
   "metadata": {},
   "outputs": [],
   "source": [
    "with open(f'{sub_res}tuning-setting.txt', 'w') as f:\n",
    "    f.write(f'Date and time: {datetime.datetime.now()},\\n')\n",
    "    f.write(f'Hypers: {hypers},\\n')\n",
    "    f.write(f'{lab_tune} is being tuned.\\n')\n",
    "    f.write(f'Value set: {value_set},\\n')\n",
    "    f.write(f'End period: {end_period},\\n')\n",
    "    f.write(f'Number of repeats: {num_run}\\n')\n",
    "    f.write(f'{lab_tune} is being tuned!')"
   ]
  },
  {
   "cell_type": "code",
   "execution_count": null,
   "metadata": {},
   "outputs": [],
   "source": []
  },
  {
   "cell_type": "code",
   "execution_count": null,
   "metadata": {},
   "outputs": [],
   "source": []
  }
 ],
 "metadata": {
  "kernelspec": {
   "display_name": "Python 3",
   "language": "python",
   "name": "python3"
  },
  "language_info": {
   "codemirror_mode": {
    "name": "ipython",
    "version": 3
   },
   "file_extension": ".py",
   "mimetype": "text/x-python",
   "name": "python",
   "nbconvert_exporter": "python",
   "pygments_lexer": "ipython3",
   "version": "3.6.8"
  },
  "toc": {
   "base_numbering": 1,
   "nav_menu": {},
   "number_sections": true,
   "sideBar": true,
   "skip_h1_title": false,
   "title_cell": "Table of Contents",
   "title_sidebar": "Contents",
   "toc_cell": false,
   "toc_position": {},
   "toc_section_display": true,
   "toc_window_display": false
  }
 },
 "nbformat": 4,
 "nbformat_minor": 2
}
