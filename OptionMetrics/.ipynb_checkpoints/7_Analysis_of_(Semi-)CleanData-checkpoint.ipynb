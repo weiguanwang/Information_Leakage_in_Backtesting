{
 "cells": [
  {
   "cell_type": "code",
   "execution_count": null,
   "metadata": {},
   "outputs": [],
   "source": [
    "import sys\n",
    "import os\n",
    "# Append the library path to PYTHONPATH, so library can be imported.\n",
    "sys.path.append(os.path.dirname(os.getcwd()))\n",
    "import datetime\n",
    "\n",
    "import numpy as np\n",
    "import pandas as pd\n",
    "import seaborn as sns\n",
    "import matplotlib.pyplot as plt\n",
    "\n",
    "from scipy.stats import norm\n",
    "\n",
    "from library import common as cm\n",
    "from library import regression_aux as raux"
   ]
  },
  {
   "cell_type": "code",
   "execution_count": null,
   "metadata": {},
   "outputs": [],
   "source": [
    "%run setup.py\n",
    "%matplotlib inline\n",
    "%load_ext autoreload\n",
    "%autoreload 2\n",
    "\n",
    "sns.set(style='darkgrid')"
   ]
  },
  {
   "cell_type": "code",
   "execution_count": null,
   "metadata": {},
   "outputs": [],
   "source": [
    "print(f'Result PNL are loaded from: {res_dir}')"
   ]
  },
  {
   "cell_type": "code",
   "execution_count": null,
   "metadata": {},
   "outputs": [],
   "source": []
  },
  {
   "cell_type": "code",
   "execution_count": null,
   "metadata": {
    "scrolled": true
   },
   "outputs": [],
   "source": [
    "file_path = DATA_DIR + 'CleanData/processed.csv'\n",
    "\n",
    "df = pd.read_csv(\n",
    "    file_path, \n",
    "    parse_dates=['date', 'exdate', 'last_date'],\n",
    "    dtype={'cp_flag': 'category'},\n",
    "    index_col=0\n",
    ")\n",
    "\n",
    "df_spx = pd.read_csv(DATA_DIR + 'RawData/spx500.csv', index_col=0, usecols=['date', 'close'])\n",
    "df = df.reset_index(drop=True)\n",
    "df = df.loc[df['cp_flag'] == 'OP']"
   ]
  },
  {
   "cell_type": "code",
   "execution_count": null,
   "metadata": {},
   "outputs": [],
   "source": [
    "df_real_1 = df.loc[df['date'] < pd.Timestamp(2010, 4, 1)]\n",
    "df_real_2 = df.loc[(df['date'] > pd.Timestamp(2015, 1, 1)) & (df['date'] < pd.Timestamp(2015,4,1))]\n",
    "\n",
    "df_real_1 = df_real_1.loc[df_real_1['volume'] > 1000]\n",
    "df_real_2 = df_real_2.loc[df_real_2['volume'] > 1000]\n",
    "ops_1 = df_real_1['optionid'].unique()\n",
    "ops_2 = df_real_2['optionid'].unique()\n",
    "\n",
    "bl = [(i in ops_1) or (i in ops_2) for i in df['optionid']]\n",
    "df_real = df.loc[bl]"
   ]
  },
  {
   "cell_type": "code",
   "execution_count": null,
   "metadata": {},
   "outputs": [],
   "source": [
    "groups = df_real.groupby('optionid')\n",
    "\n",
    "fig_, ax_ = plt.subplots(figsize=(12, 6))\n",
    "datelist = [datetime.datetime.strptime(_, '%Y/%m/%d') for _ in df_spx.index]\n",
    "for key, g in groups:\n",
    "    if key in ops_1:\n",
    "        color='r'   \n",
    "    else:\n",
    "        color='black'\n",
    "    ax_.hlines(y=g['K'].min() + 100*np.random.standard_normal(),\n",
    "              xmin=g['date'].min(),\n",
    "              xmax=g['exdate'].max(),\n",
    "              alpha=1., lw=0.5, color=color)\n",
    "ax_.plot(datelist, df_spx['close'].values)\n",
    "fig_.autofmt_xdate()\n",
    "#fig_.savefig('realoptions.jpg', dpi=200)"
   ]
  },
  {
   "cell_type": "markdown",
   "metadata": {},
   "source": [
    "Load the data that is used for the linear regression and ANNs."
   ]
  },
  {
   "cell_type": "code",
   "execution_count": null,
   "metadata": {
    "scrolled": true
   },
   "outputs": [],
   "source": [
    "\"\"\"  Remember to run with 1D!!! setup , everything default.\"\"\"\n",
    "%run Load_Clean_aux.py"
   ]
  },
  {
   "cell_type": "code",
   "execution_count": null,
   "metadata": {},
   "outputs": [],
   "source": [
    "df.loc[df['cp_int'] == 0, 'delta_bs'].hist(bins=50)"
   ]
  },
  {
   "cell_type": "code",
   "execution_count": null,
   "metadata": {},
   "outputs": [],
   "source": [
    "plt.hist(norm.ppf(df.loc[df['cp_int'] == 0, 'delta_bs']), bins=50);"
   ]
  },
  {
   "cell_type": "code",
   "execution_count": null,
   "metadata": {},
   "outputs": [],
   "source": [
    "df.loc[df['cp_int'] == 1, 'delta_bs'].hist(bins=50)"
   ]
  },
  {
   "cell_type": "code",
   "execution_count": null,
   "metadata": {},
   "outputs": [],
   "source": [
    "plt.hist(norm.ppf(df.loc[df['cp_int'] == 1, 'delta_bs'] + 1), bins=50);"
   ]
  },
  {
   "cell_type": "code",
   "execution_count": null,
   "metadata": {},
   "outputs": [],
   "source": [
    "plt.hist(df['M0'], bins=50);\n",
    "plt.xlabel('Moneyness')\n",
    "plt.yscale('log')\n",
    "plt.title('S&P 500')\n",
    "plt.ylim((1e3, 3e5))\n",
    "plt.yticks((1e3, 1e4, 1e5), (1000, 10000, 100000))"
   ]
  },
  {
   "cell_type": "code",
   "execution_count": null,
   "metadata": {},
   "outputs": [],
   "source": [
    "plt.hist(df['tau0'], bins=50);\n",
    "plt.xlabel('Time-to-maturity')\n",
    "plt.yscale('log')\n",
    "plt.title('S&P 500')\n",
    "plt.ylim((1e2, 1e6))\n",
    "plt.yticks((1e2, 1e3, 1e4, 1e5,  1e6), (100, 1000, 10000, 100000, 1000000))\n",
    "plt.xlim((0., 3.2))"
   ]
  },
  {
   "cell_type": "code",
   "execution_count": null,
   "metadata": {},
   "outputs": [],
   "source": [
    "max_period = max([int(s[6:]) for s in df.columns if 'period' in s])"
   ]
  },
  {
   "cell_type": "code",
   "execution_count": null,
   "metadata": {},
   "outputs": [],
   "source": [
    "nums_call_train, nums_put_train = [], []\n",
    "nums_call_test, nums_put_test = [], []\n",
    "\n",
    "for i in range(max_period + 1):\n",
    "    nums_call_train.append((((df[f'period{i}'] == 0) | (df[f'period{i}'] == 1)) & (df['cp_int'] == 0)).sum())\n",
    "    nums_put_train.append((((df[f'period{i}'] == 0) | (df[f'period{i}'] == 1)) & (df['cp_int'] == 1)).sum())\n",
    "    nums_call_test.append(((df[f'period{i}'] == 2) & (df['cp_int'] == 0)).sum())\n",
    "    nums_put_test.append(((df[f'period{i}'] == 2) & (df['cp_int'] == 1)).sum())"
   ]
  },
  {
   "cell_type": "code",
   "execution_count": null,
   "metadata": {},
   "outputs": [],
   "source": [
    "ind = np.arange(1, max_period+2)\n",
    "width = 0.3\n",
    "p1 = plt.bar(ind, nums_call_train, width=width)\n",
    "p2 = plt.bar(ind, nums_put_train, bottom=nums_call_train, width=width)\n",
    "p3 = plt.bar(ind+width, nums_call_test, width=width)\n",
    "p4 = plt.bar(ind+width, nums_put_test, bottom=nums_call_test, width=width)\n",
    "plt.legend((p1[0], p2[0], p3[0], p4[0]), \n",
    "           ('In-sample call', 'In-sample put', 'Out-of-sample call', 'Out-of-sample put'), \n",
    "           frameon=False)\n",
    "plt.ylabel('# Samples')\n",
    "plt.xlabel('Time window')\n",
    "plt.title('S&P 500')"
   ]
  },
  {
   "cell_type": "code",
   "execution_count": null,
   "metadata": {},
   "outputs": [],
   "source": [
    "num_train = pd.Series([x + y for x, y in zip(nums_call_train, nums_put_train)])\n",
    "num_test = pd.Series([x + y for x, y in zip(nums_call_test, nums_put_test)])"
   ]
  },
  {
   "cell_type": "code",
   "execution_count": null,
   "metadata": {},
   "outputs": [],
   "source": [
    "max_period=13\n",
    "if FREQ == '1D':\n",
    "    num_d = 1\n",
    "    annual_cof = 252 / num_d\n",
    "if FREQ == '2D':\n",
    "    num_d = 2\n",
    "    annual_cof = 252 / num_d"
   ]
  },
  {
   "cell_type": "code",
   "execution_count": null,
   "metadata": {},
   "outputs": [],
   "source": [
    "[df_vol_train, df_vol_test, df_return_train, df_return_test] = [pd.Series(index=range(max_period + 1)) for _ in range(4)]\n",
    "for i in range(max_period + 1):\n",
    "    df_train = df.loc[(df[f'period{i}'] == 0) | (df[f'period{i}'] == 1)]\n",
    "    df_test = df.loc[df[f'period{i}'] == 2]\n",
    "    df_train = df_train[['S0', 'S1', 'date']].set_index('date')\n",
    "    df_test = df_test[['S0', 'S1', 'date']].set_index('date')\n",
    "    \n",
    "    for df_tmp, (df_vol_tmp, df_return_tmp) in zip([df_train, df_test], \n",
    "                                                   [(df_vol_train, df_return_train), (df_vol_test, df_return_test)]):\n",
    "        window_return = np.log(df_tmp['S1'] / df_tmp['S0']).resample(FREQ).mean()\n",
    "        window_return.dropna(inplace=True)\n",
    "        df_vol_tmp.loc[i] = window_return.std() * np.sqrt(annual_cof)\n",
    "        df_return_tmp.loc[i] = (window_return.mean()  * annual_cof)\n",
    "\n",
    "plt.errorbar(df_vol_train.index + 1 - 0.1, df_return_train, yerr=df_vol_train, fmt='o', label='In-sample')\n",
    "plt.errorbar(df_vol_test.index + 1 + 0.1, df_return_test, yerr=df_vol_test, fmt='o', label='Out-of-sample')\n",
    "plt.legend(frameon=False)\n",
    "plt.ylabel('Annualized return of S&P 500')\n",
    "plt.xlabel('Time window')\n",
    "plt.title('1 day')\n",
    "plt.ylim((-0.3, 0.5))\n",
    "plt.xticks(df_vol_train.index+1)"
   ]
  },
  {
   "cell_type": "code",
   "execution_count": null,
   "metadata": {},
   "outputs": [],
   "source": [
    "max_period = 13\n",
    "mat = [\n",
    "    (0., 1/12.,  'Small'), (1/12., 1/2., 'Middle'), (1/2., 2.,  'Large'),\n",
    "     ]\n",
    "vega_mean = pd.DataFrame(index=range(max_period))\n",
    "\n",
    "for i in range(max_period + 1):\n",
    "    df_train = df.loc[(df[f'period{i}'] == 0) | (df[f'period{i}'] == 1) | (df[f'period{i}'] == 2)]\n",
    "    for mat_low, mat_high, n1 in mat:\n",
    "        bl2 = df_train['tau0'] >= mat_low\n",
    "        bl3 = df_train['tau0'] < mat_high\n",
    "        bl =  bl2 & bl3\n",
    "        \n",
    "        vega_mean.loc[i, f'{n1}'] = df_train.loc[bl, 'vega_n'].mean()"
   ]
  },
  {
   "cell_type": "code",
   "execution_count": null,
   "metadata": {},
   "outputs": [],
   "source": [
    "for x in vega_mean:\n",
    "    plt.plot(vega_mean.index+1, vega_mean[x], label=x, marker='o', linewidth=0)\n",
    "plt.legend()\n",
    "plt.xlabel('Time window')\n",
    "plt.ylabel('Average Vega')"
   ]
  },
  {
   "cell_type": "code",
   "execution_count": null,
   "metadata": {},
   "outputs": [],
   "source": [
    "max_period = 13\n",
    "mat = [(0, 0., 1/12., 'Call', 'short'), (0, 1/12., 1/2., 'Call', 'middle'), (0, 1/2., 2., 'Call', 'long'),\n",
    "      (1, 0., 1/12., 'Put', 'short'), (1, 1/12., 1/2., 'Put', 'middle'), (1, 1/2., 2., 'Put', 'long')]\n",
    "\n",
    "leve = pd.DataFrame(index=range(max_period))\n",
    "\n",
    "for i in range(max_period + 1):\n",
    "    df_train = df.loc[(df[f'period{i}'] == 0) | (df[f'period{i}'] == 1)]\n",
    "    for c, mat_low, mat_high, n1, n2 in mat:\n",
    "        bl1 = df_train['cp_int'] == c\n",
    "        bl2 = df_train['tau0'] >= mat_low\n",
    "        bl3 = df_train['tau0'] < mat_high\n",
    "        bl = bl1 & bl2 & bl3\n",
    "        \n",
    "        leve.loc[i, f'{n1} ({n2})'] = raux.fit_leverage(df_train.loc[bl])"
   ]
  },
  {
   "cell_type": "code",
   "execution_count": null,
   "metadata": {},
   "outputs": [],
   "source": [
    "cat = ['Put (long)', 'Call (long)', 'Put (middle)','Call (middle)', 'Put (short)' , 'Call (short)']"
   ]
  },
  {
   "cell_type": "code",
   "execution_count": null,
   "metadata": {},
   "outputs": [],
   "source": [
    "fig= plt.figure()\n",
    "for x in cat:\n",
    "    plt.plot(leve.index+1, leve[x], marker='o', label=x, linewidth=0)\n",
    "plt.legend()\n",
    "plt.ylim((-0.5, 0.5))\n",
    "plt.legend(bbox_to_anchor=(0,-.35,1,0.2), loc=\"lower left\",\n",
    "                mode=\"expand\", borderaxespad=0, ncol=3)\n",
    "plt.xlabel('Time window')\n",
    "plt.ylabel('Leverage coefficient')\n",
    "plt.title('S&P 500')"
   ]
  },
  {
   "cell_type": "code",
   "execution_count": null,
   "metadata": {},
   "outputs": [],
   "source": []
  },
  {
   "cell_type": "code",
   "execution_count": null,
   "metadata": {},
   "outputs": [],
   "source": [
    "max_period = 13\n",
    "mat = [(0, 0., 2., 'Call', 'short'), \n",
    "      (1, 0., 2., 'Put', 'short')]\n",
    "\n",
    "leve = pd.DataFrame(index=range(max_period))\n",
    "\n",
    "for i in range(max_period + 1):\n",
    "    df_train = df.loc[(df[f'period{i}'] == 0) | (df[f'period{i}'] == 1)]\n",
    "    for c, mat_low, mat_high, n1, n2 in mat:\n",
    "        bl1 = df_train['cp_int'] == c\n",
    "        bl2 = df_train['tau0'] >= mat_low\n",
    "        bl3 = df_train['tau0'] < mat_high\n",
    "        bl = bl1 & bl2 & bl3\n",
    "        \n",
    "        leve.loc[i, f'{n1} ({n2})'] = raux.fit_leverage(df_train.loc[bl])\n",
    "\n",
    "cat = ['Call (short)',  'Put (short)']\n",
    "\n",
    "fig= plt.figure()\n",
    "for x in cat:\n",
    "    plt.plot(leve.index+1, leve[x], marker='o', label=x, linewidth=0)\n",
    "plt.legend()\n",
    "plt.ylim((-0.5, 0.5))\n",
    "plt.legend(bbox_to_anchor=(0,-.35,1,0.2), loc=\"lower left\",\n",
    "                mode=\"expand\", borderaxespad=0, ncol=3)\n",
    "plt.xlabel('Time window')\n",
    "plt.ylabel('Leverage coefficient')\n",
    "plt.title('S&P 500')"
   ]
  },
  {
   "cell_type": "code",
   "execution_count": null,
   "metadata": {},
   "outputs": [],
   "source": []
  },
  {
   "cell_type": "code",
   "execution_count": null,
   "metadata": {},
   "outputs": [],
   "source": []
  }
 ],
 "metadata": {
  "kernelspec": {
   "display_name": "Python 3",
   "language": "python",
   "name": "python3"
  },
  "language_info": {
   "codemirror_mode": {
    "name": "ipython",
    "version": 3
   },
   "file_extension": ".py",
   "mimetype": "text/x-python",
   "name": "python",
   "nbconvert_exporter": "python",
   "pygments_lexer": "ipython3",
   "version": "3.6.8"
  },
  "toc": {
   "base_numbering": 1,
   "nav_menu": {},
   "number_sections": true,
   "sideBar": true,
   "skip_h1_title": false,
   "title_cell": "Table of Contents",
   "title_sidebar": "Contents",
   "toc_cell": false,
   "toc_position": {},
   "toc_section_display": true,
   "toc_window_display": false
  }
 },
 "nbformat": 4,
 "nbformat_minor": 2
}
