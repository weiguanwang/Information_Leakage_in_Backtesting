{
 "cells": [
  {
   "cell_type": "code",
   "execution_count": 1,
   "metadata": {},
   "outputs": [],
   "source": [
    "import sys\n",
    "import os\n",
    "# Append the library path to PYTHONPATH, so library can be imported.\n",
    "sys.path.append(os.path.dirname(os.getcwd()))\n",
    "import itertools\n",
    "import datetime\n",
    "\n",
    "import numpy as np\n",
    "import pandas as pd\n",
    "\n",
    "from library import common as cm"
   ]
  },
  {
   "cell_type": "code",
   "execution_count": 2,
   "metadata": {},
   "outputs": [],
   "source": [
    "%run setup.py\n",
    "%load_ext autoreload\n",
    "%autoreload 2"
   ]
  },
  {
   "cell_type": "code",
   "execution_count": 3,
   "metadata": {},
   "outputs": [],
   "source": [
    "# Cols are different data sets, rows are different experiments.\n",
    "cols = ['FREQ=1D_HALFMONEY=otm_MINM=0.8_MAXM=1.5_MINTAU=0_Permute=False_VIX=False_MISSING=replace_missing_WINDOW=570D_KickTmrZeroVolume=False',\n",
    "        'FREQ=2D_HALFMONEY=otm_MINM=0.8_MAXM=1.5_MINTAU=0_Permute=False_VIX=False_MISSING=replace_missing_WINDOW=570D_KickTmrZeroVolume=False',\n",
    "       ]\n",
    "rows = [#'Regression/No_Hedge', \n",
    "        'Regression/BS_Benchmark', \n",
    "        #'Regression/Fixed_Constants',\n",
    "        #'Regression/Delta_only', 'Regression/Vega_only', 'Regression/Gamma_only','Regression/Vanna_only',  \n",
    "        #'Regression/Bias',\n",
    "        #'Regression/Delta_Gamma', 'Regression/Delta_Vega',   'Regression/Delta_Vanna',\n",
    "        #'Regression/Delta_Vega_Gamma', 'Regression/Delta_Vega_Vanna', 'Regression/Delta_Gamma_Vanna',   \n",
    "        #'Regression/Delta_Vega_Gamma_Va', \n",
    "        #'Regression/Hull_White', 'Regression/Hull_White_relaxed',\n",
    "        #'Network/Normal_Feature', 'Network/Delta_Vega', \n",
    "        #'Network/Delta_Vega_Vanna',\n",
    "        #'Network/Normal_Feature_CDF', 'Network/Delta_Vega_CDF',\n",
    "        'Network/Delta_Vega_Vanna_CDF',\n",
    "        #'Network/Spot_Strike', 'Network/Spot_Strike_2'\n",
    "]"
   ]
  },
  {
   "cell_type": "code",
   "execution_count": 4,
   "metadata": {},
   "outputs": [],
   "source": [
    "def run_save_tables(dirs, agg, measure, op_type):\n",
    "    inspector = cm.Inspector()\n",
    "    df_res = inspector.evalPnls(df_dirs, aggregating=aggregating, measure=measure, op_type=op_type)\n",
    "    if op_type == None:\n",
    "        file = f'{DATA_DIR}Result/call_and_put_{measure}.csv'\n",
    "    else:\n",
    "        file = f'{DATA_DIR}Result/{op_type}_{measure}.csv'\n",
    "#     with open(file, 'w+') as f:\n",
    "#         f.write(f'{datetime.datetime.now()}\\n{op_type}_{measure}\\n')\n",
    "    #(df_res).to_csv(file, mode='a') \n",
    "    return df_res"
   ]
  },
  {
   "cell_type": "code",
   "execution_count": 5,
   "metadata": {},
   "outputs": [],
   "source": [
    "df_dirs = pd.DataFrame(columns=cols, index=rows)\n",
    "for x, y in list(itertools.product(rows, cols)):\n",
    "    df_dirs.loc[x, y] = f'{DATA_DIR}Result/{y}/{x}/'"
   ]
  },
  {
   "cell_type": "code",
   "execution_count": null,
   "metadata": {},
   "outputs": [],
   "source": []
  },
  {
   "cell_type": "code",
   "execution_count": 6,
   "metadata": {},
   "outputs": [],
   "source": [
    "aggregating = 'mean'\n",
    "measure = 'mse'"
   ]
  },
  {
   "cell_type": "code",
   "execution_count": 7,
   "metadata": {},
   "outputs": [
    {
     "data": {
      "text/html": [
       "<div>\n",
       "<style scoped>\n",
       "    .dataframe tbody tr th:only-of-type {\n",
       "        vertical-align: middle;\n",
       "    }\n",
       "\n",
       "    .dataframe tbody tr th {\n",
       "        vertical-align: top;\n",
       "    }\n",
       "\n",
       "    .dataframe thead tr th {\n",
       "        text-align: left;\n",
       "    }\n",
       "</style>\n",
       "<table border=\"1\" class=\"dataframe\">\n",
       "  <thead>\n",
       "    <tr>\n",
       "      <th>setup</th>\n",
       "      <th colspan=\"2\" halign=\"left\">FREQ=1D_HALFMONEY=otm_MINM=0.8_MAXM=1.5_MINTAU=0_Permute=False_VIX=False_MISSING=replace_missing_WINDOW=570D_KickTmrZeroVolume=False</th>\n",
       "      <th colspan=\"2\" halign=\"left\">FREQ=2D_HALFMONEY=otm_MINM=0.8_MAXM=1.5_MINTAU=0_Permute=False_VIX=False_MISSING=replace_missing_WINDOW=570D_KickTmrZeroVolume=False</th>\n",
       "    </tr>\n",
       "    <tr>\n",
       "      <th>value</th>\n",
       "      <th>Absolute</th>\n",
       "      <th>%Change</th>\n",
       "      <th>Absolute</th>\n",
       "      <th>%Change</th>\n",
       "    </tr>\n",
       "  </thead>\n",
       "  <tbody>\n",
       "    <tr>\n",
       "      <th>Regression/BS_Benchmark</th>\n",
       "      <td>1.102</td>\n",
       "      <td>0.00</td>\n",
       "      <td>2.365</td>\n",
       "      <td>0.00</td>\n",
       "    </tr>\n",
       "    <tr>\n",
       "      <th>Network/Delta_Vega_Vanna</th>\n",
       "      <td>0.870</td>\n",
       "      <td>-21.08</td>\n",
       "      <td>1.993</td>\n",
       "      <td>-15.73</td>\n",
       "    </tr>\n",
       "  </tbody>\n",
       "</table>\n",
       "</div>"
      ],
      "text/plain": [
       "setup                    FREQ=1D_HALFMONEY=otm_MINM=0.8_MAXM=1.5_MINTAU=0_Permute=False_VIX=False_MISSING=replace_missing_WINDOW=570D_KickTmrZeroVolume=False  \\\n",
       "value                                                                                                                                                Absolute   \n",
       "Regression/BS_Benchmark                                               1.102                                                                                     \n",
       "Network/Delta_Vega_Vanna                                              0.870                                                                                     \n",
       "\n",
       "setup                             \\\n",
       "value                    %Change   \n",
       "Regression/BS_Benchmark     0.00   \n",
       "Network/Delta_Vega_Vanna  -21.08   \n",
       "\n",
       "setup                    FREQ=2D_HALFMONEY=otm_MINM=0.8_MAXM=1.5_MINTAU=0_Permute=False_VIX=False_MISSING=replace_missing_WINDOW=570D_KickTmrZeroVolume=False  \\\n",
       "value                                                                                                                                                Absolute   \n",
       "Regression/BS_Benchmark                                               2.365                                                                                     \n",
       "Network/Delta_Vega_Vanna                                              1.993                                                                                     \n",
       "\n",
       "setup                             \n",
       "value                    %Change  \n",
       "Regression/BS_Benchmark     0.00  \n",
       "Network/Delta_Vega_Vanna  -15.73  "
      ]
     },
     "execution_count": 7,
     "metadata": {},
     "output_type": "execute_result"
    }
   ],
   "source": [
    "run_save_tables(df_dirs, agg=aggregating, measure=measure, op_type=None)"
   ]
  },
  {
   "cell_type": "code",
   "execution_count": 8,
   "metadata": {},
   "outputs": [
    {
     "data": {
      "text/html": [
       "<div>\n",
       "<style scoped>\n",
       "    .dataframe tbody tr th:only-of-type {\n",
       "        vertical-align: middle;\n",
       "    }\n",
       "\n",
       "    .dataframe tbody tr th {\n",
       "        vertical-align: top;\n",
       "    }\n",
       "\n",
       "    .dataframe thead tr th {\n",
       "        text-align: left;\n",
       "    }\n",
       "</style>\n",
       "<table border=\"1\" class=\"dataframe\">\n",
       "  <thead>\n",
       "    <tr>\n",
       "      <th>setup</th>\n",
       "      <th colspan=\"2\" halign=\"left\">FREQ=1D_HALFMONEY=otm_MINM=0.8_MAXM=1.5_MINTAU=0_Permute=False_VIX=False_MISSING=replace_missing_WINDOW=570D_KickTmrZeroVolume=False</th>\n",
       "      <th colspan=\"2\" halign=\"left\">FREQ=2D_HALFMONEY=otm_MINM=0.8_MAXM=1.5_MINTAU=0_Permute=False_VIX=False_MISSING=replace_missing_WINDOW=570D_KickTmrZeroVolume=False</th>\n",
       "    </tr>\n",
       "    <tr>\n",
       "      <th>value</th>\n",
       "      <th>Absolute</th>\n",
       "      <th>%Change</th>\n",
       "      <th>Absolute</th>\n",
       "      <th>%Change</th>\n",
       "    </tr>\n",
       "  </thead>\n",
       "  <tbody>\n",
       "    <tr>\n",
       "      <th>Regression/BS_Benchmark</th>\n",
       "      <td>1.097</td>\n",
       "      <td>0.00</td>\n",
       "      <td>2.374</td>\n",
       "      <td>0.0</td>\n",
       "    </tr>\n",
       "    <tr>\n",
       "      <th>Network/Delta_Vega_Vanna</th>\n",
       "      <td>0.847</td>\n",
       "      <td>-22.75</td>\n",
       "      <td>1.982</td>\n",
       "      <td>-16.5</td>\n",
       "    </tr>\n",
       "  </tbody>\n",
       "</table>\n",
       "</div>"
      ],
      "text/plain": [
       "setup                    FREQ=1D_HALFMONEY=otm_MINM=0.8_MAXM=1.5_MINTAU=0_Permute=False_VIX=False_MISSING=replace_missing_WINDOW=570D_KickTmrZeroVolume=False  \\\n",
       "value                                                                                                                                                Absolute   \n",
       "Regression/BS_Benchmark                                               1.097                                                                                     \n",
       "Network/Delta_Vega_Vanna                                              0.847                                                                                     \n",
       "\n",
       "setup                             \\\n",
       "value                    %Change   \n",
       "Regression/BS_Benchmark     0.00   \n",
       "Network/Delta_Vega_Vanna  -22.75   \n",
       "\n",
       "setup                    FREQ=2D_HALFMONEY=otm_MINM=0.8_MAXM=1.5_MINTAU=0_Permute=False_VIX=False_MISSING=replace_missing_WINDOW=570D_KickTmrZeroVolume=False  \\\n",
       "value                                                                                                                                                Absolute   \n",
       "Regression/BS_Benchmark                                               2.374                                                                                     \n",
       "Network/Delta_Vega_Vanna                                              1.982                                                                                     \n",
       "\n",
       "setup                             \n",
       "value                    %Change  \n",
       "Regression/BS_Benchmark      0.0  \n",
       "Network/Delta_Vega_Vanna   -16.5  "
      ]
     },
     "execution_count": 8,
     "metadata": {},
     "output_type": "execute_result"
    }
   ],
   "source": [
    "run_save_tables(df_dirs, agg=aggregating, measure=measure, op_type='call')"
   ]
  },
  {
   "cell_type": "code",
   "execution_count": 9,
   "metadata": {},
   "outputs": [
    {
     "data": {
      "text/html": [
       "<div>\n",
       "<style scoped>\n",
       "    .dataframe tbody tr th:only-of-type {\n",
       "        vertical-align: middle;\n",
       "    }\n",
       "\n",
       "    .dataframe tbody tr th {\n",
       "        vertical-align: top;\n",
       "    }\n",
       "\n",
       "    .dataframe thead tr th {\n",
       "        text-align: left;\n",
       "    }\n",
       "</style>\n",
       "<table border=\"1\" class=\"dataframe\">\n",
       "  <thead>\n",
       "    <tr>\n",
       "      <th>setup</th>\n",
       "      <th colspan=\"2\" halign=\"left\">FREQ=1D_HALFMONEY=otm_MINM=0.8_MAXM=1.5_MINTAU=0_Permute=False_VIX=False_MISSING=replace_missing_WINDOW=570D_KickTmrZeroVolume=False</th>\n",
       "      <th colspan=\"2\" halign=\"left\">FREQ=2D_HALFMONEY=otm_MINM=0.8_MAXM=1.5_MINTAU=0_Permute=False_VIX=False_MISSING=replace_missing_WINDOW=570D_KickTmrZeroVolume=False</th>\n",
       "    </tr>\n",
       "    <tr>\n",
       "      <th>value</th>\n",
       "      <th>Absolute</th>\n",
       "      <th>%Change</th>\n",
       "      <th>Absolute</th>\n",
       "      <th>%Change</th>\n",
       "    </tr>\n",
       "  </thead>\n",
       "  <tbody>\n",
       "    <tr>\n",
       "      <th>Regression/BS_Benchmark</th>\n",
       "      <td>1.105</td>\n",
       "      <td>0.00</td>\n",
       "      <td>2.361</td>\n",
       "      <td>0.00</td>\n",
       "    </tr>\n",
       "    <tr>\n",
       "      <th>Network/Delta_Vega_Vanna</th>\n",
       "      <td>0.880</td>\n",
       "      <td>-20.32</td>\n",
       "      <td>1.998</td>\n",
       "      <td>-15.37</td>\n",
       "    </tr>\n",
       "  </tbody>\n",
       "</table>\n",
       "</div>"
      ],
      "text/plain": [
       "setup                    FREQ=1D_HALFMONEY=otm_MINM=0.8_MAXM=1.5_MINTAU=0_Permute=False_VIX=False_MISSING=replace_missing_WINDOW=570D_KickTmrZeroVolume=False  \\\n",
       "value                                                                                                                                                Absolute   \n",
       "Regression/BS_Benchmark                                               1.105                                                                                     \n",
       "Network/Delta_Vega_Vanna                                              0.880                                                                                     \n",
       "\n",
       "setup                             \\\n",
       "value                    %Change   \n",
       "Regression/BS_Benchmark     0.00   \n",
       "Network/Delta_Vega_Vanna  -20.32   \n",
       "\n",
       "setup                    FREQ=2D_HALFMONEY=otm_MINM=0.8_MAXM=1.5_MINTAU=0_Permute=False_VIX=False_MISSING=replace_missing_WINDOW=570D_KickTmrZeroVolume=False  \\\n",
       "value                                                                                                                                                Absolute   \n",
       "Regression/BS_Benchmark                                               2.361                                                                                     \n",
       "Network/Delta_Vega_Vanna                                              1.998                                                                                     \n",
       "\n",
       "setup                             \n",
       "value                    %Change  \n",
       "Regression/BS_Benchmark     0.00  \n",
       "Network/Delta_Vega_Vanna  -15.37  "
      ]
     },
     "execution_count": 9,
     "metadata": {},
     "output_type": "execute_result"
    }
   ],
   "source": [
    "run_save_tables(df_dirs, agg=aggregating, measure=measure, op_type='put')"
   ]
  },
  {
   "cell_type": "raw",
   "metadata": {},
   "source": [
    "aggregating = 'mean'\n",
    "measure = 'median'\n",
    "\n",
    "run_save_tables(df_dirs, agg=aggregating, measure=measure, op_type=None)\n",
    "\n",
    "run_save_tables(df_dirs, agg=aggregating, measure=measure, op_type='call')\n",
    "\n",
    "run_save_tables(df_dirs, agg=aggregating, measure=measure, op_type='put')"
   ]
  },
  {
   "cell_type": "code",
   "execution_count": null,
   "metadata": {},
   "outputs": [],
   "source": [
    "aggregating = 'mean'\n",
    "measure = 'lower5%VaR'"
   ]
  },
  {
   "cell_type": "code",
   "execution_count": null,
   "metadata": {},
   "outputs": [],
   "source": [
    "run_save_tables(df_dirs, agg=aggregating, measure=measure, op_type=None)"
   ]
  },
  {
   "cell_type": "code",
   "execution_count": null,
   "metadata": {},
   "outputs": [],
   "source": [
    "run_save_tables(df_dirs, agg=aggregating, measure=measure, op_type='call')"
   ]
  },
  {
   "cell_type": "code",
   "execution_count": null,
   "metadata": {},
   "outputs": [],
   "source": [
    "run_save_tables(df_dirs, agg=aggregating, measure=measure, op_type='put')"
   ]
  },
  {
   "cell_type": "code",
   "execution_count": null,
   "metadata": {},
   "outputs": [],
   "source": [
    "aggregating = 'mean'\n",
    "measure = 'upper95%VaR'"
   ]
  },
  {
   "cell_type": "code",
   "execution_count": null,
   "metadata": {},
   "outputs": [],
   "source": [
    "run_save_tables(df_dirs, agg=aggregating, measure=measure, op_type=None)"
   ]
  },
  {
   "cell_type": "code",
   "execution_count": null,
   "metadata": {},
   "outputs": [],
   "source": [
    "run_save_tables(df_dirs, agg=aggregating, measure=measure, op_type='call')"
   ]
  },
  {
   "cell_type": "code",
   "execution_count": null,
   "metadata": {},
   "outputs": [],
   "source": [
    "run_save_tables(df_dirs, agg=aggregating, measure=measure, op_type='put')"
   ]
  },
  {
   "cell_type": "code",
   "execution_count": null,
   "metadata": {},
   "outputs": [],
   "source": []
  },
  {
   "cell_type": "code",
   "execution_count": null,
   "metadata": {},
   "outputs": [],
   "source": [
    "aggregating = 'mean'\n",
    "measure = 'mean'"
   ]
  },
  {
   "cell_type": "code",
   "execution_count": null,
   "metadata": {},
   "outputs": [],
   "source": [
    "run_save_tables(df_dirs, agg=aggregating, measure=measure, op_type=None)"
   ]
  },
  {
   "cell_type": "code",
   "execution_count": null,
   "metadata": {},
   "outputs": [],
   "source": [
    "run_save_tables(df_dirs, agg=aggregating, measure=measure, op_type='call')"
   ]
  },
  {
   "cell_type": "code",
   "execution_count": null,
   "metadata": {},
   "outputs": [],
   "source": [
    "run_save_tables(df_dirs, agg=aggregating, measure=measure, op_type='put')"
   ]
  }
 ],
 "metadata": {
  "kernelspec": {
   "display_name": "Python 3",
   "language": "python",
   "name": "python3"
  },
  "language_info": {
   "codemirror_mode": {
    "name": "ipython",
    "version": 3
   },
   "file_extension": ".py",
   "mimetype": "text/x-python",
   "name": "python",
   "nbconvert_exporter": "python",
   "pygments_lexer": "ipython3",
   "version": "3.6.8"
  },
  "toc": {
   "base_numbering": 1,
   "nav_menu": {},
   "number_sections": true,
   "sideBar": true,
   "skip_h1_title": false,
   "title_cell": "Table of Contents",
   "title_sidebar": "Contents",
   "toc_cell": false,
   "toc_position": {
    "height": "calc(100% - 180px)",
    "left": "10px",
    "top": "150px",
    "width": "371px"
   },
   "toc_section_display": true,
   "toc_window_display": false
  }
 },
 "nbformat": 4,
 "nbformat_minor": 2
}
