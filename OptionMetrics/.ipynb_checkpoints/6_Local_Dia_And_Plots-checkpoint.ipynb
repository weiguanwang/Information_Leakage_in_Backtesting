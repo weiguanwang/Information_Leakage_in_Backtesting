{
 "cells": [
  {
   "cell_type": "code",
   "execution_count": null,
   "metadata": {},
   "outputs": [],
   "source": [
    "import sys\n",
    "import os\n",
    "# Append the library path to PYTHONPATH, so library can be imported.\n",
    "sys.path.append(os.path.dirname(os.getcwd()))\n",
    "import datetime\n",
    "import itertools\n",
    "\n",
    "import numpy as np\n",
    "import pandas as pd\n",
    "import seaborn as sns\n",
    "import matplotlib.pyplot as plt\n",
    "from scipy import stats\n",
    "from library import common as cm\n",
    "from library import plot"
   ]
  },
  {
   "cell_type": "code",
   "execution_count": null,
   "metadata": {},
   "outputs": [],
   "source": [
    "%run setup.py\n",
    "%matplotlib inline\n",
    "%load_ext autoreload\n",
    "%autoreload 2\n",
    "\n",
    "sns.set(style='darkgrid')"
   ]
  },
  {
   "cell_type": "code",
   "execution_count": null,
   "metadata": {},
   "outputs": [],
   "source": [
    "print(f'Load PNL from:\\n{res_dir}')"
   ]
  },
  {
   "cell_type": "code",
   "execution_count": null,
   "metadata": {},
   "outputs": [],
   "source": [
    "dirs_dict = {\n",
    "    'no hedge': f'{res_dir}Regression/No_Hedge/',\n",
    "    'BS': f'{res_dir}Regression/BS_Benchmark/',\n",
    "    'fixed_const': f'{res_dir}Regression/Fixed_Constants/',\n",
    "    'Delta_only': f'{res_dir}Regression/Delta_only/',\n",
    "    'Vega_only': f'{res_dir}Regression/Vega_only/',\n",
    "    'Gamma_only': f'{res_dir}Regression/Gamma_only/',\n",
    "    'Vanna_only': f'{res_dir}Regression/Vanna_only/',\n",
    "    #'Bias': f'{res_dir}Regression/Bias/',\n",
    "    'Delta_Gamma': f'{res_dir}Regression/Delta_Gamma/',\n",
    "    'Delta_Vega': f'{res_dir}Regression/Delta_Vega/',\n",
    "    'Delta_Vanna': f'{res_dir}Regression/Delta_Vanna/',\n",
    "    'Delta_Vega_Gamma': f'{res_dir}Regression/Delta_Vega_Gamma/',\n",
    "    'Delta_Vega_Vanna': f'{res_dir}Regression/Delta_Vega_Vanna/',\n",
    "    'Delta_Gamma_Vanna': f'{res_dir}Regression/Delta_Gamma_Vanna/',\n",
    "    'Delta_Vega_Gamma_Vanna': f'{res_dir}Regression/Delta_Vega_Gamma_Va/',\n",
    "    'Hull_White': f'{res_dir}Regression/Hull_White/',\n",
    "    'Relaxed Hull_White': f'{res_dir}Regression/Hull_White_relaxed/',\n",
    "    'Network/Normal_Feature': f'{res_dir}Network/Normal_Feature/',\n",
    "    'Network/Delta_Vega': f'{res_dir}Network/Delta_Vega/',\n",
    "    #'Network/Delta_Vega_Vanna': f'{res_dir}Network/Delta_Vega_Vanna/',\n",
    "}"
   ]
  },
  {
   "cell_type": "code",
   "execution_count": null,
   "metadata": {
    "scrolled": true
   },
   "outputs": [],
   "source": [
    "painter = plot.Painter(dirs_dict)\n",
    "painter.load_real_pnl()"
   ]
  },
  {
   "cell_type": "code",
   "execution_count": null,
   "metadata": {
    "scrolled": true
   },
   "outputs": [],
   "source": [
    "%run Load_Clean_aux.py"
   ]
  },
  {
   "cell_type": "markdown",
   "metadata": {},
   "source": [
    "#### Plot confidence interval"
   ]
  },
  {
   "cell_type": "code",
   "execution_count": null,
   "metadata": {},
   "outputs": [],
   "source": [
    "painter.plot_coef_err('Delta_only', {'Call': '0', 'Put': '1'}, 'delta_bs')\n",
    "plt.title('Delta')\n",
    "plt.xlabel('Time window')\n",
    "plt.ylabel('Coefficient')"
   ]
  },
  {
   "cell_type": "code",
   "execution_count": null,
   "metadata": {},
   "outputs": [],
   "source": [
    "painter.plot_coef_err('Gamma_only', {'Call': '0', 'Put': '1'}, 'gamma_n')\n",
    "plt.title('Gamma')\n",
    "plt.xlabel('Time window')\n",
    "plt.ylabel('Coefficient')"
   ]
  },
  {
   "cell_type": "code",
   "execution_count": null,
   "metadata": {},
   "outputs": [],
   "source": [
    "painter.plot_coef_err('Vega_only', {'Call': '0', 'Put': '1'}, 'vega_n')\n",
    "plt.title('Vega')\n",
    "plt.xlabel('Time window')\n",
    "plt.ylabel('Coefficient')"
   ]
  },
  {
   "cell_type": "code",
   "execution_count": null,
   "metadata": {},
   "outputs": [],
   "source": [
    "painter.plot_coef_err('Vanna_only', {'Call': '0', 'Put': '1'}, 'vanna_n')\n",
    "plt.title('Vanna')\n",
    "plt.xlabel('Time window')\n",
    "plt.ylabel('Coefficient')"
   ]
  },
  {
   "cell_type": "code",
   "execution_count": null,
   "metadata": {},
   "outputs": [],
   "source": [
    "painter.plot_coef_err('Bias', {'Call': '0', 'Put': '1'}, 'bias')\n",
    "plt.title('Bias')\n",
    "plt.xlabel('Time window')\n",
    "plt.ylabel('Coefficient')"
   ]
  },
  {
   "cell_type": "code",
   "execution_count": null,
   "metadata": {
    "scrolled": false
   },
   "outputs": [],
   "source": [
    "painter.plot_coef_err('Delta_Vega_Vanna', {'Call': '0', 'Put': '1'}, 'delta_bs')\n",
    "plt.title('S&P 500 (1 day): Delta-Vega-Vanna regression')\n",
    "plt.xlabel('Time window')\n",
    "plt.ylabel('Delta coefficient')"
   ]
  },
  {
   "cell_type": "code",
   "execution_count": null,
   "metadata": {},
   "outputs": [],
   "source": [
    "painter.plot_coef_err('Delta_Vega_Vanna', {'Call': '0', 'Put': '1'}, 'vega_n')\n",
    "plt.title('S&P 500 (1 day): Delta-Vega-Vanna regression')\n",
    "plt.xlabel('Time window')\n",
    "plt.ylabel('Vega coefficient')"
   ]
  },
  {
   "cell_type": "code",
   "execution_count": null,
   "metadata": {},
   "outputs": [],
   "source": [
    "painter.plot_coef_err('Delta_Vega_Vanna', {'Call': '0', 'Put': '1'}, 'vanna_n')\n",
    "plt.title('S&P 500 (1 day): Delta-Vega-Vanna regression')\n",
    "plt.xlabel('Time window')\n",
    "plt.ylabel('Vanna coefficient')"
   ]
  },
  {
   "cell_type": "markdown",
   "metadata": {},
   "source": [
    "#### Compare period-by-period PNL for all approaches"
   ]
  },
  {
   "cell_type": "code",
   "execution_count": null,
   "metadata": {},
   "outputs": [],
   "source": [
    "kws = [\n",
    "    ('no hedge', 'Zero hedge', '>', -0.3, sns.color_palette()[4]), \n",
    "    ('BS', 'BS-Delta', 'o', -0.2, sns.color_palette()[0]), \n",
    "    ('Delta_Vega_Vanna', 'Delta-Vega-Vanna regression', 'x', -0.1, sns.color_palette()[1]), \n",
    "    ('Hull_White', 'Hull-White regression', 'v', 0.1, sns.color_palette()[2]), \n",
    "    ('Network/Delta_Vega', r'ANN $(\\Delta_{\\rm BS};\\, \\mathcal{V}_{\\rm BS};\\, \\tau)$', '^', 0.2, sns.color_palette()[3]),\n",
    "      ]"
   ]
  },
  {
   "cell_type": "code",
   "execution_count": null,
   "metadata": {},
   "outputs": [],
   "source": [
    "ins = cm.LocalInspector()\n",
    "ins.plug_existing(painter.pnl)\n",
    "\n",
    "err = ins.compare_period()\n",
    "length = err.shape[0]"
   ]
  },
  {
   "cell_type": "code",
   "execution_count": null,
   "metadata": {},
   "outputs": [],
   "source": [
    "for col in kws:\n",
    "    plt.plot(np.arange(1, length+1)+col[3], err[col[0]], marker=col[2], \n",
    "             linewidth=0, label=col[1], c=col[4])\n",
    "plt.legend(frameon=False)\n",
    "plt.yscale('log')\n",
    "plt.xlabel('Time window')\n",
    "plt.ylabel('Mean squared hedging error')\n",
    "plt.title('S&P 500 (1 day)')  # be careful!\n",
    "plt.ylim((5e-4, 1e0))"
   ]
  },
  {
   "cell_type": "code",
   "execution_count": null,
   "metadata": {},
   "outputs": [],
   "source": [
    "for col in kws[1:]:\n",
    "    plt.plot(np.arange(1, length+1)+col[3], (err[col[0]]) / err['no hedge'] * 100,\n",
    "             marker=col[2], linewidth=0, label=col[1], c=col[4])\n",
    "plt.legend(frameon=False)\n",
    "plt.xlabel('Time window')\n",
    "plt.ylabel('Ratio of MSHE to zero hedge MSHE')\n",
    "plt.title('S&P 500 (1 day)') # Careful!!\n",
    "plt.ylim([5., 30.])"
   ]
  },
  {
   "cell_type": "code",
   "execution_count": null,
   "metadata": {},
   "outputs": [],
   "source": [
    "fig_period, ax_period = plt.subplots()\n",
    "for col in kws[2:]:\n",
    "    plt.plot(np.arange(1, length+1)+col[3], (err['BS'] - err[col[0]]) / err['no hedge'] * 100,\n",
    "             marker=col[2], linewidth=0, label=col[1], c=col[4])\n",
    "plt.ylabel('Percentage')\n",
    "plt.xlabel('Time window')\n",
    "plt.legend(frameon=False)\n",
    "plt.title('2 days')\n",
    "plt.ylim((-5, 8))"
   ]
  },
  {
   "cell_type": "code",
   "execution_count": null,
   "metadata": {},
   "outputs": [],
   "source": [
    "\" For calls only \"\n",
    "err = ins.compare_period('call')\n",
    "length = err.shape[0]\n",
    "\n",
    "for col in kws:\n",
    "    plt.plot(np.arange(1, length+1)+col[3], err[col[0]], marker=col[2], linewidth=0, label=col[1])\n",
    "plt.legend(frameon=False)\n",
    "plt.xlabel('Time window')\n",
    "plt.ylabel('Mean squared PNL')"
   ]
  },
  {
   "cell_type": "code",
   "execution_count": null,
   "metadata": {},
   "outputs": [],
   "source": [
    "\" For puts only \"\n",
    "err = ins.compare_period('put')\n",
    "length = err.shape[0]\n",
    "\n",
    "for col in kws:\n",
    "    plt.plot(np.arange(1, length+1)+col[3], err[col[0]], marker=col[2], linewidth=0, label=col[1])\n",
    "plt.legend(frameon=False)\n",
    "plt.xlabel('Time window')\n",
    "plt.ylabel('Mean squared PNL')"
   ]
  },
  {
   "cell_type": "markdown",
   "metadata": {},
   "source": [
    "#### time-t MSHE\n",
    "$$MSHE_t = \\sum_j\\left(\\frac{100 V^\\delta_{t+1, j}}{S_t}\\right)^2 $$\n",
    "This the the MSHE for each day t."
   ]
  },
  {
   "cell_type": "code",
   "execution_count": null,
   "metadata": {},
   "outputs": [],
   "source": [
    "daily_mshe = pd.DataFrame()\n",
    "for key, value in dirs_dict.items():\n",
    "    temp = painter.pnl[key][['date', 'PNL']].groupby('date').agg([lambda x: np.mean(x**2)])\n",
    "    daily_mshe[key] = temp[('PNL', '<lambda>')]    "
   ]
  },
  {
   "cell_type": "code",
   "execution_count": null,
   "metadata": {},
   "outputs": [],
   "source": [
    "res_dir"
   ]
  },
  {
   "cell_type": "code",
   "execution_count": null,
   "metadata": {},
   "outputs": [],
   "source": [
    "plt.violinplot(daily_mshe.T, showmeans=False, showmedians=True);"
   ]
  },
  {
   "cell_type": "code",
   "execution_count": null,
   "metadata": {},
   "outputs": [],
   "source": [
    "plt.boxplot(daily_mshe.T);"
   ]
  },
  {
   "cell_type": "code",
   "execution_count": null,
   "metadata": {},
   "outputs": [],
   "source": []
  },
  {
   "cell_type": "code",
   "execution_count": null,
   "metadata": {},
   "outputs": [],
   "source": [
    "zscore_tables = {}\n",
    "temp = [1.]\n",
    "for x in temp:\n",
    "    zscore_tables[x] = pd.DataFrame()\n",
    "\n",
    "keys = list(dirs_dict.keys())\n",
    "for i in range(1, len(keys)):\n",
    "    for j in range(1, i):\n",
    "        for x in temp:\n",
    "            zscore_tables[x].loc[keys[i], keys[j]] = cm.get_zscore(daily_mshe, keys[i], keys[j], x)\n",
    "\n",
    "for key, value in zscore_tables.items():\n",
    "    value.to_csv(f'{res_dir}truncate_{key}.csv', float_format='%.2f')"
   ]
  },
  {
   "cell_type": "code",
   "execution_count": null,
   "metadata": {},
   "outputs": [],
   "source": [
    "\"\"\" Confidnece interval \"\"\"\n",
    "keys = list(dirs_dict.keys())\n",
    "\n",
    "zconf_tables = {}\n",
    "temp = [1.]\n",
    "for x in temp:\n",
    "    rows, cols = keys[1:], keys[1:]\n",
    "    sub_cols = ['Lower', 'Upper']\n",
    "    cols_indices = pd.MultiIndex.from_product([cols, sub_cols], names=['Type', 'Bounds'])\n",
    "    zconf_tables[x] = pd.DataFrame(index=rows, columns=cols_indices)\n",
    "    \n",
    "for i in range(1, len(keys)):\n",
    "    for j in range(1, i):\n",
    "        for x in temp:\n",
    "            zconf_tables[x].loc[keys[i], keys[j]] = cm.get_z_confidence(daily_mshe, keys[i], keys[j], x)\n",
    "            \n",
    "for key, value in zconf_tables.items():\n",
    "    file = f'{res_dir}zconf_truncate_{key}_{FREQ}.csv'\n",
    "    with open(file, 'w+') as f:\n",
    "        f.write(f'Multiplied by 1*10^5\\n')\n",
    "    (value * 1e5).astype('float').to_csv(f'{res_dir}zconf_truncate_{key}_{FREQ}.csv', float_format='%.2f', mode='a')"
   ]
  },
  {
   "cell_type": "code",
   "execution_count": null,
   "metadata": {},
   "outputs": [],
   "source": []
  },
  {
   "cell_type": "markdown",
   "metadata": {},
   "source": [
    "#### d1-d1 plot"
   ]
  },
  {
   "cell_type": "code",
   "execution_count": null,
   "metadata": {},
   "outputs": [],
   "source": [
    "\" d1 - d1\"\n",
    "groups = [(None, 0., 1/12., '0', '1 month'), (None, 1/12., 0.5, '1 month', '6 months'), \n",
    "          (None, 0.5, 5., '6 months', '5 years')]\n",
    "feature = 'tau0'\n",
    "# x1=['BS', 'Black-Scholes']\n",
    "x1 = ['Delta_Vega_Vanna', 'Delta-Vega-Vanna regression']\n",
    "x2=['Network/Delta_Vega', r'ANN $(\\Delta_{\\rm BS};\\, \\mathcal{V}_{\\rm BS};\\, \\tau)$']\n",
    "# x2=['Regression/Delta_Vega_Vanna', 'Delta-Vega-Vanna regression']\n",
    "periods = [0, 11]\n",
    "y = 'd1'\n",
    "\n",
    "\"\"\" abs(PNL1) minus abs(PNL2) if true, then true color \"\"\"\n",
    "fig, axes = plt.subplots(ncols=len(groups), nrows=len(periods), figsize=(16, 8),\n",
    "                        sharex=True, sharey=True)\n",
    "axes1 = axes\n",
    "axes = axes.flatten()\n",
    "for j, period_id in enumerate(periods):\n",
    "    axes1[j][0].set_ylabel(f'Time window {period_id+1}')\n",
    "    for i, g in enumerate(groups):\n",
    "        ax = axes[j*len(groups) + i]\n",
    "        if g[0] != None:\n",
    "            idx1 = painter.pnl[x1[0]]['cp_int'] == g[0]\n",
    "        else:\n",
    "            id_tmp = painter.pnl[x1[0]].index\n",
    "            idx1 = pd.Series([True] * len(id_tmp), index=id_tmp)\n",
    "        idx2 =  (painter.pnl[x1[0]][feature] >= g[1]) & (painter.pnl[x1[0]][feature] < g[2])\n",
    "        idx3 = painter.pnl[x1[0]]['testperiod'] == period_id\n",
    "        idx =  idx1 & idx2 & idx3\n",
    "        painter.plot_relative_core(x1[0], x2[0], y, idx, ax)\n",
    "        ax.set_xlim((-3, 3))\n",
    "        ax.set_ylim((-3, 3))\n",
    "\n",
    "for i, g in enumerate(groups[:2]):\n",
    "    axes1[0][i].set_title(g[3] + r'$\\leq$ $\\tau$ < ' + g[4])\n",
    "axes1[0][2].set_title(r'$\\tau \\geq$' + groups[2][3])\n",
    "fig.suptitle(f'Hedging ratios of {x2[1]} vs. {x1[1]} in S&P 500 (1 day)')"
   ]
  },
  {
   "cell_type": "markdown",
   "metadata": {},
   "source": [
    "#### PNL vs. sensitivities or features"
   ]
  },
  {
   "cell_type": "code",
   "execution_count": null,
   "metadata": {},
   "outputs": [],
   "source": [
    "# pnl = painter.pnl['Network/Delta_Vega']\n",
    "model_name = 'Delta_Vega_Vanna'"
   ]
  },
  {
   "cell_type": "code",
   "execution_count": null,
   "metadata": {},
   "outputs": [],
   "source": [
    "axes = painter.pnl_vs_feature_v2(df, model_name, 'M0', 1, sim_data=False, \n",
    "                         overall=True, normalized=True, qcut=True, ylog=True, \n",
    "                         xlims=(0.9, 1.5), ylims=(0.0005, 3))\n",
    "axes[0].set_title('S&P 500 (1 day)')\n",
    "axes[0].set_xlabel(r'Moneyness')\n",
    "axes[0].set_ylabel(r'Mean squared relative hedging error')\n",
    "axes[0].set_xticks(axes[0].get_xticks())\n",
    "axes[0].legend(frameon=False)"
   ]
  },
  {
   "cell_type": "code",
   "execution_count": null,
   "metadata": {},
   "outputs": [],
   "source": [
    "painter.pnl_vs_feature_v2(df, model_name, 'M0', 2, sim_data=False, normalized=True, \n",
    "                          qcut=True, xlims=(0.9, 1.5), ylog=True, ylims=(1e-3, 1e1))"
   ]
  },
  {
   "cell_type": "code",
   "execution_count": null,
   "metadata": {},
   "outputs": [],
   "source": [
    "axes = painter.pnl_vs_feature_v2(df, model_name, 'tau0', 1, overall=True, sim_data=False,\n",
    "                         normalized=True, qcut=True, xlog=True, ylog=True, ylims=(0.0005, 3))\n",
    "axes[0].set_title('S&P 500 (1 day)')\n",
    "axes[0].set_xlabel(r'Time-to-maturity')\n",
    "axes[0].set_ylabel(r'Mean squared relative hedging error')\n",
    "axes[0].set_xticks(axes[0].get_xticks()[:-1])\n",
    "axes[0].legend(frameon=False)"
   ]
  },
  {
   "cell_type": "code",
   "execution_count": null,
   "metadata": {},
   "outputs": [],
   "source": [
    "painter.pnl_vs_feature_v2(df, model_name, 'tau0', 2, sim_data=False,\n",
    "                          normalized=True, qcut=True, xlog=True, ylog=True, ylims=(1e-3, 1e0))"
   ]
  },
  {
   "cell_type": "code",
   "execution_count": null,
   "metadata": {},
   "outputs": [],
   "source": [
    "axes = painter.pnl_vs_feature_v2(df, model_name, 'delta_bs', 1, sim_data=False,\n",
    "                                 overall=True, normalized=True, qcut=True, ylog=True, ylims=(0.0005, 3)) \n",
    "axes[0].set_title('S&P 500 (1 day)')\n",
    "axes[0].set_xlabel(r'Delta')\n",
    "axes[0].set_ylabel(r'Mean squared relative hedging error')\n",
    "axes[0].set_xticks(axes[0].get_xticks()[:-1])\n",
    "axes[0].legend(frameon=False)"
   ]
  },
  {
   "cell_type": "code",
   "execution_count": null,
   "metadata": {},
   "outputs": [],
   "source": [
    "painter.pnl_vs_feature_v2(df, model_name, 'delta_bs', 2, sim_data=False, \n",
    "                          normalized=True, qcut=True, ylog=True, ylims=(5e-3, 1e1))"
   ]
  },
  {
   "cell_type": "code",
   "execution_count": null,
   "metadata": {},
   "outputs": [],
   "source": [
    "axes = painter.pnl_vs_feature_v2(df, model_name, 'gamma_n', 1, sim_data=False, overall=True, \n",
    "                  normalized=True, qcut=True, xlog=False, ylog=True, ylims=(0.0005, 3)) \n",
    "axes[0].set_title('S&P 500 (1 day)')\n",
    "axes[0].set_xlabel(r'Gamma')\n",
    "axes[0].set_ylabel(r'Mean squared relative hedging error')\n",
    "axes[0].set_xticks(axes[0].get_xticks())\n",
    "axes[0].legend(frameon=False)"
   ]
  },
  {
   "cell_type": "code",
   "execution_count": null,
   "metadata": {},
   "outputs": [],
   "source": [
    "painter.pnl_vs_feature_v2(df, model_name, 'gamma_n', 2, sim_data=False, \n",
    "                          normalized=True, qcut=True, xlog=False, ylog=True, ylims=(1e-2, 5e0))"
   ]
  },
  {
   "cell_type": "code",
   "execution_count": null,
   "metadata": {},
   "outputs": [],
   "source": [
    "axes = painter.pnl_vs_feature_v2(df, model_name, 'vega_n', 1, sim_data=False, \n",
    "                                 normalized=True, overall=True, qcut=True, xlog=False, ylog=True, \n",
    "                                 ylims=(0.0005, 3))\n",
    "ticks = axes[0].get_xticks()\n",
    "tmp = [True] + (ticks[1:] - ticks[:-1] > 0.2).tolist()\n",
    "a = [round(x, 1) if i is True else None for i, x in zip(tmp, ticks)]\n",
    "axes[0].set_xticklabels(a)\n",
    "axes[0].set_xlabel('Vega')\n",
    "axes[0].set_ylabel('Mean squared relative hedging error')\n",
    "axes[0].set_title('S&P 500 (1 day)')\n",
    "axes[0].legend(frameon=False)"
   ]
  },
  {
   "cell_type": "code",
   "execution_count": null,
   "metadata": {
    "scrolled": false
   },
   "outputs": [],
   "source": [
    "painter.pnl_vs_feature_v2(df, model_name, 'vega_n', 2, sim_data=False, \n",
    "                          normalized=True, qcut=True, xlog=False, ylog=True)"
   ]
  },
  {
   "cell_type": "code",
   "execution_count": null,
   "metadata": {},
   "outputs": [],
   "source": []
  }
 ],
 "metadata": {
  "kernelspec": {
   "display_name": "Python 3",
   "language": "python",
   "name": "python3"
  },
  "language_info": {
   "codemirror_mode": {
    "name": "ipython",
    "version": 3
   },
   "file_extension": ".py",
   "mimetype": "text/x-python",
   "name": "python",
   "nbconvert_exporter": "python",
   "pygments_lexer": "ipython3",
   "version": "3.6.8"
  },
  "toc": {
   "base_numbering": 1,
   "nav_menu": {},
   "number_sections": true,
   "sideBar": true,
   "skip_h1_title": false,
   "title_cell": "Table of Contents",
   "title_sidebar": "Contents",
   "toc_cell": false,
   "toc_position": {},
   "toc_section_display": true,
   "toc_window_display": false
  }
 },
 "nbformat": 4,
 "nbformat_minor": 2
}
