{
 "cells": [
  {
   "cell_type": "code",
   "execution_count": 1,
   "metadata": {},
   "outputs": [
    {
     "name": "stderr",
     "output_type": "stream",
     "text": [
      "Using TensorFlow backend.\n"
     ]
    }
   ],
   "source": [
    "import sys\n",
    "import os\n",
    "# Append the library path to PYTHONPATH, so library can be imported.\n",
    "sys.path.append(os.path.dirname(os.getcwd()))\n",
    "\n",
    "import shutil\n",
    "import datetime\n",
    "import numpy as np\n",
    "import pandas as pd\n",
    "import matplotlib.pyplot as plt\n",
    "import seaborn as sns\n",
    "\n",
    "from library import common as cm\n",
    "from library import regression_aux as raux\n",
    "from library import in_sample"
   ]
  },
  {
   "cell_type": "code",
   "execution_count": 2,
   "metadata": {},
   "outputs": [],
   "source": [
    "%run setup.py\n",
    "%matplotlib inline\n",
    "%load_ext autoreload\n",
    "%autoreload 2\n",
    "\n",
    "sns.set(style='darkgrid')\n",
    "np.random.seed(RANDOM_SEED)"
   ]
  },
  {
   "cell_type": "code",
   "execution_count": 3,
   "metadata": {},
   "outputs": [
    {
     "name": "stderr",
     "output_type": "stream",
     "text": [
      "C:\\Users\\Weiguan\\Anaconda3\\envs\\tfenv\\lib\\site-packages\\numpy\\lib\\arraysetops.py:569: FutureWarning: elementwise comparison failed; returning scalar instead, but in the future will perform elementwise comparison\n",
      "  mask |= (ar1 == a)\n"
     ]
    },
    {
     "name": "stdout",
     "output_type": "stream",
     "text": [
      "We remove samples when the next trade is not available. 163472 samples (4.52%) are removed. We have 95.48% of original data left, yielding a size of 3453492.\n",
      "We remove unreasonable implvol0. 3159 samples (0.09%) are removed. We have 95.39% of original data left, yielding a size of 3450333.\n",
      "We remove samples that have time to maturity less than 0 day. 0 samples (0.00%) are removed. We have 95.39% of original data left, yielding a size of 3450333.\n",
      "We remove in-the-money samples. 712998 samples (20.66%) are removed. We have 75.68% of original data left, yielding a size of 2737335.\n",
      "We shrink moneyness range. 104752 samples (3.83%) are removed. We have 72.78% of original data left, yielding a size of 2632583.\n"
     ]
    }
   ],
   "source": [
    "%run Load_Clean_aux.py\n",
    "max_period = max([int(s[6:]) for s in df.columns if 'period' in s])"
   ]
  },
  {
   "cell_type": "code",
   "execution_count": null,
   "metadata": {},
   "outputs": [],
   "source": []
  },
  {
   "cell_type": "code",
   "execution_count": null,
   "metadata": {},
   "outputs": [],
   "source": []
  },
  {
   "cell_type": "code",
   "execution_count": 4,
   "metadata": {},
   "outputs": [
    {
     "name": "stdout",
     "output_type": "stream",
     "text": [
      "The number of samples after loading is : 2632583\n",
      "Results are saved at:\n",
      "C:\\Users\\Weiguan\\Dropbox\\Research\\DeepHedging\\Data\\OptionMetrics\\Result/FREQ=1D_HALFMONEY=otm_MINM=0.8_MAXM=1.5_MINTAU=0_Permute=False_VIX=False_MISSING=replace_missing_WINDOW=180D_KickTmrZeroVolume=False/Regression/\n"
     ]
    }
   ],
   "source": [
    "print(f'The number of samples after loading is : {df.shape[0]}')\n",
    "\n",
    "regr_dir = res_dir + 'Regression/'\n",
    "print(f'Results are saved at:\\n{regr_dir}')"
   ]
  },
  {
   "cell_type": "code",
   "execution_count": 5,
   "metadata": {},
   "outputs": [],
   "source": [
    "col=  f'FREQ={FREQ}_HALFMONEY=otm_MINM=0.8_MAXM=1.5_MINTAU=0_Permute=False_VIX=False_MISSING=replace_missing_WINDOW=180D_KickTmrZeroVolume=False'\n",
    "# make sure col name matches the setup res_dir\n",
    "assert col in res_dir\n",
    "col_in = 'IN_' + col\n",
    "\n",
    "rows = ['Regression/No_Hedge', 'Regression/BS_Benchmark', 'Regression/Fixed_Constants',\n",
    "        'Regression/Delta_only', 'Regression/Vega_only', 'Regression/Gamma_only','Regression/Vanna_only',  \n",
    "        'Regression/Bias',\n",
    "        'Regression/Delta_Gamma', 'Regression/Delta_Vega',   'Regression/Delta_Vanna',\n",
    "        'Regression/Delta_Vega_Gamma', 'Regression/Delta_Vega_Vanna', 'Regression/Delta_Gamma_Vanna',   \n",
    "        'Regression/Delta_Vega_Gamma_Va', \n",
    "        'Regression/Hull_White', 'Regression/Hull_White_relaxed',\n",
    "        'Network/Normal_Feature', 'Network/Delta_Vega', 'Network/Delta_Vega_Vanna']\n",
    "\n",
    "sub_cols = ['Absolute', '%Change']\n",
    "cols_indices = pd.MultiIndex.from_product([[col_in], sub_cols], names=['setup', 'value'])\n",
    "df_call, df_put, df_both = [pd.DataFrame(index=rows, columns=cols_indices) for _ in range(3)]"
   ]
  },
  {
   "cell_type": "code",
   "execution_count": 6,
   "metadata": {},
   "outputs": [],
   "source": [
    "def aggregate_windows(res):\n",
    "    \"\"\"\n",
    "    aggregate the MSE over windows by number of samples weighted average for calls and put separetely.\n",
    "    Also aggregate call and puts.\n",
    "    \"\"\" \n",
    "    call_mse, put_mse = [(res[(x, 'MSE')] * res[(x, 'num_samples')]).sum() / res[(x, 'num_samples')].sum() for x in ['0', '1']]\n",
    "    num_c, num_p = [res[(x, 'num_samples')].sum() for x in ['0', '1']]\n",
    "    both_mse = (call_mse * num_c + put_mse * num_p) / (num_c + num_p)\n",
    "    return call_mse, put_mse, both_mse"
   ]
  },
  {
   "cell_type": "code",
   "execution_count": 7,
   "metadata": {},
   "outputs": [],
   "source": [
    "kwargs = {'vix': VIX, \n",
    "      'features': None, \n",
    "      'max_period': max_period, \n",
    "      'sub_res': None,\n",
    "      'pnl_path': None,\n",
    "      'df': df,\n",
    "      'delta_coeff_1': False,\n",
    "      'agg_side': False,\n",
    "      'leverage': False}"
   ]
  },
  {
   "cell_type": "markdown",
   "metadata": {},
   "source": [
    "##### Zero hedge"
   ]
  },
  {
   "cell_type": "code",
   "execution_count": 18,
   "metadata": {},
   "outputs": [],
   "source": [
    "if not PERMUTE:\n",
    "    r_short = 'Regression/No_Hedge'\n",
    "   \n",
    "    zero = np.array([0.]*len(df))\n",
    "    zero = pd.Series(zero, index=df.index)\n",
    "    \n",
    "    res = in_sample.calc_in_sample_error_regression(known_delta=zero, **kwargs)\n",
    "    res = aggregate_windows(res)\n",
    "    df_call.loc[r_short, (col_in, 'Absolute')], df_put.loc[r_short, (col_in, 'Absolute')], df_both.loc[r_short, (col_in, 'Absolute')] = res"
   ]
  },
  {
   "cell_type": "raw",
   "metadata": {},
   "source": [
    "no_hedge_in = (res[('0', 'MSE')] * res[('0', 'num_samples')] + res[('1', 'MSE')] * res[('1', 'num_samples')]) / (res[('0', 'num_samples')]+ res[('1', 'num_samples')])"
   ]
  },
  {
   "cell_type": "markdown",
   "metadata": {},
   "source": [
    "##### BS"
   ]
  },
  {
   "cell_type": "code",
   "execution_count": 22,
   "metadata": {},
   "outputs": [],
   "source": [
    "if not PERMUTE:\n",
    "    r_short = 'Regression/BS_Benchmark'\n",
    "    \n",
    "    res = in_sample.calc_in_sample_error_regression(known_delta=df['delta_bs'], **kwargs)\n",
    "    res = aggregate_windows(res)\n",
    "    df_call.loc[r_short, (col_in, 'Absolute')], df_put.loc[r_short, (col_in, 'Absolute')], df_both.loc[r_short, (col_in, 'Absolute')] = res"
   ]
  },
  {
   "cell_type": "raw",
   "metadata": {},
   "source": [
    "bs_in = (res[('0', 'MSE')] * res[('0', 'num_samples')] + res[('1', 'MSE')] * res[('1', 'num_samples')]) / (res[('0', 'num_samples')]+ res[('1', 'num_samples')])\n",
    "\n",
    "bs_out = pd.read_csv(f'{regr_dir}BS_Benchmark/period_pnl.csv', index_col=0)\n",
    "\n",
    "no_hedge_out = pd.read_csv(f'{regr_dir}No_Hedge/period_pnl.csv', index_col=0)\n",
    "\n",
    "plt.plot(range(1, 15), (no_hedge_out['MSHE'] - bs_out['MSHE']) / no_hedge_out['MSHE'] * 100, label='Out-of-sample', marker='o', linewidth=0)\n",
    "plt.plot(range(1, 15), (no_hedge_in - bs_in) / no_hedge_in * 100, label='In-sample', marker='o', linewidth=0)\n",
    "plt.legend()\n",
    "plt.title('% Reduction of BS-Delta MHE w.r.t zero-hedge')\n",
    "plt.xlabel('Time window')"
   ]
  },
  {
   "cell_type": "code",
   "execution_count": null,
   "metadata": {},
   "outputs": [],
   "source": []
  },
  {
   "cell_type": "code",
   "execution_count": null,
   "metadata": {},
   "outputs": [],
   "source": []
  },
  {
   "cell_type": "code",
   "execution_count": null,
   "metadata": {},
   "outputs": [],
   "source": []
  },
  {
   "cell_type": "markdown",
   "metadata": {},
   "source": [
    "##### Fixed constants: 0.9, 1.1"
   ]
  },
  {
   "cell_type": "code",
   "execution_count": 10,
   "metadata": {},
   "outputs": [],
   "source": [
    "if not PERMUTE:\n",
    "    r_short = 'Regression/Fixed_Constants'\n",
    "    \n",
    "    bl_c = df['cp_int'] == 0\n",
    "    delta = 0.9 * df['delta_bs']\n",
    "    delta[~bl_c] = 1.1 * df.loc[~bl_c, 'delta_bs']\n",
    "    \n",
    "    res = in_sample.calc_in_sample_error_regression(known_delta=delta, **kwargs)\n",
    "    res = aggregate_windows(res)\n",
    "    df_call.loc[r_short, (col_in, 'Absolute')], df_put.loc[r_short, (col_in, 'Absolute')], df_both.loc[r_short, (col_in, 'Absolute')] = res"
   ]
  },
  {
   "cell_type": "markdown",
   "metadata": {},
   "source": [
    "##### All other regressions"
   ]
  },
  {
   "cell_type": "code",
   "execution_count": 11,
   "metadata": {},
   "outputs": [],
   "source": [
    "all_regressions = [('Regression/Delta_only', ['delta_bs'], False),\n",
    "    ('Regression/Delta_Vega', ['delta_bs', 'vega_n'], False),\n",
    "    ('Regression/Delta_Gamma', ['delta_bs', 'gamma_n'], False),\n",
    "    ('Regression/Delta_Vanna', ['delta_bs', 'vanna_n'], False),\n",
    "    ('Regression/Delta_Gamma_Vanna', ['delta_bs', 'gamma_n', 'vanna_n'], False),\n",
    "    ('Regression/Delta_Vega_Gamma', ['delta_bs', 'vega_n', 'gamma_n'], False),\n",
    "    ('Regression/Delta_Vega_Vanna', ['delta_bs', 'vega_n', 'vanna_n'], False),\n",
    "    ('Regression/Delta_Vega_Gamma_Va', ['delta_bs', 'vega_n', 'gamma_n', 'vanna_n'], False),\n",
    "    ('Regression/Vega_only', ['vega_n'], True),\n",
    " ('Regression/Gamma_only', ['gamma_n'], True),\n",
    " ('Regression/Vanna_only', ['vanna_n'], True),\n",
    " ('Regression/Bias', ['bias'], True),\n",
    " ('Regression/Hull_White', ['vega_s', 'delta_vega_s', 'delta2_vega_s'], True),\n",
    "('Regression/Hull_White_relaxed', ['delta_bs', 'vega_s', 'delta_vega_s', 'delta2_vega_s'], False)\n",
    "]"
   ]
  },
  {
   "cell_type": "code",
   "execution_count": 12,
   "metadata": {},
   "outputs": [],
   "source": [
    "df['bias'] = 1.\n",
    "for row, features, delta_1 in all_regressions:\n",
    "    if not PERMUTE:\n",
    "\n",
    "        kwargs = {'vix': VIX, \n",
    "              'features': features, \n",
    "              'max_period': max_period, \n",
    "              'sub_res': None,\n",
    "              'pnl_path': None,\n",
    "              'df': df,\n",
    "              'delta_coeff_1': delta_1,\n",
    "              'agg_side': False,\n",
    "              'leverage': False}\n",
    "\n",
    "        res = in_sample.calc_in_sample_error_regression(known_delta=None, **kwargs)\n",
    "        res = aggregate_windows(res)\n",
    "        df_call.loc[row, (col_in, 'Absolute')], df_put.loc[row, (col_in, 'Absolute')], df_both.loc[row, (col_in, 'Absolute')] = res"
   ]
  },
  {
   "cell_type": "code",
   "execution_count": null,
   "metadata": {},
   "outputs": [],
   "source": []
  },
  {
   "cell_type": "code",
   "execution_count": null,
   "metadata": {},
   "outputs": [],
   "source": []
  },
  {
   "cell_type": "markdown",
   "metadata": {},
   "source": [
    "##### ANNs"
   ]
  },
  {
   "cell_type": "code",
   "execution_count": 13,
   "metadata": {},
   "outputs": [],
   "source": [
    "ori_fea = ['M0', 'tau0_implvol0']\n",
    "sub_res = res_dir + 'Network/Normal_Feature/'\n",
    "row = 'Network/Normal_Feature'\n",
    "use_fea = [x + '_t' for x in ori_fea] + ['cp_int']\n",
    "ckp_dir = sub_res + 'ckp/'"
   ]
  },
  {
   "cell_type": "code",
   "execution_count": 14,
   "metadata": {},
   "outputs": [
    {
     "name": "stdout",
     "output_type": "stream",
     "text": [
      "WARNING:tensorflow:From C:\\Users\\Weiguan\\Anaconda3\\envs\\tfenv\\lib\\site-packages\\tensorflow\\python\\framework\\op_def_library.py:263: colocate_with (from tensorflow.python.framework.ops) is deprecated and will be removed in a future version.\n",
      "Instructions for updating:\n",
      "Colocations handled automatically by placer.\n",
      "WARNING:tensorflow:From C:\\Users\\Weiguan\\Anaconda3\\envs\\tfenv\\lib\\site-packages\\tensorflow\\python\\ops\\math_ops.py:3066: to_int32 (from tensorflow.python.ops.math_ops) is deprecated and will be removed in a future version.\n",
      "Instructions for updating:\n",
      "Use tf.cast instead.\n"
     ]
    }
   ],
   "source": [
    "res = in_sample.calc_in_sample_error_ann(df, ckp_dir, max_period, ori_fea, use_fea)\n",
    "res = aggregate_windows(res)\n",
    "df_call.loc[row, (col_in, 'Absolute')], df_put.loc[row, (col_in, 'Absolute')], df_both.loc[row, (col_in, 'Absolute')] = res"
   ]
  },
  {
   "cell_type": "code",
   "execution_count": null,
   "metadata": {},
   "outputs": [],
   "source": []
  },
  {
   "cell_type": "code",
   "execution_count": null,
   "metadata": {},
   "outputs": [],
   "source": []
  },
  {
   "cell_type": "code",
   "execution_count": 15,
   "metadata": {},
   "outputs": [],
   "source": [
    "ori_fea = ['delta_bs', '1_over_sqrt_tau', 'vega_n']\n",
    "sub_res = res_dir + 'Network/Delta_Vega/'\n",
    "row = 'Network/Delta_Vega'\n",
    "use_fea = [x + '_t' for x in ori_fea] + ['cp_int']\n",
    "ckp_dir = sub_res + 'ckp/'\n",
    "\n",
    "res = in_sample.calc_in_sample_error_ann(df, ckp_dir, max_period, ori_fea, use_fea)\n",
    "res = aggregate_windows(res)\n",
    "df_call.loc[row, (col_in, 'Absolute')], df_put.loc[row, (col_in, 'Absolute')], df_both.loc[row, (col_in, 'Absolute')] = res"
   ]
  },
  {
   "cell_type": "code",
   "execution_count": null,
   "metadata": {},
   "outputs": [],
   "source": []
  },
  {
   "cell_type": "code",
   "execution_count": 16,
   "metadata": {},
   "outputs": [],
   "source": [
    "ori_fea = ['delta_bs', '1_over_sqrt_tau', 'vega_n', 'vanna_n']\n",
    "sub_res = res_dir + 'Network/Delta_Vega_Vanna/'\n",
    "row = 'Network/Delta_Vega_Vanna'\n",
    "use_fea = [x + '_t' for x in ori_fea] + ['cp_int']\n",
    "ckp_dir = sub_res + 'ckp/'\n",
    "\n",
    "res = in_sample.calc_in_sample_error_ann(df, ckp_dir, max_period, ori_fea, use_fea)\n",
    "res = aggregate_windows(res)\n",
    "df_call.loc[row, (col_in, 'Absolute')], df_put.loc[row, (col_in, 'Absolute')], df_both.loc[row, (col_in, 'Absolute')] = res"
   ]
  },
  {
   "cell_type": "code",
   "execution_count": null,
   "metadata": {},
   "outputs": [],
   "source": []
  },
  {
   "cell_type": "code",
   "execution_count": 17,
   "metadata": {},
   "outputs": [],
   "source": [
    "for x, name in zip([df_call, df_put, df_both], ['call', 'put', 'both']):\n",
    "    x[(col_in, '%Change')] = \\\n",
    "        ((x.loc['Regression/No_Hedge', (col_in, 'Absolute')] - x[(col_in, 'Absolute')]) \\\n",
    "        / x.loc['Regression/No_Hedge', (col_in, 'Absolute')]).astype(np.float).round(4) * 100\n",
    "    x[(col_in, 'Absolute')] = (x[(col_in, 'Absolute')] * 100.).astype(np.float).round(4)\n",
    "    \n",
    "    #x.to_csv(f'{DATA_DIR}Result/in_sample_{name}_mse_{FREQ}.csv')"
   ]
  },
  {
   "cell_type": "code",
   "execution_count": null,
   "metadata": {},
   "outputs": [],
   "source": []
  },
  {
   "cell_type": "code",
   "execution_count": null,
   "metadata": {},
   "outputs": [],
   "source": []
  },
  {
   "cell_type": "markdown",
   "metadata": {},
   "source": [
    "### Out of sample"
   ]
  },
  {
   "cell_type": "code",
   "execution_count": 18,
   "metadata": {},
   "outputs": [],
   "source": [
    "df_dirs = pd.DataFrame(columns=[col], index=rows)\n",
    "for x in rows:\n",
    "    df_dirs.loc[x, col] = f'{DATA_DIR}Result/{col}/{x}/'"
   ]
  },
  {
   "cell_type": "code",
   "execution_count": 19,
   "metadata": {},
   "outputs": [],
   "source": [
    "aggregating = 'mean'\n",
    "measure = 'mse'"
   ]
  },
  {
   "cell_type": "raw",
   "metadata": {},
   "source": [
    "df_call = pd.read_csv(f'{DATA_DIR}Result/in_sample_call_mse_{FREQ}.csv', header=[0, 1], index_col=0)\n",
    "df_put = pd.read_csv(f'{DATA_DIR}Result/in_sample_put_mse_{FREQ}.csv', header=[0, 1], index_col=0)\n",
    "df_both = pd.read_csv(f'{DATA_DIR}Result/in_sample_both_mse_{FREQ}.csv', header=[0, 1], index_col=0)"
   ]
  },
  {
   "cell_type": "code",
   "execution_count": 20,
   "metadata": {},
   "outputs": [
    {
     "name": "stderr",
     "output_type": "stream",
     "text": [
      "C:\\Users\\Weiguan\\Anaconda3\\envs\\tfenv\\lib\\site-packages\\numpy\\lib\\arraysetops.py:569: FutureWarning: elementwise comparison failed; returning scalar instead, but in the future will perform elementwise comparison\n",
      "  mask |= (ar1 == a)\n"
     ]
    }
   ],
   "source": [
    "tmp = []\n",
    "for op_type, df_tmp in zip((None, 'call', 'put'), (df_both, df_call, df_put)):\n",
    "\n",
    "    inspector = cm.Inspector()\n",
    "    df_res = inspector.evalPnls(df_dirs, aggregating=aggregating, measure=measure, op_type=op_type)\n",
    "    df_res[(col, '%Change')] = ((df_res.loc['Regression/No_Hedge', (col, 'Absolute')] - df_res[(col, 'Absolute')]) \\\n",
    "                            / df_res.loc['Regression/No_Hedge', (col, 'Absolute')]).round(4) * 100.\n",
    "    df_res.rename({col: 'OUT_' + col}, inplace=True, axis=1)\n",
    "    df_tmp = pd.concat([df_tmp, df_res], axis=1)\n",
    "    tmp.append(df_tmp)\n",
    "    \n",
    "    df_tmp.to_csv(f'{DATA_DIR}Result/in_sample_{op_type}_mse_{FREQ}.csv')\n",
    "df_both, df_call, df_put = tmp"
   ]
  },
  {
   "cell_type": "code",
   "execution_count": 21,
   "metadata": {},
   "outputs": [
    {
     "data": {
      "text/plain": [
       "'C:\\\\Users\\\\Weiguan\\\\Dropbox\\\\Research\\\\DeepHedging\\\\Data\\\\OptionMetrics\\\\'"
      ]
     },
     "execution_count": 21,
     "metadata": {},
     "output_type": "execute_result"
    }
   ],
   "source": [
    "DATA_DIR"
   ]
  },
  {
   "cell_type": "code",
   "execution_count": 22,
   "metadata": {},
   "outputs": [
    {
     "data": {
      "text/plain": [
       "'2D'"
      ]
     },
     "execution_count": 22,
     "metadata": {},
     "output_type": "execute_result"
    }
   ],
   "source": [
    "FREQ"
   ]
  },
  {
   "cell_type": "code",
   "execution_count": 23,
   "metadata": {},
   "outputs": [],
   "source": [
    "df_p = df_both.xs('%Change', axis=1, level=1)\n",
    "df_p = df_p.iloc[1:]"
   ]
  },
  {
   "cell_type": "code",
   "execution_count": null,
   "metadata": {},
   "outputs": [],
   "source": []
  },
  {
   "cell_type": "code",
   "execution_count": 24,
   "metadata": {},
   "outputs": [],
   "source": [
    "new_names = {'Regression/BS_Benchmark': 'BS-Delta', \n",
    "            'Regression/Fixed_Constants': 'Fixed',\n",
    "            'Regression/Delta_only': 'Delta-only',\n",
    "            'Regression/Vega_only': 'Vega-only',\n",
    "            'Regression/Gamma_only': 'Gamma-only',\n",
    "            'Regression/Vanna_only': 'Vanna-only',\n",
    "            'Regression/Bias': 'Bias-only',\n",
    "            'Regression/Delta_Gamma': 'Delta-Gamma',\n",
    "            'Regression/Delta_Vega': 'Delta-Vega',\n",
    "            'Regression/Delta_Vanna': 'Delta-Vanna',\n",
    "            'Regression/Delta_Vega_Gamma': 'Delta-Vega-Gamma',\n",
    "            'Regression/Delta_Gamma_Vanna': 'Delta-Gamma-Vanna',\n",
    "            'Regression/Delta_Vega_Vanna': 'Delta-Vega-Vanna',\n",
    "            'Regression/Delta_Vega_Gamma_Va': 'Delta-Vega-Gamma-Vanna',\n",
    "            'Regression/Hull_White': 'Hull-White',\n",
    "            'Regression/Hull_White_relaxed': 'Relaxed Hull-White',\n",
    "            'Network/Normal_Feature': r'$M;\\, \\sigma_{\\rm impl} \\sqrt{\\tau}$',\n",
    "            'Network/Delta_Vega': r'$\\Delta_{\\rm BS};\\, \\mathcal{V}_{\\rm BS};\\, \\tau$',\n",
    "             'Network/Delta_Vega_Vanna': r'$\\Delta_{\\rm BS};\\, \\mathcal{V}_{\\rm BS};\\, {\\rm Va}_{\\rm BS};\\, \\tau$'}"
   ]
  },
  {
   "cell_type": "code",
   "execution_count": 25,
   "metadata": {},
   "outputs": [
    {
     "data": {
      "text/plain": [
       "<matplotlib.legend.Legend at 0x1fd5eb042e8>"
      ]
     },
     "execution_count": 25,
     "metadata": {},
     "output_type": "execute_result"
    },
    {
     "data": {
      "image/png": "[encoded data removed]",
      "text/plain": [
       "<Figure size 432x288 with 1 Axes>"
      ]
     },
     "metadata": {},
     "output_type": "display_data"
    }
   ],
   "source": [
    "df_p.rename(new_names, inplace=True)\n",
    "for x, y in zip(['IN_', 'OUT_'], ['In-sample', 'Out-of-sample']):\n",
    "    plt.plot(df_p[x+col][::-1], df_p.index[::-1], marker='o', linewidth=0, label=y)\n",
    "plt.xlim([83., 91.])\n",
    "plt.title('% Reduction of MSHE w.r.t Zero hedge')\n",
    "plt.legend()"
   ]
  },
  {
   "cell_type": "code",
   "execution_count": 26,
   "metadata": {},
   "outputs": [
    {
     "data": {
      "text/plain": [
       "Text(0.5, 1.0, 'Diff. of % reduction of MSHE between in- and out-of-sample')"
      ]
     },
     "execution_count": 26,
     "metadata": {},
     "output_type": "execute_result"
    },
    {
     "data": {
      "image/png": "[encoded data removed]",
      "text/plain": [
       "<Figure size 432x288 with 1 Axes>"
      ]
     },
     "metadata": {},
     "output_type": "display_data"
    }
   ],
   "source": [
    "tmp = df_p[f'IN_{col}'] - df_p[f'OUT_{col}']\n",
    "tmp.rename(new_names, inplace=True)\n",
    "plt.plot(tmp[::-1], tmp.index[::-1], linewidth='0', marker='o')\n",
    "plt.xlim([1.0, 2.4])\n",
    "plt.title('Diff. of % reduction of MSHE between in- and out-of-sample')"
   ]
  },
  {
   "cell_type": "code",
   "execution_count": null,
   "metadata": {},
   "outputs": [],
   "source": []
  }
 ],
 "metadata": {
  "kernelspec": {
   "display_name": "Python 3",
   "language": "python",
   "name": "python3"
  },
  "language_info": {
   "codemirror_mode": {
    "name": "ipython",
    "version": 3
   },
   "file_extension": ".py",
   "mimetype": "text/x-python",
   "name": "python",
   "nbconvert_exporter": "python",
   "pygments_lexer": "ipython3",
   "version": "3.6.8"
  }
 },
 "nbformat": 4,
 "nbformat_minor": 2
}
