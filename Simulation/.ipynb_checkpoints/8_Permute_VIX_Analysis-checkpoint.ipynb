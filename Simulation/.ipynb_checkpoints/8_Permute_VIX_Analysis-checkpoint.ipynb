{
 "cells": [
  {
   "cell_type": "code",
   "execution_count": null,
   "metadata": {},
   "outputs": [],
   "source": [
    "import sys\n",
    "import os\n",
    "# Append the library path to PYTHONPATH, so library can be imported.\n",
    "sys.path.append(os.path.dirname(os.getcwd()))\n",
    "import itertools\n",
    "\n",
    "import numpy as np\n",
    "import pandas as pd\n",
    "import seaborn as sns\n",
    "import matplotlib.pyplot as plt\n",
    "\n",
    "from library import common as cm"
   ]
  },
  {
   "cell_type": "code",
   "execution_count": null,
   "metadata": {},
   "outputs": [],
   "source": [
    "%run setup.py\n",
    "%matplotlib inline\n",
    "%load_ext autoreload\n",
    "%autoreload 2\n",
    "\n",
    "sns.set(style='darkgrid')"
   ]
  },
  {
   "cell_type": "code",
   "execution_count": null,
   "metadata": {},
   "outputs": [],
   "source": [
    "cols = ['CONFIG=1/FREQ=1D_HALFMONEY=otm_MINM=0.8_MAXM=1.5_Permute=False_VIX=False',\n",
    "       'CONFIG=1/FREQ=1D_HALFMONEY=otm_MINM=0.8_MAXM=1.5_Permute=False_VIX=True',\n",
    "       'CONFIG=1/FREQ=1D_HALFMONEY=otm_MINM=0.8_MAXM=1.5_Permute=True_VIX=False',\n",
    "       'CONFIG=1/FREQ=1D_HALFMONEY=otm_MINM=0.8_MAXM=1.5_Permute=True_VIX=True']"
   ]
  },
  {
   "cell_type": "code",
   "execution_count": null,
   "metadata": {},
   "outputs": [],
   "source": [
    "rows = ['Regression/BS_Benchmark', \n",
    "        'Regression/Delta_Vega_Vanna',\n",
    "       'Network/Delta_Vega']"
   ]
  },
  {
   "cell_type": "code",
   "execution_count": null,
   "metadata": {},
   "outputs": [],
   "source": [
    "df_dirs = pd.DataFrame(columns=cols, index=rows)\n",
    "for x, y in list(itertools.product(rows, cols)):\n",
    "    df_dirs.loc[x, y] = f'{DATA_DIR}Result/{y}/{x}/'"
   ]
  },
  {
   "cell_type": "code",
   "execution_count": null,
   "metadata": {},
   "outputs": [],
   "source": [
    "DATA_DIR"
   ]
  },
  {
   "cell_type": "code",
   "execution_count": null,
   "metadata": {},
   "outputs": [],
   "source": [
    "kws = [('Regression/BS_Benchmark', 'Black-Scholes', 'o', -0.1, sns.color_palette()[0]),\n",
    "       ('Regression/Delta_Vega_Vanna', 'Delta-Vega-Vanna regression', 'x', -0.05, sns.color_palette()[1]),\n",
    "       ('Network/Delta_Vega',  r'ANN $(\\Delta_{\\rm BS};\\, \\mathcal{V}_{\\rm BS};\\, \\tau)$', '^', 0.1, sns.color_palette()[3])]"
   ]
  },
  {
   "cell_type": "code",
   "execution_count": null,
   "metadata": {},
   "outputs": [],
   "source": []
  },
  {
   "cell_type": "code",
   "execution_count": null,
   "metadata": {},
   "outputs": [],
   "source": [
    "aggregating = 'mean'\n",
    "measure = 'mse'"
   ]
  },
  {
   "cell_type": "code",
   "execution_count": null,
   "metadata": {},
   "outputs": [],
   "source": [
    "inspector = cm.Inspector()"
   ]
  },
  {
   "cell_type": "code",
   "execution_count": null,
   "metadata": {},
   "outputs": [],
   "source": [
    "df_res = inspector.evalPnls(df_dirs, aggregating=aggregating, measure=measure, op_type=None)\n",
    "res_abs = df_res.xs('Absolute', level=1, axis=1)\n",
    "df_res"
   ]
  },
  {
   "cell_type": "code",
   "execution_count": null,
   "metadata": {},
   "outputs": [],
   "source": []
  },
  {
   "cell_type": "code",
   "execution_count": null,
   "metadata": {},
   "outputs": [],
   "source": [
    "for col in kws:\n",
    "    plt.plot(np.arange(1, 5)+col[3], res_abs.loc[col[0]], marker=col[2], linewidth=0, label=col[1], c=col[4])\n",
    "plt.legend(frameon=False)\n",
    "plt.xticks(np.arange(1, 5), ('Baseline', 'VIX', 'Permute', 'Permute + VIX'))\n",
    "plt.ylabel('Mean squared hedging error')\n",
    "plt.title('Absolute value')"
   ]
  },
  {
   "cell_type": "code",
   "execution_count": null,
   "metadata": {},
   "outputs": [],
   "source": [
    "res_rela = df_res.xs('%Change', level=1, axis=1)"
   ]
  },
  {
   "cell_type": "code",
   "execution_count": null,
   "metadata": {},
   "outputs": [],
   "source": [
    "\n",
    "for col in kws[1:]:\n",
    "    plt.plot(np.arange(1, 5)+col[3], res_rela.loc[col[0]], marker=col[2], linewidth=0, label=col[1], c=col[4])\n",
    "plt.legend(frameon=False)\n",
    "plt.xticks(np.arange(1, 5), ('Baseline', 'VIX', 'Permute', 'Permute + VIX'))\n",
    "plt.ylabel('Relative reduction to Black-Scholes Delta')\n",
    "plt.title('Black-Scholes (1 day)')"
   ]
  },
  {
   "cell_type": "code",
   "execution_count": null,
   "metadata": {},
   "outputs": [],
   "source": []
  },
  {
   "cell_type": "markdown",
   "metadata": {},
   "source": [
    "#### Baseline\n",
    "This section shows the the MSHE and its relative percentage change of the two statistical models compared to the BS-Delta in the 'baseline' experiment."
   ]
  },
  {
   "cell_type": "code",
   "execution_count": null,
   "metadata": {},
   "outputs": [],
   "source": [
    "dirs_dict = {'Regression/BS_Benchmark': f'{DATA_DIR}Result/{cols[0]}/Regression/BS_Benchmark/',\n",
    "             'Regression/Delta_Vega_Vanna': f'{DATA_DIR}Result/{cols[0]}/Regression/Delta_Vega_Vanna/',\n",
    "            'Network/Delta_Vega': f'{DATA_DIR}Result/{cols[0]}/Network/Delta_Vega/'}"
   ]
  },
  {
   "cell_type": "code",
   "execution_count": null,
   "metadata": {},
   "outputs": [],
   "source": [
    "inspector = cm.Inspector()\n",
    "baseline = inspector.eval_single_exp(dirs_dict, measure=measure)"
   ]
  },
  {
   "cell_type": "code",
   "execution_count": null,
   "metadata": {},
   "outputs": [],
   "source": [
    "bs_tmp = baseline['Regression/BS_Benchmark'].values[:, np.newaxis]\n",
    "base_rela = (baseline[['Regression/Delta_Vega_Vanna', 'Network/Delta_Vega']] - bs_tmp) / bs_tmp"
   ]
  },
  {
   "cell_type": "code",
   "execution_count": null,
   "metadata": {},
   "outputs": [],
   "source": [
    "for col in kws[1:]:\n",
    "    plt.plot(np.arange(1, NUM_TEST+1)+col[3], base_rela.loc[:, col[0]]*100, \n",
    "             marker=col[2], linewidth=0, label=col[1], c=col[4])\n",
    "plt.legend(frameon=False)\n",
    "plt.ylabel('Mean squared hedging error')\n",
    "plt.title('Relative to Black-Scholes')"
   ]
  },
  {
   "cell_type": "markdown",
   "metadata": {},
   "source": [
    "#### 'VIX' experiment\n",
    "This section shows the the MSHE and its relative percentage change of the two statistical models compared to the BS-Delta in the 'VIX' experiment, on the ten out-of-sample sets"
   ]
  },
  {
   "cell_type": "code",
   "execution_count": null,
   "metadata": {},
   "outputs": [],
   "source": [
    "dirs_dict = {'Regression/BS_Benchmark': f'{DATA_DIR}Result/{cols[1]}/Regression/BS_Benchmark/',\n",
    "             'Regression/Delta_Vega_Vanna': f'{DATA_DIR}Result/{cols[1]}/Regression/Delta_Vega_Vanna/',\n",
    "            'Network/Delta_Vega': f'{DATA_DIR}Result/{cols[1]}/Network/Delta_Vega/'}\n",
    "inspector = cm.Inspector()\n",
    "res = inspector.eval_single_exp(dirs_dict, measure=measure)"
   ]
  },
  {
   "cell_type": "code",
   "execution_count": null,
   "metadata": {},
   "outputs": [],
   "source": [
    "for col in kws[1:]:\n",
    "    plt.plot(np.arange(1, NUM_TEST+1)+col[3], res.loc[:, col[0]], marker=col[2], linewidth=0, label=col[1], c=col[4])\n",
    "plt.legend(frameon=False)\n",
    "plt.ylabel('Mean squared hedging error')\n",
    "plt.title('Absolute value')"
   ]
  },
  {
   "cell_type": "code",
   "execution_count": null,
   "metadata": {},
   "outputs": [],
   "source": [
    "for col in kws[1:]:\n",
    "    y = (res[col[0]] - res['Regression/BS_Benchmark']) / res['Regression/BS_Benchmark']\n",
    "    plt.plot(np.arange(1, NUM_TEST+1)+col[3], y, marker=col[2], linewidth=0, label=col[1], color=col[4])\n",
    "plt.legend(frameon=False)\n",
    "plt.ylabel('Percentage')\n",
    "plt.title('Relative')"
   ]
  },
  {
   "cell_type": "markdown",
   "metadata": {},
   "source": [
    "#### 'Permute' experiment\n",
    "This section shows the the MSHE and its relative percentage change of the two statistical models compared to the BS-Delta in the 'Permutation' experiment."
   ]
  },
  {
   "cell_type": "code",
   "execution_count": null,
   "metadata": {},
   "outputs": [],
   "source": [
    "dirs_dict = {'Regression/BS_Benchmark': f'{DATA_DIR}Result/{cols[2]}/Regression/BS_Benchmark/',\n",
    "             'Regression/Delta_Vega_Vanna': f'{DATA_DIR}Result/{cols[2]}/Regression/Delta_Vega_Vanna/',\n",
    "            'Network/Delta_Vega': f'{DATA_DIR}Result/{cols[2]}/Network/Delta_Vega/'}\n",
    "inspector = cm.Inspector()\n",
    "res = inspector.eval_single_exp(dirs_dict, measure=measure)"
   ]
  },
  {
   "cell_type": "code",
   "execution_count": null,
   "metadata": {},
   "outputs": [],
   "source": [
    "for col in kws[1:]:\n",
    "    plt.plot(np.arange(1, NUM_TEST+1)+col[3], res.loc[:, col[0]], marker=col[2], linewidth=0, label=col[1], c=col[4])\n",
    "#plt.legend(frameon=False)\n",
    "plt.ylabel('Mean squared hedging error')\n",
    "plt.title('Absolute value')"
   ]
  },
  {
   "cell_type": "code",
   "execution_count": null,
   "metadata": {},
   "outputs": [],
   "source": [
    "\" Relative to the BS \"\n",
    "bs_tmp = res['Regression/BS_Benchmark'].values[:, np.newaxis]\n",
    "res_rela = (res[['Regression/Delta_Vega_Vanna', 'Network/Delta_Vega']] - bs_tmp) / bs_tmp\n",
    "for col in kws[1:]:\n",
    "    y = (res[col[0]] - res['Regression/BS_Benchmark']) / res['Regression/BS_Benchmark']\n",
    "    plt.plot(np.arange(1, NUM_TEST+1)+col[3], y*100, marker=col[2], linewidth=0, label=col[1], color=col[4])\n",
    "plt.legend(frameon=False)\n",
    "plt.ylabel('Percentage improvement')\n",
    "plt.title('Relative')"
   ]
  },
  {
   "cell_type": "code",
   "execution_count": null,
   "metadata": {},
   "outputs": [],
   "source": [
    "\" This plots shows the change of percentage improvemen of the two models  comapred to the baseline experiment\"\n",
    "tmp = res_rela - base_rela\n",
    "\n",
    "for x in kws[1:]:\n",
    "    plt.plot(range(1, NUM_TEST+1), tmp[x[0]] * 100, marker=x[2], linewidth=0, label=x[1], c=x[4])\n",
    "plt.xlabel('Permutation set')\n",
    "plt.ylabel('Percentage improvement')\n",
    "plt.legend(frameon=False)\n",
    "plt.title('Black-Scholes')\n",
    "\n",
    "rela_diff_pmt = tmp"
   ]
  },
  {
   "cell_type": "markdown",
   "metadata": {},
   "source": [
    "#### Permuate + VIX experiment"
   ]
  },
  {
   "cell_type": "code",
   "execution_count": null,
   "metadata": {},
   "outputs": [],
   "source": [
    "dirs_dict = {'Regression/BS_Benchmark': f'{DATA_DIR}Result/{cols[3]}/Regression/BS_Benchmark/',\n",
    "             'Regression/Delta_Vega_Vanna': f'{DATA_DIR}Result/{cols[3]}/Regression/Delta_Vega_Vanna/',\n",
    "            'Network/Delta_Vega': f'{DATA_DIR}Result/{cols[3]}/Network/Delta_Vega/'}\n",
    "inspector = cm.Inspector()\n",
    "res = inspector.eval_single_exp(dirs_dict, measure=measure)"
   ]
  },
  {
   "cell_type": "code",
   "execution_count": null,
   "metadata": {
    "scrolled": true
   },
   "outputs": [],
   "source": [
    "for col in kws:\n",
    "    plt.plot(np.arange(1, NUM_TEST+1)+col[3], res.loc[:, col[0]], marker=col[2], linewidth=0, label=col[1], c=col[4])\n",
    "#plt.legend(frameon=False)\n",
    "plt.ylabel('Mean squared hedging error')\n",
    "plt.title('Absolute value')"
   ]
  },
  {
   "cell_type": "code",
   "execution_count": null,
   "metadata": {},
   "outputs": [],
   "source": [
    "\" Improvement compared to the Black-Scholes \"\n",
    "bs_tmp = res['Regression/BS_Benchmark'].values[:, np.newaxis]\n",
    "res_rela = (res[['Regression/Delta_Vega_Vanna', 'Network/Delta_Vega']] - bs_tmp) / bs_tmp\n",
    "for col in kws[1:]:\n",
    "    y = (res[col[0]] - res['Regression/BS_Benchmark']) / res['Regression/BS_Benchmark']\n",
    "    plt.plot(np.arange(1, NUM_TEST+1)+col[3], y*100, marker=col[2], linewidth=0, label=col[1], color=col[4])\n",
    "plt.legend(frameon=False)\n",
    "plt.ylabel('Percentage improvement')\n",
    "plt.title('Relative')"
   ]
  },
  {
   "cell_type": "code",
   "execution_count": null,
   "metadata": {},
   "outputs": [],
   "source": [
    "\" the change of the percentage improvement  compared to the Baseline experiment\"\n",
    "tmp = res_rela - base_rela\n",
    "\n",
    "for x in kws[1:]:\n",
    "    plt.plot(range(1, NUM_TEST+1), tmp[x[0]] * 100, marker=x[2], linewidth=0, label=x[1], c=x[4])\n",
    "plt.xlabel('Permutation set')\n",
    "plt.ylabel('Percentage improvement')\n",
    "plt.legend(frameon=False)\n",
    "plt.title('Black-Scholes')\n",
    "\n",
    "rela_diff_pmt_vix = tmp"
   ]
  },
  {
   "cell_type": "code",
   "execution_count": null,
   "metadata": {},
   "outputs": [],
   "source": [
    "\"\"\" \n",
    "Combined plot of Permute and Permute + VIX, relative to baseline \n",
    "The permutation sets are sorted, according to the performance in the Baseline experiment.\n",
    "\"\"\"\n",
    "index_sorted = base_rela.sort_values(by='Network/Delta_Vega', ascending=False).index\n",
    "\n",
    "fig, ax = plt.subplots()\n",
    "\n",
    "kws_tmp = [('Regression/Delta_Vega_Vanna', 'DVV regr. (Permute)', 'x', -0.1),\n",
    " ('Network/Delta_Vega', 'ANN (Permute)', '^', -0.1)]\n",
    "\n",
    "for x in kws_tmp:\n",
    "    ax.plot(np.arange(1, NUM_TEST+1) + x[3], rela_diff_pmt.loc[index_sorted, x[0]].values*100, label=x[1], marker=x[2], linewidth=0)\n",
    "\n",
    "kws_tmp = [('Regression/Delta_Vega_Vanna', 'DVV regr. (Permute + VIX)', 'x', 0.1),\n",
    "         ('Network/Delta_Vega', 'ANN (Permute + VIX)', '^', 0.1)]  \n",
    "for x in kws_tmp:\n",
    "    ax.plot(np.arange(1, NUM_TEST+1) + x[3], rela_diff_pmt_vix.loc[index_sorted, x[0]].values*100, label=x[1], marker=x[2], linewidth=0)\n",
    "plt.xticks([1, 5, 10, 15, 20], [1, 5, 10, 15, 20])\n",
    "plt.legend(frameon=False)\n",
    "plt.xlabel('Permutation set')\n",
    "plt.ylabel('Difference to baseline in relative reduction')\n",
    "plt.title(\"Black-Scholes (1 day)\")"
   ]
  },
  {
   "cell_type": "code",
   "execution_count": null,
   "metadata": {},
   "outputs": [],
   "source": []
  }
 ],
 "metadata": {
  "kernelspec": {
   "display_name": "Python 3",
   "language": "python",
   "name": "python3"
  },
  "language_info": {
   "codemirror_mode": {
    "name": "ipython",
    "version": 3
   },
   "file_extension": ".py",
   "mimetype": "text/x-python",
   "name": "python",
   "nbconvert_exporter": "python",
   "pygments_lexer": "ipython3",
   "version": "3.6.8"
  }
 },
 "nbformat": 4,
 "nbformat_minor": 2
}
