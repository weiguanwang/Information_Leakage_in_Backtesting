{
 "cells": [
  {
   "cell_type": "code",
   "execution_count": 20,
   "metadata": {},
   "outputs": [],
   "source": [
    "import sys\n",
    "import os\n",
    "# Append the library path to PYTHONPATH, so library can be imported.\n",
    "sys.path.append(os.path.dirname(os.getcwd()))\n",
    "\n",
    "import numpy as np\n",
    "import pandas as pd\n",
    "import seaborn as sns\n",
    "import matplotlib.pyplot as plt\n",
    "\n",
    "from library import bs\n",
    "from library import plot\n",
    "from library import common as cm"
   ]
  },
  {
   "cell_type": "code",
   "execution_count": 2,
   "metadata": {},
   "outputs": [
    {
     "name": "stdout",
     "output_type": "stream",
     "text": [
      "Clean and load the training and validation data.\n",
      "\n",
      "Original data size is 30978\n",
      "We remove in the money samples. 16980 samples are removed. We have  45.19 % of original data left\n",
      "We shrink moneyness range. 53 samples are removed. We have  45.02 % of original data left\n",
      "\n",
      "\n",
      "====================\n",
      "Clean and load all Monte Carlo test data.\n",
      "\n",
      "We remove in the money samples. 3473 samples are removed. We have  48.06 % of original data left\n",
      "We shrink moneyness range. 0 samples are removed. We have  48.06 % of original data left\n",
      "\n",
      "\n",
      "We remove in the money samples. 4307 samples are removed. We have  46.85 % of original data left\n",
      "We shrink moneyness range. 0 samples are removed. We have  46.85 % of original data left\n",
      "\n",
      "\n",
      "We remove in the money samples. 3650 samples are removed. We have  46.82 % of original data left\n",
      "We shrink moneyness range. 13 samples are removed. We have  46.63 % of original data left\n",
      "\n",
      "\n",
      "We remove in the money samples. 3862 samples are removed. We have  47.38 % of original data left\n",
      "We shrink moneyness range. 0 samples are removed. We have  47.38 % of original data left\n",
      "\n",
      "\n",
      "We remove in the money samples. 3348 samples are removed. We have  46.70 % of original data left\n",
      "We shrink moneyness range. 8 samples are removed. We have  46.57 % of original data left\n",
      "\n",
      "\n",
      "We remove in the money samples. 3606 samples are removed. We have  47.36 % of original data left\n",
      "We shrink moneyness range. 0 samples are removed. We have  47.36 % of original data left\n",
      "\n",
      "\n",
      "We remove in the money samples. 3583 samples are removed. We have  44.08 % of original data left\n",
      "We shrink moneyness range. 105 samples are removed. We have  42.44 % of original data left\n",
      "\n",
      "\n",
      "We remove in the money samples. 3118 samples are removed. We have  48.09 % of original data left\n",
      "We shrink moneyness range. 0 samples are removed. We have  48.09 % of original data left\n",
      "\n",
      "\n",
      "We remove in the money samples. 3093 samples are removed. We have  47.69 % of original data left\n",
      "We shrink moneyness range. 0 samples are removed. We have  47.69 % of original data left\n",
      "\n",
      "\n",
      "We remove in the money samples. 3921 samples are removed. We have  47.87 % of original data left\n",
      "We shrink moneyness range. 0 samples are removed. We have  47.87 % of original data left\n",
      "\n",
      "\n",
      "We remove in the money samples. 3240 samples are removed. We have  48.53 % of original data left\n",
      "We shrink moneyness range. 20 samples are removed. We have  48.21 % of original data left\n",
      "\n",
      "\n",
      "We remove in the money samples. 3329 samples are removed. We have  48.08 % of original data left\n",
      "We shrink moneyness range. 1 samples are removed. We have  48.07 % of original data left\n",
      "\n",
      "\n",
      "We remove in the money samples. 3428 samples are removed. We have  47.58 % of original data left\n",
      "We shrink moneyness range. 0 samples are removed. We have  47.58 % of original data left\n",
      "\n",
      "\n",
      "We remove in the money samples. 3115 samples are removed. We have  46.78 % of original data left\n",
      "We shrink moneyness range. 22 samples are removed. We have  46.40 % of original data left\n",
      "\n",
      "\n",
      "We remove in the money samples. 3291 samples are removed. We have  47.47 % of original data left\n",
      "We shrink moneyness range. 1 samples are removed. We have  47.45 % of original data left\n",
      "\n",
      "\n",
      "We remove in the money samples. 3133 samples are removed. We have  48.32 % of original data left\n",
      "We shrink moneyness range. 0 samples are removed. We have  48.32 % of original data left\n",
      "\n",
      "\n",
      "We remove in the money samples. 3391 samples are removed. We have  47.10 % of original data left\n",
      "We shrink moneyness range. 13 samples are removed. We have  46.90 % of original data left\n",
      "\n",
      "\n",
      "We remove in the money samples. 3479 samples are removed. We have  47.17 % of original data left\n",
      "We shrink moneyness range. 0 samples are removed. We have  47.17 % of original data left\n",
      "\n",
      "\n",
      "We remove in the money samples. 3344 samples are removed. We have  46.91 % of original data left\n",
      "We shrink moneyness range. 4 samples are removed. We have  46.85 % of original data left\n",
      "\n",
      "\n",
      "We remove in the money samples. 3378 samples are removed. We have  47.52 % of original data left\n",
      "We shrink moneyness range. 0 samples are removed. We have  47.52 % of original data left\n",
      "\n",
      "\n",
      "We remove in the money samples. 3395 samples are removed. We have  47.67 % of original data left\n",
      "We shrink moneyness range. 2 samples are removed. We have  47.64 % of original data left\n",
      "\n",
      "\n",
      "We remove in the money samples. 3394 samples are removed. We have  47.06 % of original data left\n",
      "We shrink moneyness range. 1 samples are removed. We have  47.04 % of original data left\n",
      "\n",
      "\n",
      "We remove in the money samples. 3390 samples are removed. We have  48.39 % of original data left\n",
      "We shrink moneyness range. 0 samples are removed. We have  48.39 % of original data left\n",
      "\n",
      "\n",
      "We remove in the money samples. 3736 samples are removed. We have  47.40 % of original data left\n",
      "We shrink moneyness range. 0 samples are removed. We have  47.40 % of original data left\n",
      "\n",
      "\n",
      "We remove in the money samples. 3068 samples are removed. We have  46.40 % of original data left\n",
      "We shrink moneyness range. 4 samples are removed. We have  46.33 % of original data left\n",
      "\n",
      "\n",
      "We remove in the money samples. 3320 samples are removed. We have  47.73 % of original data left\n",
      "We shrink moneyness range. 1 samples are removed. We have  47.72 % of original data left\n",
      "\n",
      "\n",
      "We remove in the money samples. 3530 samples are removed. We have  47.06 % of original data left\n",
      "We shrink moneyness range. 0 samples are removed. We have  47.06 % of original data left\n",
      "\n",
      "\n",
      "We remove in the money samples. 3616 samples are removed. We have  47.65 % of original data left\n",
      "We shrink moneyness range. 0 samples are removed. We have  47.65 % of original data left\n",
      "\n",
      "\n",
      "We remove in the money samples. 3488 samples are removed. We have  47.30 % of original data left\n",
      "We shrink moneyness range. 0 samples are removed. We have  47.30 % of original data left\n",
      "\n",
      "\n",
      "We remove in the money samples. 3967 samples are removed. We have  46.65 % of original data left\n",
      "We shrink moneyness range. 24 samples are removed. We have  46.33 % of original data left\n",
      "\n",
      "\n",
      "We remove in the money samples. 3600 samples are removed. We have  46.61 % of original data left\n",
      "We shrink moneyness range. 21 samples are removed. We have  46.30 % of original data left\n",
      "\n",
      "\n",
      "We remove in the money samples. 3499 samples are removed. We have  46.86 % of original data left\n",
      "We shrink moneyness range. 0 samples are removed. We have  46.86 % of original data left\n",
      "\n",
      "\n",
      "We remove in the money samples. 3666 samples are removed. We have  47.12 % of original data left\n",
      "We shrink moneyness range. 0 samples are removed. We have  47.12 % of original data left\n",
      "\n",
      "\n",
      "We remove in the money samples. 3215 samples are removed. We have  47.03 % of original data left\n",
      "We shrink moneyness range. 0 samples are removed. We have  47.03 % of original data left\n",
      "\n",
      "\n",
      "We remove in the money samples. 4064 samples are removed. We have  47.17 % of original data left\n",
      "We shrink moneyness range. 0 samples are removed. We have  47.17 % of original data left\n",
      "\n",
      "\n",
      "We remove in the money samples. 3205 samples are removed. We have  47.09 % of original data left\n",
      "We shrink moneyness range. 0 samples are removed. We have  47.09 % of original data left\n",
      "\n",
      "\n",
      "We remove in the money samples. 3079 samples are removed. We have  48.39 % of original data left\n",
      "We shrink moneyness range. 0 samples are removed. We have  48.39 % of original data left\n",
      "\n",
      "\n",
      "We remove in the money samples. 3162 samples are removed. We have  47.67 % of original data left\n",
      "We shrink moneyness range. 0 samples are removed. We have  47.67 % of original data left\n",
      "\n",
      "\n",
      "We remove in the money samples. 2790 samples are removed. We have  48.24 % of original data left\n",
      "We shrink moneyness range. 0 samples are removed. We have  48.24 % of original data left\n",
      "\n",
      "\n",
      "We remove in the money samples. 4017 samples are removed. We have  46.72 % of original data left\n",
      "We shrink moneyness range. 27 samples are removed. We have  46.36 % of original data left\n",
      "\n",
      "\n",
      "We remove in the money samples. 3395 samples are removed. We have  47.18 % of original data left\n",
      "We shrink moneyness range. 0 samples are removed. We have  47.18 % of original data left\n",
      "\n",
      "\n",
      "We remove in the money samples. 3330 samples are removed. We have  48.01 % of original data left\n",
      "We shrink moneyness range. 0 samples are removed. We have  48.01 % of original data left\n",
      "\n",
      "\n",
      "We remove in the money samples. 3829 samples are removed. We have  45.17 % of original data left\n",
      "We shrink moneyness range. 77 samples are removed. We have  44.07 % of original data left\n",
      "\n",
      "\n",
      "We remove in the money samples. 3907 samples are removed. We have  47.68 % of original data left\n",
      "We shrink moneyness range. 0 samples are removed. We have  47.68 % of original data left\n",
      "\n",
      "\n",
      "We remove in the money samples. 3227 samples are removed. We have  47.22 % of original data left\n",
      "We shrink moneyness range. 0 samples are removed. We have  47.22 % of original data left\n",
      "\n",
      "\n",
      "We remove in the money samples. 2964 samples are removed. We have  47.60 % of original data left\n",
      "We shrink moneyness range. 1 samples are removed. We have  47.58 % of original data left\n",
      "\n",
      "\n"
     ]
    },
    {
     "name": "stdout",
     "output_type": "stream",
     "text": [
      "We remove in the money samples. 3447 samples are removed. We have  46.06 % of original data left\n",
      "We shrink moneyness range. 103 samples are removed. We have  44.44 % of original data left\n",
      "\n",
      "\n",
      "We remove in the money samples. 3736 samples are removed. We have  46.71 % of original data left\n",
      "We shrink moneyness range. 0 samples are removed. We have  46.71 % of original data left\n",
      "\n",
      "\n",
      "We remove in the money samples. 3547 samples are removed. We have  46.81 % of original data left\n",
      "We shrink moneyness range. 28 samples are removed. We have  46.39 % of original data left\n",
      "\n",
      "\n",
      "We remove in the money samples. 3680 samples are removed. We have  47.25 % of original data left\n",
      "We shrink moneyness range. 31 samples are removed. We have  46.80 % of original data left\n",
      "\n",
      "\n"
     ]
    }
   ],
   "source": [
    "%run setup.py\n",
    "# load data must be after setup, because some of parameters are going to be overrided.\n",
    "%run Load_Data.ipynb"
   ]
  },
  {
   "cell_type": "markdown",
   "metadata": {},
   "source": [
    "Because we are going to use linear regression, the validation should be apart of training set. So we merge tham."
   ]
  },
  {
   "cell_type": "code",
   "execution_count": 3,
   "metadata": {},
   "outputs": [],
   "source": [
    "df_train = df_train.append(df_val, ignore_index=True)"
   ]
  },
  {
   "cell_type": "code",
   "execution_count": 4,
   "metadata": {},
   "outputs": [
    {
     "name": "stdout",
     "output_type": "stream",
     "text": [
      "BS Mean squared P&L for calls, using normalized price, for calls is 0.0019\n"
     ]
    }
   ],
   "source": [
    "pnl = cm.calc_pnl(df_train, df_train['delta_bs'].values, dt=DT)\n",
    "print('BS Mean squared P&L for calls, using normalized price, for calls is {:.4f}'.format((pnl**2).mean()))"
   ]
  },
  {
   "cell_type": "code",
   "execution_count": 5,
   "metadata": {},
   "outputs": [],
   "source": [
    "df_call_train = df_train.loc[df_train['cp_int'] == 0]\n",
    "df_put_train = df_train.loc[df_train['cp_int'] == 1]"
   ]
  },
  {
   "cell_type": "markdown",
   "metadata": {},
   "source": [
    "#### Deta regression"
   ]
  },
  {
   "cell_type": "markdown",
   "metadata": {},
   "source": [
    "To fit regression on calls and puts repectively."
   ]
  },
  {
   "cell_type": "code",
   "execution_count": 6,
   "metadata": {},
   "outputs": [
    {
     "name": "stdout",
     "output_type": "stream",
     "text": [
      "Coefficient of regression for calls : 1.0010\n"
     ]
    }
   ],
   "source": [
    "lin_c = cm.fit_reg(df_call_train, ['delta_bs'], intercept_bl=False)\n",
    "print('Coefficient of regression for calls : {:.4f}'.format(*lin_c.coef_))\n",
    "\n",
    "lin_p = cm.fit_reg(df_put_train, ['delta_bs'], intercept_bl=False)\n",
    "print('Coefficient of regression for puts : {:.4f}'.format(*lin_p.coef_))"
   ]
  },
  {
   "cell_type": "markdown",
   "metadata": {},
   "source": [
    "Here, we test regression on all MC sets, separtely for calls and puts."
   ]
  },
  {
   "cell_type": "code",
   "execution_count": 8,
   "metadata": {},
   "outputs": [],
   "source": [
    "for i in range(NUM_TEST):\n",
    "    df_test = mc_sets[i]\n",
    "    df_test['PNL'] = cm.calc_pnl(df_test, df_test['delta_bs'], DT)\n",
    "    df_test['delta'] = df_test['delta_bs']\n",
    "    os.makedirs(f'{res_dir}BS_benchmark/pnl/', exist_ok=True)\n",
    "    df_test[['delta', 'PNL', 'cp_int', 'date']].to_csv(f'{res_dir}BS_benchmark/pnl/pnl{i}.csv')"
   ]
  },
  {
   "cell_type": "code",
   "execution_count": null,
   "metadata": {},
   "outputs": [],
   "source": []
  },
  {
   "cell_type": "code",
   "execution_count": 9,
   "metadata": {},
   "outputs": [],
   "source": [
    "lins = {'call': lin_c,\n",
    "       'put': lin_p}\n"
   ]
  },
  {
   "cell_type": "code",
   "execution_count": 10,
   "metadata": {},
   "outputs": [],
   "source": [
    "cm.test_mc_lin(lins, ['delta_bs'], \n",
    "              NUM_TEST, mc_sets, \n",
    "               DT, res_dir=f'{res_dir}Delta_regression/pnl/'\n",
    "              )"
   ]
  },
  {
   "cell_type": "markdown",
   "metadata": {},
   "source": [
    "#### Delta vega regression"
   ]
  },
  {
   "cell_type": "code",
   "execution_count": 15,
   "metadata": {},
   "outputs": [],
   "source": [
    "features = ['delta_bs', 'vega']"
   ]
  },
  {
   "cell_type": "code",
   "execution_count": 18,
   "metadata": {},
   "outputs": [
    {
     "name": "stdout",
     "output_type": "stream",
     "text": [
      "Coefficient of regression for calls : 1.0046, -0.0001\n",
      "Coefficient of regression for puts : 0.9825, -0.0003\n"
     ]
    }
   ],
   "source": [
    "lin_c = cm.fit_reg(df_call_train, features, intercept_bl=False)\n",
    "print('Coefficient of regression for calls : {:.4f}, {:.4f}'.format(*lin_c.coef_))\n",
    "\n",
    "lin_p = cm.fit_reg(df_put_train, features, intercept_bl=False)\n",
    "print('Coefficient of regression for puts : {:.4f}, {:.4f}'.format(*lin_p.coef_))"
   ]
  },
  {
   "cell_type": "code",
   "execution_count": 21,
   "metadata": {},
   "outputs": [
    {
     "ename": "ValueError",
     "evalue": "shapes (1352,2) and (1,) not aligned: 2 (dim 1) != 1 (dim 0)",
     "output_type": "error",
     "traceback": [
      "\u001b[0;31m---------------------------------------------------------------------------\u001b[0m",
      "\u001b[0;31mValueError\u001b[0m                                Traceback (most recent call last)",
      "\u001b[0;32m<ipython-input-21-af45dd47deef>\u001b[0m in \u001b[0;36m<module>\u001b[0;34m()\u001b[0m\n\u001b[1;32m      1\u001b[0m cm.test_mc_lin(lins, features, \n\u001b[1;32m      2\u001b[0m               \u001b[0mNUM_TEST\u001b[0m\u001b[0;34m,\u001b[0m \u001b[0mmc_sets\u001b[0m\u001b[0;34m,\u001b[0m\u001b[0;34m\u001b[0m\u001b[0m\n\u001b[0;32m----> 3\u001b[0;31m                \u001b[0mDT\u001b[0m\u001b[0;34m,\u001b[0m \u001b[0mres_dir\u001b[0m\u001b[0;34m=\u001b[0m\u001b[0;34mf'{res_dir}Delta_vega_regression/pnl/'\u001b[0m\u001b[0;34m\u001b[0m\u001b[0m\n\u001b[0m\u001b[1;32m      4\u001b[0m               )\n",
      "\u001b[0;32m/home/weiguan/Dropbox/Research/DeepHedging/Deep_Hedging_Code/library/common.py\u001b[0m in \u001b[0;36mtest_mc_lin\u001b[0;34m(lins, features, num_test, mc_sets, dt, res_dir)\u001b[0m\n\u001b[1;32m    463\u001b[0m \u001b[0;34m\u001b[0m\u001b[0m\n\u001b[1;32m    464\u001b[0m         \u001b[0;32mfor\u001b[0m \u001b[0midx\u001b[0m\u001b[0;34m,\u001b[0m \u001b[0mtyp\u001b[0m \u001b[0;32min\u001b[0m \u001b[0mzip\u001b[0m\u001b[0;34m(\u001b[0m\u001b[0;34m[\u001b[0m\u001b[0mcall_index\u001b[0m\u001b[0;34m,\u001b[0m \u001b[0mput_index\u001b[0m\u001b[0;34m]\u001b[0m\u001b[0;34m,\u001b[0m \u001b[0;34m[\u001b[0m\u001b[0;34m'call'\u001b[0m\u001b[0;34m,\u001b[0m \u001b[0;34m'put'\u001b[0m\u001b[0;34m]\u001b[0m\u001b[0;34m)\u001b[0m\u001b[0;34m:\u001b[0m\u001b[0;34m\u001b[0m\u001b[0m\n\u001b[0;32m--> 465\u001b[0;31m             \u001b[0mprint\u001b[0m\u001b[0;34m(\u001b[0m\u001b[0mdf_test\u001b[0m\u001b[0;34m.\u001b[0m\u001b[0mshape\u001b[0m\u001b[0;34m)\u001b[0m\u001b[0;34m\u001b[0m\u001b[0m\n\u001b[0m\u001b[1;32m    466\u001b[0m             \u001b[0mdelta\u001b[0m \u001b[0;34m=\u001b[0m \u001b[0mlins\u001b[0m\u001b[0;34m[\u001b[0m\u001b[0mtyp\u001b[0m\u001b[0;34m]\u001b[0m\u001b[0;34m.\u001b[0m\u001b[0mpredict\u001b[0m\u001b[0;34m(\u001b[0m\u001b[0mdf_test\u001b[0m\u001b[0;34m.\u001b[0m\u001b[0mloc\u001b[0m\u001b[0;34m[\u001b[0m\u001b[0midx\u001b[0m\u001b[0;34m,\u001b[0m \u001b[0mfeatures\u001b[0m\u001b[0;34m]\u001b[0m\u001b[0;34m)\u001b[0m\u001b[0;34m\u001b[0m\u001b[0m\n\u001b[1;32m    467\u001b[0m             \u001b[0mdf_test\u001b[0m\u001b[0;34m.\u001b[0m\u001b[0mloc\u001b[0m\u001b[0;34m[\u001b[0m\u001b[0midx\u001b[0m\u001b[0;34m,\u001b[0m \u001b[0;34m'delta'\u001b[0m\u001b[0;34m]\u001b[0m \u001b[0;34m=\u001b[0m \u001b[0mdelta\u001b[0m\u001b[0;34m\u001b[0m\u001b[0m\n",
      "\u001b[0;32m/home/weiguan/Programs/Anaconda3/lib/python3.6/site-packages/sklearn/linear_model/base.py\u001b[0m in \u001b[0;36mpredict\u001b[0;34m(self, X)\u001b[0m\n\u001b[1;32m    266\u001b[0m             \u001b[0mReturns\u001b[0m \u001b[0mpredicted\u001b[0m \u001b[0mvalues\u001b[0m\u001b[0;34m.\u001b[0m\u001b[0;34m\u001b[0m\u001b[0m\n\u001b[1;32m    267\u001b[0m         \"\"\"\n\u001b[0;32m--> 268\u001b[0;31m         \u001b[0;32mreturn\u001b[0m \u001b[0mself\u001b[0m\u001b[0;34m.\u001b[0m\u001b[0m_decision_function\u001b[0m\u001b[0;34m(\u001b[0m\u001b[0mX\u001b[0m\u001b[0;34m)\u001b[0m\u001b[0;34m\u001b[0m\u001b[0m\n\u001b[0m\u001b[1;32m    269\u001b[0m \u001b[0;34m\u001b[0m\u001b[0m\n\u001b[1;32m    270\u001b[0m     \u001b[0m_preprocess_data\u001b[0m \u001b[0;34m=\u001b[0m \u001b[0mstaticmethod\u001b[0m\u001b[0;34m(\u001b[0m\u001b[0m_preprocess_data\u001b[0m\u001b[0;34m)\u001b[0m\u001b[0;34m\u001b[0m\u001b[0m\n",
      "\u001b[0;32m/home/weiguan/Programs/Anaconda3/lib/python3.6/site-packages/sklearn/linear_model/base.py\u001b[0m in \u001b[0;36m_decision_function\u001b[0;34m(self, X)\u001b[0m\n\u001b[1;32m    251\u001b[0m         \u001b[0mX\u001b[0m \u001b[0;34m=\u001b[0m \u001b[0mcheck_array\u001b[0m\u001b[0;34m(\u001b[0m\u001b[0mX\u001b[0m\u001b[0;34m,\u001b[0m \u001b[0maccept_sparse\u001b[0m\u001b[0;34m=\u001b[0m\u001b[0;34m[\u001b[0m\u001b[0;34m'csr'\u001b[0m\u001b[0;34m,\u001b[0m \u001b[0;34m'csc'\u001b[0m\u001b[0;34m,\u001b[0m \u001b[0;34m'coo'\u001b[0m\u001b[0;34m]\u001b[0m\u001b[0;34m)\u001b[0m\u001b[0;34m\u001b[0m\u001b[0m\n\u001b[1;32m    252\u001b[0m         return safe_sparse_dot(X, self.coef_.T,\n\u001b[0;32m--> 253\u001b[0;31m                                dense_output=True) + self.intercept_\n\u001b[0m\u001b[1;32m    254\u001b[0m \u001b[0;34m\u001b[0m\u001b[0m\n\u001b[1;32m    255\u001b[0m     \u001b[0;32mdef\u001b[0m \u001b[0mpredict\u001b[0m\u001b[0;34m(\u001b[0m\u001b[0mself\u001b[0m\u001b[0;34m,\u001b[0m \u001b[0mX\u001b[0m\u001b[0;34m)\u001b[0m\u001b[0;34m:\u001b[0m\u001b[0;34m\u001b[0m\u001b[0m\n",
      "\u001b[0;32m/home/weiguan/Programs/Anaconda3/lib/python3.6/site-packages/sklearn/utils/extmath.py\u001b[0m in \u001b[0;36msafe_sparse_dot\u001b[0;34m(a, b, dense_output)\u001b[0m\n\u001b[1;32m    187\u001b[0m         \u001b[0;32mreturn\u001b[0m \u001b[0mret\u001b[0m\u001b[0;34m\u001b[0m\u001b[0m\n\u001b[1;32m    188\u001b[0m     \u001b[0;32melse\u001b[0m\u001b[0;34m:\u001b[0m\u001b[0;34m\u001b[0m\u001b[0m\n\u001b[0;32m--> 189\u001b[0;31m         \u001b[0;32mreturn\u001b[0m \u001b[0mfast_dot\u001b[0m\u001b[0;34m(\u001b[0m\u001b[0ma\u001b[0m\u001b[0;34m,\u001b[0m \u001b[0mb\u001b[0m\u001b[0;34m)\u001b[0m\u001b[0;34m\u001b[0m\u001b[0m\n\u001b[0m\u001b[1;32m    190\u001b[0m \u001b[0;34m\u001b[0m\u001b[0m\n\u001b[1;32m    191\u001b[0m \u001b[0;34m\u001b[0m\u001b[0m\n",
      "\u001b[0;31mValueError\u001b[0m: shapes (1352,2) and (1,) not aligned: 2 (dim 1) != 1 (dim 0)"
     ]
    }
   ],
   "source": [
    "cm.test_mc_lin(lins, features, \n",
    "              NUM_TEST, mc_sets, \n",
    "               DT, res_dir=f'{res_dir}Delta_vega_regression/pnl/'\n",
    "              )"
   ]
  },
  {
   "cell_type": "code",
   "execution_count": null,
   "metadata": {},
   "outputs": [],
   "source": []
  }
 ],
 "metadata": {
  "kernelspec": {
   "display_name": "Python 3",
   "language": "python",
   "name": "python3"
  },
  "language_info": {
   "codemirror_mode": {
    "name": "ipython",
    "version": 3
   },
   "file_extension": ".py",
   "mimetype": "text/x-python",
   "name": "python",
   "nbconvert_exporter": "python",
   "pygments_lexer": "ipython3",
   "version": "3.6.8"
  },
  "toc": {
   "base_numbering": 1,
   "nav_menu": {},
   "number_sections": true,
   "sideBar": true,
   "skip_h1_title": false,
   "title_cell": "Table of Contents",
   "title_sidebar": "Contents",
   "toc_cell": false,
   "toc_position": {},
   "toc_section_display": true,
   "toc_window_display": false
  }
 },
 "nbformat": 4,
 "nbformat_minor": 1
}
