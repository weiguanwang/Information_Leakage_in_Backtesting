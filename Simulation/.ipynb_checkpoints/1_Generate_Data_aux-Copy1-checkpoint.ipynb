{
 "cells": [
  {
   "cell_type": "markdown",
   "metadata": {},
   "source": [
    "In this notebook, we prepare data. The underlying stock price is simulated under the Black-Scholes model. A set of European options is created with the CBOE rule. We then apply some proper filtering on the resulting data. "
   ]
  },
  {
   "cell_type": "code",
   "execution_count": 1,
   "metadata": {},
   "outputs": [],
   "source": [
    "import sys\n",
    "import os\n",
    "# Append the library path to PYTHONPATH, so library can be imported.\n",
    "sys.path.append(os.path.dirname(os.getcwd()))\n",
    "import getpass\n",
    "import shutil\n",
    "import datetime\n",
    "\n",
    "import numpy as np\n",
    "import pandas as pd\n",
    "import seaborn as sns\n",
    "import matplotlib.pyplot as plt\n",
    "\n",
    "from pandas.tseries.offsets import BDay\n",
    "from scipy.stats import norm\n",
    "\n",
    "from library import bs\n",
    "from library import plot\n",
    "from library import vix\n",
    "from library import common as cm"
   ]
  },
  {
   "cell_type": "code",
   "execution_count": 2,
   "metadata": {},
   "outputs": [],
   "source": [
    "%run setup.py\n",
    "%matplotlib inline\n",
    "\n",
    "# If you want to run this notebook independent of '0_Generate_Data', you need to set RANDOM_SEED by hand.\n",
    "RANDOM_SEED = 666\n",
    "np.random.seed(RANDOM_SEED)\n",
    "sns.set(style='darkgrid')"
   ]
  },
  {
   "cell_type": "code",
   "execution_count": 3,
   "metadata": {},
   "outputs": [],
   "source": [
    "def make_features(df):\n",
    "    # Make sure this function is called after copying calls for puts.\n",
    "    # because delta are different for calls and puts.\n",
    "    df['tau0_implvol0'] = np.sqrt(df['tau0']) * df['implvol0']\n",
    "    df['sqrt_tau0'] = np.sqrt(df['tau0'])\n",
    "    df['1_over_sqrt_tau'] = 1 / np.sqrt(df['tau0'])\n",
    "    \n",
    "    # the following three features are used for Hull-White regression.\n",
    "    df['vega_s'] = df['vega'] / (df['S0_n'] * np.sqrt(df['tau0']))\n",
    "    df['delta_vega_s'] = df['delta_bs'] * df['vega_s']\n",
    "    df['delta2_vega_s'] = (df['delta_bs']**2) * df['vega_s']\n",
    "    \n",
    "    return df"
   ]
  },
  {
   "cell_type": "code",
   "execution_count": 4,
   "metadata": {},
   "outputs": [],
   "source": [
    "def creat_vix(x0, start_date, end_date, refresh=False):\n",
    "    fake_vix = vix.OUprocess(\n",
    "        'vix',\n",
    "        x0=x0, \n",
    "        sigma=SIGMA,\n",
    "        kappa=KAPPA,\n",
    "        mu=MU,\n",
    "        start_date=start_date,\n",
    "        end_date=end_date\n",
    "    )\n",
    "\n",
    "    vix_path = fake_vix.get_instrument_values_as_df(refresh)\n",
    "    return vix_path"
   ]
  },
  {
   "cell_type": "markdown",
   "metadata": {},
   "source": [
    "# Generate train and validation set\n",
    "We generate a stock path, under the Black-Scholes assumption, where volatility and interest rate are constant. On this path, a set of European option is generated. With this set of options, we construct a dataframe for the use of hedging. This dataframe is then split into a training sete and a validation set.\n",
    "\n",
    "In the dataframe, we calculate the true option prices by the Black-Scholes formula, and further calculate delta and gamma."
   ]
  },
  {
   "cell_type": "code",
   "execution_count": 6,
   "metadata": {},
   "outputs": [],
   "source": [
    "gbm = bs.GeometricBrownianMotion(\n",
    "    name='gbm', \n",
    "    initial_value=INITIAL_INDEX_PRICE,\n",
    "    volatility=VOLATILITY,\n",
    "    annual_return=ANNUAL_RETURN,\n",
    "    start_date=INDEX_START_DATE,\n",
    "    end_date=INDEX_END_DATE)"
   ]
  },
  {
   "cell_type": "code",
   "execution_count": 7,
   "metadata": {},
   "outputs": [
    {
     "name": "stderr",
     "output_type": "stream",
     "text": [
      "C:\\Users\\Weiguan\\Anaconda3\\envs\\tfenv\\lib\\site-packages\\pandas\\core\\arrays\\datetimes.py:743: PerformanceWarning: Non-vectorized DateOffset being applied to Series or DatetimeIndex\n",
      "  \"or DatetimeIndex\", PerformanceWarning)\n"
     ]
    },
    {
     "name": "stdout",
     "output_type": "stream",
     "text": [
      "Number of options: 199\n"
     ]
    }
   ],
   "source": [
    "options = cm.find_option_seq_jan_cycle(\n",
    "    gbm, \n",
    "    start=OPTION_START_DATE, \n",
    "    step_K=STEP_K, \n",
    "    threshold=THRESHOLD_OPTION_GENERATION)\n",
    "print('Number of options: {}'.format(len(options)))"
   ]
  },
  {
   "cell_type": "code",
   "execution_count": 8,
   "metadata": {},
   "outputs": [
    {
     "data": {
      "image/png": "[encoded data removed]",
      "text/plain": [
       "<Figure size 432x288 with 1 Axes>"
      ]
     },
     "metadata": {},
     "output_type": "display_data"
    }
   ],
   "source": [
    "plot.plot_stock_and_options(gbm, options)"
   ]
  },
  {
   "cell_type": "code",
   "execution_count": 9,
   "metadata": {},
   "outputs": [],
   "source": [
    "df_call = cm.get_hedge_df(\n",
    "    options,\n",
    "    interate_rate=SHORT_RATE,\n",
    "    dt=DT,\n",
    "    offset_bday=OFFSET_BDAYS,\n",
    "    heston_type=False,\n",
    "    display=False)\n"
   ]
  },
  {
   "cell_type": "code",
   "execution_count": 10,
   "metadata": {},
   "outputs": [],
   "source": [
    "vix_path = creat_vix(X0, INDEX_START_DATE, INDEX_END_DATE)\n",
    "df_call = df_call.join(vix_path, on='date')"
   ]
  },
  {
   "cell_type": "code",
   "execution_count": null,
   "metadata": {},
   "outputs": [],
   "source": []
  },
  {
   "cell_type": "markdown",
   "metadata": {},
   "source": [
    "This cell uses the Black-Scholes formula to calculate current option price $V0$, next option price $V1$, current delta $\\delta$ and gamma $\\gamma$."
   ]
  },
  {
   "cell_type": "code",
   "execution_count": 11,
   "metadata": {},
   "outputs": [
    {
     "ename": "KeyError",
     "evalue": "'S0_n'",
     "output_type": "error",
     "traceback": [
      "\u001b[1;31m---------------------------------------------------------------------------\u001b[0m",
      "\u001b[1;31mKeyError\u001b[0m                                  Traceback (most recent call last)",
      "\u001b[1;32m~\\Anaconda3\\envs\\tfenv\\lib\\site-packages\\pandas\\core\\indexes\\base.py\u001b[0m in \u001b[0;36mget_loc\u001b[1;34m(self, key, method, tolerance)\u001b[0m\n\u001b[0;32m   2656\u001b[0m             \u001b[1;32mtry\u001b[0m\u001b[1;33m:\u001b[0m\u001b[1;33m\u001b[0m\u001b[1;33m\u001b[0m\u001b[0m\n\u001b[1;32m-> 2657\u001b[1;33m                 \u001b[1;32mreturn\u001b[0m \u001b[0mself\u001b[0m\u001b[1;33m.\u001b[0m\u001b[0m_engine\u001b[0m\u001b[1;33m.\u001b[0m\u001b[0mget_loc\u001b[0m\u001b[1;33m(\u001b[0m\u001b[0mkey\u001b[0m\u001b[1;33m)\u001b[0m\u001b[1;33m\u001b[0m\u001b[1;33m\u001b[0m\u001b[0m\n\u001b[0m\u001b[0;32m   2658\u001b[0m             \u001b[1;32mexcept\u001b[0m \u001b[0mKeyError\u001b[0m\u001b[1;33m:\u001b[0m\u001b[1;33m\u001b[0m\u001b[1;33m\u001b[0m\u001b[0m\n",
      "\u001b[1;32mpandas/_libs/index.pyx\u001b[0m in \u001b[0;36mpandas._libs.index.IndexEngine.get_loc\u001b[1;34m()\u001b[0m\n",
      "\u001b[1;32mpandas/_libs/index.pyx\u001b[0m in \u001b[0;36mpandas._libs.index.IndexEngine.get_loc\u001b[1;34m()\u001b[0m\n",
      "\u001b[1;32mpandas/_libs/hashtable_class_helper.pxi\u001b[0m in \u001b[0;36mpandas._libs.hashtable.PyObjectHashTable.get_item\u001b[1;34m()\u001b[0m\n",
      "\u001b[1;32mpandas/_libs/hashtable_class_helper.pxi\u001b[0m in \u001b[0;36mpandas._libs.hashtable.PyObjectHashTable.get_item\u001b[1;34m()\u001b[0m\n",
      "\u001b[1;31mKeyError\u001b[0m: 'S0_n'",
      "\nDuring handling of the above exception, another exception occurred:\n",
      "\u001b[1;31mKeyError\u001b[0m                                  Traceback (most recent call last)",
      "\u001b[1;32m<ipython-input-11-993950c21d64>\u001b[0m in \u001b[0;36m<module>\u001b[1;34m\u001b[0m\n\u001b[0;32m      5\u001b[0m \u001b[0mdf_call\u001b[0m \u001b[1;33m=\u001b[0m \u001b[0mbs\u001b[0m\u001b[1;33m.\u001b[0m\u001b[0mcalc_call_price\u001b[0m\u001b[1;33m(\u001b[0m\u001b[0mdf_call\u001b[0m\u001b[1;33m,\u001b[0m \u001b[0mcolname_suf\u001b[0m\u001b[1;33m=\u001b[0m\u001b[1;34m'0'\u001b[0m\u001b[1;33m,\u001b[0m \u001b[0mvol\u001b[0m\u001b[1;33m=\u001b[0m\u001b[0mVOLATILITY\u001b[0m\u001b[1;33m)\u001b[0m\u001b[1;33m\u001b[0m\u001b[1;33m\u001b[0m\u001b[0m\n\u001b[0;32m      6\u001b[0m \u001b[0mdf_call\u001b[0m \u001b[1;33m=\u001b[0m \u001b[0mbs\u001b[0m\u001b[1;33m.\u001b[0m\u001b[0mcalc_call_price\u001b[0m\u001b[1;33m(\u001b[0m\u001b[0mdf_call\u001b[0m\u001b[1;33m,\u001b[0m \u001b[0mcolname_suf\u001b[0m\u001b[1;33m=\u001b[0m\u001b[1;34m'1'\u001b[0m\u001b[1;33m,\u001b[0m \u001b[0mvol\u001b[0m\u001b[1;33m=\u001b[0m\u001b[0mVOLATILITY\u001b[0m\u001b[1;33m)\u001b[0m\u001b[1;33m\u001b[0m\u001b[1;33m\u001b[0m\u001b[0m\n\u001b[1;32m----> 7\u001b[1;33m \u001b[0mdf_call\u001b[0m \u001b[1;33m=\u001b[0m \u001b[0mbs\u001b[0m\u001b[1;33m.\u001b[0m\u001b[0mcalc_call_delta\u001b[0m\u001b[1;33m(\u001b[0m\u001b[0mdf_call\u001b[0m\u001b[1;33m,\u001b[0m \u001b[0mvol\u001b[0m\u001b[1;33m=\u001b[0m\u001b[0mVOLATILITY\u001b[0m\u001b[1;33m)\u001b[0m\u001b[1;33m\u001b[0m\u001b[1;33m\u001b[0m\u001b[0m\n\u001b[0m\u001b[0;32m      8\u001b[0m \u001b[0mdf_call\u001b[0m \u001b[1;33m=\u001b[0m \u001b[0mbs\u001b[0m\u001b[1;33m.\u001b[0m\u001b[0mcalc_vega\u001b[0m\u001b[1;33m(\u001b[0m\u001b[0mdf_call\u001b[0m\u001b[1;33m,\u001b[0m \u001b[0mvol\u001b[0m\u001b[1;33m=\u001b[0m\u001b[0mVOLATILITY\u001b[0m\u001b[1;33m)\u001b[0m\u001b[1;33m\u001b[0m\u001b[1;33m\u001b[0m\u001b[0m\n\u001b[0;32m      9\u001b[0m \u001b[1;31m# df_call = bs.calc_gamma(df_call, vol=VOLATILITY)\u001b[0m\u001b[1;33m\u001b[0m\u001b[1;33m\u001b[0m\u001b[1;33m\u001b[0m\u001b[0m\n",
      "\u001b[1;32m~\\Dropbox\\Research\\DeepHedging\\Deep_Hedging_Code\\library\\bs.py\u001b[0m in \u001b[0;36mcalc_call_delta\u001b[1;34m(df, vol)\u001b[0m\n\u001b[0;32m    104\u001b[0m     delta = cm.bs_call_delta(\n\u001b[0;32m    105\u001b[0m         \u001b[0mvol\u001b[0m\u001b[1;33m=\u001b[0m\u001b[0mvol\u001b[0m\u001b[1;33m,\u001b[0m\u001b[1;33m\u001b[0m\u001b[1;33m\u001b[0m\u001b[0m\n\u001b[1;32m--> 106\u001b[1;33m         \u001b[0mS\u001b[0m\u001b[1;33m=\u001b[0m\u001b[0mdf\u001b[0m\u001b[1;33m[\u001b[0m\u001b[1;34m'S0_n'\u001b[0m\u001b[1;33m]\u001b[0m\u001b[1;33m.\u001b[0m\u001b[0mvalues\u001b[0m\u001b[1;33m,\u001b[0m\u001b[1;33m\u001b[0m\u001b[1;33m\u001b[0m\u001b[0m\n\u001b[0m\u001b[0;32m    107\u001b[0m         \u001b[0mK\u001b[0m\u001b[1;33m=\u001b[0m\u001b[0mdf\u001b[0m\u001b[1;33m[\u001b[0m\u001b[1;34m'K_n'\u001b[0m\u001b[1;33m]\u001b[0m\u001b[1;33m.\u001b[0m\u001b[0mvalues\u001b[0m\u001b[1;33m,\u001b[0m\u001b[1;33m\u001b[0m\u001b[1;33m\u001b[0m\u001b[0m\n\u001b[0;32m    108\u001b[0m         \u001b[0mtau\u001b[0m\u001b[1;33m=\u001b[0m\u001b[0mdf\u001b[0m\u001b[1;33m[\u001b[0m\u001b[1;34m'tau0'\u001b[0m\u001b[1;33m]\u001b[0m\u001b[1;33m.\u001b[0m\u001b[0mvalues\u001b[0m\u001b[1;33m,\u001b[0m\u001b[1;33m\u001b[0m\u001b[1;33m\u001b[0m\u001b[0m\n",
      "\u001b[1;32m~\\Anaconda3\\envs\\tfenv\\lib\\site-packages\\pandas\\core\\frame.py\u001b[0m in \u001b[0;36m__getitem__\u001b[1;34m(self, key)\u001b[0m\n\u001b[0;32m   2925\u001b[0m             \u001b[1;32mif\u001b[0m \u001b[0mself\u001b[0m\u001b[1;33m.\u001b[0m\u001b[0mcolumns\u001b[0m\u001b[1;33m.\u001b[0m\u001b[0mnlevels\u001b[0m \u001b[1;33m>\u001b[0m \u001b[1;36m1\u001b[0m\u001b[1;33m:\u001b[0m\u001b[1;33m\u001b[0m\u001b[1;33m\u001b[0m\u001b[0m\n\u001b[0;32m   2926\u001b[0m                 \u001b[1;32mreturn\u001b[0m \u001b[0mself\u001b[0m\u001b[1;33m.\u001b[0m\u001b[0m_getitem_multilevel\u001b[0m\u001b[1;33m(\u001b[0m\u001b[0mkey\u001b[0m\u001b[1;33m)\u001b[0m\u001b[1;33m\u001b[0m\u001b[1;33m\u001b[0m\u001b[0m\n\u001b[1;32m-> 2927\u001b[1;33m             \u001b[0mindexer\u001b[0m \u001b[1;33m=\u001b[0m \u001b[0mself\u001b[0m\u001b[1;33m.\u001b[0m\u001b[0mcolumns\u001b[0m\u001b[1;33m.\u001b[0m\u001b[0mget_loc\u001b[0m\u001b[1;33m(\u001b[0m\u001b[0mkey\u001b[0m\u001b[1;33m)\u001b[0m\u001b[1;33m\u001b[0m\u001b[1;33m\u001b[0m\u001b[0m\n\u001b[0m\u001b[0;32m   2928\u001b[0m             \u001b[1;32mif\u001b[0m \u001b[0mis_integer\u001b[0m\u001b[1;33m(\u001b[0m\u001b[0mindexer\u001b[0m\u001b[1;33m)\u001b[0m\u001b[1;33m:\u001b[0m\u001b[1;33m\u001b[0m\u001b[1;33m\u001b[0m\u001b[0m\n\u001b[0;32m   2929\u001b[0m                 \u001b[0mindexer\u001b[0m \u001b[1;33m=\u001b[0m \u001b[1;33m[\u001b[0m\u001b[0mindexer\u001b[0m\u001b[1;33m]\u001b[0m\u001b[1;33m\u001b[0m\u001b[1;33m\u001b[0m\u001b[0m\n",
      "\u001b[1;32m~\\Anaconda3\\envs\\tfenv\\lib\\site-packages\\pandas\\core\\indexes\\base.py\u001b[0m in \u001b[0;36mget_loc\u001b[1;34m(self, key, method, tolerance)\u001b[0m\n\u001b[0;32m   2657\u001b[0m                 \u001b[1;32mreturn\u001b[0m \u001b[0mself\u001b[0m\u001b[1;33m.\u001b[0m\u001b[0m_engine\u001b[0m\u001b[1;33m.\u001b[0m\u001b[0mget_loc\u001b[0m\u001b[1;33m(\u001b[0m\u001b[0mkey\u001b[0m\u001b[1;33m)\u001b[0m\u001b[1;33m\u001b[0m\u001b[1;33m\u001b[0m\u001b[0m\n\u001b[0;32m   2658\u001b[0m             \u001b[1;32mexcept\u001b[0m \u001b[0mKeyError\u001b[0m\u001b[1;33m:\u001b[0m\u001b[1;33m\u001b[0m\u001b[1;33m\u001b[0m\u001b[0m\n\u001b[1;32m-> 2659\u001b[1;33m                 \u001b[1;32mreturn\u001b[0m \u001b[0mself\u001b[0m\u001b[1;33m.\u001b[0m\u001b[0m_engine\u001b[0m\u001b[1;33m.\u001b[0m\u001b[0mget_loc\u001b[0m\u001b[1;33m(\u001b[0m\u001b[0mself\u001b[0m\u001b[1;33m.\u001b[0m\u001b[0m_maybe_cast_indexer\u001b[0m\u001b[1;33m(\u001b[0m\u001b[0mkey\u001b[0m\u001b[1;33m)\u001b[0m\u001b[1;33m)\u001b[0m\u001b[1;33m\u001b[0m\u001b[1;33m\u001b[0m\u001b[0m\n\u001b[0m\u001b[0;32m   2660\u001b[0m         \u001b[0mindexer\u001b[0m \u001b[1;33m=\u001b[0m \u001b[0mself\u001b[0m\u001b[1;33m.\u001b[0m\u001b[0mget_indexer\u001b[0m\u001b[1;33m(\u001b[0m\u001b[1;33m[\u001b[0m\u001b[0mkey\u001b[0m\u001b[1;33m]\u001b[0m\u001b[1;33m,\u001b[0m \u001b[0mmethod\u001b[0m\u001b[1;33m=\u001b[0m\u001b[0mmethod\u001b[0m\u001b[1;33m,\u001b[0m \u001b[0mtolerance\u001b[0m\u001b[1;33m=\u001b[0m\u001b[0mtolerance\u001b[0m\u001b[1;33m)\u001b[0m\u001b[1;33m\u001b[0m\u001b[1;33m\u001b[0m\u001b[0m\n\u001b[0;32m   2661\u001b[0m         \u001b[1;32mif\u001b[0m \u001b[0mindexer\u001b[0m\u001b[1;33m.\u001b[0m\u001b[0mndim\u001b[0m \u001b[1;33m>\u001b[0m \u001b[1;36m1\u001b[0m \u001b[1;32mor\u001b[0m \u001b[0mindexer\u001b[0m\u001b[1;33m.\u001b[0m\u001b[0msize\u001b[0m \u001b[1;33m>\u001b[0m \u001b[1;36m1\u001b[0m\u001b[1;33m:\u001b[0m\u001b[1;33m\u001b[0m\u001b[1;33m\u001b[0m\u001b[0m\n",
      "\u001b[1;32mpandas/_libs/index.pyx\u001b[0m in \u001b[0;36mpandas._libs.index.IndexEngine.get_loc\u001b[1;34m()\u001b[0m\n",
      "\u001b[1;32mpandas/_libs/index.pyx\u001b[0m in \u001b[0;36mpandas._libs.index.IndexEngine.get_loc\u001b[1;34m()\u001b[0m\n",
      "\u001b[1;32mpandas/_libs/hashtable_class_helper.pxi\u001b[0m in \u001b[0;36mpandas._libs.hashtable.PyObjectHashTable.get_item\u001b[1;34m()\u001b[0m\n",
      "\u001b[1;32mpandas/_libs/hashtable_class_helper.pxi\u001b[0m in \u001b[0;36mpandas._libs.hashtable.PyObjectHashTable.get_item\u001b[1;34m()\u001b[0m\n",
      "\u001b[1;31mKeyError\u001b[0m: 'S0_n'"
     ]
    }
   ],
   "source": [
    "# append implied vol, which is known constant to us.\n",
    "df_call['implvol0'] = VOLATILITY\n",
    "df_call['implvol1'] = VOLATILITY\n",
    "\n",
    "df_call = bs.calc_call_price(df_call, colname_suf='0', vol=VOLATILITY)\n",
    "df_call = bs.calc_call_price(df_call, colname_suf='1', vol=VOLATILITY)\n",
    "df_call = bs.calc_call_delta(df_call, vol=VOLATILITY)\n",
    "df_call = bs.calc_vega(df_call, vol=VOLATILITY)\n",
    "# df_call = bs.calc_gamma(df_call, vol=VOLATILITY)"
   ]
  },
  {
   "cell_type": "code",
   "execution_count": null,
   "metadata": {},
   "outputs": [],
   "source": [
    "df_put = df_call.copy()\n",
    "\n",
    "# First, convert price, then convert delta. Gamma and vega are the same.\n",
    "df_put['V0'] = df_call['V0'] - df_call['S0'] + df_call['K'] * np.exp(-1 * SHORT_RATE * df_call['tau0'])\n",
    "df_put['V1'] = df_call['V1'] - df_call['S1'] + df_call['K'] * np.exp(-1 * SHORT_RATE * df_call['tau1'])\n",
    "\n",
    "df_put['delta_bs'] = df_call['delta_bs'] - 1"
   ]
  },
  {
   "cell_type": "markdown",
   "metadata": {},
   "source": [
    "Here, we normalize prices (possibly including option prices and stock prices). The calculation is given by\n",
    "$$\n",
    "\\frac{col}{C_{\\rm NORM} * S0}\n",
    "$$"
   ]
  },
  {
   "cell_type": "code",
   "execution_count": null,
   "metadata": {},
   "outputs": [],
   "source": [
    "df_call = cm.normalize_prices(\n",
    "    df_call,\n",
    "    s_divisor=df_call['S0'],\n",
    "    c_factor=C_NORM,\n",
    "    cols=['S0', 'S1', 'V0', 'V1', 'vega'])\n",
    "\n",
    "df_put = cm.normalize_prices(\n",
    "    df_put,\n",
    "    s_divisor=df_put['S0'],\n",
    "    c_factor=C_NORM,\n",
    "    cols=['S0', 'S1', 'V0', 'V1', 'vega']\n",
    ")"
   ]
  },
  {
   "cell_type": "code",
   "execution_count": 13,
   "metadata": {},
   "outputs": [],
   "source": [
    "df_call = make_features(df_call)\n",
    "df_put = make_features(df_put)"
   ]
  },
  {
   "cell_type": "markdown",
   "metadata": {},
   "source": [
    "Then, an integer flag for option type is added. Samples with option price less than threshold are removed."
   ]
  },
  {
   "cell_type": "code",
   "execution_count": 14,
   "metadata": {},
   "outputs": [],
   "source": [
    "total_call, total_put = df_call.shape[0], df_put.shape[0]"
   ]
  },
  {
   "cell_type": "code",
   "execution_count": 15,
   "metadata": {},
   "outputs": [],
   "source": [
    "df_call, removal_rate_call, num_rem_call = bs.clean(df_call, 'OC', THRESHOLD_REMOVE_DATA)\n",
    "\n",
    "df_put, removal_rate_put, num_rem_put = bs.clean(df_put, 'OP', THRESHOLD_REMOVE_DATA)"
   ]
  },
  {
   "cell_type": "code",
   "execution_count": 16,
   "metadata": {},
   "outputs": [],
   "source": [
    "df_both = df_call.append(df_put, ignore_index=True)\n",
    "df_train, df_val = cm.split_sim_data(df_both, 'date', pd.Timestamp(DATE_BREAK), OFFSET_BDAYS)\n",
    "df_train.loc[:, 'period0'] = 0\n",
    "df_val.loc[:, 'period0'] = 1\n",
    "df_both = df_train.append(df_val, ignore_index=True)"
   ]
  },
  {
   "cell_type": "code",
   "execution_count": 17,
   "metadata": {},
   "outputs": [],
   "source": [
    "sub_dir = DATA_DIR + 'CleanData/'\n",
    "os.makedirs(sub_dir, exist_ok=True)\n",
    "df_both.to_csv(sub_dir + 'train_val_sim.csv')"
   ]
  },
  {
   "cell_type": "code",
   "execution_count": 18,
   "metadata": {},
   "outputs": [],
   "source": [
    "train_size, val_size = df_train.shape[0], df_val.shape[0]"
   ]
  },
  {
   "cell_type": "markdown",
   "metadata": {},
   "source": [
    "# Generate Monte Carlo test sets\n",
    "As before, we generate a set of options on each Monte Carlo set. Each of the set gives a dataframe in the way as above."
   ]
  },
  {
   "cell_type": "code",
   "execution_count": 19,
   "metadata": {
    "scrolled": true
   },
   "outputs": [
    {
     "data": {
      "image/png": "[encoded data removed]",
      "text/plain": [
       "<Figure size 432x288 with 1 Axes>"
      ]
     },
     "metadata": {},
     "output_type": "display_data"
    }
   ],
   "source": [
    "plot.plot_stock_test_prices(\n",
    "    gbm,\n",
    "    bs.GeometricBrownianMotion,\n",
    "    N_ofTestDays,\n",
    "    DATE_BREAK,\n",
    "    INDEX_END_DATE)"
   ]
  },
  {
   "cell_type": "code",
   "execution_count": 20,
   "metadata": {},
   "outputs": [],
   "source": [
    "init_test_value = gbm.get_instrument_values_as_df()['S0'].values[-1]\n",
    "init_vix_value = vix_path.iloc[-1]"
   ]
  },
  {
   "cell_type": "code",
   "execution_count": 21,
   "metadata": {},
   "outputs": [],
   "source": [
    "test_start_date = INDEX_END_DATE + BDay(OFFSET_BDAYS)\n",
    "test_end_date = INDEX_END_DATE + BDay(N_ofTestDays + OFFSET_BDAYS)\n",
    "\n",
    "gbm_test = bs.GeometricBrownianMotion(\n",
    "    name='gbm_test',\n",
    "    initial_value=init_test_value,\n",
    "    volatility=VOLATILITY,\n",
    "    annual_return=ANNUAL_RETURN,\n",
    "    start_date=test_start_date,\n",
    "    end_date=test_end_date\n",
    ")\n"
   ]
  },
  {
   "cell_type": "code",
   "execution_count": 22,
   "metadata": {},
   "outputs": [],
   "source": [
    "sub_dir = DATA_DIR + 'CleanData/MC/'\n",
    "os.makedirs(sub_dir, exist_ok=True)"
   ]
  },
  {
   "cell_type": "code",
   "execution_count": 23,
   "metadata": {},
   "outputs": [],
   "source": [
    "test_sizes = []"
   ]
  },
  {
   "cell_type": "code",
   "execution_count": 24,
   "metadata": {},
   "outputs": [],
   "source": [
    "for i in range(NUM_TEST):\n",
    "    options = cm.find_option_seq_jan_cycle(\n",
    "        gbm_test, \n",
    "        start=test_start_date, \n",
    "        step_K=STEP_K, \n",
    "        threshold=THRESHOLD_OPTION_GENERATION,\n",
    "        refresh=True)\n",
    "    df_call = cm.get_hedge_df(\n",
    "        options,\n",
    "        interate_rate=SHORT_RATE,\n",
    "        dt=DT,\n",
    "        offset_bday=OFFSET_BDAYS,\n",
    "        heston_type=False,\n",
    "        display=False)\n",
    "    \n",
    "    # append volatility\n",
    "    df_call['implvol0'] = VOLATILITY\n",
    "    df_call['implvol1'] = VOLATILITY\n",
    "\n",
    "    df_call = bs.calc_call_price(df_call, colname_suf='0', vol=VOLATILITY)\n",
    "    df_call = bs.calc_call_price(df_call, colname_suf='1', vol=VOLATILITY)\n",
    "    df_call = bs.calc_call_delta(df_call, vol=VOLATILITY)\n",
    "    df_call = bs.calc_vega(df_call, vol=VOLATILITY)\n",
    "    df_call = bs.calc_gamma(df_call, vol=VOLATILITY)\n",
    "    \n",
    "    vix_path = creat_vix(init_vix_value, test_start_date, test_end_date, refresh=True)\n",
    "    df_call = df_call.join(vix_path, on='date')\n",
    "    \n",
    "    df_put = df_call.copy()\n",
    "    df_put['V0'] = df_call['V0'] - df_call['S0'] + df_call['K'] * np.exp(-1 * SHORT_RATE * df_call['tau0'])\n",
    "    df_put['V1'] = df_call['V1'] - df_call['S1'] + df_call['K'] * np.exp(-1 * SHORT_RATE * df_call['tau1'])\n",
    "    df_put['delta_bs'] = df_call['delta_bs'] - 1\n",
    "    \n",
    "    df_call = cm.normalize_prices(\n",
    "        df_call,\n",
    "        s_divisor=df_call['S0'],\n",
    "        c_factor=C_NORM,\n",
    "        cols=['S0', 'S1', 'V0', 'V1'])\n",
    "    df_put = cm.normalize_prices(\n",
    "        df_put,\n",
    "        s_divisor=df_put['S0'],\n",
    "        c_factor=C_NORM,\n",
    "        cols=['S0', 'S1', 'V0', 'V1']\n",
    "    )\n",
    "    \n",
    "    df_call = make_features(df_call)\n",
    "    df_put = make_features(df_put)\n",
    "    \n",
    "    df_call, _, _1 = bs.clean(df_call, 'OC', THRESHOLD_REMOVE_DATA)\n",
    "    df_put, _1, _2 = bs.clean(df_put, 'OP', THRESHOLD_REMOVE_DATA)\n",
    "    \n",
    "    df_both = df_call.append(df_put, ignore_index=True)\n",
    "    df_both.loc[:, 'period0'] = 2\n",
    "    test_sizes.append(df_both.shape[0])\n",
    "    \n",
    "    df_both.to_csv(sub_dir + 'mc{}.csv'.format(i))"
   ]
  },
  {
   "cell_type": "code",
   "execution_count": 26,
   "metadata": {},
   "outputs": [],
   "source": [
    "with open(f'{DATA_DIR}CleanData/paras.txt', 'w+') as file:\n",
    "    for n, x in [\n",
    "        ('Date and time', datetime.datetime.now()),\n",
    "    \t('Random seed', RANDOM_SEED),\n",
    "    \t('Hedging frequency', OFFSET_BDAYS),\n",
    "    \t('Normalized price', C_NORM),\n",
    "    \t('Training start date', OPTION_START_DATE),\n",
    "        ('Initial total samples', total_call + total_put),\n",
    "        ('The number of calls samples removed in training and val, due to threshold', num_rem_call),\n",
    "        ('The number of puts samples removed in training and val, due to threshold', num_rem_put),\n",
    "    \t('Final training set size', train_size),\n",
    "    \t('Validation start date', DATE_BREAK),\n",
    "    \t('Validation set size', val_size),\n",
    "    \t('Test start date', test_start_date),\n",
    "    \t('Test end date', test_end_date),\n",
    "    \t('Test set AVERAGE size for both', sum(test_sizes) / NUM_TEST)\n",
    "    ]:\n",
    "        file.write(f'{n} = {x}\\n')\n"
   ]
  },
  {
   "cell_type": "code",
   "execution_count": null,
   "metadata": {},
   "outputs": [],
   "source": []
  }
 ],
 "metadata": {
  "kernelspec": {
   "display_name": "Python 3",
   "language": "python",
   "name": "python3"
  },
  "language_info": {
   "codemirror_mode": {
    "name": "ipython",
    "version": 3
   },
   "file_extension": ".py",
   "mimetype": "text/x-python",
   "name": "python",
   "nbconvert_exporter": "python",
   "pygments_lexer": "ipython3",
   "version": "3.6.8"
  },
  "toc": {
   "base_numbering": 1,
   "nav_menu": {},
   "number_sections": true,
   "sideBar": true,
   "skip_h1_title": false,
   "title_cell": "Table of Contents",
   "title_sidebar": "Contents",
   "toc_cell": false,
   "toc_position": {},
   "toc_section_display": true,
   "toc_window_display": false
  }
 },
 "nbformat": 4,
 "nbformat_minor": 1
}
