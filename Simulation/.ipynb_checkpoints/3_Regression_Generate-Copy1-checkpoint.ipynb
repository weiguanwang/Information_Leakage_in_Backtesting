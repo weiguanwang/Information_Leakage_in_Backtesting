{
 "cells": [
  {
   "cell_type": "code",
   "execution_count": 1,
   "metadata": {},
   "outputs": [],
   "source": [
    "import sys\n",
    "import os\n",
    "# Append the library path to PYTHONPATH, so library can be imported.\n",
    "sys.path.append(os.path.dirname(os.getcwd()))\n",
    "\n",
    "import numpy as np\n",
    "import pandas as pd\n",
    "import seaborn as sns\n",
    "import matplotlib.pyplot as plt\n",
    "\n",
    "from library import bs\n",
    "from library import plot\n",
    "from library import bs\n",
    "from library import common as cm"
   ]
  },
  {
   "cell_type": "code",
   "execution_count": 2,
   "metadata": {},
   "outputs": [],
   "source": [
    "from sklearn.model_selection import train_test_split"
   ]
  },
  {
   "cell_type": "code",
   "execution_count": 3,
   "metadata": {},
   "outputs": [
    {
     "name": "stdout",
     "output_type": "stream",
     "text": [
      "Load and clean the training and validation data.\n",
      "Original data size is 28846\n",
      "We remove in-the-money samples. 15540 samples are removed. We have  46.13% of original data left.\n",
      "We shrink moneyness range. 49 samples are removed. We have  45.96% of original data left.\n",
      "\n",
      "\n",
      "====================\n",
      "Clean and load all Monte Carlo test data.\n",
      "\n",
      "We remove in-the-money samples. 3329 samples are removed. We have  47.78% of original data left.\n",
      "We shrink moneyness range. 0 samples are removed. We have  47.78% of original data left.\n",
      "\n",
      "\n",
      "We remove in-the-money samples. 3569 samples are removed. We have  47.39% of original data left.\n",
      "We shrink moneyness range. 22 samples are removed. We have  47.07% of original data left.\n",
      "\n",
      "\n",
      "We remove in-the-money samples. 3411 samples are removed. We have  48.22% of original data left.\n",
      "We shrink moneyness range. 0 samples are removed. We have  48.22% of original data left.\n",
      "\n",
      "\n",
      "We remove in-the-money samples. 3173 samples are removed. We have  48.52% of original data left.\n",
      "We shrink moneyness range. 9 samples are removed. We have  48.37% of original data left.\n",
      "\n",
      "\n",
      "We remove in-the-money samples. 3217 samples are removed. We have  48.43% of original data left.\n",
      "We shrink moneyness range. 0 samples are removed. We have  48.43% of original data left.\n",
      "\n",
      "\n",
      "We remove in-the-money samples. 3164 samples are removed. We have  48.28% of original data left.\n",
      "We shrink moneyness range. 8 samples are removed. We have  48.15% of original data left.\n",
      "\n",
      "\n",
      "We remove in-the-money samples. 3964 samples are removed. We have  46.68% of original data left.\n",
      "We shrink moneyness range. 0 samples are removed. We have  46.68% of original data left.\n",
      "\n",
      "\n",
      "We remove in-the-money samples. 3362 samples are removed. We have  48.12% of original data left.\n",
      "We shrink moneyness range. 0 samples are removed. We have  48.12% of original data left.\n",
      "\n",
      "\n",
      "We remove in-the-money samples. 3419 samples are removed. We have  47.49% of original data left.\n",
      "We shrink moneyness range. 0 samples are removed. We have  47.49% of original data left.\n",
      "\n",
      "\n",
      "We remove in-the-money samples. 3418 samples are removed. We have  48.49% of original data left.\n",
      "We shrink moneyness range. 1 samples are removed. We have  48.47% of original data left.\n",
      "\n",
      "\n",
      "We remove in-the-money samples. 3500 samples are removed. We have  48.37% of original data left.\n",
      "We shrink moneyness range. 0 samples are removed. We have  48.37% of original data left.\n",
      "\n",
      "\n",
      "We remove in-the-money samples. 3161 samples are removed. We have  48.46% of original data left.\n",
      "We shrink moneyness range. 0 samples are removed. We have  48.46% of original data left.\n",
      "\n",
      "\n",
      "We remove in-the-money samples. 3268 samples are removed. We have  46.93% of original data left.\n",
      "We shrink moneyness range. 92 samples are removed. We have  45.44% of original data left.\n",
      "\n",
      "\n",
      "We remove in-the-money samples. 3885 samples are removed. We have  47.69% of original data left.\n",
      "We shrink moneyness range. 0 samples are removed. We have  47.69% of original data left.\n",
      "\n",
      "\n",
      "We remove in-the-money samples. 3610 samples are removed. We have  47.72% of original data left.\n",
      "We shrink moneyness range. 3 samples are removed. We have  47.68% of original data left.\n",
      "\n",
      "\n",
      "We remove in-the-money samples. 3518 samples are removed. We have  48.02% of original data left.\n",
      "We shrink moneyness range. 0 samples are removed. We have  48.02% of original data left.\n",
      "\n",
      "\n",
      "We remove in-the-money samples. 3181 samples are removed. We have  48.49% of original data left.\n",
      "We shrink moneyness range. 0 samples are removed. We have  48.49% of original data left.\n",
      "\n",
      "\n",
      "We remove in-the-money samples. 4188 samples are removed. We have  47.38% of original data left.\n",
      "We shrink moneyness range. 25 samples are removed. We have  47.07% of original data left.\n",
      "\n",
      "\n",
      "We remove in-the-money samples. 3481 samples are removed. We have  48.22% of original data left.\n",
      "We shrink moneyness range. 0 samples are removed. We have  48.22% of original data left.\n",
      "\n",
      "\n",
      "We remove in-the-money samples. 2846 samples are removed. We have  49.18% of original data left.\n",
      "We shrink moneyness range. 0 samples are removed. We have  49.18% of original data left.\n",
      "\n",
      "\n",
      "We remove in-the-money samples. 3418 samples are removed. We have  47.74% of original data left.\n",
      "We shrink moneyness range. 7 samples are removed. We have  47.64% of original data left.\n",
      "\n",
      "\n",
      "We remove in-the-money samples. 3413 samples are removed. We have  47.23% of original data left.\n",
      "We shrink moneyness range. 0 samples are removed. We have  47.23% of original data left.\n",
      "\n",
      "\n",
      "We remove in-the-money samples. 3667 samples are removed. We have  46.99% of original data left.\n",
      "We shrink moneyness range. 18 samples are removed. We have  46.73% of original data left.\n",
      "\n",
      "\n",
      "We remove in-the-money samples. 4039 samples are removed. We have  46.89% of original data left.\n",
      "We shrink moneyness range. 0 samples are removed. We have  46.89% of original data left.\n",
      "\n",
      "\n",
      "We remove in-the-money samples. 2844 samples are removed. We have  48.78% of original data left.\n",
      "We shrink moneyness range. 0 samples are removed. We have  48.78% of original data left.\n",
      "\n",
      "\n",
      "We remove in-the-money samples. 3181 samples are removed. We have  48.76% of original data left.\n",
      "We shrink moneyness range. 0 samples are removed. We have  48.76% of original data left.\n",
      "\n",
      "\n",
      "We remove in-the-money samples. 3095 samples are removed. We have  48.94% of original data left.\n",
      "We shrink moneyness range. 0 samples are removed. We have  48.94% of original data left.\n",
      "\n",
      "\n",
      "We remove in-the-money samples. 3944 samples are removed. We have  47.45% of original data left.\n",
      "We shrink moneyness range. 12 samples are removed. We have  47.29% of original data left.\n",
      "\n",
      "\n",
      "We remove in-the-money samples. 3777 samples are removed. We have  46.49% of original data left.\n",
      "We shrink moneyness range. 0 samples are removed. We have  46.49% of original data left.\n",
      "\n",
      "\n",
      "We remove in-the-money samples. 4847 samples are removed. We have  46.22% of original data left.\n",
      "We shrink moneyness range. 0 samples are removed. We have  46.22% of original data left.\n",
      "\n",
      "\n",
      "We remove in-the-money samples. 3417 samples are removed. We have  47.52% of original data left.\n",
      "We shrink moneyness range. 2 samples are removed. We have  47.49% of original data left.\n",
      "\n",
      "\n",
      "We remove in-the-money samples. 3796 samples are removed. We have  45.48% of original data left.\n",
      "We shrink moneyness range. 30 samples are removed. We have  45.04% of original data left.\n",
      "\n",
      "\n",
      "We remove in-the-money samples. 3626 samples are removed. We have  47.40% of original data left.\n",
      "We shrink moneyness range. 49 samples are removed. We have  46.69% of original data left.\n",
      "\n",
      "\n",
      "We remove in-the-money samples. 3314 samples are removed. We have  48.71% of original data left.\n",
      "We shrink moneyness range. 1 samples are removed. We have  48.69% of original data left.\n",
      "\n",
      "\n",
      "We remove in-the-money samples. 3052 samples are removed. We have  48.22% of original data left.\n",
      "We shrink moneyness range. 0 samples are removed. We have  48.22% of original data left.\n",
      "\n",
      "\n",
      "We remove in-the-money samples. 3462 samples are removed. We have  48.68% of original data left.\n",
      "We shrink moneyness range. 0 samples are removed. We have  48.68% of original data left.\n",
      "\n",
      "\n",
      "We remove in-the-money samples. 3381 samples are removed. We have  48.19% of original data left.\n",
      "We shrink moneyness range. 0 samples are removed. We have  48.19% of original data left.\n",
      "\n",
      "\n",
      "We remove in-the-money samples. 2922 samples are removed. We have  48.96% of original data left.\n",
      "We shrink moneyness range. 0 samples are removed. We have  48.96% of original data left.\n",
      "\n",
      "\n",
      "We remove in-the-money samples. 3574 samples are removed. We have  47.52% of original data left.\n",
      "We shrink moneyness range. 1 samples are removed. We have  47.50% of original data left.\n",
      "\n",
      "\n",
      "We remove in-the-money samples. 3081 samples are removed. We have  46.78% of original data left.\n",
      "We shrink moneyness range. 7 samples are removed. We have  46.66% of original data left.\n",
      "\n",
      "\n",
      "We remove in-the-money samples. 3907 samples are removed. We have  47.00% of original data left.\n",
      "We shrink moneyness range. 5 samples are removed. We have  46.93% of original data left.\n",
      "\n",
      "\n",
      "We remove in-the-money samples. 3412 samples are removed. We have  48.02% of original data left.\n",
      "We shrink moneyness range. 19 samples are removed. We have  47.73% of original data left.\n",
      "\n",
      "\n",
      "We remove in-the-money samples. 3468 samples are removed. We have  47.36% of original data left.\n",
      "We shrink moneyness range. 59 samples are removed. We have  46.46% of original data left.\n",
      "\n",
      "\n",
      "We remove in-the-money samples. 3109 samples are removed. We have  48.97% of original data left.\n",
      "We shrink moneyness range. 0 samples are removed. We have  48.97% of original data left.\n",
      "\n",
      "\n"
     ]
    },
    {
     "name": "stdout",
     "output_type": "stream",
     "text": [
      "We remove in-the-money samples. 3643 samples are removed. We have  47.60% of original data left.\n",
      "We shrink moneyness range. 59 samples are removed. We have  46.75% of original data left.\n",
      "\n",
      "\n",
      "We remove in-the-money samples. 3104 samples are removed. We have  48.89% of original data left.\n",
      "We shrink moneyness range. 0 samples are removed. We have  48.89% of original data left.\n",
      "\n",
      "\n",
      "We remove in-the-money samples. 3124 samples are removed. We have  48.56% of original data left.\n",
      "We shrink moneyness range. 0 samples are removed. We have  48.56% of original data left.\n",
      "\n",
      "\n",
      "We remove in-the-money samples. 3247 samples are removed. We have  48.61% of original data left.\n",
      "We shrink moneyness range. 0 samples are removed. We have  48.61% of original data left.\n",
      "\n",
      "\n",
      "We remove in-the-money samples. 3491 samples are removed. We have  48.27% of original data left.\n",
      "We shrink moneyness range. 0 samples are removed. We have  48.27% of original data left.\n",
      "\n",
      "\n",
      "We remove in-the-money samples. 3467 samples are removed. We have  47.22% of original data left.\n",
      "We shrink moneyness range. 63 samples are removed. We have  46.26% of original data left.\n",
      "\n",
      "\n"
     ]
    }
   ],
   "source": [
    "%run setup.py\n",
    "%load_ext autoreload\n",
    "%autoreload 2\n",
    "# load data must be after setup, because some of parameters are going to be overrided.\n",
    "%run Load_Clean_aux.ipynb"
   ]
  },
  {
   "cell_type": "code",
   "execution_count": 4,
   "metadata": {},
   "outputs": [],
   "source": [
    "def fit_reg(df_train, features, hull_white=False):\n",
    "    \n",
    "    df_call_train = df_train.loc[df_train['cp_int'] == 0]\n",
    "    df_put_train = df_train.loc[df_train['cp_int'] == 1]\n",
    "\n",
    "    lin_c = cm.fit_reg(df_call_train, features, intercept_bl=False, hull_white=hull_white)\n",
    "    print('Coefficient of regression for calls :', [f'{co:.4f}' for co in lin_c.coef_])\n",
    "\n",
    "    lin_p = cm.fit_reg(df_put_train, features, intercept_bl=False, hull_white=hull_white)\n",
    "    print('Coefficient of regression for puts :', [f'{co:.4f}' for co in lin_p.coef_])\n",
    "    \n",
    "    return {'call': lin_c, 'put': lin_p}"
   ]
  },
  {
   "cell_type": "code",
   "execution_count": null,
   "metadata": {},
   "outputs": [],
   "source": []
  },
  {
   "cell_type": "markdown",
   "metadata": {},
   "source": [
    "### Normal: no permute, no VIX"
   ]
  },
  {
   "cell_type": "code",
   "execution_count": 5,
   "metadata": {},
   "outputs": [],
   "source": [
    "res_dir = DATA_DIR + 'Result_Normal/Regression/'"
   ]
  },
  {
   "cell_type": "markdown",
   "metadata": {},
   "source": [
    "#### BS"
   ]
  },
  {
   "cell_type": "code",
   "execution_count": 6,
   "metadata": {},
   "outputs": [],
   "source": [
    "os.makedirs(f'{res_dir}BS_Benchmark/pnl/', exist_ok=True)\n",
    "for i in range(NUM_TEST):\n",
    "    df_test = mc_sets[i]\n",
    "    bs.store_pnl(\n",
    "        df_test, df_test['delta_bs'],\n",
    "        pnl_path=f'{res_dir}BS_Benchmark/pnl/pnl{i}.csv',\n",
    "        dt=DT)"
   ]
  },
  {
   "cell_type": "markdown",
   "metadata": {},
   "source": [
    "#### Delta regression"
   ]
  },
  {
   "cell_type": "markdown",
   "metadata": {},
   "source": [
    "To fit regression on calls and puts repectively. Then, we test regression on all MC sets, separtely for calls and puts."
   ]
  },
  {
   "cell_type": "code",
   "execution_count": 8,
   "metadata": {},
   "outputs": [
    {
     "name": "stdout",
     "output_type": "stream",
     "text": [
      "Coefficient of regression for calls : ['1.0017']\n",
      "Coefficient of regression for puts : ['1.0028']\n"
     ]
    }
   ],
   "source": [
    "features = ['delta_bs']\n",
    "lins = fit_reg(df_train, features)\n",
    "\n",
    "sub_res = f'{res_dir}Delta_Regression/pnl/'\n",
    "os.makedirs(sub_res, exist_ok=True)"
   ]
  },
  {
   "cell_type": "code",
   "execution_count": 9,
   "metadata": {},
   "outputs": [],
   "source": [
    "for i in range(NUM_TEST):\n",
    "    df_test = mc_sets[i]\n",
    "    delta = cm.test_mc_core(lins, features, df_test, DT)\n",
    "    bs.store_pnl(\n",
    "        df_test, delta,\n",
    "        pnl_path=f'{sub_res}pnl{i}.csv',\n",
    "        dt=DT)"
   ]
  },
  {
   "cell_type": "markdown",
   "metadata": {},
   "source": [
    "#### Delta vega regression"
   ]
  },
  {
   "cell_type": "code",
   "execution_count": 10,
   "metadata": {},
   "outputs": [
    {
     "name": "stdout",
     "output_type": "stream",
     "text": [
      "Coefficient of regression for calls : ['1.0036', '-0.0001']\n",
      "Coefficient of regression for puts : ['1.0134', '0.0003']\n"
     ]
    }
   ],
   "source": [
    "features = ['delta_bs', 'vega']\n",
    "lins = fit_reg(df_train, features)\n",
    "\n",
    "sub_res = f'{res_dir}Delta_Vega/pnl/'\n",
    "os.makedirs(sub_res, exist_ok=True)"
   ]
  },
  {
   "cell_type": "code",
   "execution_count": 11,
   "metadata": {},
   "outputs": [],
   "source": [
    "for i in range(NUM_TEST):\n",
    "    df_test = mc_sets[i]\n",
    "    delta = cm.test_mc_core(lins, features, df_test, DT)\n",
    "    bs.store_pnl(\n",
    "        df_test, delta,\n",
    "        pnl_path=f'{sub_res}pnl{i}.csv',\n",
    "        dt=DT\n",
    "    )"
   ]
  },
  {
   "cell_type": "markdown",
   "metadata": {},
   "source": [
    "#### Hull White model"
   ]
  },
  {
   "cell_type": "code",
   "execution_count": 12,
   "metadata": {},
   "outputs": [
    {
     "name": "stdout",
     "output_type": "stream",
     "text": [
      "Coefficient of regression for calls : ['0.0252', '-0.0417', '-0.0611']\n",
      "Coefficient of regression for puts : ['-0.0307', '-0.2230', '-0.4063']\n"
     ]
    }
   ],
   "source": [
    "features = ['vega_s', 'delta_vega_s', 'delta2_vega_s']\n",
    "\n",
    "lins = fit_reg(df_train, features, hull_white=True)"
   ]
  },
  {
   "cell_type": "code",
   "execution_count": 13,
   "metadata": {},
   "outputs": [],
   "source": [
    "sub_res = f'{res_dir}Hull_White/pnl/'\n",
    "os.makedirs(sub_res, exist_ok=True)"
   ]
  },
  {
   "cell_type": "code",
   "execution_count": 14,
   "metadata": {},
   "outputs": [],
   "source": [
    "for i in range(NUM_TEST):\n",
    "    df_test = mc_sets[i]\n",
    "    delta = cm.test_mc_core(lins, features, df_test, DT)\n",
    "    bs.store_pnl(\n",
    "        df_test, delta + df_test['delta_bs'],\n",
    "        pnl_path=f'{sub_res}pnl{i}.csv',\n",
    "        dt=DT\n",
    "    )"
   ]
  },
  {
   "cell_type": "markdown",
   "metadata": {},
   "source": [
    "### VIX: with VIX, but no permute"
   ]
  },
  {
   "cell_type": "code",
   "execution_count": 15,
   "metadata": {},
   "outputs": [],
   "source": [
    "res_dir = DATA_DIR + 'Result_VIX/Regression/'"
   ]
  },
  {
   "cell_type": "markdown",
   "metadata": {},
   "source": [
    "BS benchmark is the same. But to put the file in the same folder with others for the convinience of later diagnostics, we run it again."
   ]
  },
  {
   "cell_type": "code",
   "execution_count": 16,
   "metadata": {},
   "outputs": [],
   "source": [
    "os.makedirs(f'{res_dir}BS_Benchmark/pnl/', exist_ok=True)\n",
    "for i in range(NUM_TEST):\n",
    "    df_test = mc_sets[i]\n",
    "    bs.store_pnl(\n",
    "        df_test, df_test['delta_bs'],\n",
    "        pnl_path=f'{res_dir}BS_Benchmark/pnl/pnl{i}.csv',\n",
    "        dt=DT)"
   ]
  },
  {
   "cell_type": "markdown",
   "metadata": {},
   "source": [
    "#### Delta, vix"
   ]
  },
  {
   "cell_type": "code",
   "execution_count": 17,
   "metadata": {},
   "outputs": [
    {
     "name": "stdout",
     "output_type": "stream",
     "text": [
      "Coefficient of regression for calls : ['1.0042', '-0.0001']\n",
      "Coefficient of regression for puts : ['1.0014', '-0.0001']\n"
     ]
    }
   ],
   "source": [
    "features = ['delta_bs', 'fake_vix']\n",
    "lins = fit_reg(df_train, features)"
   ]
  },
  {
   "cell_type": "code",
   "execution_count": 18,
   "metadata": {},
   "outputs": [],
   "source": [
    "sub_res = f'{res_dir}Delta_Regression/pnl/'\n",
    "os.makedirs(sub_res, exist_ok=True)"
   ]
  },
  {
   "cell_type": "code",
   "execution_count": 19,
   "metadata": {},
   "outputs": [],
   "source": [
    "for i in range(NUM_TEST):\n",
    "    df_test = mc_sets[i]\n",
    "    delta = cm.test_mc_core(lins, features, df_test, DT)\n",
    "    bs.store_pnl(\n",
    "        df_test, delta,\n",
    "        pnl_path=f'{sub_res}pnl{i}.csv',\n",
    "        dt=DT)"
   ]
  },
  {
   "cell_type": "markdown",
   "metadata": {},
   "source": [
    "#### Delta, Vega, VIX"
   ]
  },
  {
   "cell_type": "code",
   "execution_count": 20,
   "metadata": {},
   "outputs": [
    {
     "name": "stdout",
     "output_type": "stream",
     "text": [
      "Coefficient of regression for calls : ['1.0057', '-0.0001', '-0.0001']\n",
      "Coefficient of regression for puts : ['1.0123', '0.0003', '-0.0001']\n"
     ]
    }
   ],
   "source": [
    "features = ['delta_bs', 'vega', 'fake_vix']\n",
    "lins = fit_reg(df_train, features)\n",
    "\n",
    "sub_res = f'{res_dir}Delta_Vega/pnl/'\n",
    "os.makedirs(sub_res, exist_ok=True)"
   ]
  },
  {
   "cell_type": "code",
   "execution_count": 21,
   "metadata": {},
   "outputs": [],
   "source": [
    "for i in range(NUM_TEST):\n",
    "    df_test = mc_sets[i]\n",
    "    delta = cm.test_mc_core(lins, features, df_test, DT)\n",
    "    bs.store_pnl(\n",
    "        df_test, delta,\n",
    "        pnl_path=f'{sub_res}pnl{i}.csv',\n",
    "        dt=DT\n",
    "    )"
   ]
  },
  {
   "cell_type": "markdown",
   "metadata": {},
   "source": [
    "Hull-White is not going to be used with VIX."
   ]
  },
  {
   "cell_type": "markdown",
   "metadata": {},
   "source": [
    "### Permute: but no VIX"
   ]
  },
  {
   "cell_type": "markdown",
   "metadata": {},
   "source": [
    "#### Prepare all permuated data sets"
   ]
  },
  {
   "cell_type": "code",
   "execution_count": 22,
   "metadata": {},
   "outputs": [],
   "source": [
    "train_permutes, test_permutes = [], []\n",
    "for i in range(NUM_TEST):\n",
    "    # the union of train and test\n",
    "    df_permute = df_train.append(mc_sets[i], ignore_index=True, sort=False)\n",
    "    df_permute = cm.permute_core(df_permute, 0, random_seed=i)\n",
    "    \n",
    "    df_train_permuted = df_permute.loc[((df_permute['period0'] == 0) | (df_permute['period0'] == 1))]\n",
    "    df_test_permuted = df_permute.loc[df_permute['period0'] == 2]\n",
    "    \n",
    "    train_permutes.append(df_train_permuted)\n",
    "    test_permutes.append(df_test_permuted)"
   ]
  },
  {
   "cell_type": "code",
   "execution_count": null,
   "metadata": {},
   "outputs": [],
   "source": []
  },
  {
   "cell_type": "code",
   "execution_count": null,
   "metadata": {},
   "outputs": [],
   "source": []
  },
  {
   "cell_type": "code",
   "execution_count": 23,
   "metadata": {},
   "outputs": [],
   "source": [
    "res_dir = DATA_DIR + 'Result_Permute/Regression/'"
   ]
  },
  {
   "cell_type": "markdown",
   "metadata": {},
   "source": [
    "#### BS\n",
    "Permuting affects the Black-Scholes, because the test set is different."
   ]
  },
  {
   "cell_type": "code",
   "execution_count": 24,
   "metadata": {},
   "outputs": [],
   "source": [
    "os.makedirs(f'{res_dir}BS_Benchmark/pnl/', exist_ok=True)\n",
    "for i in range(NUM_TEST):\n",
    "    bs.store_pnl(\n",
    "        test_permutes[i], test_permutes[i]['delta_bs'],\n",
    "        pnl_path=f'{res_dir}BS_Benchmark/pnl/pnl{i}.csv',\n",
    "        dt=DT)"
   ]
  },
  {
   "cell_type": "markdown",
   "metadata": {},
   "source": [
    "#### Delta regression"
   ]
  },
  {
   "cell_type": "code",
   "execution_count": 25,
   "metadata": {},
   "outputs": [],
   "source": [
    "features = ['delta_bs']\n",
    "sub_res = f'{res_dir}Delta_Regression/pnl/'\n",
    "os.makedirs(sub_res, exist_ok=True)"
   ]
  },
  {
   "cell_type": "code",
   "execution_count": 26,
   "metadata": {
    "scrolled": true
   },
   "outputs": [
    {
     "name": "stdout",
     "output_type": "stream",
     "text": [
      "Coefficient of regression for calls : ['0.9983']\n",
      "Coefficient of regression for puts : ['1.0004']\n",
      "Coefficient of regression for calls : ['1.0016']\n",
      "Coefficient of regression for puts : ['0.9984']\n",
      "Coefficient of regression for calls : ['1.0040']\n",
      "Coefficient of regression for puts : ['1.0016']\n",
      "Coefficient of regression for calls : ['0.9993']\n",
      "Coefficient of regression for puts : ['1.0023']\n",
      "Coefficient of regression for calls : ['1.0073']\n",
      "Coefficient of regression for puts : ['0.9956']\n",
      "Coefficient of regression for calls : ['0.9991']\n",
      "Coefficient of regression for puts : ['1.0035']\n",
      "Coefficient of regression for calls : ['1.0085']\n",
      "Coefficient of regression for puts : ['0.9958']\n",
      "Coefficient of regression for calls : ['1.0031']\n",
      "Coefficient of regression for puts : ['1.0033']\n",
      "Coefficient of regression for calls : ['1.0014']\n",
      "Coefficient of regression for puts : ['1.0056']\n",
      "Coefficient of regression for calls : ['0.9975']\n",
      "Coefficient of regression for puts : ['1.0047']\n",
      "Coefficient of regression for calls : ['0.9967']\n",
      "Coefficient of regression for puts : ['1.0064']\n",
      "Coefficient of regression for calls : ['1.0032']\n",
      "Coefficient of regression for puts : ['0.9992']\n",
      "Coefficient of regression for calls : ['0.9948']\n",
      "Coefficient of regression for puts : ['1.0084']\n",
      "Coefficient of regression for calls : ['1.0037']\n",
      "Coefficient of regression for puts : ['1.0030']\n",
      "Coefficient of regression for calls : ['1.0006']\n",
      "Coefficient of regression for puts : ['0.9981']\n",
      "Coefficient of regression for calls : ['1.0070']\n",
      "Coefficient of regression for puts : ['1.0009']\n",
      "Coefficient of regression for calls : ['1.0039']\n",
      "Coefficient of regression for puts : ['0.9964']\n",
      "Coefficient of regression for calls : ['0.9959']\n",
      "Coefficient of regression for puts : ['1.0039']\n",
      "Coefficient of regression for calls : ['1.0020']\n",
      "Coefficient of regression for puts : ['1.0086']\n",
      "Coefficient of regression for calls : ['1.0023']\n",
      "Coefficient of regression for puts : ['1.0033']\n",
      "Coefficient of regression for calls : ['0.9938']\n",
      "Coefficient of regression for puts : ['1.0108']\n",
      "Coefficient of regression for calls : ['0.9995']\n",
      "Coefficient of regression for puts : ['0.9996']\n",
      "Coefficient of regression for calls : ['1.0036']\n",
      "Coefficient of regression for puts : ['1.0046']\n",
      "Coefficient of regression for calls : ['1.0009']\n",
      "Coefficient of regression for puts : ['0.9957']\n",
      "Coefficient of regression for calls : ['1.0049']\n",
      "Coefficient of regression for puts : ['0.9995']\n",
      "Coefficient of regression for calls : ['1.0069']\n",
      "Coefficient of regression for puts : ['1.0019']\n",
      "Coefficient of regression for calls : ['1.0055']\n",
      "Coefficient of regression for puts : ['1.0047']\n",
      "Coefficient of regression for calls : ['0.9983']\n",
      "Coefficient of regression for puts : ['1.0043']\n",
      "Coefficient of regression for calls : ['1.0012']\n",
      "Coefficient of regression for puts : ['1.0011']\n",
      "Coefficient of regression for calls : ['1.0074']\n",
      "Coefficient of regression for puts : ['1.0010']\n",
      "Coefficient of regression for calls : ['1.0026']\n",
      "Coefficient of regression for puts : ['0.9988']\n",
      "Coefficient of regression for calls : ['1.0001']\n",
      "Coefficient of regression for puts : ['1.0064']\n",
      "Coefficient of regression for calls : ['0.9967']\n",
      "Coefficient of regression for puts : ['1.0095']\n",
      "Coefficient of regression for calls : ['1.0011']\n",
      "Coefficient of regression for puts : ['1.0012']\n",
      "Coefficient of regression for calls : ['0.9990']\n",
      "Coefficient of regression for puts : ['1.0015']\n",
      "Coefficient of regression for calls : ['1.0007']\n",
      "Coefficient of regression for puts : ['0.9974']\n",
      "Coefficient of regression for calls : ['1.0023']\n",
      "Coefficient of regression for puts : ['1.0024']\n",
      "Coefficient of regression for calls : ['1.0010']\n",
      "Coefficient of regression for puts : ['1.0001']\n",
      "Coefficient of regression for calls : ['0.9952']\n",
      "Coefficient of regression for puts : ['0.9986']\n",
      "Coefficient of regression for calls : ['0.9992']\n",
      "Coefficient of regression for puts : ['1.0051']\n",
      "Coefficient of regression for calls : ['1.0009']\n",
      "Coefficient of regression for puts : ['0.9992']\n",
      "Coefficient of regression for calls : ['0.9977']\n",
      "Coefficient of regression for puts : ['1.0089']\n",
      "Coefficient of regression for calls : ['0.9959']\n",
      "Coefficient of regression for puts : ['1.0041']\n",
      "Coefficient of regression for calls : ['0.9990']\n",
      "Coefficient of regression for puts : ['1.0109']\n",
      "Coefficient of regression for calls : ['1.0044']\n",
      "Coefficient of regression for puts : ['1.0002']\n",
      "Coefficient of regression for calls : ['1.0064']\n",
      "Coefficient of regression for puts : ['1.0028']\n",
      "Coefficient of regression for calls : ['1.0018']\n",
      "Coefficient of regression for puts : ['1.0063']\n",
      "Coefficient of regression for calls : ['1.0034']\n",
      "Coefficient of regression for puts : ['1.0016']\n",
      "Coefficient of regression for calls : ['1.0009']\n",
      "Coefficient of regression for puts : ['0.9980']\n",
      "Coefficient of regression for calls : ['1.0003']\n",
      "Coefficient of regression for puts : ['1.0034']\n"
     ]
    }
   ],
   "source": [
    "for i in range(NUM_TEST):    \n",
    "    \n",
    "    lins = fit_reg(train_permutes[i], features)\n",
    "    delta = cm.test_mc_core(lins, features, test_permutes[i], DT)\n",
    "    bs.store_pnl(\n",
    "        test_permutes[i], delta,\n",
    "        pnl_path=f'{sub_res}pnl{i}.csv',\n",
    "        dt=DT\n",
    "    )"
   ]
  },
  {
   "cell_type": "markdown",
   "metadata": {},
   "source": [
    "#### Delta, Vega"
   ]
  },
  {
   "cell_type": "code",
   "execution_count": 27,
   "metadata": {},
   "outputs": [],
   "source": [
    "features = ['delta_bs', 'vega']\n",
    "sub_res = f'{res_dir}Delta_Vega/pnl/'\n",
    "os.makedirs(sub_res, exist_ok=True)"
   ]
  },
  {
   "cell_type": "code",
   "execution_count": 28,
   "metadata": {
    "scrolled": true
   },
   "outputs": [
    {
     "name": "stdout",
     "output_type": "stream",
     "text": [
      "Coefficient of regression for calls : ['0.9934', '0.0001']\n",
      "Coefficient of regression for puts : ['1.0010', '0.0000']\n",
      "Coefficient of regression for calls : ['0.9938', '0.0002']\n",
      "Coefficient of regression for puts : ['1.0082', '0.0003']\n",
      "Coefficient of regression for calls : ['1.0073', '-0.0001']\n",
      "Coefficient of regression for puts : ['1.0114', '0.0003']\n",
      "Coefficient of regression for calls : ['1.0021', '-0.0001']\n",
      "Coefficient of regression for puts : ['1.0071', '0.0001']\n",
      "Coefficient of regression for calls : ['0.9977', '0.0003']\n",
      "Coefficient of regression for puts : ['0.9995', '0.0001']\n",
      "Coefficient of regression for calls : ['1.0122', '-0.0004']\n",
      "Coefficient of regression for puts : ['1.0037', '0.0000']\n",
      "Coefficient of regression for calls : ['1.0021', '0.0002']\n",
      "Coefficient of regression for puts : ['1.0134', '0.0005']\n",
      "Coefficient of regression for calls : ['1.0020', '0.0000']\n",
      "Coefficient of regression for puts : ['1.0091', '0.0002']\n",
      "Coefficient of regression for calls : ['1.0081', '-0.0002']\n",
      "Coefficient of regression for puts : ['1.0195', '0.0004']\n",
      "Coefficient of regression for calls : ['1.0057', '-0.0002']\n",
      "Coefficient of regression for puts : ['1.0035', '-0.0000']\n",
      "Coefficient of regression for calls : ['1.0001', '-0.0001']\n",
      "Coefficient of regression for puts : ['1.0020', '-0.0001']\n",
      "Coefficient of regression for calls : ['1.0023', '0.0000']\n",
      "Coefficient of regression for puts : ['1.0016', '0.0001']\n",
      "Coefficient of regression for calls : ['1.0059', '-0.0003']\n",
      "Coefficient of regression for puts : ['1.0142', '0.0002']\n",
      "Coefficient of regression for calls : ['0.9949', '0.0003']\n",
      "Coefficient of regression for puts : ['1.0181', '0.0004']\n",
      "Coefficient of regression for calls : ['0.9952', '0.0002']\n",
      "Coefficient of regression for puts : ['0.9979', '-0.0000']\n",
      "Coefficient of regression for calls : ['1.0062', '0.0000']\n",
      "Coefficient of regression for puts : ['1.0131', '0.0003']\n",
      "Coefficient of regression for calls : ['0.9995', '0.0001']\n",
      "Coefficient of regression for puts : ['1.0005', '0.0001']\n",
      "Coefficient of regression for calls : ['0.9949', '0.0000']\n",
      "Coefficient of regression for puts : ['1.0165', '0.0004']\n",
      "Coefficient of regression for calls : ['1.0046', '-0.0001']\n",
      "Coefficient of regression for puts : ['1.0171', '0.0002']\n",
      "Coefficient of regression for calls : ['1.0061', '-0.0001']\n",
      "Coefficient of regression for puts : ['1.0091', '0.0002']\n",
      "Coefficient of regression for calls : ['1.0011', '-0.0002']\n",
      "Coefficient of regression for puts : ['1.0172', '0.0002']\n",
      "Coefficient of regression for calls : ['0.9970', '0.0001']\n",
      "Coefficient of regression for puts : ['1.0065', '0.0002']\n",
      "Coefficient of regression for calls : ['1.0103', '-0.0002']\n",
      "Coefficient of regression for puts : ['1.0195', '0.0004']\n",
      "Coefficient of regression for calls : ['0.9987', '0.0001']\n",
      "Coefficient of regression for puts : ['1.0020', '0.0002']\n",
      "Coefficient of regression for calls : ['1.0139', '-0.0003']\n",
      "Coefficient of regression for puts : ['1.0111', '0.0003']\n",
      "Coefficient of regression for calls : ['1.0096', '-0.0001']\n",
      "Coefficient of regression for puts : ['1.0122', '0.0003']\n",
      "Coefficient of regression for calls : ['1.0089', '-0.0001']\n",
      "Coefficient of regression for puts : ['1.0133', '0.0002']\n",
      "Coefficient of regression for calls : ['0.9923', '0.0002']\n",
      "Coefficient of regression for puts : ['1.0189', '0.0004']\n",
      "Coefficient of regression for calls : ['0.9973', '0.0001']\n",
      "Coefficient of regression for puts : ['1.0044', '0.0001']\n",
      "Coefficient of regression for calls : ['1.0026', '0.0001']\n",
      "Coefficient of regression for puts : ['1.0056', '0.0001']\n",
      "Coefficient of regression for calls : ['1.0006', '0.0001']\n",
      "Coefficient of regression for puts : ['1.0036', '0.0001']\n",
      "Coefficient of regression for calls : ['1.0063', '-0.0002']\n",
      "Coefficient of regression for puts : ['1.0197', '0.0004']\n",
      "Coefficient of regression for calls : ['0.9968', '-0.0000']\n",
      "Coefficient of regression for puts : ['1.0220', '0.0004']\n",
      "Coefficient of regression for calls : ['1.0002', '0.0000']\n",
      "Coefficient of regression for puts : ['1.0062', '0.0001']\n",
      "Coefficient of regression for calls : ['0.9905', '0.0003']\n",
      "Coefficient of regression for puts : ['1.0053', '0.0001']\n",
      "Coefficient of regression for calls : ['1.0104', '-0.0003']\n",
      "Coefficient of regression for puts : ['0.9943', '-0.0001']\n",
      "Coefficient of regression for calls : ['1.0066', '-0.0001']\n",
      "Coefficient of regression for puts : ['1.0095', '0.0002']\n",
      "Coefficient of regression for calls : ['1.0070', '-0.0002']\n",
      "Coefficient of regression for puts : ['1.0059', '0.0002']\n",
      "Coefficient of regression for calls : ['0.9977', '-0.0001']\n",
      "Coefficient of regression for puts : ['0.9916', '-0.0002']\n",
      "Coefficient of regression for calls : ['1.0086', '-0.0003']\n",
      "Coefficient of regression for puts : ['1.0110', '0.0002']\n",
      "Coefficient of regression for calls : ['1.0115', '-0.0003']\n",
      "Coefficient of regression for puts : ['0.9976', '-0.0000']\n",
      "Coefficient of regression for calls : ['1.0108', '-0.0004']\n",
      "Coefficient of regression for puts : ['0.9994', '-0.0003']\n",
      "Coefficient of regression for calls : ['0.9968', '-0.0000']\n",
      "Coefficient of regression for puts : ['0.9989', '-0.0002']\n",
      "Coefficient of regression for calls : ['1.0003', '-0.0000']\n",
      "Coefficient of regression for puts : ['1.0153', '0.0001']\n",
      "Coefficient of regression for calls : ['1.0117', '-0.0002']\n",
      "Coefficient of regression for puts : ['0.9955', '-0.0001']\n",
      "Coefficient of regression for calls : ['1.0149', '-0.0003']\n",
      "Coefficient of regression for puts : ['1.0139', '0.0003']\n",
      "Coefficient of regression for calls : ['1.0157', '-0.0004']\n",
      "Coefficient of regression for puts : ['1.0102', '0.0001']\n",
      "Coefficient of regression for calls : ['0.9939', '0.0003']\n",
      "Coefficient of regression for puts : ['1.0156', '0.0004']\n",
      "Coefficient of regression for calls : ['0.9983', '0.0001']\n",
      "Coefficient of regression for puts : ['1.0003', '0.0001']\n",
      "Coefficient of regression for calls : ['1.0039', '-0.0001']\n",
      "Coefficient of regression for puts : ['1.0106', '0.0002']\n"
     ]
    }
   ],
   "source": [
    "for i in range(NUM_TEST):\n",
    "    \n",
    "    lins = fit_reg(train_permutes[i], features)\n",
    "    delta = cm.test_mc_core(lins, features, test_permutes[i], DT)\n",
    "    bs.store_pnl(\n",
    "        test_permutes[i], delta,\n",
    "        pnl_path=f'{sub_res}pnl{i}.csv',\n",
    "        dt=DT\n",
    "    )"
   ]
  },
  {
   "cell_type": "markdown",
   "metadata": {},
   "source": [
    "Because there is no way to use VIX with Hull-White model, we don't permute the Hull-White either."
   ]
  },
  {
   "cell_type": "markdown",
   "metadata": {},
   "source": [
    "### Permute and VIX"
   ]
  },
  {
   "cell_type": "code",
   "execution_count": 29,
   "metadata": {},
   "outputs": [],
   "source": [
    "res_dir = DATA_DIR + 'Result_Permute_VIX/Regression/'"
   ]
  },
  {
   "cell_type": "markdown",
   "metadata": {},
   "source": [
    "#### BS\n",
    "For completeness\n"
   ]
  },
  {
   "cell_type": "code",
   "execution_count": 30,
   "metadata": {},
   "outputs": [],
   "source": [
    "features = ['delta_bs']\n",
    "sub_res = f'{res_dir}BS_Benchmark/pnl/'\n",
    "os.makedirs(sub_res, exist_ok=True)"
   ]
  },
  {
   "cell_type": "code",
   "execution_count": 31,
   "metadata": {
    "scrolled": true
   },
   "outputs": [],
   "source": [
    "for i in range(NUM_TEST):  \n",
    "    bs.store_pnl(\n",
    "        test_permutes[i], test_permutes[i]['delta_bs'],\n",
    "        pnl_path=f'{sub_res}pnl{i}.csv',\n",
    "        dt=DT\n",
    "    )"
   ]
  },
  {
   "cell_type": "markdown",
   "metadata": {},
   "source": [
    "#### Delta, VIX"
   ]
  },
  {
   "cell_type": "code",
   "execution_count": 32,
   "metadata": {},
   "outputs": [],
   "source": [
    "features = ['delta_bs', 'fake_vix']\n",
    "sub_res = f'{res_dir}Delta_Regression/pnl/'\n",
    "os.makedirs(sub_res, exist_ok=True)"
   ]
  },
  {
   "cell_type": "code",
   "execution_count": 33,
   "metadata": {
    "scrolled": true
   },
   "outputs": [
    {
     "name": "stdout",
     "output_type": "stream",
     "text": [
      "Coefficient of regression for calls : ['0.9983', '-0.0000']\n",
      "Coefficient of regression for puts : ['1.0004', '0.0000']\n",
      "Coefficient of regression for calls : ['1.0035', '-0.0001']\n",
      "Coefficient of regression for puts : ['0.9972', '-0.0001']\n",
      "Coefficient of regression for calls : ['1.0045', '-0.0001']\n",
      "Coefficient of regression for puts : ['1.0013', '-0.0001']\n",
      "Coefficient of regression for calls : ['0.9997', '-0.0000']\n",
      "Coefficient of regression for puts : ['1.0025', '0.0000']\n",
      "Coefficient of regression for calls : ['1.0097', '-0.0003']\n",
      "Coefficient of regression for puts : ['0.9943', '-0.0002']\n",
      "Coefficient of regression for calls : ['0.9988', '0.0000']\n",
      "Coefficient of regression for puts : ['1.0035', '0.0000']\n",
      "Coefficient of regression for calls : ['1.0087', '-0.0002']\n",
      "Coefficient of regression for puts : ['0.9964', '-0.0002']\n",
      "Coefficient of regression for calls : ['1.0041', '-0.0001']\n",
      "Coefficient of regression for puts : ['1.0028', '-0.0001']\n",
      "Coefficient of regression for calls : ['1.0021', '-0.0001']\n",
      "Coefficient of regression for puts : ['1.0056', '0.0000']\n",
      "Coefficient of regression for calls : ['0.9978', '-0.0000']\n",
      "Coefficient of regression for puts : ['1.0046', '-0.0000']\n",
      "Coefficient of regression for calls : ['0.9959', '0.0001']\n",
      "Coefficient of regression for puts : ['1.0064', '-0.0000']\n",
      "Coefficient of regression for calls : ['1.0041', '-0.0001']\n",
      "Coefficient of regression for puts : ['0.9987', '-0.0000']\n",
      "Coefficient of regression for calls : ['0.9945', '0.0000']\n",
      "Coefficient of regression for puts : ['1.0088', '0.0001']\n",
      "Coefficient of regression for calls : ['1.0049', '-0.0001']\n",
      "Coefficient of regression for puts : ['1.0016', '-0.0001']\n",
      "Coefficient of regression for calls : ['1.0020', '-0.0001']\n",
      "Coefficient of regression for puts : ['0.9975', '-0.0000']\n",
      "Coefficient of regression for calls : ['1.0081', '-0.0001']\n",
      "Coefficient of regression for puts : ['1.0003', '-0.0001']\n",
      "Coefficient of regression for calls : ['1.0055', '-0.0001']\n",
      "Coefficient of regression for puts : ['0.9957', '-0.0002']\n",
      "Coefficient of regression for calls : ['0.9982', '-0.0002']\n",
      "Coefficient of regression for puts : ['1.0031', '-0.0001']\n",
      "Coefficient of regression for calls : ['1.0017', '-0.0001']\n",
      "Coefficient of regression for puts : ['1.0084', '0.0000']\n",
      "Coefficient of regression for calls : ['1.0040', '-0.0001']\n",
      "Coefficient of regression for puts : ['1.0026', '-0.0001']\n",
      "Coefficient of regression for calls : ['0.9938', '0.0001']\n",
      "Coefficient of regression for puts : ['1.0102', '0.0001']\n",
      "Coefficient of regression for calls : ['0.9998', '-0.0000']\n",
      "Coefficient of regression for puts : ['0.9986', '-0.0001']\n",
      "Coefficient of regression for calls : ['1.0040', '-0.0001']\n",
      "Coefficient of regression for puts : ['1.0046', '-0.0000']\n",
      "Coefficient of regression for calls : ['1.0031', '-0.0001']\n",
      "Coefficient of regression for puts : ['0.9949', '-0.0000']\n",
      "Coefficient of regression for calls : ['1.0064', '-0.0001']\n",
      "Coefficient of regression for puts : ['0.9987', '-0.0001']\n",
      "Coefficient of regression for calls : ['1.0086', '-0.0001']\n",
      "Coefficient of regression for puts : ['1.0007', '-0.0001']\n",
      "Coefficient of regression for calls : ['1.0061', '-0.0001']\n",
      "Coefficient of regression for puts : ['1.0048', '0.0000']\n",
      "Coefficient of regression for calls : ['0.9994', '-0.0001']\n",
      "Coefficient of regression for puts : ['1.0035', '-0.0000']\n",
      "Coefficient of regression for calls : ['1.0024', '-0.0001']\n",
      "Coefficient of regression for puts : ['1.0009', '-0.0000']\n",
      "Coefficient of regression for calls : ['1.0097', '-0.0002']\n",
      "Coefficient of regression for puts : ['1.0006', '-0.0001']\n",
      "Coefficient of regression for calls : ['1.0047', '-0.0002']\n",
      "Coefficient of regression for puts : ['0.9975', '-0.0001']\n",
      "Coefficient of regression for calls : ['1.0005', '-0.0000']\n",
      "Coefficient of regression for puts : ['1.0065', '0.0000']\n",
      "Coefficient of regression for calls : ['0.9988', '-0.0001']\n",
      "Coefficient of regression for puts : ['1.0081', '-0.0001']\n",
      "Coefficient of regression for calls : ['1.0030', '-0.0001']\n",
      "Coefficient of regression for puts : ['1.0011', '-0.0000']\n",
      "Coefficient of regression for calls : ['1.0014', '-0.0002']\n",
      "Coefficient of regression for puts : ['0.9999', '-0.0001']\n",
      "Coefficient of regression for calls : ['1.0011', '-0.0000']\n",
      "Coefficient of regression for puts : ['0.9969', '-0.0001']\n",
      "Coefficient of regression for calls : ['1.0038', '-0.0001']\n",
      "Coefficient of regression for puts : ['1.0019', '-0.0001']\n",
      "Coefficient of regression for calls : ['1.0015', '-0.0000']\n",
      "Coefficient of regression for puts : ['0.9992', '-0.0001']\n",
      "Coefficient of regression for calls : ['0.9952', '-0.0000']\n",
      "Coefficient of regression for puts : ['0.9986', '-0.0001']\n",
      "Coefficient of regression for calls : ['0.9989', '0.0000']\n",
      "Coefficient of regression for puts : ['1.0053', '0.0000']\n",
      "Coefficient of regression for calls : ['1.0008', '0.0000']\n",
      "Coefficient of regression for puts : ['0.9991', '-0.0000']\n",
      "Coefficient of regression for calls : ['1.0001', '-0.0001']\n",
      "Coefficient of regression for puts : ['1.0097', '0.0001']\n",
      "Coefficient of regression for calls : ['0.9963', '-0.0000']\n",
      "Coefficient of regression for puts : ['1.0044', '0.0000']\n",
      "Coefficient of regression for calls : ['0.9989', '0.0000']\n",
      "Coefficient of regression for puts : ['1.0110', '0.0000']\n",
      "Coefficient of regression for calls : ['1.0046', '-0.0000']\n",
      "Coefficient of regression for puts : ['0.9998', '-0.0000']\n",
      "Coefficient of regression for calls : ['1.0070', '-0.0000']\n",
      "Coefficient of regression for puts : ['1.0029', '0.0000']\n",
      "Coefficient of regression for calls : ['1.0036', '-0.0001']\n",
      "Coefficient of regression for puts : ['1.0052', '-0.0001']\n",
      "Coefficient of regression for calls : ['1.0056', '-0.0001']\n",
      "Coefficient of regression for puts : ['1.0012', '-0.0000']\n",
      "Coefficient of regression for calls : ['1.0011', '-0.0001']\n",
      "Coefficient of regression for puts : ['0.9981', '-0.0001']\n",
      "Coefficient of regression for calls : ['1.0006', '-0.0000']\n",
      "Coefficient of regression for puts : ['1.0028', '-0.0000']\n"
     ]
    }
   ],
   "source": [
    "for i in range(NUM_TEST):  \n",
    "    \n",
    "    lins = fit_reg(train_permutes[i], features)\n",
    "    delta = cm.test_mc_core(lins, features, test_permutes[i], DT)\n",
    "    bs.store_pnl(\n",
    "        test_permutes[i], delta,\n",
    "        pnl_path=f'{sub_res}pnl{i}.csv',\n",
    "        dt=DT\n",
    "    )"
   ]
  },
  {
   "cell_type": "markdown",
   "metadata": {},
   "source": [
    "#### Delta, Vega, VIX"
   ]
  },
  {
   "cell_type": "code",
   "execution_count": 34,
   "metadata": {},
   "outputs": [],
   "source": [
    "features = ['delta_bs', 'vega', 'fake_vix']\n",
    "sub_res = f'{res_dir}Delta_Vega/pnl/'\n",
    "os.makedirs(sub_res, exist_ok=True)"
   ]
  },
  {
   "cell_type": "code",
   "execution_count": 35,
   "metadata": {
    "scrolled": true
   },
   "outputs": [
    {
     "name": "stdout",
     "output_type": "stream",
     "text": [
      "Coefficient of regression for calls : ['0.9932', '0.0001', '0.0000']\n",
      "Coefficient of regression for puts : ['1.0015', '0.0000', '0.0000']\n",
      "Coefficient of regression for calls : ['0.9975', '0.0002', '-0.0001']\n",
      "Coefficient of regression for puts : ['1.0061', '0.0002', '-0.0001']\n",
      "Coefficient of regression for calls : ['1.0112', '-0.0002', '-0.0001']\n",
      "Coefficient of regression for puts : ['1.0088', '0.0002', '-0.0001']\n",
      "Coefficient of regression for calls : ['1.0037', '-0.0001', '-0.0000']\n",
      "Coefficient of regression for puts : ['1.0079', '0.0002', '0.0000']\n",
      "Coefficient of regression for calls : ['1.0071', '0.0001', '-0.0003']\n",
      "Coefficient of regression for puts : ['0.9941', '-0.0000', '-0.0002']\n",
      "Coefficient of regression for calls : ['1.0116', '-0.0004', '0.0000']\n",
      "Coefficient of regression for puts : ['1.0042', '0.0000', '0.0000']\n",
      "Coefficient of regression for calls : ['1.0113', '-0.0001', '-0.0002']\n",
      "Coefficient of regression for puts : ['1.0059', '0.0003', '-0.0002']\n",
      "Coefficient of regression for calls : ['1.0055', '-0.0000', '-0.0001']\n",
      "Coefficient of regression for puts : ['1.0076', '0.0001', '-0.0001']\n",
      "Coefficient of regression for calls : ['1.0103', '-0.0002', '-0.0001']\n",
      "Coefficient of regression for puts : ['1.0201', '0.0004', '0.0000']\n",
      "Coefficient of regression for calls : ['1.0077', '-0.0003', '-0.0001']\n",
      "Coefficient of regression for puts : ['1.0029', '-0.0000', '-0.0000']\n",
      "Coefficient of regression for calls : ['0.9979', '-0.0001', '0.0001']\n",
      "Coefficient of regression for puts : ['1.0017', '-0.0001', '-0.0000']\n",
      "Coefficient of regression for calls : ['1.0043', '-0.0000', '-0.0001']\n",
      "Coefficient of regression for puts : ['1.0005', '0.0000', '-0.0000']\n",
      "Coefficient of regression for calls : ['1.0050', '-0.0003', '0.0000']\n",
      "Coefficient of regression for puts : ['1.0161', '0.0002', '0.0001']\n",
      "Coefficient of regression for calls : ['0.9963', '0.0002', '-0.0001']\n",
      "Coefficient of regression for puts : ['1.0168', '0.0004', '-0.0001']\n",
      "Coefficient of regression for calls : ['0.9980', '0.0001', '-0.0001']\n",
      "Coefficient of regression for puts : ['0.9969', '-0.0000', '-0.0000']\n",
      "Coefficient of regression for calls : ['1.0118', '-0.0001', '-0.0002']\n",
      "Coefficient of regression for puts : ['1.0104', '0.0003', '-0.0001']\n",
      "Coefficient of regression for calls : ['1.0043', '0.0000', '-0.0001']\n",
      "Coefficient of regression for puts : ['0.9949', '-0.0000', '-0.0002']\n",
      "Coefficient of regression for calls : ['1.0001', '-0.0001', '-0.0002']\n",
      "Coefficient of regression for puts : ['1.0150', '0.0003', '-0.0001']\n",
      "Coefficient of regression for calls : ['1.0101', '-0.0002', '-0.0001']\n",
      "Coefficient of regression for puts : ['1.0193', '0.0003', '0.0000']\n",
      "Coefficient of regression for calls : ['1.0104', '-0.0002', '-0.0001']\n",
      "Coefficient of regression for puts : ['1.0079', '0.0002', '-0.0000']\n",
      "Coefficient of regression for calls : ['0.9973', '-0.0001', '0.0001']\n",
      "Coefficient of regression for puts : ['1.0216', '0.0003', '0.0001']\n",
      "Coefficient of regression for calls : ['0.9977', '0.0001', '-0.0000']\n",
      "Coefficient of regression for puts : ['1.0036', '0.0001', '-0.0001']\n",
      "Coefficient of regression for calls : ['1.0137', '-0.0003', '-0.0001']\n",
      "Coefficient of regression for puts : ['1.0195', '0.0004', '0.0000']\n",
      "Coefficient of regression for calls : ['1.0000', '0.0001', '-0.0001']\n",
      "Coefficient of regression for puts : ['1.0015', '0.0002', '-0.0000']\n",
      "Coefficient of regression for calls : ['1.0181', '-0.0004', '-0.0001']\n",
      "Coefficient of regression for puts : ['1.0090', '0.0003', '-0.0001']\n",
      "Coefficient of regression for calls : ['1.0127', '-0.0001', '-0.0001']\n",
      "Coefficient of regression for puts : ['1.0098', '0.0002', '-0.0001']\n",
      "Coefficient of regression for calls : ['1.0121', '-0.0002', '-0.0001']\n",
      "Coefficient of regression for puts : ['1.0140', '0.0003', '0.0000']\n",
      "Coefficient of regression for calls : ['0.9932', '0.0002', '-0.0001']\n",
      "Coefficient of regression for puts : ['1.0182', '0.0004', '-0.0000']\n",
      "Coefficient of regression for calls : ['1.0010', '0.0000', '-0.0001']\n",
      "Coefficient of regression for puts : ['1.0040', '0.0001', '-0.0000']\n",
      "Coefficient of regression for calls : ['1.0075', '0.0001', '-0.0002']\n",
      "Coefficient of regression for puts : ['1.0044', '0.0001', '-0.0000']\n",
      "Coefficient of regression for calls : ['1.0063', '-0.0000', '-0.0002']\n",
      "Coefficient of regression for puts : ['0.9998', '0.0001', '-0.0001']\n",
      "Coefficient of regression for calls : ['1.0075', '-0.0002', '-0.0000']\n",
      "Coefficient of regression for puts : ['1.0199', '0.0004', '0.0000']\n",
      "Coefficient of regression for calls : ['0.9995', '-0.0000', '-0.0001']\n",
      "Coefficient of regression for puts : ['1.0203', '0.0003', '-0.0001']\n",
      "Coefficient of regression for calls : ['1.0033', '-0.0000', '-0.0001']\n",
      "Coefficient of regression for puts : ['1.0060', '0.0001', '-0.0000']\n",
      "Coefficient of regression for calls : ['0.9944', '0.0002', '-0.0001']\n",
      "Coefficient of regression for puts : ['1.0018', '0.0001', '-0.0001']\n",
      "Coefficient of regression for calls : ['1.0130', '-0.0003', '-0.0001']\n",
      "Coefficient of regression for puts : ['0.9917', '-0.0001', '-0.0001']\n",
      "Coefficient of regression for calls : ['1.0107', '-0.0002', '-0.0001']\n",
      "Coefficient of regression for puts : ['1.0077', '0.0002', '-0.0001']\n",
      "Coefficient of regression for calls : ['1.0087', '-0.0002', '-0.0001']\n",
      "Coefficient of regression for puts : ['1.0028', '0.0001', '-0.0001']\n",
      "Coefficient of regression for calls : ['0.9981', '-0.0001', '-0.0000']\n",
      "Coefficient of regression for puts : ['0.9888', '-0.0003', '-0.0001']\n",
      "Coefficient of regression for calls : ['1.0082', '-0.0003', '0.0000']\n",
      "Coefficient of regression for puts : ['1.0112', '0.0002', '0.0000']\n",
      "Coefficient of regression for calls : ['1.0120', '-0.0003', '-0.0000']\n",
      "Coefficient of regression for puts : ['0.9970', '-0.0001', '-0.0000']\n",
      "Coefficient of regression for calls : ['1.0151', '-0.0004', '-0.0002']\n",
      "Coefficient of regression for puts : ['1.0013', '-0.0002', '0.0001']\n",
      "Coefficient of regression for calls : ['0.9982', '-0.0001', '-0.0000']\n",
      "Coefficient of regression for puts : ['0.9996', '-0.0001', '0.0000']\n",
      "Coefficient of regression for calls : ['1.0000', '-0.0000', '0.0000']\n",
      "Coefficient of regression for puts : ['1.0160', '0.0001', '0.0000']\n",
      "Coefficient of regression for calls : ['1.0127', '-0.0002', '-0.0000']\n",
      "Coefficient of regression for puts : ['0.9946', '-0.0002', '-0.0000']\n",
      "Coefficient of regression for calls : ['1.0153', '-0.0003', '-0.0000']\n",
      "Coefficient of regression for puts : ['1.0141', '0.0003', '0.0000']\n",
      "Coefficient of regression for calls : ['1.0193', '-0.0005', '-0.0001']\n",
      "Coefficient of regression for puts : ['1.0085', '0.0001', '-0.0001']\n",
      "Coefficient of regression for calls : ['0.9962', '0.0003', '-0.0001']\n",
      "Coefficient of regression for puts : ['1.0154', '0.0004', '-0.0000']\n",
      "Coefficient of regression for calls : ['1.0024', '-0.0000', '-0.0001']\n",
      "Coefficient of regression for puts : ['0.9961', '-0.0001', '-0.0001']\n",
      "Coefficient of regression for calls : ['1.0045', '-0.0001', '-0.0000']\n",
      "Coefficient of regression for puts : ['1.0097', '0.0002', '-0.0000']\n"
     ]
    }
   ],
   "source": [
    "for i in range(NUM_TEST):\n",
    "    lins = fit_reg(train_permutes[i], features)\n",
    "    delta = cm.test_mc_core(lins, features, test_permutes[i], DT)\n",
    "    bs.store_pnl(\n",
    "        test_permutes[i], delta,\n",
    "        pnl_path=f'{sub_res}pnl{i}.csv',\n",
    "        dt=DT\n",
    "    )"
   ]
  },
  {
   "cell_type": "code",
   "execution_count": null,
   "metadata": {},
   "outputs": [],
   "source": []
  }
 ],
 "metadata": {
  "kernelspec": {
   "display_name": "Python 3",
   "language": "python",
   "name": "python3"
  },
  "language_info": {
   "codemirror_mode": {
    "name": "ipython",
    "version": 3
   },
   "file_extension": ".py",
   "mimetype": "text/x-python",
   "name": "python",
   "nbconvert_exporter": "python",
   "pygments_lexer": "ipython3",
   "version": "3.6.8"
  },
  "toc": {
   "base_numbering": 1,
   "nav_menu": {},
   "number_sections": true,
   "sideBar": true,
   "skip_h1_title": false,
   "title_cell": "Table of Contents",
   "title_sidebar": "Contents",
   "toc_cell": false,
   "toc_position": {},
   "toc_section_display": true,
   "toc_window_display": false
  }
 },
 "nbformat": 4,
 "nbformat_minor": 1
}
