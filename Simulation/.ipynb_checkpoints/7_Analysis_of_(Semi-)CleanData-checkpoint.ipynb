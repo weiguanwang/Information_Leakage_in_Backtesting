{
 "cells": [
  {
   "cell_type": "code",
   "execution_count": null,
   "metadata": {},
   "outputs": [],
   "source": [
    "import sys\n",
    "import os\n",
    "# Append the library path to PYTHONPATH, so library can be imported.\n",
    "sys.path.append(os.path.dirname(os.getcwd()))\n",
    "\n",
    "from scipy.stats import norm\n",
    "\n",
    "import matplotlib.pyplot as plt\n",
    "import seaborn as sns\n",
    "\n",
    "from library import regression_aux as raux"
   ]
  },
  {
   "cell_type": "code",
   "execution_count": null,
   "metadata": {},
   "outputs": [],
   "source": [
    "%matplotlib inline\n",
    "%run setup.py\n",
    "sns.set_style('darkgrid')"
   ]
  },
  {
   "cell_type": "code",
   "execution_count": null,
   "metadata": {
    "scrolled": false
   },
   "outputs": [],
   "source": [
    "\"\"\"  Remember to run with 1D!!! setup , everything default.\"\"\"\n",
    "%run Load_Clean_aux.py normal"
   ]
  },
  {
   "cell_type": "code",
   "execution_count": null,
   "metadata": {},
   "outputs": [],
   "source": [
    "print(f'Total number of samples in in-sample set is {df_train.shape[0]}')"
   ]
  },
  {
   "cell_type": "code",
   "execution_count": null,
   "metadata": {},
   "outputs": [],
   "source": [
    "bl_train_call, bl_train_put = (df_train['cp_int'] == 0), (df_train['cp_int'] == 1)"
   ]
  },
  {
   "cell_type": "code",
   "execution_count": null,
   "metadata": {},
   "outputs": [],
   "source": [
    "(bl_train_call).sum()"
   ]
  },
  {
   "cell_type": "code",
   "execution_count": null,
   "metadata": {},
   "outputs": [],
   "source": [
    "(bl_train_put).sum()"
   ]
  },
  {
   "cell_type": "code",
   "execution_count": null,
   "metadata": {},
   "outputs": [],
   "source": [
    "call_sum, put_sum = 0, 0\n",
    "for i in range(NUM_TEST):\n",
    "    call_sum += (mc_sets[i]['cp_int'] == 0).sum()\n",
    "    put_sum += (mc_sets[i]['cp_int'] == 1).sum()"
   ]
  },
  {
   "cell_type": "code",
   "execution_count": null,
   "metadata": {},
   "outputs": [],
   "source": [
    "print(f'The sum of number of calls and puts are {call_sum} and {put_sum}, resectively')"
   ]
  },
  {
   "cell_type": "code",
   "execution_count": null,
   "metadata": {},
   "outputs": [],
   "source": [
    "print(f'The average gamma of call and put are: {df_train.loc[bl_train_call, \"gamma_n\"].mean()}, {df_train.loc[bl_train_put, \"gamma_n\"].mean()}')"
   ]
  },
  {
   "cell_type": "code",
   "execution_count": null,
   "metadata": {},
   "outputs": [],
   "source": [
    "print(f\"The average vanna of call and put are: {df_train.loc[bl_train_call, 'vanna_n'].mean()}, {df_train.loc[bl_train_put, 'vanna_n'].mean()}\")"
   ]
  },
  {
   "cell_type": "code",
   "execution_count": null,
   "metadata": {},
   "outputs": [],
   "source": [
    "print(f\"The average vega of call and put are : {df_train.loc[bl_train_call, 'vega_n'].mean()}, {df_train.loc[bl_train_put, 'vega_n'].mean()}\")"
   ]
  },
  {
   "cell_type": "code",
   "execution_count": null,
   "metadata": {},
   "outputs": [],
   "source": [
    "df_train.loc[df_train['cp_int'] == 0, 'delta_bs'].hist(bins=50)"
   ]
  },
  {
   "cell_type": "code",
   "execution_count": null,
   "metadata": {},
   "outputs": [],
   "source": [
    "plt.hist(norm.ppf(df_train.loc[df_train['cp_int'] == 0, 'delta_bs']), bins=50);"
   ]
  },
  {
   "cell_type": "code",
   "execution_count": null,
   "metadata": {},
   "outputs": [],
   "source": [
    "df_train.loc[df_train['cp_int'] == 1, 'delta_bs'].hist(bins=50)"
   ]
  },
  {
   "cell_type": "code",
   "execution_count": null,
   "metadata": {},
   "outputs": [],
   "source": [
    "plt.hist(norm.ppf(df_train.loc[df_train['cp_int'] == 1, 'delta_bs'] + 1), bins=50);"
   ]
  },
  {
   "cell_type": "markdown",
   "metadata": {},
   "source": [
    "1d"
   ]
  },
  {
   "cell_type": "code",
   "execution_count": null,
   "metadata": {},
   "outputs": [],
   "source": [
    "max_period = 1\n",
    "df = df_train\n",
    "mat = [(0, 0., 2., 'Call', 'short'), \n",
    "      (1, 0., 2., 'Put', 'short')]\n",
    "\n",
    "leve = pd.DataFrame(index=range(max_period))\n",
    "\n",
    "for i in range(max_period):\n",
    "    df_train = df.loc[(df[f'period{i}'] == 0) | (df[f'period{i}'] == 1)]\n",
    "    for c, mat_low, mat_high, n1, n2 in mat:\n",
    "        bl1 = df_train['cp_int'] == c\n",
    "        bl2 = df_train['tau0'] >= mat_low\n",
    "        bl3 = df_train['tau0'] < mat_high\n",
    "        bl = bl1 & bl2 & bl3\n",
    "        \n",
    "        leve.loc[i, f'{n1} ({n2})'] = raux.fit_leverage(df_train.loc[bl])\n",
    "\n",
    "cat = ['Call (short)',  'Put (short)']\n",
    "\n",
    "fig= plt.figure()\n",
    "for x in cat:\n",
    "    plt.plot(leve.index+1, leve[x], marker='o', label=x, linewidth=0)\n",
    "plt.legend()\n",
    "plt.ylim((-0.5, 0.5))\n",
    "plt.legend(bbox_to_anchor=(0,-.35,1,0.2), loc=\"lower left\",\n",
    "                mode=\"expand\", borderaxespad=0, ncol=3)\n",
    "plt.xlabel('Time window')\n",
    "plt.ylabel('Leverage coefficient')\n",
    "plt.title('S&P 500')"
   ]
  },
  {
   "cell_type": "code",
   "execution_count": null,
   "metadata": {},
   "outputs": [],
   "source": [
    "leve"
   ]
  },
  {
   "cell_type": "code",
   "execution_count": null,
   "metadata": {},
   "outputs": [],
   "source": []
  },
  {
   "cell_type": "code",
   "execution_count": null,
   "metadata": {},
   "outputs": [],
   "source": []
  },
  {
   "cell_type": "markdown",
   "metadata": {},
   "source": [
    "2d"
   ]
  },
  {
   "cell_type": "code",
   "execution_count": null,
   "metadata": {},
   "outputs": [],
   "source": [
    "max_period = 1\n",
    "df = df_train\n",
    "mat = [(0, 0., 2., 'Call', 'short'), \n",
    "      (1, 0., 2., 'Put', 'short')]\n",
    "\n",
    "leve = pd.DataFrame(index=range(max_period))\n",
    "\n",
    "for i in range(max_period):\n",
    "    df_train = df.loc[(df[f'period{i}'] == 0) | (df[f'period{i}'] == 1)]\n",
    "    for c, mat_low, mat_high, n1, n2 in mat:\n",
    "        bl1 = df_train['cp_int'] == c\n",
    "        bl2 = df_train['tau0'] >= mat_low\n",
    "        bl3 = df_train['tau0'] < mat_high\n",
    "        bl = bl1 & bl2 & bl3\n",
    "        \n",
    "        leve.loc[i, f'{n1} ({n2})'] = raux.fit_leverage(df_train.loc[bl])\n",
    "\n",
    "cat = ['Call (short)',  'Put (short)']\n",
    "\n",
    "fig= plt.figure()\n",
    "for x in cat:\n",
    "    plt.plot(leve.index+1, leve[x], marker='o', label=x, linewidth=0)\n",
    "plt.legend()\n",
    "plt.ylim((-0.5, 0.5))\n",
    "plt.legend(bbox_to_anchor=(0,-.35,1,0.2), loc=\"lower left\",\n",
    "                mode=\"expand\", borderaxespad=0, ncol=3)\n",
    "plt.xlabel('Time window')\n",
    "plt.ylabel('Leverage coefficient')\n",
    "plt.title('S&P 500')"
   ]
  },
  {
   "cell_type": "code",
   "execution_count": null,
   "metadata": {},
   "outputs": [],
   "source": [
    "leve"
   ]
  },
  {
   "cell_type": "code",
   "execution_count": null,
   "metadata": {},
   "outputs": [],
   "source": []
  }
 ],
 "metadata": {
  "kernelspec": {
   "display_name": "Python 3",
   "language": "python",
   "name": "python3"
  },
  "language_info": {
   "codemirror_mode": {
    "name": "ipython",
    "version": 3
   },
   "file_extension": ".py",
   "mimetype": "text/x-python",
   "name": "python",
   "nbconvert_exporter": "python",
   "pygments_lexer": "ipython3",
   "version": "3.6.8"
  }
 },
 "nbformat": 4,
 "nbformat_minor": 2
}
