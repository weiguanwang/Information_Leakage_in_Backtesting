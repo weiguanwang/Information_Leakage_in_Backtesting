{
 "cells": [
  {
   "cell_type": "code",
   "execution_count": 1,
   "metadata": {},
   "outputs": [],
   "source": [
    "import sys\n",
    "import os\n",
    "# Append the library path to PYTHONPATH, so library can be imported.\n",
    "sys.path.append(os.path.dirname(os.getcwd()))\n",
    "import itertools\n",
    "import datetime\n",
    "\n",
    "import numpy as np\n",
    "import pandas as pd\n",
    "\n",
    "from library import common as cm"
   ]
  },
  {
   "cell_type": "code",
   "execution_count": 2,
   "metadata": {},
   "outputs": [],
   "source": [
    "%run setup.py\n",
    "%load_ext autoreload\n",
    "%autoreload 2"
   ]
  },
  {
   "cell_type": "code",
   "execution_count": 3,
   "metadata": {},
   "outputs": [],
   "source": [
    "# Cols are different experiment, rows are different models. #debug\n",
    "cols = ['FREQ=1D_HALFMONEY=otm_MINM=0.8_MAXM=1.5_Permute=False_VIX=False',\n",
    "        'FREQ=2D_HALFMONEY=otm_MINM=0.8_MAXM=1.5_Permute=False_VIX=False',  \n",
    "       ]\n",
    "rows = [#'Regression/No_Hedge', \n",
    "        'Regression/BS_Benchmark', \n",
    "        #'Regression/Alexander2007', 'Regression/Two_Assets',\n",
    "        #'Regression/Delta_only', 'Regression/Gamma_only', 'Regression/Vega_only', 'Regression/Vanna_only','Regression/Bias',\n",
    "        #'Regression/Delta_Gamma', 'Regression/Delta_Vega', 'Regression/Delta_Vanna', \n",
    "        #'Regression/Delta_Vega_Gamma', 'Regression/Delta_Vega_Vanna',  'Regression/Delta_Gamma_Vanna', \n",
    "        #'Regression/Delta_Vega_Gamma_Vanna',\n",
    "        #'Regression/Hull_White', 'Regression/Hull_White_relaxed',\n",
    "        #'Network/Normal_Feature',  \n",
    "        'Network/Delta_Vega_Vanna',\n",
    "        #'Network/Delta_Vega'\n",
    "]"
   ]
  },
  {
   "cell_type": "code",
   "execution_count": 4,
   "metadata": {},
   "outputs": [],
   "source": [
    "df_dirs = pd.DataFrame(columns=cols, index=rows)"
   ]
  },
  {
   "cell_type": "code",
   "execution_count": 5,
   "metadata": {},
   "outputs": [],
   "source": [
    "for x, y in list(itertools.product(rows, cols)):\n",
    "    df_dirs.loc[x, y] = f'{DATA_DIR}Result/CONFIG={CONFIG}/{y}/{x}/'"
   ]
  },
  {
   "cell_type": "code",
   "execution_count": 6,
   "metadata": {},
   "outputs": [],
   "source": [
    "def run_save_tables(dirs, agg, measure, op_type):\n",
    "    df_res = inspector.evalPnls(df_dirs, aggregating=aggregating, measure=measure, op_type=op_type)\n",
    "    if op_type == None:\n",
    "        file = f'{DATA_DIR}Result/CONFIG={CONFIG}/call_and_put_{measure}.csv'\n",
    "    else:\n",
    "        file = f'{DATA_DIR}Result/CONFIG={CONFIG}/{op_type}_{measure}.csv'\n",
    "#     with open(file, 'w+') as f:\n",
    "#         f.write(f'{datetime.datetime.now()}\\n{op_type}_{measure}\\n')\n",
    "#     (df_res).to_csv(file, mode='a') \n",
    "    return df_res"
   ]
  },
  {
   "cell_type": "code",
   "execution_count": 7,
   "metadata": {},
   "outputs": [
    {
     "name": "stdout",
     "output_type": "stream",
     "text": [
      "Load result PNL from C:\\Users\\Weiguan\\Dropbox\\Research\\DeepHedging\\Data\\BlackScholes/Result/CONFIG=2/\n"
     ]
    }
   ],
   "source": [
    "print('Load result PNL from', f'{DATA_DIR}Result/CONFIG={CONFIG}/')"
   ]
  },
  {
   "cell_type": "code",
   "execution_count": 8,
   "metadata": {},
   "outputs": [],
   "source": [
    "inspector = cm.Inspector()"
   ]
  },
  {
   "cell_type": "code",
   "execution_count": 9,
   "metadata": {},
   "outputs": [],
   "source": [
    "aggregating = 'mean'\n",
    "measure = 'mse'"
   ]
  },
  {
   "cell_type": "code",
   "execution_count": null,
   "metadata": {},
   "outputs": [],
   "source": [
    "run_save_tables(df_dirs, agg=aggregating, measure=measure, op_type=None)"
   ]
  },
  {
   "cell_type": "code",
   "execution_count": null,
   "metadata": {},
   "outputs": [],
   "source": [
    "run_save_tables(df_dirs, agg=aggregating, measure=measure, op_type='call')"
   ]
  },
  {
   "cell_type": "code",
   "execution_count": null,
   "metadata": {
    "scrolled": false
   },
   "outputs": [],
   "source": [
    "run_save_tables(df_dirs, agg=aggregating, measure=measure, op_type='put')"
   ]
  },
  {
   "cell_type": "code",
   "execution_count": null,
   "metadata": {},
   "outputs": [],
   "source": []
  },
  {
   "cell_type": "raw",
   "metadata": {},
   "source": [
    "aggregating = 'mean'\n",
    "measure = 'median'\n",
    "\n",
    "run_save_tables(df_dirs, agg=aggregating, measure=measure, op_type=None)\n",
    "\n",
    "run_save_tables(df_dirs, agg=aggregating, measure=measure, op_type='call')\n",
    "\n",
    "run_save_tables(df_dirs, agg=aggregating, measure=measure, op_type='put')"
   ]
  },
  {
   "cell_type": "code",
   "execution_count": null,
   "metadata": {},
   "outputs": [],
   "source": [
    "aggregating = 'mean'\n",
    "measure = 'lower5%VaR'"
   ]
  },
  {
   "cell_type": "code",
   "execution_count": null,
   "metadata": {},
   "outputs": [],
   "source": [
    "run_save_tables(df_dirs, agg=aggregating, measure=measure, op_type=None)"
   ]
  },
  {
   "cell_type": "code",
   "execution_count": null,
   "metadata": {},
   "outputs": [],
   "source": [
    "run_save_tables(df_dirs, agg=aggregating, measure=measure, op_type='call')"
   ]
  },
  {
   "cell_type": "code",
   "execution_count": null,
   "metadata": {},
   "outputs": [],
   "source": [
    "run_save_tables(df_dirs, agg=aggregating, measure=measure, op_type='put')"
   ]
  },
  {
   "cell_type": "code",
   "execution_count": null,
   "metadata": {},
   "outputs": [],
   "source": [
    "aggregating = 'mean'\n",
    "measure = 'upper95%VaR'"
   ]
  },
  {
   "cell_type": "code",
   "execution_count": null,
   "metadata": {},
   "outputs": [],
   "source": [
    "run_save_tables(df_dirs, agg=aggregating, measure=measure, op_type=None)"
   ]
  },
  {
   "cell_type": "code",
   "execution_count": null,
   "metadata": {},
   "outputs": [],
   "source": [
    "run_save_tables(df_dirs, agg=aggregating, measure=measure, op_type='call')"
   ]
  },
  {
   "cell_type": "code",
   "execution_count": null,
   "metadata": {},
   "outputs": [],
   "source": [
    "run_save_tables(df_dirs, agg=aggregating, measure=measure, op_type='put')"
   ]
  },
  {
   "cell_type": "code",
   "execution_count": null,
   "metadata": {},
   "outputs": [],
   "source": []
  }
 ],
 "metadata": {
  "kernelspec": {
   "display_name": "Python 3",
   "language": "python",
   "name": "python3"
  },
  "language_info": {
   "codemirror_mode": {
    "name": "ipython",
    "version": 3
   },
   "file_extension": ".py",
   "mimetype": "text/x-python",
   "name": "python",
   "nbconvert_exporter": "python",
   "pygments_lexer": "ipython3",
   "version": "3.6.8"
  },
  "toc": {
   "base_numbering": 1,
   "nav_menu": {},
   "number_sections": true,
   "sideBar": true,
   "skip_h1_title": false,
   "title_cell": "Table of Contents",
   "title_sidebar": "Contents",
   "toc_cell": false,
   "toc_position": {},
   "toc_section_display": true,
   "toc_window_display": false
  }
 },
 "nbformat": 4,
 "nbformat_minor": 2
}
