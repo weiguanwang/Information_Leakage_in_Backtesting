{
 "cells": [
  {
   "cell_type": "code",
   "execution_count": 1,
   "metadata": {},
   "outputs": [],
   "source": [
    "import pandas as pd\n",
    "import numpy as np\n",
    "import setup\n",
    "import sys\n",
    "import os\n",
    "# Append the library path to PYTHONPATH, so library can be imported.\n",
    "sys.path.append(os.path.dirname(os.getcwd()))\n",
    "\n",
    "from library import common as cm"
   ]
  },
  {
   "cell_type": "code",
   "execution_count": 2,
   "metadata": {},
   "outputs": [],
   "source": [
    "%run setup.py"
   ]
  },
  {
   "cell_type": "code",
   "execution_count": 3,
   "metadata": {},
   "outputs": [],
   "source": [
    "if sys.argv[1] == 'tune':\n",
    "    data_dir = DATA_DIR + 'SimData/TuneHypers'\n",
    "    mc_dir = data_dir + 'MC/'\n",
    "\n",
    "if sys.argv[1] == 'normal':\n",
    "    data_dir = DATA_DIR + 'SimData/'\n",
    "    mc_dir = data_dir + 'MC/'"
   ]
  },
  {
   "cell_type": "code",
   "execution_count": 4,
   "metadata": {},
   "outputs": [
    {
     "name": "stdout",
     "output_type": "stream",
     "text": [
      "Load and clean the training and validation data.\n",
      "Original data size is 28846\n"
     ]
    }
   ],
   "source": [
    "df = pd.read_csv(data_dir + 'train_val_sim.csv', index_col=0)\n",
    "ori_size = df.shape[0]\n",
    "print(\"Load and clean the training and validation data.\")\n",
    "print(f'Original data size is {df.shape[0]}')"
   ]
  },
  {
   "cell_type": "markdown",
   "metadata": {},
   "source": [
    "Remove certain types of samples from training and validation sets."
   ]
  },
  {
   "cell_type": "code",
   "execution_count": 5,
   "metadata": {},
   "outputs": [],
   "source": [
    "def clean(df, ori_size):\n",
    "    \n",
    "    if OUT_MONEY:\n",
    "        df = cm.out_of_money_only(df, ori_size)\n",
    "\n",
    "    bl = (df['M0'] > MIN_M) & (df['M0'] < MAX_M)\n",
    "    cm.print_removal(df.shape[0], sum(bl), ori_size, 'We shrink moneyness range')\n",
    "    df = df.loc[bl]\n",
    "    \n",
    "    return df"
   ]
  },
  {
   "cell_type": "code",
   "execution_count": 6,
   "metadata": {},
   "outputs": [
    {
     "name": "stdout",
     "output_type": "stream",
     "text": [
      "We remove in-the-money samples. 15540 samples are removed. We have  46.13% of original data left.\n",
      "We shrink moneyness range. 49 samples are removed. We have  45.96% of original data left.\n"
     ]
    }
   ],
   "source": [
    "df_train = clean(df, ori_size)"
   ]
  },
  {
   "cell_type": "code",
   "execution_count": null,
   "metadata": {},
   "outputs": [],
   "source": []
  },
  {
   "cell_type": "code",
   "execution_count": 7,
   "metadata": {},
   "outputs": [
    {
     "name": "stdout",
     "output_type": "stream",
     "text": [
      "\n",
      "\n",
      "====================\n",
      "Clean and load all Monte Carlo test data.\n",
      "\n"
     ]
    }
   ],
   "source": [
    "print(\"\\n\\n====================\")\n",
    "print(\"Clean and load all Monte Carlo test data.\\n\")"
   ]
  },
  {
   "cell_type": "markdown",
   "metadata": {},
   "source": [
    "Import all the monte carlo sets together, and do the same selection for safty reason. Do not select any data in other part of the code."
   ]
  },
  {
   "cell_type": "code",
   "execution_count": 8,
   "metadata": {},
   "outputs": [],
   "source": [
    "mc_sets = []    "
   ]
  },
  {
   "cell_type": "code",
   "execution_count": 9,
   "metadata": {},
   "outputs": [
    {
     "name": "stdout",
     "output_type": "stream",
     "text": [
      "We remove in-the-money samples. 3329 samples are removed. We have  47.78% of original data left.\n",
      "We shrink moneyness range. 0 samples are removed. We have  47.78% of original data left.\n",
      "\n",
      "\n",
      "We remove in-the-money samples. 3569 samples are removed. We have  47.39% of original data left.\n",
      "We shrink moneyness range. 22 samples are removed. We have  47.07% of original data left.\n",
      "\n",
      "\n",
      "We remove in-the-money samples. 3411 samples are removed. We have  48.22% of original data left.\n",
      "We shrink moneyness range. 0 samples are removed. We have  48.22% of original data left.\n",
      "\n",
      "\n",
      "We remove in-the-money samples. 3173 samples are removed. We have  48.52% of original data left.\n",
      "We shrink moneyness range. 9 samples are removed. We have  48.37% of original data left.\n",
      "\n",
      "\n",
      "We remove in-the-money samples. 3217 samples are removed. We have  48.43% of original data left.\n",
      "We shrink moneyness range. 0 samples are removed. We have  48.43% of original data left.\n",
      "\n",
      "\n",
      "We remove in-the-money samples. 3164 samples are removed. We have  48.28% of original data left.\n",
      "We shrink moneyness range. 8 samples are removed. We have  48.15% of original data left.\n",
      "\n",
      "\n",
      "We remove in-the-money samples. 3964 samples are removed. We have  46.68% of original data left.\n",
      "We shrink moneyness range. 0 samples are removed. We have  46.68% of original data left.\n",
      "\n",
      "\n",
      "We remove in-the-money samples. 3362 samples are removed. We have  48.12% of original data left.\n",
      "We shrink moneyness range. 0 samples are removed. We have  48.12% of original data left.\n",
      "\n",
      "\n",
      "We remove in-the-money samples. 3419 samples are removed. We have  47.49% of original data left.\n",
      "We shrink moneyness range. 0 samples are removed. We have  47.49% of original data left.\n",
      "\n",
      "\n",
      "We remove in-the-money samples. 3418 samples are removed. We have  48.49% of original data left.\n",
      "We shrink moneyness range. 1 samples are removed. We have  48.47% of original data left.\n",
      "\n",
      "\n",
      "We remove in-the-money samples. 3500 samples are removed. We have  48.37% of original data left.\n",
      "We shrink moneyness range. 0 samples are removed. We have  48.37% of original data left.\n",
      "\n",
      "\n",
      "We remove in-the-money samples. 3161 samples are removed. We have  48.46% of original data left.\n",
      "We shrink moneyness range. 0 samples are removed. We have  48.46% of original data left.\n",
      "\n",
      "\n",
      "We remove in-the-money samples. 3268 samples are removed. We have  46.93% of original data left.\n",
      "We shrink moneyness range. 92 samples are removed. We have  45.44% of original data left.\n",
      "\n",
      "\n",
      "We remove in-the-money samples. 3885 samples are removed. We have  47.69% of original data left.\n",
      "We shrink moneyness range. 0 samples are removed. We have  47.69% of original data left.\n",
      "\n",
      "\n",
      "We remove in-the-money samples. 3610 samples are removed. We have  47.72% of original data left.\n",
      "We shrink moneyness range. 3 samples are removed. We have  47.68% of original data left.\n",
      "\n",
      "\n",
      "We remove in-the-money samples. 3518 samples are removed. We have  48.02% of original data left.\n",
      "We shrink moneyness range. 0 samples are removed. We have  48.02% of original data left.\n",
      "\n",
      "\n",
      "We remove in-the-money samples. 3181 samples are removed. We have  48.49% of original data left.\n",
      "We shrink moneyness range. 0 samples are removed. We have  48.49% of original data left.\n",
      "\n",
      "\n",
      "We remove in-the-money samples. 4188 samples are removed. We have  47.38% of original data left.\n",
      "We shrink moneyness range. 25 samples are removed. We have  47.07% of original data left.\n",
      "\n",
      "\n",
      "We remove in-the-money samples. 3481 samples are removed. We have  48.22% of original data left.\n",
      "We shrink moneyness range. 0 samples are removed. We have  48.22% of original data left.\n",
      "\n",
      "\n",
      "We remove in-the-money samples. 2846 samples are removed. We have  49.18% of original data left.\n",
      "We shrink moneyness range. 0 samples are removed. We have  49.18% of original data left.\n",
      "\n",
      "\n",
      "We remove in-the-money samples. 3418 samples are removed. We have  47.74% of original data left.\n",
      "We shrink moneyness range. 7 samples are removed. We have  47.64% of original data left.\n",
      "\n",
      "\n",
      "We remove in-the-money samples. 3413 samples are removed. We have  47.23% of original data left.\n",
      "We shrink moneyness range. 0 samples are removed. We have  47.23% of original data left.\n",
      "\n",
      "\n",
      "We remove in-the-money samples. 3667 samples are removed. We have  46.99% of original data left.\n",
      "We shrink moneyness range. 18 samples are removed. We have  46.73% of original data left.\n",
      "\n",
      "\n",
      "We remove in-the-money samples. 4039 samples are removed. We have  46.89% of original data left.\n",
      "We shrink moneyness range. 0 samples are removed. We have  46.89% of original data left.\n",
      "\n",
      "\n",
      "We remove in-the-money samples. 2844 samples are removed. We have  48.78% of original data left.\n",
      "We shrink moneyness range. 0 samples are removed. We have  48.78% of original data left.\n",
      "\n",
      "\n",
      "We remove in-the-money samples. 3181 samples are removed. We have  48.76% of original data left.\n",
      "We shrink moneyness range. 0 samples are removed. We have  48.76% of original data left.\n",
      "\n",
      "\n",
      "We remove in-the-money samples. 3095 samples are removed. We have  48.94% of original data left.\n",
      "We shrink moneyness range. 0 samples are removed. We have  48.94% of original data left.\n",
      "\n",
      "\n",
      "We remove in-the-money samples. 3944 samples are removed. We have  47.45% of original data left.\n",
      "We shrink moneyness range. 12 samples are removed. We have  47.29% of original data left.\n",
      "\n",
      "\n",
      "We remove in-the-money samples. 3777 samples are removed. We have  46.49% of original data left.\n",
      "We shrink moneyness range. 0 samples are removed. We have  46.49% of original data left.\n",
      "\n",
      "\n",
      "We remove in-the-money samples. 4847 samples are removed. We have  46.22% of original data left.\n",
      "We shrink moneyness range. 0 samples are removed. We have  46.22% of original data left.\n",
      "\n",
      "\n",
      "We remove in-the-money samples. 3417 samples are removed. We have  47.52% of original data left.\n",
      "We shrink moneyness range. 2 samples are removed. We have  47.49% of original data left.\n",
      "\n",
      "\n",
      "We remove in-the-money samples. 3796 samples are removed. We have  45.48% of original data left.\n",
      "We shrink moneyness range. 30 samples are removed. We have  45.04% of original data left.\n",
      "\n",
      "\n",
      "We remove in-the-money samples. 3626 samples are removed. We have  47.40% of original data left.\n",
      "We shrink moneyness range. 49 samples are removed. We have  46.69% of original data left.\n",
      "\n",
      "\n",
      "We remove in-the-money samples. 3314 samples are removed. We have  48.71% of original data left.\n",
      "We shrink moneyness range. 1 samples are removed. We have  48.69% of original data left.\n",
      "\n",
      "\n",
      "We remove in-the-money samples. 3052 samples are removed. We have  48.22% of original data left.\n",
      "We shrink moneyness range. 0 samples are removed. We have  48.22% of original data left.\n",
      "\n",
      "\n",
      "We remove in-the-money samples. 3462 samples are removed. We have  48.68% of original data left.\n",
      "We shrink moneyness range. 0 samples are removed. We have  48.68% of original data left.\n",
      "\n",
      "\n",
      "We remove in-the-money samples. 3381 samples are removed. We have  48.19% of original data left.\n",
      "We shrink moneyness range. 0 samples are removed. We have  48.19% of original data left.\n",
      "\n",
      "\n",
      "We remove in-the-money samples. 2922 samples are removed. We have  48.96% of original data left.\n",
      "We shrink moneyness range. 0 samples are removed. We have  48.96% of original data left.\n",
      "\n",
      "\n",
      "We remove in-the-money samples. 3574 samples are removed. We have  47.52% of original data left.\n",
      "We shrink moneyness range. 1 samples are removed. We have  47.50% of original data left.\n",
      "\n",
      "\n",
      "We remove in-the-money samples. 3081 samples are removed. We have  46.78% of original data left.\n",
      "We shrink moneyness range. 7 samples are removed. We have  46.66% of original data left.\n",
      "\n",
      "\n",
      "We remove in-the-money samples. 3907 samples are removed. We have  47.00% of original data left.\n",
      "We shrink moneyness range. 5 samples are removed. We have  46.93% of original data left.\n",
      "\n",
      "\n",
      "We remove in-the-money samples. 3412 samples are removed. We have  48.02% of original data left.\n",
      "We shrink moneyness range. 19 samples are removed. We have  47.73% of original data left.\n",
      "\n",
      "\n",
      "We remove in-the-money samples. 3468 samples are removed. We have  47.36% of original data left.\n",
      "We shrink moneyness range. 59 samples are removed. We have  46.46% of original data left.\n",
      "\n",
      "\n",
      "We remove in-the-money samples. 3109 samples are removed. We have  48.97% of original data left.\n",
      "We shrink moneyness range. 0 samples are removed. We have  48.97% of original data left.\n",
      "\n",
      "\n"
     ]
    },
    {
     "name": "stdout",
     "output_type": "stream",
     "text": [
      "We remove in-the-money samples. 3643 samples are removed. We have  47.60% of original data left.\n",
      "We shrink moneyness range. 59 samples are removed. We have  46.75% of original data left.\n",
      "\n",
      "\n",
      "We remove in-the-money samples. 3104 samples are removed. We have  48.89% of original data left.\n",
      "We shrink moneyness range. 0 samples are removed. We have  48.89% of original data left.\n",
      "\n",
      "\n",
      "We remove in-the-money samples. 3124 samples are removed. We have  48.56% of original data left.\n",
      "We shrink moneyness range. 0 samples are removed. We have  48.56% of original data left.\n",
      "\n",
      "\n",
      "We remove in-the-money samples. 3247 samples are removed. We have  48.61% of original data left.\n",
      "We shrink moneyness range. 0 samples are removed. We have  48.61% of original data left.\n",
      "\n",
      "\n",
      "We remove in-the-money samples. 3491 samples are removed. We have  48.27% of original data left.\n",
      "We shrink moneyness range. 0 samples are removed. We have  48.27% of original data left.\n",
      "\n",
      "\n",
      "We remove in-the-money samples. 3467 samples are removed. We have  47.22% of original data left.\n",
      "We shrink moneyness range. 63 samples are removed. We have  46.26% of original data left.\n",
      "\n",
      "\n"
     ]
    }
   ],
   "source": [
    "for i in range(NUM_TEST):\n",
    "    df_test = pd.read_csv(mc_dir + 'mc{}.csv'.format(i), index_col=0)\n",
    "    ori_size = df_test.shape[0]\n",
    "    df_test = clean(df_test, ori_size)\n",
    "    \n",
    "    mc_sets.append(df_test)\n",
    "    print('\\n')"
   ]
  },
  {
   "cell_type": "code",
   "execution_count": null,
   "metadata": {},
   "outputs": [],
   "source": []
  }
 ],
 "metadata": {
  "kernelspec": {
   "display_name": "Python 3",
   "language": "python",
   "name": "python3"
  },
  "language_info": {
   "codemirror_mode": {
    "name": "ipython",
    "version": 3
   },
   "file_extension": ".py",
   "mimetype": "text/x-python",
   "name": "python",
   "nbconvert_exporter": "python",
   "pygments_lexer": "ipython3",
   "version": "3.6.8"
  },
  "toc": {
   "base_numbering": 1,
   "nav_menu": {},
   "number_sections": true,
   "sideBar": true,
   "skip_h1_title": false,
   "title_cell": "Table of Contents",
   "title_sidebar": "Contents",
   "toc_cell": false,
   "toc_position": {},
   "toc_section_display": true,
   "toc_window_display": false
  }
 },
 "nbformat": 4,
 "nbformat_minor": 2
}
