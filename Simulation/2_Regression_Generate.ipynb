{
 "cells": [
  {
   "cell_type": "code",
   "execution_count": null,
   "metadata": {},
   "outputs": [],
   "source": [
    "import sys\n",
    "import os\n",
    "# Append the library path to PYTHONPATH, so library can be imported.\n",
    "sys.path.append(os.path.dirname(os.getcwd()))\n",
    "import shutil\n",
    "\n",
    "import numpy as np\n",
    "import pandas as pd\n",
    "\n",
    "from library import bs\n",
    "from library import common as cm\n",
    "from library import regression_aux as raux"
   ]
  },
  {
   "cell_type": "code",
   "execution_count": null,
   "metadata": {
    "scrolled": false
   },
   "outputs": [],
   "source": [
    "%run setup.py\n",
    "%load_ext autoreload\n",
    "%autoreload 2"
   ]
  },
  {
   "cell_type": "code",
   "execution_count": null,
   "metadata": {},
   "outputs": [],
   "source": [
    "print('Loading data for:', FREQ)\n",
    "print('Permutation flag:', PERMUTE)\n",
    "print('VIX flag:', VIX)"
   ]
  },
  {
   "cell_type": "code",
   "execution_count": null,
   "metadata": {},
   "outputs": [],
   "source": [
    "# load data must be after setup, because some of parameters are going to be overwritten.\n",
    "%run Load_Clean_aux.py normal"
   ]
  },
  {
   "cell_type": "code",
   "execution_count": null,
   "metadata": {},
   "outputs": [],
   "source": [
    "regr_dir = res_dir + 'Regression/'\n",
    "print(f'Save results at:\\n{regr_dir}')"
   ]
  },
  {
   "cell_type": "code",
   "execution_count": null,
   "metadata": {},
   "outputs": [],
   "source": [
    "if os.path.exists(regr_dir):\n",
    "    shutil.rmtree(regr_dir)\n",
    "os.makedirs(regr_dir)\n",
    "shutil.copy(f'setup.py', regr_dir) "
   ]
  },
  {
   "cell_type": "code",
   "execution_count": null,
   "metadata": {},
   "outputs": [],
   "source": [
    "def save_tables(res, dirs):\n",
    "    if res is not None:\n",
    "        res['df_coef'].to_csv(f'{dirs}coef.csv')\n",
    "        res['df_fit_std'].to_csv(f'{dirs}std.csv')"
   ]
  },
  {
   "cell_type": "markdown",
   "metadata": {},
   "source": [
    "### NO permute"
   ]
  },
  {
   "cell_type": "code",
   "execution_count": null,
   "metadata": {},
   "outputs": [],
   "source": [
    "if not PERMUTE:\n",
    "    sub_regr_dir = f'{regr_dir}No_Hedge/'\n",
    "    os.makedirs(f'{sub_regr_dir}pnl/', exist_ok=True)\n",
    "    \n",
    "    for i in range(NUM_TEST):\n",
    "        df_test = mc_sets[i]\n",
    "        df_tmp = df_train.append(df_test)\n",
    "        zero = np.array([0.]*len(df_tmp))\n",
    "        zero = pd.Series(zero, index=df_tmp.index)\n",
    "        pnl_path = f'{sub_regr_dir}pnl/pnl{i}.csv'\n",
    "        cm.store_pnl(\n",
    "            df_tmp, zero,\n",
    "            pnl_path=pnl_path)"
   ]
  },
  {
   "cell_type": "markdown",
   "metadata": {},
   "source": [
    "#### BS"
   ]
  },
  {
   "cell_type": "code",
   "execution_count": null,
   "metadata": {},
   "outputs": [],
   "source": [
    "if not PERMUTE:\n",
    "    sub_regr_dir = f'{regr_dir}BS_Benchmark/'\n",
    "    os.makedirs(f'{sub_regr_dir}pnl/', exist_ok=True)\n",
    "    for i in range(NUM_TEST):\n",
    "        df_test = mc_sets[i]\n",
    "        df_tmp = df_train.append(df_test)\n",
    "        pnl_path = f'{sub_regr_dir}pnl/pnl{i}.csv'\n",
    "        cm.store_pnl(\n",
    "            df_tmp, df_tmp['delta_bs'],\n",
    "            pnl_path=pnl_path)"
   ]
  },
  {
   "cell_type": "markdown",
   "metadata": {},
   "source": [
    "#### Delta-Vega-Vanna"
   ]
  },
  {
   "cell_type": "code",
   "execution_count": null,
   "metadata": {},
   "outputs": [],
   "source": [
    "if not PERMUTE:\n",
    "    sub_regr_dir = f'{regr_dir}Delta_Vega_Vanna/'\n",
    "    for i in range(NUM_TEST):\n",
    "        df_test = mc_sets[i]\n",
    "        df_tmp = df_train.append(df_test)\n",
    "        kwargs = {'vix': VIX, \n",
    "                  'features': ['delta_bs', 'vega_n', 'vanna_n'], \n",
    "                  'max_period': 0, \n",
    "                  'sub_res': f'{sub_regr_dir}pnl/',\n",
    "                  'pnl_path': f'{sub_regr_dir}pnl/pnl{i}.csv',\n",
    "                  'df': df_tmp,\n",
    "                  'delta_coeff_1': False,\n",
    "                  'agg_side': False\n",
    "                 }\n",
    "        res = raux.run_store_lin(**kwargs)\n",
    "    save_tables(res, sub_regr_dir)"
   ]
  },
  {
   "cell_type": "markdown",
   "metadata": {},
   "source": [
    "#### Delta-Vega-Gamma-Vanna"
   ]
  },
  {
   "cell_type": "code",
   "execution_count": null,
   "metadata": {},
   "outputs": [],
   "source": [
    "if not PERMUTE:\n",
    "    sub_regr_dir = f'{regr_dir}Delta_Vega_Gamma_Vanna/'\n",
    "    for i in range(NUM_TEST):\n",
    "        df_test = mc_sets[i]\n",
    "        df_tmp = df_train.append(df_test)\n",
    "        kwargs = {'vix': VIX, \n",
    "                  'features': ['delta_bs', 'vega_n', 'gamma_n', 'vanna_n'], \n",
    "                  'max_period': 0, \n",
    "                  'sub_res': f'{sub_regr_dir}pnl/',\n",
    "                  'pnl_path': f'{sub_regr_dir}pnl/pnl{i}.csv',\n",
    "                  'df': df_tmp,\n",
    "                  'delta_coeff_1': False,\n",
    "                  'agg_side': False\n",
    "                 }\n",
    "        res = raux.run_store_lin(**kwargs)\n",
    "    save_tables(res, sub_regr_dir)"
   ]
  },
  {
   "cell_type": "markdown",
   "metadata": {},
   "source": [
    "### Permute"
   ]
  },
  {
   "source": [
    "#### Prepare all permuted data sets"
   ],
   "cell_type": "markdown",
   "metadata": {}
  },
  {
   "source": [
    "if PERMUTE:\n",
    "    train_permutes, test_permutes = [], []\n",
    "    for i in range(NUM_TEST):\n",
    "        # the union of train and test\n",
    "        df_permute = df_train.append(mc_sets[i], ignore_index=True, sort=False)\n",
    "        df_permute['Is_In_Some_Test'] = False\n",
    "        df_permute = cm.permute_core(df_permute, 0, random_seed=i)\n",
    "\n",
    "        df_train_permuted = df_permute.loc[((df_permute['period0'] == 0) | (df_permute['period0'] == 1))]\n",
    "        df_test_permuted = df_permute.loc[df_permute['period0'] == 2]\n",
    "\n",
    "        train_permutes.append(df_train_permuted.copy())\n",
    "        test_permutes.append(df_test_permuted.copy())"
   ],
   "cell_type": "code",
   "metadata": {},
   "execution_count": null,
   "outputs": []
  },
  {
   "source": [
    "#### No hedge"
   ],
   "cell_type": "markdown",
   "metadata": {}
  },
  {
   "source": [
    "if PERMUTE:\n",
    "    print('Permuted!')\n",
    "    sub_res = f'{regr_dir}No_Hedge/pnl/'\n",
    "    os.makedirs(sub_res, exist_ok=True)\n",
    "    for i in range(NUM_TEST):\n",
    "        df_tmp = train_permutes[i].append(test_permutes[i])\n",
    "        zero = np.array([0.]*len(df_tmp))\n",
    "        zero = pd.Series(zero, index=df_tmp.index)\n",
    "        cm.store_pnl(\n",
    "            df_tmp, zero,\n",
    "            pnl_path=f'{sub_res}pnl{i}.csv')"
   ],
   "cell_type": "code",
   "metadata": {},
   "execution_count": null,
   "outputs": []
  },
  {
   "source": [
    "#### BS\n",
    "Permuting affects the Black-Scholes, because the out-of-sample set is different."
   ],
   "cell_type": "markdown",
   "metadata": {}
  },
  {
   "source": [
    "if PERMUTE:\n",
    "    print('Permuted!')\n",
    "    sub_res = f'{regr_dir}BS_Benchmark/pnl/'\n",
    "    os.makedirs(sub_res, exist_ok=True)\n",
    "    for i in range(NUM_TEST):\n",
    "        df_tmp = train_permutes[i].append(test_permutes[i])\n",
    "        cm.store_pnl(\n",
    "            df_tmp, df_tmp['delta_bs'],\n",
    "            pnl_path=f'{sub_res}pnl{i}.csv')"
   ],
   "cell_type": "code",
   "metadata": {},
   "execution_count": null,
   "outputs": []
  },
  {
   "source": [
    "#### Delta-Vega-Vanna"
   ],
   "cell_type": "markdown",
   "metadata": {}
  },
  {
   "cell_type": "code",
   "execution_count": null,
   "metadata": {},
   "outputs": [],
   "source": [
    "if PERMUTE:\n",
    "    print('Permuted!')\n",
    "\n",
    "    for i in range(NUM_TEST):    \n",
    "        df_tmp = train_permutes[i].append(test_permutes[i])\n",
    "        kwargs = {'vix': VIX, \n",
    "              'features': ['delta_bs', 'vega_n', 'vanna_n'], \n",
    "              'max_period': 0, \n",
    "              'sub_res': f'{regr_dir}Delta_Vega_Vanna/pnl/',\n",
    "              'pnl_path': f'{regr_dir}Delta_Vega_Vanna/pnl/pnl{i}.csv',\n",
    "              'df': df_tmp,\n",
    "              'delta_coeff_1': False,\n",
    "              'agg_side': False\n",
    "         }\n",
    "        res = raux.run_store_lin(**kwargs)\n",
    "        print(res['df_coef'])"
   ]
  },
  {
   "cell_type": "code",
   "execution_count": null,
   "metadata": {},
   "outputs": [],
   "source": []
  },
  {
   "cell_type": "code",
   "execution_count": null,
   "metadata": {},
   "outputs": [],
   "source": []
  }
 ],
 "metadata": {
  "kernelspec": {
   "display_name": "Python 3",
   "language": "python",
   "name": "python3"
  },
  "language_info": {
   "codemirror_mode": {
    "name": "ipython",
    "version": 3
   },
   "file_extension": ".py",
   "mimetype": "text/x-python",
   "name": "python",
   "nbconvert_exporter": "python",
   "pygments_lexer": "ipython3",
   "version": "3.6.8-final"
  },
  "toc": {
   "base_numbering": 1,
   "nav_menu": {},
   "number_sections": true,
   "sideBar": true,
   "skip_h1_title": false,
   "title_cell": "Table of Contents",
   "title_sidebar": "Contents",
   "toc_cell": false,
   "toc_position": {},
   "toc_section_display": true,
   "toc_window_display": false
  }
 },
 "nbformat": 4,
 "nbformat_minor": 1
}