{
 "cells": [
  {
   "cell_type": "code",
   "execution_count": 1,
   "id": "db4a0978-93fb-4a0b-adde-62c64ce404ce",
   "metadata": {},
   "outputs": [],
   "source": [
    "import pandas as pd\n",
    "import matplotlib.pyplot as plt\n",
    "import seaborn as sns\n",
    "import numpy as np\n",
    "import tensorflow as tf\n",
    "from sklearn.model_selection import train_test_split\n",
    "from sklearn.linear_model import LinearRegression\n",
    "from sklearn.metrics import mean_squared_error\n",
    "from sklearn.preprocessing import StandardScaler\n",
    "from tensorflow import keras\n",
    "%run setup.py\n",
    "sns.set(style='darkgrid')"
   ]
  },
  {
   "cell_type": "code",
   "execution_count": 2,
   "id": "c47b9c17",
   "metadata": {},
   "outputs": [],
   "source": [
    "def simulate_fake_vix(VIXPARAS, start_date, end_date):\n",
    "    \"\"\"\n",
    "    Simulates OU process following \n",
    "    dx_t = kappa * (mu - x_t) dt + sigma * dW_t\n",
    "    \"\"\"\n",
    "    x0 = VIXPARAS['vix0']\n",
    "    kappa = VIXPARAS['kappa']\n",
    "    sigma = VIXPARAS['sigma']\n",
    "    mu = VIXPARAS['mu']\n",
    "    \n",
    "    time_grid = pd.date_range(start=start_date, end=end_date, freq='D').to_pydatetime()\n",
    "    \n",
    "    M = len(time_grid)\n",
    "    path = np.zeros(M)\n",
    "    path[0] = x0\n",
    "    rand = np.random.standard_normal(M-1)\n",
    "    day_count = 365\n",
    "    dt = 1 / day_count\n",
    "        \n",
    "    for t in range(1, len(time_grid)):\n",
    "        path[t] = path[t-1] + kappa * (mu - path[t-1]) * dt \\\n",
    "                + sigma * np.sqrt(dt) * rand[t - 1]\n",
    "    return pd.DataFrame(path, time_grid, columns=['fake_ts1'])  "
   ]
  },
  {
   "cell_type": "code",
   "execution_count": 4,
   "id": "2e144df1",
   "metadata": {},
   "outputs": [],
   "source": [
    "exps = ['Permute=False_VIX=False',\n",
    "       'Permute=False_VIX=True',\n",
    "       'Permute=True_VIX=False',\n",
    "       'Permute=True_VIX=True']\n",
    "df_res = pd.DataFrame(columns=exps, index=['LR', 'ANN'])"
   ]
  },
  {
   "cell_type": "code",
   "execution_count": 5,
   "id": "39ca173c-594f-4ec1-afd3-42e8445bd0d6",
   "metadata": {},
   "outputs": [],
   "source": [
    "df = pd.read_csv(data_dir + 'owid-covid-data.csv',\n",
    "    usecols=['date', 'iso_code', 'continent', 'location','new_cases_per_million','new_deaths_per_million'],\n",
    "    parse_dates=['date']\n",
    ")\n",
    "df = df.dropna()\n",
    "european_union = [\n",
    "    'Austria', 'Belgium', 'Bulgaria', 'Croatia', 'Cyprus', 'Czechia', 'Denmark', 'Estonia', 'Finland', 'France', 'Germany', 'Greece', 'Hungary', \n",
    "    'Ireland', 'Italy', 'Latvia', 'Lithuania', 'Luxembourg', 'Malta', 'Netherlands', 'Poland', 'Portugal', 'Romania', 'Slovakia', 'Slovenia', 'Spain', 'Sweden']\n",
    "df = df.loc[df.location.isin(european_union)]\n",
    "# we calculate various previous days' average.\n",
    "df = df.set_index('date')\n",
    "cols = ['new_cases_per_million', 'new_deaths_per_million']\n",
    "new_series = []\n",
    "\n",
    "for c in cols:\n",
    "    for d in [7, 14]:\n",
    "        aux = df.groupby('iso_code')[c].rolling(f'{d}D', closed='left').mean()\n",
    "        aux.name = f'{d}day_mean_{c}'\n",
    "        new_series.append(aux)\n",
    "    \n",
    "df = df.reset_index().set_index(['iso_code', 'date']).join(new_series).reset_index()\n",
    "df = df.dropna()"
   ]
  },
  {
   "cell_type": "code",
   "execution_count": 6,
   "id": "e504e48f",
   "metadata": {},
   "outputs": [
    {
     "data": {
      "text/plain": [
       "<AxesSubplot:>"
      ]
     },
     "execution_count": 6,
     "metadata": {},
     "output_type": "execute_result"
    },
    {
     "data": {
      "image/png": "[encoded data removed]",
      "text/plain": [
       "<Figure size 432x288 with 1 Axes>"
      ]
     },
     "metadata": {},
     "output_type": "display_data"
    }
   ],
   "source": [
    "np.random.seed(143452)\n",
    "VIXPARAS = {\n",
    "    'vix0': 13,\n",
    "    'kappa': 1,\n",
    "    'sigma': 25,\n",
    "    'mu': 15\n",
    "}\n",
    "fake_ts = simulate_fake_vix(VIXPARAS, start_date=df.date.min(), end_date=df.date.max())\n",
    "df = df.join(fake_ts, on='date')\n",
    "fake_ts.plot()"
   ]
  },
  {
   "cell_type": "code",
   "execution_count": 7,
   "id": "d654b553-13f9-41cb-9b09-eb3b2254bb42",
   "metadata": {},
   "outputs": [
    {
     "name": "stdout",
     "output_type": "stream",
     "text": [
      "Use 1 feastures, adjusted R2 is  0.41\n",
      "Use 2 feastures, adjusted R2 is  0.76\n"
     ]
    }
   ],
   "source": [
    "def adjusted_r_square(model, X, y):\n",
    "    return 1 - (1-model.score(X, y))*(len(y)-1)/(len(y)-X.shape[1]-1)\n",
    "feature_set = [\n",
    "    '14day_mean_new_cases_per_million', \n",
    "    '7day_mean_new_deaths_per_million']\n",
    "y = df[['new_deaths_per_million']]\n",
    "for i in range(1, len(feature_set) + 1):\n",
    "    X = df[feature_set[:i]]\n",
    "    model = LinearRegression().fit(X, y)\n",
    "    print(f'Use {i} feastures, adjusted R2 is {adjusted_r_square(model, X, y): .2}')"
   ]
  },
  {
   "cell_type": "code",
   "execution_count": 8,
   "id": "64ae47fd-a23d-4f1b-b4f9-ba5e1d21d517",
   "metadata": {},
   "outputs": [],
   "source": [
    "X = df[feature_set + ['fake_ts1']]\n",
    "y = df[['new_deaths_per_million']]\n",
    "seven_mean = df['7day_mean_new_deaths_per_million']\n",
    "num_features = len(feature_set)"
   ]
  },
  {
   "cell_type": "code",
   "execution_count": 9,
   "metadata": {},
   "outputs": [],
   "source": [
    "def fit_evaluate_lr(X_train, y_train, X_test, y_test):\n",
    "    model = LinearRegression(fit_intercept=True).fit(X_train, y_train)\n",
    "    y_train_pred = model.predict(X_train)\n",
    "    y_test_pred = model.predict(X_test)\n",
    "    return mean_squared_error(y_train, y_train_pred), mean_squared_error(y_test, y_test_pred)\n",
    "\n",
    "def fit_evaluate_ann(X_train, y_train, X_test, y_test, l2_alpha=1e-3, filepath=None):\n",
    "    scaler = StandardScaler().fit(X_train)\n",
    "    X_train = scaler.transform(X_train)\n",
    "    X_test = scaler.transform(X_test)\n",
    "    \n",
    "    input_shape = (X_train.shape[1], )\n",
    "    model = keras.models.Sequential()\n",
    "    model.add(keras.layers.Dense(5, input_shape=input_shape, \n",
    "                                 kernel_regularizer=keras.regularizers.L2(l2_alpha)))\n",
    "    model.add(keras.layers.Dense(5, kernel_regularizer=keras.regularizers.L2(l2_alpha)))\n",
    "    model.add(keras.layers.Dense(1))\n",
    "\n",
    "    model.compile(optimizer=keras.optimizers.Adam(learning_rate=1e-4), loss='mse')\n",
    "    model.fit(x=X_train, y=y_train, epochs=100)\n",
    "    model.save(filepath)\n",
    "    return model.evaluate(X_train, y_train), model.evaluate(x=X_test, y=y_test)\n",
    "\n",
    "def load_evaluate_ann(X_train, y_train, X_test, y_test, filepath=None, l2_alpha=None):\n",
    "    model = keras.models.load_model(filepath)\n",
    "    scaler = StandardScaler().fit(X_train)\n",
    "    X_train = scaler.transform(X_train)\n",
    "    X_test = scaler.transform(X_test)\n",
    "    return model.evaluate(X_train, y_train), model.evaluate(X_test, y_test)\n",
    "\n",
    "ann_func = fit_evaluate_ann if TRAIN_BY_YOURSELF else load_evaluate_ann"
   ]
  },
  {
   "cell_type": "markdown",
   "id": "12816431-905b-48df-a536-c4cee2e594cb",
   "metadata": {},
   "source": [
    "**Chronological split**"
   ]
  },
  {
   "cell_type": "code",
   "execution_count": 10,
   "id": "e0541529-d0e2-4a9f-8812-4480bcff9177",
   "metadata": {},
   "outputs": [],
   "source": [
    "bl_train = (df['date'] < '2021-07-16').values\n",
    "X_train = X.iloc[bl_train, :num_features]\n",
    "y_train = y.loc[bl_train]\n",
    "\n",
    "X_test = X.iloc[~bl_train, :num_features]\n",
    "y_test = y.loc[~bl_train]"
   ]
  },
  {
   "cell_type": "code",
   "execution_count": 11,
   "id": "79457bc7-a473-44b6-93d3-5ecb9662f18b",
   "metadata": {},
   "outputs": [
    {
     "name": "stdout",
     "output_type": "stream",
     "text": [
      "411/411 [==============================] - 0s 528us/step - loss: 6.0686\n",
      "106/106 [==============================] - 0s 560us/step - loss: 4.2183\n"
     ]
    }
   ],
   "source": [
    "ckp_path = ckp_dir + 'Permute=False_VIX=False/model.h5'\n",
    "lr_res = fit_evaluate_lr(X_train, y_train, X_test, y_test)\n",
    "ann_res = ann_func(X_train, y_train, X_test, y_test, l2_alpha=1e-6, filepath=ckp_path)\n",
    "baseline_benchmark = mean_squared_error(seven_mean.loc[~bl_train], y_test)"
   ]
  },
  {
   "cell_type": "code",
   "execution_count": 12,
   "id": "85ac2b18",
   "metadata": {},
   "outputs": [],
   "source": [
    "df_res.loc['LR', exps[0]] = (lr_res[1] - baseline_benchmark) / baseline_benchmark * 100\n",
    "df_res.loc['ANN', exps[0]] = (ann_res[1] - baseline_benchmark) / baseline_benchmark * 100"
   ]
  },
  {
   "cell_type": "markdown",
   "id": "408ce1b2-d1fb-407f-b57c-98c90de59eae",
   "metadata": {},
   "source": [
    "**Chronological and fake ts**"
   ]
  },
  {
   "cell_type": "code",
   "execution_count": 13,
   "id": "7a5a389f-2dcd-4b77-ad7f-44f0487635f3",
   "metadata": {},
   "outputs": [],
   "source": [
    "X_train = X.loc[bl_train]\n",
    "y_train = y.loc[bl_train]\n",
    "\n",
    "X_test = X.loc[~bl_train]\n",
    "y_test = y.loc[~bl_train]"
   ]
  },
  {
   "cell_type": "code",
   "execution_count": 14,
   "id": "5331fb36-4e2a-44d6-a8d4-0de1c70131ba",
   "metadata": {},
   "outputs": [
    {
     "name": "stdout",
     "output_type": "stream",
     "text": [
      "411/411 [==============================] - 0s 555us/step - loss: 6.0606\n",
      "106/106 [==============================] - 0s 541us/step - loss: 4.2893\n"
     ]
    }
   ],
   "source": [
    "ckp_path = ckp_dir + 'Permute=False_VIX=True/model.h5'\n",
    "lr_res = fit_evaluate_lr(X_train, y_train, X_test, y_test)\n",
    "ann_res = ann_func(X_train, y_train, X_test, y_test, l2_alpha=1e-6, filepath=ckp_path)\n",
    "vix_benchmark = mean_squared_error(seven_mean.loc[~bl_train], y_test)"
   ]
  },
  {
   "cell_type": "code",
   "execution_count": 15,
   "id": "60fbf5e7",
   "metadata": {},
   "outputs": [],
   "source": [
    "df_res.loc['LR', exps[1]] = (lr_res[1] - vix_benchmark) / vix_benchmark * 100\n",
    "df_res.loc['ANN', exps[1]] = (ann_res[1] - vix_benchmark) / vix_benchmark * 100"
   ]
  },
  {
   "cell_type": "markdown",
   "id": "27bbad87-d2df-4708-8033-b52b2bf2d956",
   "metadata": {},
   "source": [
    "**Random split**"
   ]
  },
  {
   "cell_type": "code",
   "execution_count": 16,
   "id": "9865f240-d182-454c-8ca9-f7e3d3a3f3e9",
   "metadata": {},
   "outputs": [
    {
     "name": "stdout",
     "output_type": "stream",
     "text": [
      " 20.43% will be assigned to test set.\n"
     ]
    }
   ],
   "source": [
    "num_iters = 10\n",
    "test_size = X_test.shape[0] / df.shape[0]\n",
    "print(f'{test_size * 100: .2f}% will be assigned to test set.')\n",
    "X_train_set, X_test_set, y_train_set, y_test_set, seven_mean_train_set, seven_mean_test_set = [[] for _ in range(6)]\n",
    "\n",
    "for i in range(num_iters):\n",
    "    X_train, X_test, y_train, y_test, seven_train, seven_test = train_test_split(X, y, seven_mean, test_size=test_size, random_state=i)\n",
    "    X_train_set.append(X_train)\n",
    "    X_test_set.append(X_test)\n",
    "    y_train_set.append(y_train)\n",
    "    y_test_set.append(y_test)\n",
    "    seven_mean_train_set.append(seven_train)\n",
    "    seven_mean_test_set.append(seven_test)\n"
   ]
  },
  {
   "cell_type": "code",
   "execution_count": 17,
   "id": "283207e2",
   "metadata": {},
   "outputs": [
    {
     "name": "stdout",
     "output_type": "stream",
     "text": [
      "411/411 [==============================] - 0s 569us/step - loss: 5.6786\n",
      "106/106 [==============================] - 0s 532us/step - loss: 5.7197\n",
      "411/411 [==============================] - 0s 518us/step - loss: 5.7712\n",
      "106/106 [==============================] - 0s 513us/step - loss: 5.3520\n",
      "411/411 [==============================] - 0s 536us/step - loss: 5.9259\n",
      "106/106 [==============================] - 0s 579us/step - loss: 4.7481\n",
      "411/411 [==============================] - 0s 550us/step - loss: 5.8075\n",
      "106/106 [==============================] - 0s 556us/step - loss: 5.2097\n",
      "411/411 [==============================] - 0s 574us/step - loss: 5.8018\n",
      "106/106 [==============================] - 0s 579us/step - loss: 5.2361\n",
      "411/411 [==============================] - 0s 555us/step - loss: 5.5511\n",
      "106/106 [==============================] - 0s 513us/step - loss: 6.2171\n",
      "411/411 [==============================] - 0s 525us/step - loss: 5.5049\n",
      "106/106 [==============================] - 0s 522us/step - loss: 6.3886\n",
      "411/411 [==============================] - 0s 521us/step - loss: 5.7895\n",
      "106/106 [==============================] - 0s 528us/step - loss: 5.2793\n",
      "411/411 [==============================] - 0s 534us/step - loss: 5.8109\n",
      "106/106 [==============================] - 0s 541us/step - loss: 5.2077\n",
      "411/411 [==============================] - 0s 506us/step - loss: 5.5742\n",
      "106/106 [==============================] - 0s 537us/step - loss: 6.1187\n"
     ]
    }
   ],
   "source": [
    "lr_train_mses, lr_test_mses, permute_benchmark_mses = [np.zeros((num_iters)) for _ in range(3)]\n",
    "for i in range(num_iters):\n",
    "    lr_train_mses[i], lr_test_mses[i] = fit_evaluate_lr(X_train_set[i].iloc[:, :num_features], y_train_set[i], X_test_set[i].iloc[:, :num_features], y_test_set[i])\n",
    "    permute_benchmark_mses[i] = mean_squared_error(seven_mean_test_set[i], y_test_set[i])\n",
    "    \n",
    "ann_train_mses, ann_test_mses = [np.zeros((num_iters)) for _ in range(2)]\n",
    "for i in range(num_iters):\n",
    "    ckp_path = ckp_dir + f'Permute=True_VIX=False/model{i}.h5'\n",
    "    ann_train_mses[i], ann_test_mses[i] = ann_func(X_train_set[i].iloc[:, :num_features], y_train_set[i], X_test_set[i].iloc[:, :num_features], y_test_set[i], l2_alpha=1e-5, filepath=ckp_path)"
   ]
  },
  {
   "cell_type": "code",
   "execution_count": 18,
   "id": "8247ff4a",
   "metadata": {},
   "outputs": [],
   "source": [
    "df_res.loc['LR', exps[2]] = (lr_test_mses.mean() - permute_benchmark_mses.mean()) / permute_benchmark_mses.mean() * 100\n",
    "df_res.loc['ANN', exps[2]] = (ann_test_mses.mean() - permute_benchmark_mses.mean()) / permute_benchmark_mses.mean() * 100"
   ]
  },
  {
   "cell_type": "code",
   "execution_count": 33,
   "id": "e87c1c35",
   "metadata": {},
   "outputs": [],
   "source": [
    "rela_diff_permute = pd.DataFrame(index=['LR', 'ANN'], columns=range(num_iters))\n",
    "rela_diff_permute.loc['LR'] = ((lr_test_mses - permute_benchmark_mses) / permute_benchmark_mses * 100 - df_res.loc['LR', exps[0]]) \n",
    "rela_diff_permute.loc['ANN'] = ((ann_test_mses - permute_benchmark_mses) / permute_benchmark_mses * 100 - df_res.loc['LR', exps[0]])"
   ]
  },
  {
   "cell_type": "markdown",
   "id": "1599c0af-742f-4d4f-a4b6-92880c24ef92",
   "metadata": {},
   "source": [
    "**Random split and fake ts**"
   ]
  },
  {
   "cell_type": "code",
   "execution_count": 36,
   "id": "ba97c2bb-0773-469c-b675-b9f1ecff590c",
   "metadata": {},
   "outputs": [
    {
     "name": "stdout",
     "output_type": "stream",
     "text": [
      "411/411 [==============================] - 0s 524us/step - loss: 5.6769\n",
      "106/106 [==============================] - 0s 513us/step - loss: 5.7059\n",
      "411/411 [==============================] - 0s 523us/step - loss: 5.7684\n",
      "106/106 [==============================] - 0s 570us/step - loss: 5.3488\n",
      "411/411 [==============================] - 0s 516us/step - loss: 5.9212\n",
      "106/106 [==============================] - 0s 532us/step - loss: 4.7509\n",
      "411/411 [==============================] - 0s 523us/step - loss: 5.8043\n",
      "106/106 [==============================] - 0s 589us/step - loss: 5.2064\n",
      "411/411 [==============================] - 0s 530us/step - loss: 5.7986\n",
      "106/106 [==============================] - 0s 560us/step - loss: 5.2305\n",
      "411/411 [==============================] - 0s 521us/step - loss: 5.5479\n",
      "106/106 [==============================] - 0s 541us/step - loss: 6.2071\n",
      "411/411 [==============================] - 0s 552us/step - loss: 5.5009\n",
      "106/106 [==============================] - 0s 601us/step - loss: 6.3906\n",
      "411/411 [==============================] - 0s 538us/step - loss: 5.7868\n",
      "106/106 [==============================] - 0s 541us/step - loss: 5.2733\n",
      "411/411 [==============================] - 0s 519us/step - loss: 5.8044\n",
      "106/106 [==============================] - 0s 503us/step - loss: 5.2057\n",
      "411/411 [==============================] - 0s 520us/step - loss: 5.5697\n",
      "106/106 [==============================] - 0s 522us/step - loss: 6.1215\n"
     ]
    }
   ],
   "source": [
    "lr_train_mses, lr_test_mses = [np.zeros((num_iters)) for _ in range(2)]\n",
    "for i in range(num_iters):\n",
    "    lr_train_mses[i], lr_test_mses[i] = fit_evaluate_lr(X_train_set[i], y_train_set[i], X_test_set[i], y_test_set[i])\n",
    "\n",
    "ann_train_mses, ann_test_mses = [np.zeros((num_iters)) for _ in range(2)]\n",
    "for i in range(num_iters):\n",
    "    ckp_path = ckp_dir + f'Permute=True_VIX=True/model{i}.h5'\n",
    "    ann_train_mses[i], ann_test_mses[i] = ann_func(X_train_set[i], y_train_set[i], X_test_set[i], y_test_set[i], l2_alpha=1e-6, filepath=ckp_path)"
   ]
  },
  {
   "cell_type": "code",
   "execution_count": 37,
   "id": "e44795ae",
   "metadata": {},
   "outputs": [],
   "source": [
    "df_res.loc['LR', exps[3]] = (lr_test_mses.mean() - permute_benchmark_mses.mean()) / permute_benchmark_mses.mean() * 100\n",
    "df_res.loc['ANN', exps[3]] = (ann_test_mses.mean() - permute_benchmark_mses.mean()) / permute_benchmark_mses.mean() * 100"
   ]
  },
  {
   "cell_type": "code",
   "execution_count": 38,
   "id": "55f9772f",
   "metadata": {},
   "outputs": [],
   "source": [
    "rela_diff_permute_vix = pd.DataFrame(index=['LR', 'ANN'], columns=range(num_iters))\n",
    "rela_diff_permute_vix.loc['LR'] = ((lr_test_mses - permute_benchmark_mses) / permute_benchmark_mses * 100 - df_res.loc['LR', exps[0]]) \n",
    "rela_diff_permute_vix.loc['ANN'] = ((ann_test_mses - permute_benchmark_mses) / permute_benchmark_mses * 100 - df_res.loc['LR', exps[0]])"
   ]
  },
  {
   "cell_type": "markdown",
   "id": "44f9dd72",
   "metadata": {},
   "source": [
    "Plotting"
   ]
  },
  {
   "cell_type": "code",
   "execution_count": 40,
   "id": "c68f1d96",
   "metadata": {},
   "outputs": [],
   "source": [
    "plot_kws = [('LR', 'x', -0.05, sns.color_palette()[0]),\n",
    "       ('ANN', '^', 0.1, sns.color_palette()[1])]"
   ]
  },
  {
   "cell_type": "code",
   "execution_count": 41,
   "id": "09545fa5",
   "metadata": {},
   "outputs": [
    {
     "data": {
      "text/plain": [
       "Text(0.5, 1.0, 'COVID-19')"
      ]
     },
     "execution_count": 41,
     "metadata": {},
     "output_type": "execute_result"
    },
    {
     "data": {
      "image/png": "[encoded data removed]",
      "text/plain": [
       "<Figure size 432x288 with 1 Axes>"
      ]
     },
     "metadata": {},
     "output_type": "display_data"
    }
   ],
   "source": [
    "for row in plot_kws:\n",
    "    plt.plot(np.arange(1, 5)+row[2], df_res.loc[row[0]], marker=row[1], linewidth=0, label=row[0], c=row[3])\n",
    "plt.legend(frameon=False)\n",
    "plt.xticks(np.arange(1, 5), ('Baseline', 'VIX', 'Permute', 'Permute + VIX'))\n",
    "plt.ylabel('Relative reduction to 7-day average')\n",
    "plt.title('COVID-19')\n",
    "plt.savefig(res_dir + 'Figure3_left.png', dpi=100)"
   ]
  },
  {
   "cell_type": "code",
   "execution_count": 56,
   "id": "c14f311c",
   "metadata": {},
   "outputs": [
    {
     "data": {
      "text/plain": [
       "Text(0.5, 1.0, 'COVID-19')"
      ]
     },
     "execution_count": 56,
     "metadata": {},
     "output_type": "execute_result"
    },
    {
     "data": {
      "image/png": "[encoded data removed]",
      "text/plain": [
       "<Figure size 432x288 with 1 Axes>"
      ]
     },
     "metadata": {},
     "output_type": "display_data"
    }
   ],
   "source": [
    "plot_kws = [('LR', 'x', -0.1, 'LR (Permute)'), ('ANN', '^', -0.1, 'ANN (Permute)')]\n",
    "for row in plot_kws:\n",
    "    plt.plot(np.arange(1, 1+num_iters)+row[2], rela_diff_permute.loc[row[0]], marker=row[1], linewidth=0, label=row[3])\n",
    "plot_kws = [('LR', 'x', 0.1, 'LR (Permute + VIX)'), ('ANN', '^', 0.1, 'ANN (Permute + VIX)')]\n",
    "for row in plot_kws:\n",
    "    plt.plot(np.arange(1, 1+num_iters)+row[2], rela_diff_permute_vix.loc[row[0]], marker=row[1], linewidth=0, label=row[3])\n",
    "plt.legend(frameon=False)\n",
    "plt.xlabel('Permutation set')\n",
    "plt.ylabel('Difference to baseline in relative reduction')\n",
    "plt.title('COVID-19')\n",
    "plt.savefig(res_dir + 'Figure3_right.png', dpi=100)"
   ]
  },
  {
   "cell_type": "code",
   "execution_count": null,
   "id": "c7b293de",
   "metadata": {},
   "outputs": [],
   "source": []
  }
 ],
 "metadata": {
  "interpreter": {
   "hash": "153e92cdb6d459542e315a4a1f8335275effbc8207cb40c521d459c1fb54a4f3"
  },
  "kernelspec": {
   "display_name": "Python 3.6.8 64-bit ('tfenv': conda)",
   "name": "python3"
  },
  "language_info": {
   "codemirror_mode": {
    "name": "ipython",
    "version": 3
   },
   "file_extension": ".py",
   "mimetype": "text/x-python",
   "name": "python",
   "nbconvert_exporter": "python",
   "pygments_lexer": "ipython3",
   "version": "3.8.12"
  }
 },
 "nbformat": 4,
 "nbformat_minor": 5
}
