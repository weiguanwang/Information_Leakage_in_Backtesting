{
 "cells": [
  {
   "cell_type": "markdown",
   "metadata": {},
   "source": [
    "In this notebook, we prepare data. The underlying stock price is simulated under the Black-Scholes or Heston model. A set of European options is created with the CBOE rule. We then apply some proper filtering. "
   ]
  },
  {
   "cell_type": "code",
   "execution_count": null,
   "metadata": {
    "scrolled": true
   },
   "outputs": [],
   "source": [
    "import sys\n",
    "import os\n",
    "# Append the library path to PYTHONPATH, so library can be imported.\n",
    "sys.path.append(os.path.dirname(os.getcwd()))\n",
    "import datetime\n",
    "import copy\n",
    "\n",
    "import numpy as np\n",
    "import pandas as pd\n",
    "import seaborn as sns\n",
    "import matplotlib.pyplot as plt\n",
    "\n",
    "from library import bs, plot, vix\n",
    "from library import common as cm\n",
    "from library import simulation as sim\n",
    "from library import cleaner_aux as caux"
   ]
  },
  {
   "cell_type": "code",
   "execution_count": null,
   "metadata": {},
   "outputs": [],
   "source": [
    "%run setup.py\n",
    "%matplotlib inline\n",
    "%load_ext autoreload\n",
    "%autoreload 2\n",
    "\n",
    "# If you want to run this notebook independent of '0_Generate_Data', you need to set RANDOM_SEED by hand.\n",
    "# RANDOM_SEED = 200\n",
    "np.random.seed(RANDOM_SEED)\n",
    "sns.set(style='darkgrid')"
   ]
  },
  {
   "cell_type": "code",
   "execution_count": null,
   "metadata": {},
   "outputs": [],
   "source": [
    "def createCleanData(\n",
    "        strike_per_maturity=None,\n",
    "        underlying_model=None,\n",
    "        underlying_paras=None,\n",
    "        option_paras=None,\n",
    "        offset_dict=None,\n",
    "        vix_paras=None,\n",
    "        other_paras=None,\n",
    "        making_tests=False\n",
    "    ):\n",
    "    if underlying_model == 'BS':\n",
    "        path = bs.simulate_geometric_bm(underlying_paras)\n",
    "    else:\n",
    "        raise NotImplementedError('Underlying type is not implemented!')\n",
    "    \n",
    "    options, strike_per_maturity = sim.find_option_seq_jan_cycle(\n",
    "        path, strike_per_maturity=strike_per_maturity,\n",
    "        step_K=option_paras['step_K'], threshold=option_paras['threshold']\n",
    "    )\n",
    "    print('Number of options: {}'.format(len(options)))\n",
    "    \n",
    "    df_call = sim.get_hedge_df(\n",
    "        options,\n",
    "        interest_rate=other_paras['short_rate'],\n",
    "        display=False\n",
    "    )\n",
    "\n",
    "    df_call['r'] = df_call['short_rate'].values\n",
    "    \n",
    "    vix_path = vix.simulate_fake_vix(vix_paras, underlying_paras['start_date'], underlying_paras['end_date'])\n",
    "    df_call = df_call.join(vix_path, on='date')\n",
    "    \n",
    "    if underlying_model == 'BS':\n",
    "        df_call['implvol0'] = underlying_paras['volatility']        \n",
    "        df_call['V0'] = caux.bs_call_price(vol=df_call['implvol0'], \n",
    "                                          S=df_call['S0'], \n",
    "                                          K=df_call['K'], \n",
    "                                          tau=df_call['tau0'], \n",
    "                                          r=df_call['r'])    \n",
    "        df_call['cp_int'] = 0      \n",
    "        \n",
    "    else: \n",
    "        raise NotImplementedError('Underlying type is not implemented!')\n",
    "        \n",
    "\n",
    "    \"\"\" \n",
    "    Copy before normalizing, add_tomorrow or calculate greeks\n",
    "    Put prices can be calculate by put-call parity\n",
    "    implied volatility are the same.\n",
    "    \"\"\"\n",
    "    df_put = df_call.copy()\n",
    "    df_put['cp_int'] = 1\n",
    "    df_put['V0'] = (df_call['V0'] - df_call['S0'] \n",
    "                    + df_call['K'] * np.exp(-1 * df_call['short_rate'] * df_call['tau0']))\n",
    "\n",
    "    \n",
    "    for key, value in OFFSET_DICT.items():\n",
    "        df_call = caux.add_tomorrow(\n",
    "            df_call, \n",
    "            offset_bday=value[0], offset_key=value[1]\n",
    "        )\n",
    "        df_put = caux.add_tomorrow(\n",
    "            df_put,\n",
    "            offset_bday=value[0], offset_key=value[1]\n",
    "        )\n",
    "\n",
    "                       \n",
    "    \"\"\"\n",
    "    Normalize all prices and different offsets.\n",
    "    \"\"\"\n",
    "    cols_to_normalize = (['S' + value[1] for key, value in offset_dict.items()]\n",
    "                         + ['V' + value[1] for key, value in offset_dict.items()])\n",
    "    df_call = caux.normalize_prices(\n",
    "        df_call,\n",
    "        s_divisor=df_call['S0'],\n",
    "        norm_factor=other_paras['norm_factor'],\n",
    "        cols=['S0', 'V0', 'K'] + cols_to_normalize\n",
    "    )\n",
    "    df_put = caux.normalize_prices(\n",
    "        df_put,\n",
    "        s_divisor=df_put['S0'],\n",
    "        norm_factor=other_paras['norm_factor'],\n",
    "        cols=['S0', 'V0', 'K'] + cols_to_normalize\n",
    "    )\n",
    "    \n",
    "    \n",
    "    \"\"\" Calculate Greeks \"\"\"\n",
    "    df_call['delta_bs'] = caux.bs_call_delta(\n",
    "        vol=df_call['implvol0'], S=df_call['S0_n'], K=df_call['K_n'], tau=df_call['tau0'], r=df_call['r'])    \n",
    "    df_put['delta_bs'] = caux.bs_put_delta(\n",
    "        vol=df_put['implvol0'], S=df_put['S0_n'], K=df_put['K_n'], tau=df_put['tau0'], r=df_put['r'])\n",
    "    \n",
    "    for df_tmp in [df_call, df_put]:\n",
    "    \n",
    "        df_tmp['vega_n'] = caux.bs_vega(\n",
    "            vol=df_tmp['implvol0'], S=df_tmp['S0_n'], K=df_tmp['K_n'], tau=df_tmp['tau0'], r=df_tmp['r'])\n",
    "        df_tmp['gamma_n'] = caux.bs_gamma(\n",
    "            vol=df_tmp['implvol0'], S=df_tmp['S0_n'], K=df_tmp['K_n'], tau=df_tmp['tau0'], r=df_tmp['r'])\n",
    "        df_tmp['vanna_n'] = caux.bs_vanna(\n",
    "            vol=df_tmp['implvol0'], S=df_tmp['S0_n'], K=df_tmp['K_n'], tau=df_tmp['tau0'], r=df_tmp['r'])\n",
    "    \n",
    "    \n",
    "    return {'call': df_call, 'put': df_put, \n",
    "            'path': path, 'vix_path': vix_path, \n",
    "            'strike_per_maturity': strike_per_maturity}\n",
    "\n"
   ]
  },
  {
   "cell_type": "code",
   "execution_count": null,
   "metadata": {},
   "outputs": [],
   "source": []
  },
  {
   "cell_type": "markdown",
   "metadata": {},
   "source": [
    "# Generate train and validation set\n",
    "We generate a stock path, under the Black-Scholes or Heston. Along this path, a set of European option is generated. With this set of options, we construct a dataframe for the use of hedging. This dataframe is then split into a training sete and a validation set.\n",
    "\n",
    "In the dataframe, we calculate the true option prices by the Black-Scholes formula or Heston, and further calculate sensitivities.\n",
    "\n",
    "Then, an integer flag for option type is added. Samples with option price less than threshold are removed."
   ]
  },
  {
   "cell_type": "code",
   "execution_count": null,
   "metadata": {},
   "outputs": [],
   "source": [
    "paras = {\n",
    "    'underlying_model': UNDERLYING_MODEL,\n",
    "    'underlying_paras': UNDERLYINGPARAS,\n",
    "    'option_paras': OPTIONPARAS,\n",
    "    'offset_dict': OFFSET_DICT,\n",
    "    'vix_paras': VIXPARAS,\n",
    "    'other_paras': OTHERPARAS\n",
    "}"
   ]
  },
  {
   "cell_type": "code",
   "execution_count": null,
   "metadata": {},
   "outputs": [],
   "source": [
    "res_dict = createCleanData(strike_per_maturity=None, **paras)\n",
    "df_call, df_put = res_dict['call'], res_dict['put']\n",
    "df_call['Is_In_Some_Test'], df_put['Is_In_Some_Test'] = False, False\n",
    "path, vix_path = res_dict['path'], res_dict['vix_path']\n",
    "strike_per_maturity = res_dict['strike_per_maturity']"
   ]
  },
  {
   "cell_type": "code",
   "execution_count": null,
   "metadata": {},
   "outputs": [],
   "source": [
    "total_call, total_put = df_call.shape[0], df_put.shape[0]\n",
    "\n",
    "df_call = df_call.loc[(df_call['V0'] > THRESHOLD_REMOVE_DATA)]\n",
    "num_rem_call = total_call - df_call.shape[0]\n",
    "\n",
    "df_put = df_put.loc[(df_put['V0'] > THRESHOLD_REMOVE_DATA)]\n",
    "num_rem_put = total_put - df_put.shape[0]\n",
    "\n",
    "df_both = df_call.append(df_put, ignore_index=True)"
   ]
  },
  {
   "cell_type": "code",
   "execution_count": null,
   "metadata": {},
   "outputs": [],
   "source": [
    "sub_dir = DATA_DIR + f'CleanData/CONFIG={CONFIG}/'\n",
    "os.makedirs(sub_dir, exist_ok=True)\n",
    "df_both.to_csv(sub_dir + 'train_val_sim.csv')"
   ]
  },
  {
   "cell_type": "markdown",
   "metadata": {},
   "source": [
    "# Generate Monte Carlo test sets\n",
    "As before, we generate a set of options on each Monte Carlo set. Each of the sets gives again a dataframe."
   ]
  },
  {
   "cell_type": "code",
   "execution_count": null,
   "metadata": {},
   "outputs": [],
   "source": [
    "under_params = copy.deepcopy(UNDERLYINGPARAS)\n",
    "plot.plot_stock_test_prices(path, UNDERLYING_MODEL, under_params, \n",
    "                                N_ofTestDays, DATE_BREAK, paras['underlying_paras']['end_date'])"
   ]
  },
  {
   "cell_type": "code",
   "execution_count": null,
   "metadata": {},
   "outputs": [],
   "source": [
    "init_test_value = path.iloc[-1]\n",
    "init_vix_value = vix_path.iloc[-1]"
   ]
  },
  {
   "cell_type": "code",
   "execution_count": null,
   "metadata": {},
   "outputs": [],
   "source": [
    "test_start_date = paras['underlying_paras']['end_date']\n",
    "test_end_date = paras['underlying_paras']['end_date'] + N_ofTestDays"
   ]
  },
  {
   "cell_type": "code",
   "execution_count": null,
   "metadata": {},
   "outputs": [],
   "source": [
    "paras['underlying_paras']['start_date'] = test_start_date\n",
    "paras['underlying_paras']['end_date'] = test_end_date\n",
    "paras['vix_paras']['vix0'] = init_vix_value['fake_vix']\n",
    "\n",
    "paras['underlying_paras']['s0'] = init_test_value['S0']\n",
    "if UNDERLYING_MODEL == 'Heston':\n",
    "    paras['underlying_paras']['v0'] = init_test_value['Var0']"
   ]
  },
  {
   "cell_type": "code",
   "execution_count": null,
   "metadata": {},
   "outputs": [],
   "source": [
    "sub_dir = DATA_DIR + f'CleanData/CONFIG={CONFIG}/MC/'\n",
    "os.makedirs(sub_dir, exist_ok=True)\n",
    "\n",
    "test_sizes = []"
   ]
  },
  {
   "cell_type": "code",
   "execution_count": null,
   "metadata": {},
   "outputs": [],
   "source": [
    "np.random.seed(2 * RANDOM_SEED)\n",
    "        \n",
    "for i in range(NUM_TEST):\n",
    "    res_dict = createCleanData(making_tests=True, strike_per_maturity=strike_per_maturity, **paras)\n",
    "    df_call, df_put = res_dict['call'], res_dict['put']\n",
    "    df_call['Is_In_Some_Test'], df_put['Is_In_Some_Test'] = True, True\n",
    "    path, vix_path = res_dict['path'], res_dict['vix_path']\n",
    "    df_call = df_call.loc[(df_call['V0'] > THRESHOLD_REMOVE_DATA)]\n",
    "    df_put = df_put.loc[(df_put['V0'] > THRESHOLD_REMOVE_DATA)]\n",
    "    \n",
    "    df_both = df_call.append(df_put, ignore_index=True)\n",
    "    \n",
    "\n",
    "    \" Include one-month, ATM options \"\n",
    "    df_both = caux.append_1M_ATM_option(df_both, paras)\n",
    "    \n",
    "    \n",
    "    test_sizes.append(df_both.shape[0])\n",
    "    df_both.to_csv(sub_dir + 'mc{}.csv'.format(i))"
   ]
  },
  {
   "cell_type": "code",
   "execution_count": null,
   "metadata": {},
   "outputs": [],
   "source": [
    "with open(f'{DATA_DIR}CleanData/CONFIG={CONFIG}/paras.txt', 'w+') as file:\n",
    "    for n, x in [\n",
    "        ('Date and time', datetime.datetime.now()),\n",
    "    \t('Random seed', RANDOM_SEED),\n",
    "    \t('Normalized price', paras['other_paras']['norm_factor']),\n",
    "    \t('Training start date', paras['underlying_paras']['start_date']),\n",
    "        ('Initial total samples', total_call + total_put),\n",
    "        ('The number of calls samples removed in training and val, due to threshold', num_rem_call),\n",
    "        ('The number of puts samples removed in training and val, due to threshold', num_rem_put),\n",
    "    \t('Test start date', test_start_date),\n",
    "    \t('Test end date', test_end_date),\n",
    "    ]:\n",
    "        file.write(f'{n} = {x}\\n')\n"
   ]
  },
  {
   "cell_type": "code",
   "execution_count": null,
   "metadata": {},
   "outputs": [],
   "source": []
  }
 ],
 "metadata": {
  "kernelspec": {
   "display_name": "Python 3",
   "language": "python",
   "name": "python3"
  },
  "language_info": {
   "codemirror_mode": {
    "name": "ipython",
    "version": 3
   },
   "file_extension": ".py",
   "mimetype": "text/x-python",
   "name": "python",
   "nbconvert_exporter": "python",
   "pygments_lexer": "ipython3",
   "version": "3.7.10"
  },
  "toc": {
   "base_numbering": 1,
   "nav_menu": {},
   "number_sections": true,
   "sideBar": true,
   "skip_h1_title": false,
   "title_cell": "Table of Contents",
   "title_sidebar": "Contents",
   "toc_cell": false,
   "toc_position": {},
   "toc_section_display": true,
   "toc_window_display": false
  }
 },
 "nbformat": 4,
 "nbformat_minor": 4
}
