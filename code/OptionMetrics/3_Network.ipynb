{
 "cells": [
  {
   "cell_type": "code",
   "execution_count": null,
   "metadata": {},
   "outputs": [],
   "source": [
    "import sys\n",
    "import os\n",
    "# Append the library path to PYTHONPATH, so library can be imported.\n",
    "sys.path.append(os.path.dirname(os.getcwd()))\n",
    "import datetime\n",
    "import shutil\n",
    "\n",
    "import numpy as np\n",
    "import pandas as pd\n",
    "\n",
    "from library import network as nw\n",
    "from library import common as cm"
   ]
  },
  {
   "cell_type": "code",
   "execution_count": null,
   "metadata": {},
   "outputs": [],
   "source": [
    "%run setup.py\n",
    "\n",
    "np.random.seed(RANDOM_SEED)"
   ]
  },
  {
   "cell_type": "code",
   "execution_count": null,
   "metadata": {
    "scrolled": true
   },
   "outputs": [],
   "source": [
    "%run Load_Clean_aux.py\n",
    "max_period = max([int(s[6:]) for s in df.columns if 'period' in s])"
   ]
  },
  {
   "cell_type": "code",
   "execution_count": null,
   "metadata": {},
   "outputs": [],
   "source": [
    "# Choose features\n",
    "ori_fea_save = ['delta_bs', '1_over_sqrt_tau', 'vega_n']        "
   ]
  },
  {
   "cell_type": "code",
   "execution_count": null,
   "metadata": {},
   "outputs": [],
   "source": [
    "# Here, we specify hyperparameters, which will be used for training at the next step.\n",
    "hypers = {\n",
    "    'nodes_per_layer': (30, 30),\n",
    "    'reg_alpha': 1e-4,\n",
    "    'lr': 1e-4,\n",
    "    'epochs': 2,\n",
    "    'outact': OUTACT\n",
    "}"
   ]
  },
  {
   "cell_type": "markdown",
   "metadata": {},
   "source": [
    "##### Train a network with given hypers\n",
    "\n",
    "Here, we use a bit different structure as the simulation data.\n",
    "In case of no permutation, there are only one ckp, history, plot folder.\n",
    "In case of permuation, in each of ckp, history and plot, we have many permutation folders.\n",
    "\n",
    "As for the pnl folder:\n",
    "In case of no permutation, only one pnl file.\n",
    "in case of permutations, many pnl files.\n",
    "This is consistent as the regression folder.\n"
   ]
  },
  {
   "cell_type": "code",
   "execution_count": null,
   "metadata": {
    "tags": []
   },
   "outputs": [],
   "source": [
    "PERMUTE = False\n",
    "\n",
    "for VIX in [False, True]:\n",
    "    \n",
    "    if VIX:\n",
    "        ori_fea = ori_fea_save + ['fake_vix']\n",
    "    else:\n",
    "        ori_fea = ori_fea_save\n",
    "        \n",
    "    res_dir = f'{DATA_DIR}Result/FREQ={FREQ}_HALFMONEY={HALF_MONEY}_MINM={MIN_M}_MAXM={MAX_M}_MINTAU={MIN_TAU_Days}_Permute={PERMUTE}_VIX={VIX}_MISSING={FEED_MISSING}_WINDOW={date_window}_KickTmrZeroVolume={REMOVE_TMR_ZERO_VOLUME}/'\n",
    "    sub_res = res_dir + 'Network/'\n",
    "    \n",
    "    sub_res_dir = {\n",
    "        'ckp': sub_res + 'ckp/',\n",
    "        'history': sub_res + 'history/',\n",
    "        'pnl': sub_res + 'pnl/',\n",
    "        'plot': sub_res + 'plot/'\n",
    "    }\n",
    "    for key, value in sub_res_dir.items():\n",
    "        os.makedirs(value, exist_ok=True)\n",
    "        \n",
    "    if not TRAIN_BY_YOURSELF:\n",
    "        # then load the provided checkpoints of ANN\n",
    "        sub_res_dir['ckp'] = f'{CKP_DIR}Permute={PERMUTE}_VIX={VIX}/'\n",
    "\n",
    "    use_fea = [x + '_t' for x in ori_fea] + ['cp_int']\n",
    "    \n",
    "    df_temp = df.copy()\n",
    "    \n",
    "    df_temp = nw.rolling_net(\n",
    "        df_temp,\n",
    "        ori_fea=ori_fea,\n",
    "        use_fea=use_fea,\n",
    "        end_period=max_period,\n",
    "        hypers=hypers,\n",
    "        sub_res_dir=sub_res_dir,\n",
    "        train_by_yourself=TRAIN_BY_YOURSELF\n",
    "    )\n",
    "\n",
    "    cm.store_pnl(df_temp, df_temp['delta_nn'], sub_res_dir['pnl'] + 'pnl.csv')\n",
    "    \n",
    "del df"
   ]
  },
  {
   "cell_type": "markdown",
   "metadata": {},
   "source": [
    "#### Permute"
   ]
  },
  {
   "cell_type": "code",
   "execution_count": null,
   "metadata": {},
   "outputs": [],
   "source": [
    "PERMUTE = True\n",
    "%run Load_Clean_aux.py\n",
    "max_period = max([int(s[6:]) for s in df.columns if 'period' in s])"
   ]
  },
  {
   "cell_type": "code",
   "execution_count": null,
   "metadata": {},
   "outputs": [],
   "source": [
    "\n",
    "\n",
    "for VIX in [False, True]:\n",
    "    res_dir = f'{DATA_DIR}Result/FREQ={FREQ}_HALFMONEY={HALF_MONEY}_MINM={MIN_M}_MAXM={MAX_M}_MINTAU={MIN_TAU_Days}_Permute={PERMUTE}_VIX={VIX}_MISSING={FEED_MISSING}_WINDOW={date_window}_KickTmrZeroVolume={REMOVE_TMR_ZERO_VOLUME}/'\n",
    "    sub_res = res_dir + 'Network/'\n",
    "    \n",
    "    if VIX:\n",
    "        ori_fea = ori_fea_save + ['fake_vix']\n",
    "    else:\n",
    "        ori_fea = ori_fea_save\n",
    "        \n",
    "    for p in range(NUM_PERMUTE):\n",
    "        \"\"\"\n",
    "        We keep all the pnl in the same folder, because each\n",
    "        permute only has one pnl file and we can use the same code \n",
    "        for evaluation.\n",
    "        \"\"\"\n",
    "        sub_res_dir = {\n",
    "            'ckp': sub_res + f'ckp/permute{p}/',\n",
    "            'history': sub_res + f'history/permute{p}/',\n",
    "            'pnl': sub_res + f'pnl/',\n",
    "            'plot': sub_res + f'plot/permute{p}/'\n",
    "        }\n",
    "        for key, value in sub_res_dir.items():\n",
    "            os.makedirs(value, exist_ok=True)\n",
    "        \n",
    "        if not TRAIN_BY_YOURSELF:\n",
    "            sub_res_dir['ckp'] = f'{CKP_DIR}Permute={PERMUTE}_VIX={VIX}/permute{p}/'\n",
    "        \n",
    "        use_fea = [x + '_t' for x in ori_fea] + ['cp_int']\n",
    "        \n",
    "        df_permute = df.copy()\n",
    "        df_permute = cm.rolling_permute(df_permute, random_seed=p+100)\n",
    "        \n",
    "        df_permute = nw.rolling_net(\n",
    "            df_permute, \n",
    "            ori_fea=ori_fea, \n",
    "            use_fea=use_fea,\n",
    "            end_period=max_period,\n",
    "            hypers=hypers, \n",
    "            sub_res_dir=sub_res_dir,\n",
    "            train_by_yourself=TRAIN_BY_YOURSELF\n",
    "        )\n",
    "        \n",
    "        cm.store_pnl(df_permute, df_permute['delta_nn'], sub_res_dir['pnl'] + f'pnl{p}.csv')"
   ]
  },
  {
   "cell_type": "code",
   "execution_count": null,
   "metadata": {},
   "outputs": [],
   "source": []
  },
  {
   "cell_type": "code",
   "execution_count": null,
   "metadata": {},
   "outputs": [],
   "source": []
  }
 ],
 "metadata": {
  "kernelspec": {
   "display_name": "Python 3",
   "language": "python",
   "name": "python3"
  },
  "language_info": {
   "codemirror_mode": {
    "name": "ipython",
    "version": 3
   },
   "file_extension": ".py",
   "mimetype": "text/x-python",
   "name": "python",
   "nbconvert_exporter": "python",
   "pygments_lexer": "ipython3",
   "version": "3.7.10"
  },
  "toc": {
   "base_numbering": 1,
   "nav_menu": {},
   "number_sections": true,
   "sideBar": true,
   "skip_h1_title": false,
   "title_cell": "Table of Contents",
   "title_sidebar": "Contents",
   "toc_cell": false,
   "toc_position": {},
   "toc_section_display": true,
   "toc_window_display": false
  }
 },
 "nbformat": 4,
 "nbformat_minor": 4
}
