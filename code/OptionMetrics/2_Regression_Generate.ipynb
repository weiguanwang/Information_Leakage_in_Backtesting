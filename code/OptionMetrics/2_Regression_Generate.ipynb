{
 "cells": [
  {
   "cell_type": "code",
   "execution_count": null,
   "metadata": {},
   "outputs": [],
   "source": [
    "import sys\n",
    "import os\n",
    "# Append the library path to PYTHONPATH, so library can be imported.\n",
    "sys.path.append(os.path.dirname(os.getcwd()))\n",
    "\n",
    "import shutil\n",
    "import datetime\n",
    "import numpy as np\n",
    "import pandas as pd\n",
    "\n",
    "from library import common as cm\n",
    "from library import regression_aux as raux"
   ]
  },
  {
   "cell_type": "code",
   "execution_count": null,
   "metadata": {},
   "outputs": [],
   "source": [
    "%run setup.py\n",
    "%matplotlib inline\n",
    "\n",
    "np.random.seed(RANDOM_SEED)"
   ]
  },
  {
   "cell_type": "code",
   "execution_count": null,
   "metadata": {
    "scrolled": true
   },
   "outputs": [],
   "source": [
    "%run Load_Clean_aux.py\n",
    "max_period = max([int(s[6:]) for s in df.columns if 'period' in s])"
   ]
  },
  {
   "cell_type": "code",
   "execution_count": null,
   "metadata": {},
   "outputs": [],
   "source": [
    "def save_tables(res, dirs):\n",
    "    if res is not None:\n",
    "        res['df_coef'].to_csv(f'{dirs}coef.csv')\n",
    "        res['df_fit_std'].to_csv(f'{dirs}std.csv')"
   ]
  },
  {
   "cell_type": "markdown",
   "metadata": {},
   "source": [
    "### NO permute"
   ]
  },
  {
   "cell_type": "code",
   "execution_count": null,
   "metadata": {},
   "outputs": [],
   "source": [
    "PERMUTE = False\n",
    "\n",
    "for VIX in [False, True]:\n",
    "    \n",
    "    res_dir = f\"{DATA_DIR}Result/FREQ={FREQ}_HALFMONEY={HALF_MONEY}_MINM={MIN_M}_MAXM={MAX_M}_MINTAU={MIN_TAU_Days}_Permute={PERMUTE}_VIX={VIX}_MISSING={FEED_MISSING}_WINDOW={date_window}_KickTmrZeroVolume={REMOVE_TMR_ZERO_VOLUME}/\"\n",
    "    regr_dir = res_dir + 'Regression/'\n",
    "    if os.path.exists(regr_dir):\n",
    "        shutil.rmtree(regr_dir)\n",
    "    os.makedirs(regr_dir)\n",
    "    shutil.copy('setup.py', regr_dir);\n",
    "    \n",
    "    # Baseline: Black-Scholes \n",
    "    sub_regr_dir = f'{regr_dir}BS_Benchmark/'\n",
    "    os.makedirs(f'{sub_regr_dir}pnl/', exist_ok=True)\n",
    "    pnl_path = f'{sub_regr_dir}pnl/pnl.csv'\n",
    "    \n",
    "    cm.store_pnl(df, df['delta_bs'], pnl_path)\n",
    "    save_tables(None, sub_regr_dir)\n",
    "    \n",
    "    # LR\n",
    "    sub_regr_dir = f'{regr_dir}DVV/'\n",
    "    os.makedirs(f'{sub_regr_dir}pnl/', exist_ok=True)\n",
    "    kwargs = {\n",
    "        'vix': VIX,\n",
    "        'features': ['delta_bs', 'vega_n', 'vanna_n'],\n",
    "        'max_period': max_period,\n",
    "        'sub_res': f'{sub_regr_dir}pnl/',\n",
    "        'pnl_path': f'{sub_regr_dir}pnl/pnl.csv',\n",
    "        'df': df,\n",
    "        'delta_coeff_1': False\n",
    "    }\n",
    "    res = raux.run_store_lin(**kwargs)\n",
    "    save_tables(res, sub_regr_dir)  \n",
    "    "
   ]
  },
  {
   "cell_type": "markdown",
   "metadata": {},
   "source": [
    "### Permute"
   ]
  },
  {
   "cell_type": "code",
   "execution_count": null,
   "metadata": {},
   "outputs": [],
   "source": [
    "PERMUTE = True\n",
    "\n",
    "for VIX in [False, True]:\n",
    "    \n",
    "    res_dir = f\"{DATA_DIR}Result/FREQ={FREQ}_HALFMONEY={HALF_MONEY}_MINM={MIN_M}_MAXM={MAX_M}_MINTAU={MIN_TAU_Days}_Permute={PERMUTE}_VIX={VIX}_MISSING={FEED_MISSING}_WINDOW={date_window}_KickTmrZeroVolume={REMOVE_TMR_ZERO_VOLUME}/\"\n",
    "    regr_dir = res_dir + 'Regression/'\n",
    "    if os.path.exists(regr_dir):\n",
    "        shutil.rmtree(regr_dir)\n",
    "    os.makedirs(regr_dir)\n",
    "    shutil.copy('setup.py', regr_dir);\n",
    "    \n",
    "    # BS\n",
    "    df_permute = df.copy()\n",
    "    for i in range(NUM_PERMUTE):\n",
    "        df_permute = cm.rolling_permute(df_permute, random_seed=i + 100)\n",
    "        sub_res = f'{regr_dir}BS_Benchmark/pnl/'\n",
    "        os.makedirs(sub_res, exist_ok=True)\n",
    "        pnl_path = f'{sub_res}pnl{i}.csv'\n",
    "        cm.store_pnl(df_permute, df_permute['delta_bs'], pnl_path)\n",
    "    del df_permute\n",
    "    \n",
    "    # LR\n",
    "    df_permute = df.copy()\n",
    "    sub_regr_dir = f'{regr_dir}DVV/'\n",
    "    for i in range(NUM_PERMUTE):\n",
    "        df_permute = cm.rolling_permute(df_permute, random_seed=i + 100)\n",
    "        kwargs = {'vix': VIX, \n",
    "              'features': ['delta_bs', 'vega_n', 'vanna_n'], \n",
    "              'max_period': max_period, \n",
    "              'sub_res': f'{sub_regr_dir}pnl/',\n",
    "              'pnl_path': f'{sub_regr_dir}pnl/pnl{i}.csv',\n",
    "              'df': df_permute,\n",
    "             'delta_coeff_1': False,\n",
    "                 'agg_side': False}\n",
    "        \n",
    "        res = raux.run_store_lin(**kwargs)"
   ]
  },
  {
   "cell_type": "code",
   "execution_count": null,
   "metadata": {},
   "outputs": [],
   "source": []
  }
 ],
 "metadata": {
  "kernelspec": {
   "display_name": "Python 3",
   "language": "python",
   "name": "python3"
  },
  "language_info": {
   "codemirror_mode": {
    "name": "ipython",
    "version": 3
   },
   "file_extension": ".py",
   "mimetype": "text/x-python",
   "name": "python",
   "nbconvert_exporter": "python",
   "pygments_lexer": "ipython3",
   "version": "3.7.10"
  },
  "toc": {
   "base_numbering": 1,
   "nav_menu": {},
   "number_sections": true,
   "sideBar": true,
   "skip_h1_title": false,
   "title_cell": "Table of Contents",
   "title_sidebar": "Contents",
   "toc_cell": false,
   "toc_position": {},
   "toc_section_display": true,
   "toc_window_display": false
  }
 },
 "nbformat": 4,
 "nbformat_minor": 4
}
